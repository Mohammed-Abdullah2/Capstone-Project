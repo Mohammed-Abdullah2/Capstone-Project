{
 "cells": [
  {
   "cell_type": "code",
   "execution_count": 1,
   "id": "096f6a67-aa09-48a7-9ff7-f8e91dcd3627",
   "metadata": {},
   "outputs": [],
   "source": [
    "import requests \n",
    "import warnings"
   ]
  },
  {
   "cell_type": "code",
   "execution_count": 2,
   "id": "694b7cb5-b4fa-4519-95fa-3e3492417f8e",
   "metadata": {},
   "outputs": [],
   "source": [
    "import pandas as pd"
   ]
  },
  {
   "cell_type": "code",
   "execution_count": 3,
   "id": "1d4f298b-1fd7-4a6f-a2c4-c7a6f83b52d6",
   "metadata": {},
   "outputs": [],
   "source": [
    "from bs4 import BeautifulSoup"
   ]
  },
  {
   "cell_type": "code",
   "execution_count": 4,
   "id": "e67bdb6d-90bd-4080-a2c7-2cf86abd0237",
   "metadata": {},
   "outputs": [],
   "source": [
    "warnings.filterwarnings(\"ignore\")"
   ]
  },
  {
   "cell_type": "code",
   "execution_count": 5,
   "id": "e8b5d5e9-563f-427d-84e5-f8a1ba84fe2f",
   "metadata": {},
   "outputs": [],
   "source": [
    "url_to_scrape = \"https://us.youtubers.me/banderitax/youtuber-stats\""
   ]
  },
  {
   "cell_type": "code",
   "execution_count": 6,
   "id": "fdafcf1b-a433-4228-ab69-d83433bd698d",
   "metadata": {},
   "outputs": [],
   "source": [
    "response = requests.get(url_to_scrape)"
   ]
  },
  {
   "cell_type": "code",
   "execution_count": 7,
   "id": "090ee68d-4785-4b98-bbb8-e10a59d6a7ef",
   "metadata": {},
   "outputs": [],
   "source": [
    "response.encoding = 'utf-8'"
   ]
  },
  {
   "cell_type": "code",
   "execution_count": 8,
   "id": "9da01312-2f7a-454d-8337-fd00cd9c5f76",
   "metadata": {},
   "outputs": [],
   "source": [
    "html_document = response.text"
   ]
  },
  {
   "cell_type": "code",
   "execution_count": 9,
   "id": "20bd74bc-6064-4d33-a8c1-eabddbaa1473",
   "metadata": {},
   "outputs": [],
   "source": [
    "soup = BeautifulSoup(html_document, 'html.parser')"
   ]
  },
  {
   "cell_type": "code",
   "execution_count": 10,
   "id": "3af6dfcb-b5e2-4658-99c6-b4c716fb1b9b",
   "metadata": {},
   "outputs": [],
   "source": [
    "info = soup.find_all(attrs = { 'class' : 'status-info' })[0]"
   ]
  },
  {
   "cell_type": "code",
   "execution_count": 11,
   "id": "fcb48f76-74c9-4680-a34e-e06e94eb03e6",
   "metadata": {},
   "outputs": [],
   "source": [
    "profile_name = info.find_all(attrs = { 'class' : 'profile-name' })[0].find('span').text"
   ]
  },
  {
   "cell_type": "code",
   "execution_count": 12,
   "id": "25be640c-cbb9-4e80-bf8f-3ed2eb799085",
   "metadata": {},
   "outputs": [],
   "source": [
    "subscriber = info.find_all(attrs = { 'class' : 'status-details' })[0].find_all(attrs = { 'class' : 'bottom-part' })[0].text.replace('\\n', '').replace(' ', '')"
   ]
  },
  {
   "cell_type": "code",
   "execution_count": 13,
   "id": "029a2365-07eb-43a9-b2a3-ddf772b67f26",
   "metadata": {},
   "outputs": [],
   "source": [
    "view = info.find_all(attrs = { 'class' : 'status-details' })[0].find_all(attrs = { 'class' : 'bottom-part' })[1].text.replace('\\n', '').replace(' ', '')"
   ]
  },
  {
   "cell_type": "code",
   "execution_count": 14,
   "id": "fec5feb0-cce9-4e6b-a423-9bce1b182b2c",
   "metadata": {},
   "outputs": [],
   "source": [
    "video = info.find_all(attrs = { 'class' : 'status-details' })[0].find_all(attrs = { 'class' : 'bottom-part' })[2].text.replace('\\n', '').replace(' ', '')"
   ]
  },
  {
   "cell_type": "code",
   "execution_count": 15,
   "id": "29568747-6b44-4696-aec4-9af6a6920bb5",
   "metadata": {},
   "outputs": [],
   "source": [
    "country = info.find_all(attrs = { 'class' : 'status-details' })[0].find_all(attrs = { 'class' : 'bottom-part' })[3].text.replace('\\n', '')"
   ]
  },
  {
   "cell_type": "code",
   "execution_count": 16,
   "id": "9d218519-5d3e-4fe1-8db4-ab6dec30e4bb",
   "metadata": {},
   "outputs": [],
   "source": [
    "category = info.find_all(attrs = { 'class' : 'status-details' })[0].find_all(attrs = { 'class' : 'bottom-part' })[4].text.replace('\\n', '')"
   ]
  },
  {
   "cell_type": "code",
   "execution_count": 17,
   "id": "6861be36-c926-44fc-8190-be7e985d728f",
   "metadata": {},
   "outputs": [],
   "source": [
    "since = info.find_all(attrs = { 'class' : 'status-details' })[0].find_all(attrs = { 'class' : 'bottom-part' })[5].text.replace('\\n', '').replace(' ', '')"
   ]
  },
  {
   "cell_type": "code",
   "execution_count": 18,
   "id": "ed73651b-8011-452f-b9b3-717dbebab3ac",
   "metadata": {},
   "outputs": [],
   "source": [
    "month_earnings = soup.find_all(attrs = { 'class' : 'overview' })[0].find_all(attrs = { 'class' : 'bottom' })[3].text.replace('\\n', '').replace(' ', '').split('-')"
   ]
  },
  {
   "cell_type": "code",
   "execution_count": 73,
   "id": "9af1df01-237c-4000-bd57-a2882a1fb181",
   "metadata": {},
   "outputs": [],
   "source": [
    "last_subscriber_30 = soup.find_all(attrs = { 'class' : 'stats-board three-row' })[0].find_all(attrs = { 'class' : 'top' })[1].text.replace('\\n', '').replace(' ', '')"
   ]
  },
  {
   "cell_type": "code",
   "execution_count": 81,
   "id": "aa776d42-8bdb-443a-b555-0e11e471d596",
   "metadata": {},
   "outputs": [],
   "source": [
    "last_view_30 = soup.find_all(attrs = { 'class' : 'stats-board three-row' })[0].find_all(attrs = { 'class' : 'top' })[4].text.replace('\\n', '').replace(' ', '')"
   ]
  },
  {
   "cell_type": "code",
   "execution_count": 180,
   "id": "35e168ab-350b-4475-93c0-839ac0b42a1b",
   "metadata": {},
   "outputs": [],
   "source": [
    "overviewSubscribers = soup.find_all('script')[7].text"
   ]
  },
  {
   "cell_type": "code",
   "execution_count": 183,
   "id": "0d03b2ca-87d5-4000-bf50-f15ffab974e2",
   "metadata": {},
   "outputs": [],
   "source": [
    "start = overviewSubscribers.index('date') + 5"
   ]
  },
  {
   "cell_type": "code",
   "execution_count": 185,
   "id": "0901df83-7f69-49da-b108-18e6c571fdaa",
   "metadata": {},
   "outputs": [],
   "source": [
    "end = overviewSubscribers.index(', {') - 1"
   ]
  },
  {
   "cell_type": "code",
   "execution_count": 187,
   "id": "19a39443-0f34-417d-958a-f03d8047c1ea",
   "metadata": {},
   "outputs": [],
   "source": [
    "overviewSubscribers = overviewSubscribers[start: end].split('\\\\n')"
   ]
  },
  {
   "cell_type": "code",
   "execution_count": 189,
   "id": "c39e9028-2f21-423e-bdbf-be5141c6469d",
   "metadata": {},
   "outputs": [],
   "source": [
    "l = []"
   ]
  },
  {
   "cell_type": "code",
   "execution_count": 191,
   "id": "048017c0-2e7a-4de8-8166-afd7fbf3b145",
   "metadata": {},
   "outputs": [],
   "source": [
    "for element in overviewSubscribers:\n",
    "    if ',' in element:\n",
    "        l.append(element.split(','))"
   ]
  },
  {
   "cell_type": "code",
   "execution_count": 193,
   "id": "a1a87dbb-8c41-4f47-be04-43b0e05b3b48",
   "metadata": {},
   "outputs": [],
   "source": [
    "overviewSubscribers = l"
   ]
  },
  {
   "cell_type": "code",
   "execution_count": 267,
   "id": "c2bc2f95-0ef9-40a5-aa18-0ebd4f287137",
   "metadata": {
    "scrolled": true
   },
   "outputs": [],
   "source": [
    "overviewVideoViews = soup.find_all('script')[8].text"
   ]
  },
  {
   "cell_type": "code",
   "execution_count": 269,
   "id": "ded87a08-bf6b-466d-847e-0bc3361eae2e",
   "metadata": {
    "scrolled": true
   },
   "outputs": [],
   "source": [
    "start = overviewVideoViews.index('date') + 5"
   ]
  },
  {
   "cell_type": "code",
   "execution_count": 271,
   "id": "daf4a259-ebed-4313-9bd1-554b70e0d803",
   "metadata": {
    "scrolled": true
   },
   "outputs": [],
   "source": [
    "end = overviewVideoViews.index(', {') - 1"
   ]
  },
  {
   "cell_type": "code",
   "execution_count": 273,
   "id": "530ee03e-0d74-4324-870e-f7a40ef7fa8d",
   "metadata": {
    "scrolled": true
   },
   "outputs": [],
   "source": [
    "overviewVideoViews = overviewVideoViews[start: end].split('\\\\n')"
   ]
  },
  {
   "cell_type": "code",
   "execution_count": 275,
   "id": "6d737290-eca7-4076-8a9e-90140a77a1df",
   "metadata": {
    "scrolled": true
   },
   "outputs": [],
   "source": [
    "l = []"
   ]
  },
  {
   "cell_type": "code",
   "execution_count": 277,
   "id": "d81295fa-ce2f-4c3a-8bb9-5a57548e5315",
   "metadata": {
    "scrolled": true
   },
   "outputs": [],
   "source": [
    "for element in overviewVideoViews:\n",
    "    if ',' in element:\n",
    "        l.append(element.split(','))"
   ]
  },
  {
   "cell_type": "code",
   "execution_count": 279,
   "id": "b1676cc4-84a0-4f0c-9694-170a2813f78d",
   "metadata": {
    "scrolled": true
   },
   "outputs": [],
   "source": [
    "overviewVideoViews = l"
   ]
  },
  {
   "cell_type": "code",
   "execution_count": null,
   "id": "588789b9-a21e-4661-a4eb-8ad5506bf526",
   "metadata": {
    "scrolled": true
   },
   "outputs": [],
   "source": []
  },
  {
   "cell_type": "code",
   "execution_count": 282,
   "id": "028977c8-62e7-4ea4-9fe5-155fe93b2486",
   "metadata": {},
   "outputs": [
    {
     "data": {
      "text/plain": [
       "'Banderita X'"
      ]
     },
     "execution_count": 282,
     "metadata": {},
     "output_type": "execute_result"
    }
   ],
   "source": [
    "profile_name"
   ]
  },
  {
   "cell_type": "code",
   "execution_count": 284,
   "id": "5b5e9570-9f7a-42be-b8db-783874456c44",
   "metadata": {},
   "outputs": [
    {
     "data": {
      "text/plain": [
       "'18,000,000'"
      ]
     },
     "execution_count": 284,
     "metadata": {},
     "output_type": "execute_result"
    }
   ],
   "source": [
    "subscriber"
   ]
  },
  {
   "cell_type": "code",
   "execution_count": 286,
   "id": "f1bc2bae-ebe9-4874-ae1f-21215fa7f2a8",
   "metadata": {},
   "outputs": [
    {
     "data": {
      "text/plain": [
       "'5,470,017,529'"
      ]
     },
     "execution_count": 286,
     "metadata": {},
     "output_type": "execute_result"
    }
   ],
   "source": [
    "view"
   ]
  },
  {
   "cell_type": "code",
   "execution_count": 288,
   "id": "4760d597-624a-43bb-8c7b-e86970a47795",
   "metadata": {},
   "outputs": [
    {
     "data": {
      "text/plain": [
       "'1887'"
      ]
     },
     "execution_count": 288,
     "metadata": {},
     "output_type": "execute_result"
    }
   ],
   "source": [
    "video"
   ]
  },
  {
   "cell_type": "code",
   "execution_count": 290,
   "id": "a5dca56e-8cad-43d0-b38b-284de8999e68",
   "metadata": {},
   "outputs": [
    {
     "data": {
      "text/plain": [
       "'Saudi Arabia (SA)'"
      ]
     },
     "execution_count": 290,
     "metadata": {},
     "output_type": "execute_result"
    }
   ],
   "source": [
    "country"
   ]
  },
  {
   "cell_type": "code",
   "execution_count": 292,
   "id": "f7b0a4b3-b659-47a0-975d-16b62242cfa0",
   "metadata": {},
   "outputs": [
    {
     "data": {
      "text/plain": [
       "'Gaming'"
      ]
     },
     "execution_count": 292,
     "metadata": {},
     "output_type": "execute_result"
    }
   ],
   "source": [
    "category"
   ]
  },
  {
   "cell_type": "code",
   "execution_count": 294,
   "id": "27d2821d-0c3e-4f53-b401-fec31fe35924",
   "metadata": {},
   "outputs": [
    {
     "data": {
      "text/plain": [
       "'2013'"
      ]
     },
     "execution_count": 294,
     "metadata": {},
     "output_type": "execute_result"
    }
   ],
   "source": [
    "since"
   ]
  },
  {
   "cell_type": "code",
   "execution_count": 296,
   "id": "7f9fb3b7-8372-437f-bb68-70654c5fb861",
   "metadata": {},
   "outputs": [
    {
     "data": {
      "text/plain": [
       "['$23.5K', '$141K']"
      ]
     },
     "execution_count": 296,
     "metadata": {},
     "output_type": "execute_result"
    }
   ],
   "source": [
    "month_earnings"
   ]
  },
  {
   "cell_type": "code",
   "execution_count": 298,
   "id": "be14b719-af19-4361-af17-6015deb9401e",
   "metadata": {},
   "outputs": [
    {
     "data": {
      "text/plain": [
       "'200,000'"
      ]
     },
     "execution_count": 298,
     "metadata": {},
     "output_type": "execute_result"
    }
   ],
   "source": [
    "last_subscriber_30"
   ]
  },
  {
   "cell_type": "code",
   "execution_count": 300,
   "id": "9f0c8f95-7bf5-475f-98b4-2ef9f1c0024f",
   "metadata": {},
   "outputs": [
    {
     "data": {
      "text/plain": [
       "'62,773,474'"
      ]
     },
     "execution_count": 300,
     "metadata": {},
     "output_type": "execute_result"
    }
   ],
   "source": [
    "last_view_30"
   ]
  },
  {
   "cell_type": "code",
   "execution_count": 302,
   "id": "25783733-e046-4fc8-8481-1d6fb8d90a31",
   "metadata": {
    "scrolled": true
   },
   "outputs": [
    {
     "data": {
      "text/plain": [
       "[['2017-07-28', '142368'],\n",
       " ['2017-09-02', '166246'],\n",
       " ['2017-10-07', '190541'],\n",
       " ['2017-10-24', '199744'],\n",
       " ['2017-11-11', '210489'],\n",
       " ['2017-12-02', '220574'],\n",
       " ['2017-12-29', '234606'],\n",
       " ['2018-01-28', '267033'],\n",
       " ['2018-03-05', '340423'],\n",
       " ['2018-04-08', '414411'],\n",
       " ['2018-05-17', '607484'],\n",
       " ['2018-07-05', '1099753'],\n",
       " ['2018-07-29', '1384196'],\n",
       " ['2018-08-17', '1591513'],\n",
       " ['2018-09-05', '1795649'],\n",
       " ['2018-09-24', '1980508'],\n",
       " ['2018-10-17', '2175143'],\n",
       " ['2018-11-09', '2370563'],\n",
       " ['2018-12-04', '2527747'],\n",
       " ['2018-12-25', '2667187'],\n",
       " ['2019-01-22', '2929214'],\n",
       " ['2019-02-19', '3152016'],\n",
       " ['2019-03-10', '3284401'],\n",
       " ['2019-04-01', '3442893'],\n",
       " ['2019-04-28', '3650326'],\n",
       " ['2019-05-22', '3856149'],\n",
       " ['2019-06-19', '4069802'],\n",
       " ['2019-07-25', '4480705'],\n",
       " ['2019-09-02', '4832749'],\n",
       " ['2019-10-21', '5190000'],\n",
       " ['2019-11-17', '5320000'],\n",
       " ['2019-12-25', '5520000'],\n",
       " ['2020-01-21', '5690000'],\n",
       " ['2020-07-14', '7240000'],\n",
       " ['2021-02-09', '9220000'],\n",
       " ['2021-06-20', '10100000'],\n",
       " ['2021-07-30', '10300000'],\n",
       " ['2021-09-17', '10600000'],\n",
       " ['2021-10-28', '10800000'],\n",
       " ['2021-12-01', '10900000'],\n",
       " ['2022-03-19', '11400000'],\n",
       " ['2022-06-22', '11700000'],\n",
       " ['2022-09-30', '12100000'],\n",
       " ['2022-11-19', '12300000'],\n",
       " ['2023-01-18', '12600000'],\n",
       " ['2023-03-16', '12800000'],\n",
       " ['2023-06-03', '13100000'],\n",
       " ['2023-11-01', '13700000'],\n",
       " ['2024-01-25', '14200000'],\n",
       " ['2024-04-03', '15100000'],\n",
       " ['2024-06-21', '16300000'],\n",
       " ['2024-09-05', '17400000'],\n",
       " ['2024-11-20', '18000000']]"
      ]
     },
     "execution_count": 302,
     "metadata": {},
     "output_type": "execute_result"
    }
   ],
   "source": [
    "overviewSubscribers"
   ]
  },
  {
   "cell_type": "code",
   "execution_count": 304,
   "id": "e2e28e3e-6396-4d01-93ff-a2b9a6061bda",
   "metadata": {
    "scrolled": true
   },
   "outputs": [
    {
     "data": {
      "text/plain": [
       "[['2017-07-28', '14613258'],\n",
       " ['2017-09-02', '18614148'],\n",
       " ['2017-10-07', '22214446'],\n",
       " ['2017-10-24', '23733642'],\n",
       " ['2017-11-11', '25275188'],\n",
       " ['2017-12-02', '27255730'],\n",
       " ['2017-12-29', '29175086'],\n",
       " ['2018-01-28', '33177320'],\n",
       " ['2018-03-05', '41148355'],\n",
       " ['2018-04-08', '49844868'],\n",
       " ['2018-05-17', '70469048'],\n",
       " ['2018-07-05', '121038226'],\n",
       " ['2018-07-29', '156795367'],\n",
       " ['2018-08-17', '185846915'],\n",
       " ['2018-09-05', '219078916'],\n",
       " ['2018-09-24', '251154202'],\n",
       " ['2018-10-17', '279889353'],\n",
       " ['2018-11-09', '309729546'],\n",
       " ['2018-12-04', '330467198'],\n",
       " ['2018-12-25', '353448412'],\n",
       " ['2019-01-22', '398008314'],\n",
       " ['2019-02-19', '437631459'],\n",
       " ['2019-03-10', '466483820'],\n",
       " ['2019-04-01', '498460791'],\n",
       " ['2019-04-28', '544028127'],\n",
       " ['2019-05-22', '589926421'],\n",
       " ['2019-06-19', '641143144'],\n",
       " ['2019-07-25', '740458844'],\n",
       " ['2019-09-02', '841290032'],\n",
       " ['2019-10-21', '940347685'],\n",
       " ['2019-11-17', '989381127'],\n",
       " ['2019-12-25', '1050660630'],\n",
       " ['2020-01-21', '1096177849'],\n",
       " ['2020-07-14', '1557358915'],\n",
       " ['2021-02-09', '2110027238'],\n",
       " ['2021-06-20', '2439415500'],\n",
       " ['2021-07-30', '2527741048'],\n",
       " ['2021-09-17', '2644670744'],\n",
       " ['2021-10-28', '2732316987'],\n",
       " ['2021-12-01', '2804687182'],\n",
       " ['2022-03-19', '3020517559'],\n",
       " ['2022-06-22', '3230016489'],\n",
       " ['2022-09-30', '3460337913'],\n",
       " ['2022-11-19', '3556951530'],\n",
       " ['2023-01-18', '3690336615'],\n",
       " ['2023-03-16', '3839728633'],\n",
       " ['2023-06-03', '4021860757'],\n",
       " ['2023-11-01', '4325517481'],\n",
       " ['2024-01-25', '4507735618'],\n",
       " ['2024-04-03', '4703588536'],\n",
       " ['2024-06-21', '4969150550'],\n",
       " ['2024-09-05', '5274536061'],\n",
       " ['2024-11-20', '5470017529']]"
      ]
     },
     "execution_count": 304,
     "metadata": {},
     "output_type": "execute_result"
    }
   ],
   "source": [
    "overviewVideoViews"
   ]
  },
  {
   "cell_type": "code",
   "execution_count": null,
   "id": "8cf5bc0f-3b70-4405-bf0e-4745a59ba50e",
   "metadata": {},
   "outputs": [],
   "source": []
  }
 ],
 "metadata": {
  "kernelspec": {
   "display_name": "Python 3 (ipykernel)",
   "language": "python",
   "name": "python3"
  },
  "language_info": {
   "codemirror_mode": {
    "name": "ipython",
    "version": 3
   },
   "file_extension": ".py",
   "mimetype": "text/x-python",
   "name": "python",
   "nbconvert_exporter": "python",
   "pygments_lexer": "ipython3",
   "version": "3.11.7"
  }
 },
 "nbformat": 4,
 "nbformat_minor": 5
}
