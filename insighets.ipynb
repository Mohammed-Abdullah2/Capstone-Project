{
 "cells": [
  {
   "cell_type": "code",
   "execution_count": 1,
   "metadata": {},
   "outputs": [],
   "source": [
    "import plotly.graph_objects as go\n",
    "import plotly.express as px\n",
    "import numpy as np\n",
    "import pandas as pd"
   ]
  },
  {
   "cell_type": "code",
   "execution_count": 2,
   "metadata": {},
   "outputs": [],
   "source": [
    "df = pd.read_csv(\"youtube_data_eda_2.csv\")"
   ]
  },
  {
   "cell_type": "code",
   "execution_count": 3,
   "metadata": {},
   "outputs": [
    {
     "data": {
      "text/html": [
       "<div>\n",
       "<style scoped>\n",
       "    .dataframe tbody tr th:only-of-type {\n",
       "        vertical-align: middle;\n",
       "    }\n",
       "\n",
       "    .dataframe tbody tr th {\n",
       "        vertical-align: top;\n",
       "    }\n",
       "\n",
       "    .dataframe thead th {\n",
       "        text-align: right;\n",
       "    }\n",
       "</style>\n",
       "<table border=\"1\" class=\"dataframe\">\n",
       "  <thead>\n",
       "    <tr style=\"text-align: right;\">\n",
       "      <th></th>\n",
       "      <th>Unnamed: 0</th>\n",
       "      <th>profile_name</th>\n",
       "      <th>subscriber</th>\n",
       "      <th>view</th>\n",
       "      <th>video</th>\n",
       "      <th>country</th>\n",
       "      <th>category</th>\n",
       "      <th>since</th>\n",
       "      <th>last_subscriber_30</th>\n",
       "      <th>last_view_30</th>\n",
       "      <th>...</th>\n",
       "      <th>2024_views</th>\n",
       "      <th>2016_subscribers</th>\n",
       "      <th>2017_subscribers</th>\n",
       "      <th>2018_subscribers</th>\n",
       "      <th>2019_subscribers</th>\n",
       "      <th>2020_subscribers</th>\n",
       "      <th>2021_subscribers</th>\n",
       "      <th>2022_subscribers</th>\n",
       "      <th>2023_subscribers</th>\n",
       "      <th>2024_subscribers</th>\n",
       "    </tr>\n",
       "  </thead>\n",
       "  <tbody>\n",
       "    <tr>\n",
       "      <th>0</th>\n",
       "      <td>0</td>\n",
       "      <td>Rotana</td>\n",
       "      <td>24500000</td>\n",
       "      <td>24034368999</td>\n",
       "      <td>9078</td>\n",
       "      <td>Saudi Arabia (SA)</td>\n",
       "      <td>Music</td>\n",
       "      <td>2012</td>\n",
       "      <td>200000</td>\n",
       "      <td>292453337</td>\n",
       "      <td>...</td>\n",
       "      <td>3568868567</td>\n",
       "      <td>3477819</td>\n",
       "      <td>1850288</td>\n",
       "      <td>4110479</td>\n",
       "      <td>3361414</td>\n",
       "      <td>2600000</td>\n",
       "      <td>3100000</td>\n",
       "      <td>2000000</td>\n",
       "      <td>2000000</td>\n",
       "      <td>2000000</td>\n",
       "    </tr>\n",
       "    <tr>\n",
       "      <th>1</th>\n",
       "      <td>1</td>\n",
       "      <td>Mmoshaya</td>\n",
       "      <td>23200000</td>\n",
       "      <td>18468679361</td>\n",
       "      <td>1240</td>\n",
       "      <td>Saudi Arabia (SA)</td>\n",
       "      <td>People &amp; Blogs</td>\n",
       "      <td>2010</td>\n",
       "      <td>0</td>\n",
       "      <td>34076848</td>\n",
       "      <td>...</td>\n",
       "      <td>686034505</td>\n",
       "      <td>1386016</td>\n",
       "      <td>2323147</td>\n",
       "      <td>5172031</td>\n",
       "      <td>5418806</td>\n",
       "      <td>3200000</td>\n",
       "      <td>3500000</td>\n",
       "      <td>1200000</td>\n",
       "      <td>600000</td>\n",
       "      <td>400000</td>\n",
       "    </tr>\n",
       "    <tr>\n",
       "      <th>2</th>\n",
       "      <td>2</td>\n",
       "      <td>شبكة العاب العرب | Arab Games Network</td>\n",
       "      <td>22300000</td>\n",
       "      <td>10024125023</td>\n",
       "      <td>7460</td>\n",
       "      <td>Saudi Arabia (SA)</td>\n",
       "      <td>Gaming</td>\n",
       "      <td>2013</td>\n",
       "      <td>100000</td>\n",
       "      <td>45416699</td>\n",
       "      <td>...</td>\n",
       "      <td>895981152</td>\n",
       "      <td>213303</td>\n",
       "      <td>785578</td>\n",
       "      <td>2845082</td>\n",
       "      <td>3916037</td>\n",
       "      <td>4540000</td>\n",
       "      <td>3300000</td>\n",
       "      <td>1800000</td>\n",
       "      <td>2400000</td>\n",
       "      <td>2500000</td>\n",
       "    </tr>\n",
       "    <tr>\n",
       "      <th>3</th>\n",
       "      <td>3</td>\n",
       "      <td>Katakit Baby Tv</td>\n",
       "      <td>20200000</td>\n",
       "      <td>8517744618</td>\n",
       "      <td>231</td>\n",
       "      <td>Saudi Arabia (SA)</td>\n",
       "      <td>Music</td>\n",
       "      <td>2010</td>\n",
       "      <td>200000</td>\n",
       "      <td>133417200</td>\n",
       "      <td>...</td>\n",
       "      <td>1499059097</td>\n",
       "      <td>0</td>\n",
       "      <td>0</td>\n",
       "      <td>0</td>\n",
       "      <td>0</td>\n",
       "      <td>0</td>\n",
       "      <td>10800000</td>\n",
       "      <td>3100000</td>\n",
       "      <td>3000000</td>\n",
       "      <td>3300000</td>\n",
       "    </tr>\n",
       "    <tr>\n",
       "      <th>4</th>\n",
       "      <td>4</td>\n",
       "      <td>ماشا و الدب</td>\n",
       "      <td>18300000</td>\n",
       "      <td>10158387659</td>\n",
       "      <td>1482</td>\n",
       "      <td>Saudi Arabia (SA)</td>\n",
       "      <td>Shows</td>\n",
       "      <td>2017</td>\n",
       "      <td>100000</td>\n",
       "      <td>82126847</td>\n",
       "      <td>...</td>\n",
       "      <td>1252896126</td>\n",
       "      <td>0</td>\n",
       "      <td>147992</td>\n",
       "      <td>1406619</td>\n",
       "      <td>2305389</td>\n",
       "      <td>1300000</td>\n",
       "      <td>4200000</td>\n",
       "      <td>3740000</td>\n",
       "      <td>3400000</td>\n",
       "      <td>1800000</td>\n",
       "    </tr>\n",
       "    <tr>\n",
       "      <th>5</th>\n",
       "      <td>5</td>\n",
       "      <td>قناة وناسة    Wanasah Tv</td>\n",
       "      <td>18100000</td>\n",
       "      <td>10219433723</td>\n",
       "      <td>233</td>\n",
       "      <td>Saudi Arabia (SA)</td>\n",
       "      <td>general</td>\n",
       "      <td>2014</td>\n",
       "      <td>300000</td>\n",
       "      <td>122245986</td>\n",
       "      <td>...</td>\n",
       "      <td>10219433723</td>\n",
       "      <td>0</td>\n",
       "      <td>0</td>\n",
       "      <td>0</td>\n",
       "      <td>0</td>\n",
       "      <td>0</td>\n",
       "      <td>0</td>\n",
       "      <td>0</td>\n",
       "      <td>0</td>\n",
       "      <td>18100000</td>\n",
       "    </tr>\n",
       "    <tr>\n",
       "      <th>6</th>\n",
       "      <td>6</td>\n",
       "      <td>Banderita X</td>\n",
       "      <td>18000000</td>\n",
       "      <td>5470017529</td>\n",
       "      <td>1887</td>\n",
       "      <td>Saudi Arabia (SA)</td>\n",
       "      <td>Gaming</td>\n",
       "      <td>2013</td>\n",
       "      <td>200000</td>\n",
       "      <td>62773474</td>\n",
       "      <td>...</td>\n",
       "      <td>1144500048</td>\n",
       "      <td>0</td>\n",
       "      <td>234606</td>\n",
       "      <td>2432581</td>\n",
       "      <td>2852813</td>\n",
       "      <td>1720000</td>\n",
       "      <td>3660000</td>\n",
       "      <td>1400000</td>\n",
       "      <td>1400000</td>\n",
       "      <td>4300000</td>\n",
       "    </tr>\n",
       "  </tbody>\n",
       "</table>\n",
       "<p>7 rows × 30 columns</p>\n",
       "</div>"
      ],
      "text/plain": [
       "   Unnamed: 0                           profile_name  subscriber         view  \\\n",
       "0           0                                 Rotana    24500000  24034368999   \n",
       "1           1                               Mmoshaya    23200000  18468679361   \n",
       "2           2  شبكة العاب العرب | Arab Games Network    22300000  10024125023   \n",
       "3           3                        Katakit Baby Tv    20200000   8517744618   \n",
       "4           4                            ماشا و الدب    18300000  10158387659   \n",
       "5           5               قناة وناسة    Wanasah Tv    18100000  10219433723   \n",
       "6           6                            Banderita X    18000000   5470017529   \n",
       "\n",
       "   video            country        category  since  last_subscriber_30  \\\n",
       "0   9078  Saudi Arabia (SA)           Music   2012              200000   \n",
       "1   1240  Saudi Arabia (SA)  People & Blogs   2010                   0   \n",
       "2   7460  Saudi Arabia (SA)          Gaming   2013              100000   \n",
       "3    231  Saudi Arabia (SA)           Music   2010              200000   \n",
       "4   1482  Saudi Arabia (SA)           Shows   2017              100000   \n",
       "5    233  Saudi Arabia (SA)         general   2014              300000   \n",
       "6   1887  Saudi Arabia (SA)          Gaming   2013              200000   \n",
       "\n",
       "   last_view_30  ...   2024_views  2016_subscribers  2017_subscribers  \\\n",
       "0     292453337  ...   3568868567           3477819           1850288   \n",
       "1      34076848  ...    686034505           1386016           2323147   \n",
       "2      45416699  ...    895981152            213303            785578   \n",
       "3     133417200  ...   1499059097                 0                 0   \n",
       "4      82126847  ...   1252896126                 0            147992   \n",
       "5     122245986  ...  10219433723                 0                 0   \n",
       "6      62773474  ...   1144500048                 0            234606   \n",
       "\n",
       "   2018_subscribers  2019_subscribers  2020_subscribers  2021_subscribers  \\\n",
       "0           4110479           3361414           2600000           3100000   \n",
       "1           5172031           5418806           3200000           3500000   \n",
       "2           2845082           3916037           4540000           3300000   \n",
       "3                 0                 0                 0          10800000   \n",
       "4           1406619           2305389           1300000           4200000   \n",
       "5                 0                 0                 0                 0   \n",
       "6           2432581           2852813           1720000           3660000   \n",
       "\n",
       "   2022_subscribers  2023_subscribers  2024_subscribers  \n",
       "0           2000000           2000000           2000000  \n",
       "1           1200000            600000            400000  \n",
       "2           1800000           2400000           2500000  \n",
       "3           3100000           3000000           3300000  \n",
       "4           3740000           3400000           1800000  \n",
       "5                 0                 0          18100000  \n",
       "6           1400000           1400000           4300000  \n",
       "\n",
       "[7 rows x 30 columns]"
      ]
     },
     "execution_count": 3,
     "metadata": {},
     "output_type": "execute_result"
    }
   ],
   "source": [
    "df.head(7)"
   ]
  },
  {
   "cell_type": "code",
   "execution_count": 4,
   "metadata": {},
   "outputs": [],
   "source": [
    "df.drop(df.index[[5]] , inplace=True)"
   ]
  },
  {
   "cell_type": "code",
   "execution_count": 5,
   "metadata": {},
   "outputs": [],
   "source": [
    "df.drop([\"Unnamed: 0\"], axis=1 , inplace=True)"
   ]
  },
  {
   "cell_type": "code",
   "execution_count": 6,
   "metadata": {},
   "outputs": [
    {
     "data": {
      "text/html": [
       "<div>\n",
       "<style scoped>\n",
       "    .dataframe tbody tr th:only-of-type {\n",
       "        vertical-align: middle;\n",
       "    }\n",
       "\n",
       "    .dataframe tbody tr th {\n",
       "        vertical-align: top;\n",
       "    }\n",
       "\n",
       "    .dataframe thead th {\n",
       "        text-align: right;\n",
       "    }\n",
       "</style>\n",
       "<table border=\"1\" class=\"dataframe\">\n",
       "  <thead>\n",
       "    <tr style=\"text-align: right;\">\n",
       "      <th></th>\n",
       "      <th>subscriber</th>\n",
       "      <th>view</th>\n",
       "      <th>video</th>\n",
       "      <th>since</th>\n",
       "      <th>last_subscriber_30</th>\n",
       "      <th>last_view_30</th>\n",
       "      <th>min_month_earnings</th>\n",
       "      <th>max_month_earnings</th>\n",
       "      <th>2016_views</th>\n",
       "      <th>2017_views</th>\n",
       "      <th>...</th>\n",
       "      <th>2024_views</th>\n",
       "      <th>2016_subscribers</th>\n",
       "      <th>2017_subscribers</th>\n",
       "      <th>2018_subscribers</th>\n",
       "      <th>2019_subscribers</th>\n",
       "      <th>2020_subscribers</th>\n",
       "      <th>2021_subscribers</th>\n",
       "      <th>2022_subscribers</th>\n",
       "      <th>2023_subscribers</th>\n",
       "      <th>2024_subscribers</th>\n",
       "    </tr>\n",
       "  </thead>\n",
       "  <tbody>\n",
       "    <tr>\n",
       "      <th>count</th>\n",
       "      <td>3.582000e+03</td>\n",
       "      <td>3.582000e+03</td>\n",
       "      <td>3582.000000</td>\n",
       "      <td>3582.000000</td>\n",
       "      <td>3582.000000</td>\n",
       "      <td>3.582000e+03</td>\n",
       "      <td>3582.000000</td>\n",
       "      <td>3.582000e+03</td>\n",
       "      <td>3.582000e+03</td>\n",
       "      <td>3.582000e+03</td>\n",
       "      <td>...</td>\n",
       "      <td>3.582000e+03</td>\n",
       "      <td>3.582000e+03</td>\n",
       "      <td>3.582000e+03</td>\n",
       "      <td>3.582000e+03</td>\n",
       "      <td>3.582000e+03</td>\n",
       "      <td>3.582000e+03</td>\n",
       "      <td>3.582000e+03</td>\n",
       "      <td>3.582000e+03</td>\n",
       "      <td>3.582000e+03</td>\n",
       "      <td>3.582000e+03</td>\n",
       "    </tr>\n",
       "    <tr>\n",
       "      <th>mean</th>\n",
       "      <td>5.331101e+05</td>\n",
       "      <td>1.415030e+08</td>\n",
       "      <td>773.874372</td>\n",
       "      <td>2014.727527</td>\n",
       "      <td>4492.077052</td>\n",
       "      <td>4.622737e+06</td>\n",
       "      <td>835.044109</td>\n",
       "      <td>5.908372e+03</td>\n",
       "      <td>6.159330e+06</td>\n",
       "      <td>1.006519e+07</td>\n",
       "      <td>...</td>\n",
       "      <td>3.248048e+07</td>\n",
       "      <td>3.379588e+04</td>\n",
       "      <td>4.774285e+04</td>\n",
       "      <td>6.794155e+04</td>\n",
       "      <td>6.946082e+04</td>\n",
       "      <td>4.982886e+04</td>\n",
       "      <td>8.031674e+04</td>\n",
       "      <td>6.149102e+04</td>\n",
       "      <td>6.633260e+04</td>\n",
       "      <td>7.499589e+04</td>\n",
       "    </tr>\n",
       "    <tr>\n",
       "      <th>std</th>\n",
       "      <td>1.526941e+06</td>\n",
       "      <td>7.279801e+08</td>\n",
       "      <td>4144.808500</td>\n",
       "      <td>3.048893</td>\n",
       "      <td>26840.497451</td>\n",
       "      <td>1.157205e+08</td>\n",
       "      <td>5357.422599</td>\n",
       "      <td>5.364815e+04</td>\n",
       "      <td>5.654092e+07</td>\n",
       "      <td>5.251393e+07</td>\n",
       "      <td>...</td>\n",
       "      <td>1.845621e+08</td>\n",
       "      <td>1.912266e+05</td>\n",
       "      <td>1.647090e+05</td>\n",
       "      <td>2.650395e+05</td>\n",
       "      <td>2.581065e+05</td>\n",
       "      <td>2.151935e+05</td>\n",
       "      <td>3.586535e+05</td>\n",
       "      <td>2.599499e+05</td>\n",
       "      <td>3.146057e+05</td>\n",
       "      <td>3.590330e+05</td>\n",
       "    </tr>\n",
       "    <tr>\n",
       "      <th>min</th>\n",
       "      <td>0.000000e+00</td>\n",
       "      <td>0.000000e+00</td>\n",
       "      <td>0.000000</td>\n",
       "      <td>2006.000000</td>\n",
       "      <td>-448160.000000</td>\n",
       "      <td>0.000000e+00</td>\n",
       "      <td>0.000000</td>\n",
       "      <td>0.000000e+00</td>\n",
       "      <td>0.000000e+00</td>\n",
       "      <td>0.000000e+00</td>\n",
       "      <td>...</td>\n",
       "      <td>0.000000e+00</td>\n",
       "      <td>0.000000e+00</td>\n",
       "      <td>0.000000e+00</td>\n",
       "      <td>0.000000e+00</td>\n",
       "      <td>0.000000e+00</td>\n",
       "      <td>0.000000e+00</td>\n",
       "      <td>0.000000e+00</td>\n",
       "      <td>0.000000e+00</td>\n",
       "      <td>0.000000e+00</td>\n",
       "      <td>0.000000e+00</td>\n",
       "    </tr>\n",
       "    <tr>\n",
       "      <th>25%</th>\n",
       "      <td>8.950500e+03</td>\n",
       "      <td>2.666555e+05</td>\n",
       "      <td>21.000000</td>\n",
       "      <td>2013.000000</td>\n",
       "      <td>0.000000</td>\n",
       "      <td>2.785000e+02</td>\n",
       "      <td>0.000000</td>\n",
       "      <td>0.000000e+00</td>\n",
       "      <td>0.000000e+00</td>\n",
       "      <td>0.000000e+00</td>\n",
       "      <td>...</td>\n",
       "      <td>6.225000e+01</td>\n",
       "      <td>0.000000e+00</td>\n",
       "      <td>0.000000e+00</td>\n",
       "      <td>0.000000e+00</td>\n",
       "      <td>0.000000e+00</td>\n",
       "      <td>0.000000e+00</td>\n",
       "      <td>0.000000e+00</td>\n",
       "      <td>0.000000e+00</td>\n",
       "      <td>2.000000e+00</td>\n",
       "      <td>1.000000e+01</td>\n",
       "    </tr>\n",
       "    <tr>\n",
       "      <th>50%</th>\n",
       "      <td>6.620000e+04</td>\n",
       "      <td>6.007860e+06</td>\n",
       "      <td>125.500000</td>\n",
       "      <td>2015.000000</td>\n",
       "      <td>0.000000</td>\n",
       "      <td>1.608250e+04</td>\n",
       "      <td>4.000000</td>\n",
       "      <td>3.400000e+01</td>\n",
       "      <td>0.000000e+00</td>\n",
       "      <td>0.000000e+00</td>\n",
       "      <td>...</td>\n",
       "      <td>6.906500e+04</td>\n",
       "      <td>0.000000e+00</td>\n",
       "      <td>0.000000e+00</td>\n",
       "      <td>0.000000e+00</td>\n",
       "      <td>1.000000e+01</td>\n",
       "      <td>8.000000e+00</td>\n",
       "      <td>3.000000e+01</td>\n",
       "      <td>3.060000e+02</td>\n",
       "      <td>1.000000e+03</td>\n",
       "      <td>5.000000e+02</td>\n",
       "    </tr>\n",
       "    <tr>\n",
       "      <th>75%</th>\n",
       "      <td>3.570000e+05</td>\n",
       "      <td>5.015161e+07</td>\n",
       "      <td>438.000000</td>\n",
       "      <td>2017.000000</td>\n",
       "      <td>694.000000</td>\n",
       "      <td>4.632162e+05</td>\n",
       "      <td>143.750000</td>\n",
       "      <td>9.750000e+02</td>\n",
       "      <td>0.000000e+00</td>\n",
       "      <td>3.316149e+06</td>\n",
       "      <td>...</td>\n",
       "      <td>3.816068e+06</td>\n",
       "      <td>0.000000e+00</td>\n",
       "      <td>1.443325e+04</td>\n",
       "      <td>2.348075e+04</td>\n",
       "      <td>2.266825e+04</td>\n",
       "      <td>9.000000e+03</td>\n",
       "      <td>1.100000e+04</td>\n",
       "      <td>1.100000e+04</td>\n",
       "      <td>1.700000e+04</td>\n",
       "      <td>9.000000e+03</td>\n",
       "    </tr>\n",
       "    <tr>\n",
       "      <th>max</th>\n",
       "      <td>2.450000e+07</td>\n",
       "      <td>2.403437e+10</td>\n",
       "      <td>125849.000000</td>\n",
       "      <td>2024.000000</td>\n",
       "      <td>840000.000000</td>\n",
       "      <td>6.857378e+09</td>\n",
       "      <td>163000.000000</td>\n",
       "      <td>2.570000e+06</td>\n",
       "      <td>2.599146e+09</td>\n",
       "      <td>1.562878e+09</td>\n",
       "      <td>...</td>\n",
       "      <td>4.489176e+09</td>\n",
       "      <td>3.477819e+06</td>\n",
       "      <td>2.532973e+06</td>\n",
       "      <td>5.172031e+06</td>\n",
       "      <td>5.418806e+06</td>\n",
       "      <td>4.540000e+06</td>\n",
       "      <td>1.080000e+07</td>\n",
       "      <td>6.580000e+06</td>\n",
       "      <td>8.210000e+06</td>\n",
       "      <td>9.970000e+06</td>\n",
       "    </tr>\n",
       "  </tbody>\n",
       "</table>\n",
       "<p>8 rows × 26 columns</p>\n",
       "</div>"
      ],
      "text/plain": [
       "         subscriber          view          video        since  \\\n",
       "count  3.582000e+03  3.582000e+03    3582.000000  3582.000000   \n",
       "mean   5.331101e+05  1.415030e+08     773.874372  2014.727527   \n",
       "std    1.526941e+06  7.279801e+08    4144.808500     3.048893   \n",
       "min    0.000000e+00  0.000000e+00       0.000000  2006.000000   \n",
       "25%    8.950500e+03  2.666555e+05      21.000000  2013.000000   \n",
       "50%    6.620000e+04  6.007860e+06     125.500000  2015.000000   \n",
       "75%    3.570000e+05  5.015161e+07     438.000000  2017.000000   \n",
       "max    2.450000e+07  2.403437e+10  125849.000000  2024.000000   \n",
       "\n",
       "       last_subscriber_30  last_view_30  min_month_earnings  \\\n",
       "count         3582.000000  3.582000e+03         3582.000000   \n",
       "mean          4492.077052  4.622737e+06          835.044109   \n",
       "std          26840.497451  1.157205e+08         5357.422599   \n",
       "min        -448160.000000  0.000000e+00            0.000000   \n",
       "25%              0.000000  2.785000e+02            0.000000   \n",
       "50%              0.000000  1.608250e+04            4.000000   \n",
       "75%            694.000000  4.632162e+05          143.750000   \n",
       "max         840000.000000  6.857378e+09       163000.000000   \n",
       "\n",
       "       max_month_earnings    2016_views    2017_views  ...    2024_views  \\\n",
       "count        3.582000e+03  3.582000e+03  3.582000e+03  ...  3.582000e+03   \n",
       "mean         5.908372e+03  6.159330e+06  1.006519e+07  ...  3.248048e+07   \n",
       "std          5.364815e+04  5.654092e+07  5.251393e+07  ...  1.845621e+08   \n",
       "min          0.000000e+00  0.000000e+00  0.000000e+00  ...  0.000000e+00   \n",
       "25%          0.000000e+00  0.000000e+00  0.000000e+00  ...  6.225000e+01   \n",
       "50%          3.400000e+01  0.000000e+00  0.000000e+00  ...  6.906500e+04   \n",
       "75%          9.750000e+02  0.000000e+00  3.316149e+06  ...  3.816068e+06   \n",
       "max          2.570000e+06  2.599146e+09  1.562878e+09  ...  4.489176e+09   \n",
       "\n",
       "       2016_subscribers  2017_subscribers  2018_subscribers  2019_subscribers  \\\n",
       "count      3.582000e+03      3.582000e+03      3.582000e+03      3.582000e+03   \n",
       "mean       3.379588e+04      4.774285e+04      6.794155e+04      6.946082e+04   \n",
       "std        1.912266e+05      1.647090e+05      2.650395e+05      2.581065e+05   \n",
       "min        0.000000e+00      0.000000e+00      0.000000e+00      0.000000e+00   \n",
       "25%        0.000000e+00      0.000000e+00      0.000000e+00      0.000000e+00   \n",
       "50%        0.000000e+00      0.000000e+00      0.000000e+00      1.000000e+01   \n",
       "75%        0.000000e+00      1.443325e+04      2.348075e+04      2.266825e+04   \n",
       "max        3.477819e+06      2.532973e+06      5.172031e+06      5.418806e+06   \n",
       "\n",
       "       2020_subscribers  2021_subscribers  2022_subscribers  2023_subscribers  \\\n",
       "count      3.582000e+03      3.582000e+03      3.582000e+03      3.582000e+03   \n",
       "mean       4.982886e+04      8.031674e+04      6.149102e+04      6.633260e+04   \n",
       "std        2.151935e+05      3.586535e+05      2.599499e+05      3.146057e+05   \n",
       "min        0.000000e+00      0.000000e+00      0.000000e+00      0.000000e+00   \n",
       "25%        0.000000e+00      0.000000e+00      0.000000e+00      2.000000e+00   \n",
       "50%        8.000000e+00      3.000000e+01      3.060000e+02      1.000000e+03   \n",
       "75%        9.000000e+03      1.100000e+04      1.100000e+04      1.700000e+04   \n",
       "max        4.540000e+06      1.080000e+07      6.580000e+06      8.210000e+06   \n",
       "\n",
       "       2024_subscribers  \n",
       "count      3.582000e+03  \n",
       "mean       7.499589e+04  \n",
       "std        3.590330e+05  \n",
       "min        0.000000e+00  \n",
       "25%        1.000000e+01  \n",
       "50%        5.000000e+02  \n",
       "75%        9.000000e+03  \n",
       "max        9.970000e+06  \n",
       "\n",
       "[8 rows x 26 columns]"
      ]
     },
     "execution_count": 6,
     "metadata": {},
     "output_type": "execute_result"
    }
   ],
   "source": [
    "df.describe()"
   ]
  },
  {
   "cell_type": "code",
   "execution_count": 7,
   "metadata": {},
   "outputs": [],
   "source": [
    "df = df[df[\"subscriber\"] > 1000]"
   ]
  },
  {
   "cell_type": "code",
   "execution_count": 8,
   "metadata": {},
   "outputs": [
    {
     "data": {
      "text/plain": [
       "(3300, 29)"
      ]
     },
     "execution_count": 8,
     "metadata": {},
     "output_type": "execute_result"
    }
   ],
   "source": [
    "df.shape"
   ]
  },
  {
   "cell_type": "code",
   "execution_count": 9,
   "metadata": {},
   "outputs": [
    {
     "data": {
      "text/plain": [
       "21750591272"
      ]
     },
     "execution_count": 9,
     "metadata": {},
     "output_type": "execute_result"
    }
   ],
   "source": [
    "df[\"2016_views\"].sum()"
   ]
  },
  {
   "cell_type": "code",
   "execution_count": 10,
   "metadata": {},
   "outputs": [],
   "source": [
    "mycolumns = df.columns[11:20]\n",
    "    \n",
    "    "
   ]
  },
  {
   "cell_type": "code",
   "execution_count": 11,
   "metadata": {},
   "outputs": [],
   "source": [
    "result = pd.DataFrame({\n",
    "    \"Year\": mycolumns,  # Years as the column headers\n",
    "    \"Total\": df[mycolumns].sum(axis=0)  # Sum across rows (axis=0 means columns)\n",
    "})"
   ]
  },
  {
   "cell_type": "code",
   "execution_count": 12,
   "metadata": {},
   "outputs": [],
   "source": [
    "result[\"Year\"]= result[\"Year\"].str.replace(\"_views\", \"\")"
   ]
  },
  {
   "cell_type": "code",
   "execution_count": 13,
   "metadata": {},
   "outputs": [],
   "source": [
    "result.reset_index(drop=True, inplace=True)"
   ]
  },
  {
   "cell_type": "code",
   "execution_count": 14,
   "metadata": {},
   "outputs": [
    {
     "data": {
      "text/html": [
       "<div>\n",
       "<style scoped>\n",
       "    .dataframe tbody tr th:only-of-type {\n",
       "        vertical-align: middle;\n",
       "    }\n",
       "\n",
       "    .dataframe tbody tr th {\n",
       "        vertical-align: top;\n",
       "    }\n",
       "\n",
       "    .dataframe thead th {\n",
       "        text-align: right;\n",
       "    }\n",
       "</style>\n",
       "<table border=\"1\" class=\"dataframe\">\n",
       "  <thead>\n",
       "    <tr style=\"text-align: right;\">\n",
       "      <th></th>\n",
       "      <th>Year</th>\n",
       "      <th>Total</th>\n",
       "    </tr>\n",
       "  </thead>\n",
       "  <tbody>\n",
       "    <tr>\n",
       "      <th>0</th>\n",
       "      <td>2016</td>\n",
       "      <td>21750591272</td>\n",
       "    </tr>\n",
       "    <tr>\n",
       "      <th>1</th>\n",
       "      <td>2017</td>\n",
       "      <td>35475743685</td>\n",
       "    </tr>\n",
       "    <tr>\n",
       "      <th>2</th>\n",
       "      <td>2018</td>\n",
       "      <td>50557197038</td>\n",
       "    </tr>\n",
       "    <tr>\n",
       "      <th>3</th>\n",
       "      <td>2019</td>\n",
       "      <td>58646849915</td>\n",
       "    </tr>\n",
       "    <tr>\n",
       "      <th>4</th>\n",
       "      <td>2020</td>\n",
       "      <td>51485828365</td>\n",
       "    </tr>\n",
       "    <tr>\n",
       "      <th>5</th>\n",
       "      <td>2021</td>\n",
       "      <td>91657098403</td>\n",
       "    </tr>\n",
       "    <tr>\n",
       "      <th>6</th>\n",
       "      <td>2022</td>\n",
       "      <td>74854965846</td>\n",
       "    </tr>\n",
       "    <tr>\n",
       "      <th>7</th>\n",
       "      <td>2023</td>\n",
       "      <td>90618935084</td>\n",
       "    </tr>\n",
       "    <tr>\n",
       "      <th>8</th>\n",
       "      <td>2024</td>\n",
       "      <td>116344610834</td>\n",
       "    </tr>\n",
       "  </tbody>\n",
       "</table>\n",
       "</div>"
      ],
      "text/plain": [
       "   Year         Total\n",
       "0  2016   21750591272\n",
       "1  2017   35475743685\n",
       "2  2018   50557197038\n",
       "3  2019   58646849915\n",
       "4  2020   51485828365\n",
       "5  2021   91657098403\n",
       "6  2022   74854965846\n",
       "7  2023   90618935084\n",
       "8  2024  116344610834"
      ]
     },
     "execution_count": 14,
     "metadata": {},
     "output_type": "execute_result"
    }
   ],
   "source": [
    "result"
   ]
  },
  {
   "cell_type": "code",
   "execution_count": 15,
   "metadata": {},
   "outputs": [],
   "source": [
    "result[\"Year\"] = pd.to_datetime(result[\"Year\"],format=\"%Y\").dt.year"
   ]
  },
  {
   "cell_type": "code",
   "execution_count": 16,
   "metadata": {},
   "outputs": [
    {
     "name": "stdout",
     "output_type": "stream",
     "text": [
      "<class 'pandas.core.frame.DataFrame'>\n",
      "RangeIndex: 9 entries, 0 to 8\n",
      "Data columns (total 2 columns):\n",
      " #   Column  Non-Null Count  Dtype\n",
      "---  ------  --------------  -----\n",
      " 0   Year    9 non-null      int32\n",
      " 1   Total   9 non-null      int64\n",
      "dtypes: int32(1), int64(1)\n",
      "memory usage: 240.0 bytes\n"
     ]
    }
   ],
   "source": [
    "result.info()"
   ]
  },
  {
   "cell_type": "code",
   "execution_count": 17,
   "metadata": {},
   "outputs": [
    {
     "data": {
      "application/vnd.plotly.v1+json": {
       "config": {
        "plotlyServerURL": "https://plot.ly"
       },
       "data": [
        {
         "hovertemplate": "Year=%{x}<br>Total=%{y}<br>text=%{text}<extra></extra>",
         "legendgroup": "",
         "line": {
          "color": "red",
          "dash": "solid",
          "width": 3
         },
         "marker": {
          "color": "red",
          "line": {
           "color": "red",
           "width": 2
          },
          "size": 10,
          "symbol": "circle"
         },
         "mode": "lines+markers+text",
         "name": "",
         "orientation": "v",
         "showlegend": false,
         "text": [
          "21.75B",
          "35.48B",
          "50.56B",
          "58.65B",
          "51.49B",
          "91.66B",
          "74.85B",
          "90.62B",
          "116.3B"
         ],
         "textposition": "top center",
         "type": "scatter",
         "x": [
          2016,
          2017,
          2018,
          2019,
          2020,
          2021,
          2022,
          2023,
          2024
         ],
         "xaxis": "x",
         "y": [
          21750591272,
          35475743685,
          50557197038,
          58646849915,
          51485828365,
          91657098403,
          74854965846,
          90618935084,
          116344610834
         ],
         "yaxis": "y"
        }
       ],
       "layout": {
        "height": 600,
        "legend": {
         "tracegroupgap": 0
        },
        "margin": {
         "t": 60
        },
        "template": {
         "data": {
          "bar": [
           {
            "error_x": {
             "color": "#2a3f5f"
            },
            "error_y": {
             "color": "#2a3f5f"
            },
            "marker": {
             "line": {
              "color": "#E5ECF6",
              "width": 0.5
             },
             "pattern": {
              "fillmode": "overlay",
              "size": 10,
              "solidity": 0.2
             }
            },
            "type": "bar"
           }
          ],
          "barpolar": [
           {
            "marker": {
             "line": {
              "color": "#E5ECF6",
              "width": 0.5
             },
             "pattern": {
              "fillmode": "overlay",
              "size": 10,
              "solidity": 0.2
             }
            },
            "type": "barpolar"
           }
          ],
          "carpet": [
           {
            "aaxis": {
             "endlinecolor": "#2a3f5f",
             "gridcolor": "white",
             "linecolor": "white",
             "minorgridcolor": "white",
             "startlinecolor": "#2a3f5f"
            },
            "baxis": {
             "endlinecolor": "#2a3f5f",
             "gridcolor": "white",
             "linecolor": "white",
             "minorgridcolor": "white",
             "startlinecolor": "#2a3f5f"
            },
            "type": "carpet"
           }
          ],
          "choropleth": [
           {
            "colorbar": {
             "outlinewidth": 0,
             "ticks": ""
            },
            "type": "choropleth"
           }
          ],
          "contour": [
           {
            "colorbar": {
             "outlinewidth": 0,
             "ticks": ""
            },
            "colorscale": [
             [
              0,
              "#0d0887"
             ],
             [
              0.1111111111111111,
              "#46039f"
             ],
             [
              0.2222222222222222,
              "#7201a8"
             ],
             [
              0.3333333333333333,
              "#9c179e"
             ],
             [
              0.4444444444444444,
              "#bd3786"
             ],
             [
              0.5555555555555556,
              "#d8576b"
             ],
             [
              0.6666666666666666,
              "#ed7953"
             ],
             [
              0.7777777777777778,
              "#fb9f3a"
             ],
             [
              0.8888888888888888,
              "#fdca26"
             ],
             [
              1,
              "#f0f921"
             ]
            ],
            "type": "contour"
           }
          ],
          "contourcarpet": [
           {
            "colorbar": {
             "outlinewidth": 0,
             "ticks": ""
            },
            "type": "contourcarpet"
           }
          ],
          "heatmap": [
           {
            "colorbar": {
             "outlinewidth": 0,
             "ticks": ""
            },
            "colorscale": [
             [
              0,
              "#0d0887"
             ],
             [
              0.1111111111111111,
              "#46039f"
             ],
             [
              0.2222222222222222,
              "#7201a8"
             ],
             [
              0.3333333333333333,
              "#9c179e"
             ],
             [
              0.4444444444444444,
              "#bd3786"
             ],
             [
              0.5555555555555556,
              "#d8576b"
             ],
             [
              0.6666666666666666,
              "#ed7953"
             ],
             [
              0.7777777777777778,
              "#fb9f3a"
             ],
             [
              0.8888888888888888,
              "#fdca26"
             ],
             [
              1,
              "#f0f921"
             ]
            ],
            "type": "heatmap"
           }
          ],
          "heatmapgl": [
           {
            "colorbar": {
             "outlinewidth": 0,
             "ticks": ""
            },
            "colorscale": [
             [
              0,
              "#0d0887"
             ],
             [
              0.1111111111111111,
              "#46039f"
             ],
             [
              0.2222222222222222,
              "#7201a8"
             ],
             [
              0.3333333333333333,
              "#9c179e"
             ],
             [
              0.4444444444444444,
              "#bd3786"
             ],
             [
              0.5555555555555556,
              "#d8576b"
             ],
             [
              0.6666666666666666,
              "#ed7953"
             ],
             [
              0.7777777777777778,
              "#fb9f3a"
             ],
             [
              0.8888888888888888,
              "#fdca26"
             ],
             [
              1,
              "#f0f921"
             ]
            ],
            "type": "heatmapgl"
           }
          ],
          "histogram": [
           {
            "marker": {
             "pattern": {
              "fillmode": "overlay",
              "size": 10,
              "solidity": 0.2
             }
            },
            "type": "histogram"
           }
          ],
          "histogram2d": [
           {
            "colorbar": {
             "outlinewidth": 0,
             "ticks": ""
            },
            "colorscale": [
             [
              0,
              "#0d0887"
             ],
             [
              0.1111111111111111,
              "#46039f"
             ],
             [
              0.2222222222222222,
              "#7201a8"
             ],
             [
              0.3333333333333333,
              "#9c179e"
             ],
             [
              0.4444444444444444,
              "#bd3786"
             ],
             [
              0.5555555555555556,
              "#d8576b"
             ],
             [
              0.6666666666666666,
              "#ed7953"
             ],
             [
              0.7777777777777778,
              "#fb9f3a"
             ],
             [
              0.8888888888888888,
              "#fdca26"
             ],
             [
              1,
              "#f0f921"
             ]
            ],
            "type": "histogram2d"
           }
          ],
          "histogram2dcontour": [
           {
            "colorbar": {
             "outlinewidth": 0,
             "ticks": ""
            },
            "colorscale": [
             [
              0,
              "#0d0887"
             ],
             [
              0.1111111111111111,
              "#46039f"
             ],
             [
              0.2222222222222222,
              "#7201a8"
             ],
             [
              0.3333333333333333,
              "#9c179e"
             ],
             [
              0.4444444444444444,
              "#bd3786"
             ],
             [
              0.5555555555555556,
              "#d8576b"
             ],
             [
              0.6666666666666666,
              "#ed7953"
             ],
             [
              0.7777777777777778,
              "#fb9f3a"
             ],
             [
              0.8888888888888888,
              "#fdca26"
             ],
             [
              1,
              "#f0f921"
             ]
            ],
            "type": "histogram2dcontour"
           }
          ],
          "mesh3d": [
           {
            "colorbar": {
             "outlinewidth": 0,
             "ticks": ""
            },
            "type": "mesh3d"
           }
          ],
          "parcoords": [
           {
            "line": {
             "colorbar": {
              "outlinewidth": 0,
              "ticks": ""
             }
            },
            "type": "parcoords"
           }
          ],
          "pie": [
           {
            "automargin": true,
            "type": "pie"
           }
          ],
          "scatter": [
           {
            "fillpattern": {
             "fillmode": "overlay",
             "size": 10,
             "solidity": 0.2
            },
            "type": "scatter"
           }
          ],
          "scatter3d": [
           {
            "line": {
             "colorbar": {
              "outlinewidth": 0,
              "ticks": ""
             }
            },
            "marker": {
             "colorbar": {
              "outlinewidth": 0,
              "ticks": ""
             }
            },
            "type": "scatter3d"
           }
          ],
          "scattercarpet": [
           {
            "marker": {
             "colorbar": {
              "outlinewidth": 0,
              "ticks": ""
             }
            },
            "type": "scattercarpet"
           }
          ],
          "scattergeo": [
           {
            "marker": {
             "colorbar": {
              "outlinewidth": 0,
              "ticks": ""
             }
            },
            "type": "scattergeo"
           }
          ],
          "scattergl": [
           {
            "marker": {
             "colorbar": {
              "outlinewidth": 0,
              "ticks": ""
             }
            },
            "type": "scattergl"
           }
          ],
          "scattermapbox": [
           {
            "marker": {
             "colorbar": {
              "outlinewidth": 0,
              "ticks": ""
             }
            },
            "type": "scattermapbox"
           }
          ],
          "scatterpolar": [
           {
            "marker": {
             "colorbar": {
              "outlinewidth": 0,
              "ticks": ""
             }
            },
            "type": "scatterpolar"
           }
          ],
          "scatterpolargl": [
           {
            "marker": {
             "colorbar": {
              "outlinewidth": 0,
              "ticks": ""
             }
            },
            "type": "scatterpolargl"
           }
          ],
          "scatterternary": [
           {
            "marker": {
             "colorbar": {
              "outlinewidth": 0,
              "ticks": ""
             }
            },
            "type": "scatterternary"
           }
          ],
          "surface": [
           {
            "colorbar": {
             "outlinewidth": 0,
             "ticks": ""
            },
            "colorscale": [
             [
              0,
              "#0d0887"
             ],
             [
              0.1111111111111111,
              "#46039f"
             ],
             [
              0.2222222222222222,
              "#7201a8"
             ],
             [
              0.3333333333333333,
              "#9c179e"
             ],
             [
              0.4444444444444444,
              "#bd3786"
             ],
             [
              0.5555555555555556,
              "#d8576b"
             ],
             [
              0.6666666666666666,
              "#ed7953"
             ],
             [
              0.7777777777777778,
              "#fb9f3a"
             ],
             [
              0.8888888888888888,
              "#fdca26"
             ],
             [
              1,
              "#f0f921"
             ]
            ],
            "type": "surface"
           }
          ],
          "table": [
           {
            "cells": {
             "fill": {
              "color": "#EBF0F8"
             },
             "line": {
              "color": "white"
             }
            },
            "header": {
             "fill": {
              "color": "#C8D4E3"
             },
             "line": {
              "color": "white"
             }
            },
            "type": "table"
           }
          ]
         },
         "layout": {
          "annotationdefaults": {
           "arrowcolor": "#2a3f5f",
           "arrowhead": 0,
           "arrowwidth": 1
          },
          "autotypenumbers": "strict",
          "coloraxis": {
           "colorbar": {
            "outlinewidth": 0,
            "ticks": ""
           }
          },
          "colorscale": {
           "diverging": [
            [
             0,
             "#8e0152"
            ],
            [
             0.1,
             "#c51b7d"
            ],
            [
             0.2,
             "#de77ae"
            ],
            [
             0.3,
             "#f1b6da"
            ],
            [
             0.4,
             "#fde0ef"
            ],
            [
             0.5,
             "#f7f7f7"
            ],
            [
             0.6,
             "#e6f5d0"
            ],
            [
             0.7,
             "#b8e186"
            ],
            [
             0.8,
             "#7fbc41"
            ],
            [
             0.9,
             "#4d9221"
            ],
            [
             1,
             "#276419"
            ]
           ],
           "sequential": [
            [
             0,
             "#0d0887"
            ],
            [
             0.1111111111111111,
             "#46039f"
            ],
            [
             0.2222222222222222,
             "#7201a8"
            ],
            [
             0.3333333333333333,
             "#9c179e"
            ],
            [
             0.4444444444444444,
             "#bd3786"
            ],
            [
             0.5555555555555556,
             "#d8576b"
            ],
            [
             0.6666666666666666,
             "#ed7953"
            ],
            [
             0.7777777777777778,
             "#fb9f3a"
            ],
            [
             0.8888888888888888,
             "#fdca26"
            ],
            [
             1,
             "#f0f921"
            ]
           ],
           "sequentialminus": [
            [
             0,
             "#0d0887"
            ],
            [
             0.1111111111111111,
             "#46039f"
            ],
            [
             0.2222222222222222,
             "#7201a8"
            ],
            [
             0.3333333333333333,
             "#9c179e"
            ],
            [
             0.4444444444444444,
             "#bd3786"
            ],
            [
             0.5555555555555556,
             "#d8576b"
            ],
            [
             0.6666666666666666,
             "#ed7953"
            ],
            [
             0.7777777777777778,
             "#fb9f3a"
            ],
            [
             0.8888888888888888,
             "#fdca26"
            ],
            [
             1,
             "#f0f921"
            ]
           ]
          },
          "colorway": [
           "#636efa",
           "#EF553B",
           "#00cc96",
           "#ab63fa",
           "#FFA15A",
           "#19d3f3",
           "#FF6692",
           "#B6E880",
           "#FF97FF",
           "#FECB52"
          ],
          "font": {
           "color": "#2a3f5f"
          },
          "geo": {
           "bgcolor": "white",
           "lakecolor": "white",
           "landcolor": "#E5ECF6",
           "showlakes": true,
           "showland": true,
           "subunitcolor": "white"
          },
          "hoverlabel": {
           "align": "left"
          },
          "hovermode": "closest",
          "mapbox": {
           "style": "light"
          },
          "paper_bgcolor": "white",
          "plot_bgcolor": "#E5ECF6",
          "polar": {
           "angularaxis": {
            "gridcolor": "white",
            "linecolor": "white",
            "ticks": ""
           },
           "bgcolor": "#E5ECF6",
           "radialaxis": {
            "gridcolor": "white",
            "linecolor": "white",
            "ticks": ""
           }
          },
          "scene": {
           "xaxis": {
            "backgroundcolor": "#E5ECF6",
            "gridcolor": "white",
            "gridwidth": 2,
            "linecolor": "white",
            "showbackground": true,
            "ticks": "",
            "zerolinecolor": "white"
           },
           "yaxis": {
            "backgroundcolor": "#E5ECF6",
            "gridcolor": "white",
            "gridwidth": 2,
            "linecolor": "white",
            "showbackground": true,
            "ticks": "",
            "zerolinecolor": "white"
           },
           "zaxis": {
            "backgroundcolor": "#E5ECF6",
            "gridcolor": "white",
            "gridwidth": 2,
            "linecolor": "white",
            "showbackground": true,
            "ticks": "",
            "zerolinecolor": "white"
           }
          },
          "shapedefaults": {
           "line": {
            "color": "#2a3f5f"
           }
          },
          "ternary": {
           "aaxis": {
            "gridcolor": "white",
            "linecolor": "white",
            "ticks": ""
           },
           "baxis": {
            "gridcolor": "white",
            "linecolor": "white",
            "ticks": ""
           },
           "bgcolor": "#E5ECF6",
           "caxis": {
            "gridcolor": "white",
            "linecolor": "white",
            "ticks": ""
           }
          },
          "title": {
           "x": 0.05
          },
          "xaxis": {
           "automargin": true,
           "gridcolor": "white",
           "linecolor": "white",
           "ticks": "",
           "title": {
            "standoff": 15
           },
           "zerolinecolor": "white",
           "zerolinewidth": 2
          },
          "yaxis": {
           "automargin": true,
           "gridcolor": "white",
           "linecolor": "white",
           "ticks": "",
           "title": {
            "standoff": 15
           },
           "zerolinecolor": "white",
           "zerolinewidth": 2
          }
         }
        },
        "title": {
         "font": {
          "color": "white",
          "size": 20
         },
         "text": "مجموع المشاهدات لكل سنه "
        },
        "width": 1000,
        "xaxis": {
         "anchor": "y",
         "domain": [
          0,
          1
         ],
         "gridcolor": "lightgrey",
         "linecolor": "white",
         "showgrid": true,
         "tickfont": {
          "color": "white"
         },
         "tickmode": "linear",
         "title": {
          "text": "السنوات"
         }
        },
        "yaxis": {
         "anchor": "x",
         "domain": [
          0,
          1
         ],
         "gridcolor": "lightgrey",
         "showgrid": true,
         "tickfont": {
          "color": "white"
         },
         "title": {
          "text": "مجموع المشاهدات"
         }
        }
       }
      }
     },
     "metadata": {},
     "output_type": "display_data"
    }
   ],
   "source": [
    "fig = px.line(\n",
    "    result, \n",
    "    x=\"Year\", \n",
    "    y=\"Total\", \n",
    "    text=['{:.4}B'.format(x / 1000000000) for x in result['Total']],\n",
    "    markers=True, height=600,width=1000\n",
    ")\n",
    "fig.update_traces(\n",
    "    textposition=\"top center\", \n",
    "    line=dict(width=3),\n",
    "    line_color=\"red\",\n",
    "    marker=dict(size=10, color=\"red\", line=dict(width=2, color=\"red\")),\n",
    ")\n",
    "fig.update_layout(\n",
    "    #font=dict(family=\"Arial\", size=14, color=\"white\"),  # Set font family, size, and color\n",
    "    title=dict(text=\"مجموع المشاهدات لكل سنه \", font=dict(size=20, color=\"white\")),  # Set title font size and color\n",
    "    xaxis=dict(\n",
    "        tickmode=\"linear\", \n",
    "        title=\"السنوات\",  \n",
    "        linecolor='white',  \n",
    "        tickfont=dict(color=\"white\"), \n",
    "        showgrid=True, \n",
    "        gridcolor=\"lightgrey\"  \n",
    "    ),\n",
    "    yaxis=dict(\n",
    "        title=\"مجموع المشاهدات\",  # Y-axis title in Arabic\n",
    "        showgrid=True,  # Show gridlines\n",
    "        gridcolor=\"lightgrey\",  # Set gridline color\n",
    "        tickfont=dict(color=\"white\")  # White y-axis labels\n",
    "    ),\n",
    "    #plot_bgcolor=\"#282828\",  # Dark background for the plot\n",
    "    #paper_bgcolor=\"#282828\",# Dark background for the entire paper\n",
    ")\n",
    "fig.show()"
   ]
  },
  {
   "cell_type": "code",
   "execution_count": 18,
   "metadata": {},
   "outputs": [],
   "source": [
    "df_gmaing = df[df[\"category\"] == \"Gaming\"]"
   ]
  },
  {
   "cell_type": "code",
   "execution_count": 19,
   "metadata": {},
   "outputs": [
    {
     "data": {
      "text/html": [
       "<div>\n",
       "<style scoped>\n",
       "    .dataframe tbody tr th:only-of-type {\n",
       "        vertical-align: middle;\n",
       "    }\n",
       "\n",
       "    .dataframe tbody tr th {\n",
       "        vertical-align: top;\n",
       "    }\n",
       "\n",
       "    .dataframe thead th {\n",
       "        text-align: right;\n",
       "    }\n",
       "</style>\n",
       "<table border=\"1\" class=\"dataframe\">\n",
       "  <thead>\n",
       "    <tr style=\"text-align: right;\">\n",
       "      <th></th>\n",
       "      <th>profile_name</th>\n",
       "      <th>subscriber</th>\n",
       "      <th>view</th>\n",
       "      <th>video</th>\n",
       "      <th>country</th>\n",
       "      <th>category</th>\n",
       "      <th>since</th>\n",
       "      <th>last_subscriber_30</th>\n",
       "      <th>last_view_30</th>\n",
       "      <th>min_month_earnings</th>\n",
       "      <th>...</th>\n",
       "      <th>2024_views</th>\n",
       "      <th>2016_subscribers</th>\n",
       "      <th>2017_subscribers</th>\n",
       "      <th>2018_subscribers</th>\n",
       "      <th>2019_subscribers</th>\n",
       "      <th>2020_subscribers</th>\n",
       "      <th>2021_subscribers</th>\n",
       "      <th>2022_subscribers</th>\n",
       "      <th>2023_subscribers</th>\n",
       "      <th>2024_subscribers</th>\n",
       "    </tr>\n",
       "  </thead>\n",
       "  <tbody>\n",
       "    <tr>\n",
       "      <th>6</th>\n",
       "      <td>Banderita X</td>\n",
       "      <td>18000000</td>\n",
       "      <td>5470017529</td>\n",
       "      <td>1887</td>\n",
       "      <td>Saudi Arabia (SA)</td>\n",
       "      <td>Gaming</td>\n",
       "      <td>2013</td>\n",
       "      <td>200000</td>\n",
       "      <td>62773474</td>\n",
       "      <td>23500</td>\n",
       "      <td>...</td>\n",
       "      <td>1144500048</td>\n",
       "      <td>0</td>\n",
       "      <td>234606</td>\n",
       "      <td>2432581</td>\n",
       "      <td>2852813</td>\n",
       "      <td>1720000</td>\n",
       "      <td>3660000</td>\n",
       "      <td>1400000</td>\n",
       "      <td>1400000</td>\n",
       "      <td>4300000</td>\n",
       "    </tr>\n",
       "    <tr>\n",
       "      <th>2</th>\n",
       "      <td>شبكة العاب العرب | Arab Games Network</td>\n",
       "      <td>22300000</td>\n",
       "      <td>10024125023</td>\n",
       "      <td>7460</td>\n",
       "      <td>Saudi Arabia (SA)</td>\n",
       "      <td>Gaming</td>\n",
       "      <td>2013</td>\n",
       "      <td>100000</td>\n",
       "      <td>45416699</td>\n",
       "      <td>17000</td>\n",
       "      <td>...</td>\n",
       "      <td>895981152</td>\n",
       "      <td>213303</td>\n",
       "      <td>785578</td>\n",
       "      <td>2845082</td>\n",
       "      <td>3916037</td>\n",
       "      <td>4540000</td>\n",
       "      <td>3300000</td>\n",
       "      <td>1800000</td>\n",
       "      <td>2400000</td>\n",
       "      <td>2500000</td>\n",
       "    </tr>\n",
       "    <tr>\n",
       "      <th>3560</th>\n",
       "      <td>S Ho Ngx Bоng</td>\n",
       "      <td>16000000</td>\n",
       "      <td>2773959313</td>\n",
       "      <td>765</td>\n",
       "      <td>Saudi Arabia (SA)</td>\n",
       "      <td>Gaming</td>\n",
       "      <td>2012</td>\n",
       "      <td>100000</td>\n",
       "      <td>37401013</td>\n",
       "      <td>14000</td>\n",
       "      <td>...</td>\n",
       "      <td>647090788</td>\n",
       "      <td>0</td>\n",
       "      <td>0</td>\n",
       "      <td>0</td>\n",
       "      <td>1230000</td>\n",
       "      <td>1820000</td>\n",
       "      <td>1880000</td>\n",
       "      <td>1120000</td>\n",
       "      <td>6550000</td>\n",
       "      <td>3400000</td>\n",
       "    </tr>\n",
       "    <tr>\n",
       "      <th>3572</th>\n",
       "      <td>أوسمز O C Mz</td>\n",
       "      <td>8500000</td>\n",
       "      <td>2547923880</td>\n",
       "      <td>3007</td>\n",
       "      <td>Saudi Arabia (SA)</td>\n",
       "      <td>Gaming</td>\n",
       "      <td>2012</td>\n",
       "      <td>120000</td>\n",
       "      <td>35775721</td>\n",
       "      <td>13400</td>\n",
       "      <td>...</td>\n",
       "      <td>484042757</td>\n",
       "      <td>556313</td>\n",
       "      <td>472540</td>\n",
       "      <td>891108</td>\n",
       "      <td>1420039</td>\n",
       "      <td>150000</td>\n",
       "      <td>2440000</td>\n",
       "      <td>290000</td>\n",
       "      <td>440000</td>\n",
       "      <td>1840000</td>\n",
       "    </tr>\n",
       "    <tr>\n",
       "      <th>60</th>\n",
       "      <td>Garena Free Fire Middle East And Africa   Arabic</td>\n",
       "      <td>4940000</td>\n",
       "      <td>710001423</td>\n",
       "      <td>1823</td>\n",
       "      <td>Saudi Arabia (SA)</td>\n",
       "      <td>Gaming</td>\n",
       "      <td>2019</td>\n",
       "      <td>120000</td>\n",
       "      <td>27701149</td>\n",
       "      <td>10400</td>\n",
       "      <td>...</td>\n",
       "      <td>417975572</td>\n",
       "      <td>0</td>\n",
       "      <td>0</td>\n",
       "      <td>0</td>\n",
       "      <td>454000</td>\n",
       "      <td>1006000</td>\n",
       "      <td>870000</td>\n",
       "      <td>110000</td>\n",
       "      <td>490000</td>\n",
       "      <td>2010000</td>\n",
       "    </tr>\n",
       "    <tr>\n",
       "      <th>25</th>\n",
       "      <td>صالح   O Pii Lz</td>\n",
       "      <td>8940000</td>\n",
       "      <td>2628205984</td>\n",
       "      <td>1709</td>\n",
       "      <td>Saudi Arabia (SA)</td>\n",
       "      <td>Gaming</td>\n",
       "      <td>2011</td>\n",
       "      <td>80000</td>\n",
       "      <td>24434215</td>\n",
       "      <td>9160</td>\n",
       "      <td>...</td>\n",
       "      <td>316012542</td>\n",
       "      <td>0</td>\n",
       "      <td>652376</td>\n",
       "      <td>1407994</td>\n",
       "      <td>1259630</td>\n",
       "      <td>270000</td>\n",
       "      <td>2500000</td>\n",
       "      <td>840000</td>\n",
       "      <td>710000</td>\n",
       "      <td>1300000</td>\n",
       "    </tr>\n",
       "    <tr>\n",
       "      <th>36</th>\n",
       "      <td>Powr Suhaib</td>\n",
       "      <td>7300000</td>\n",
       "      <td>1234561703</td>\n",
       "      <td>1104</td>\n",
       "      <td>Saudi Arabia (SA)</td>\n",
       "      <td>Gaming</td>\n",
       "      <td>2015</td>\n",
       "      <td>50000</td>\n",
       "      <td>23480317</td>\n",
       "      <td>0</td>\n",
       "      <td>...</td>\n",
       "      <td>311667925</td>\n",
       "      <td>0</td>\n",
       "      <td>0</td>\n",
       "      <td>0</td>\n",
       "      <td>0</td>\n",
       "      <td>0</td>\n",
       "      <td>1330000</td>\n",
       "      <td>960000</td>\n",
       "      <td>2310000</td>\n",
       "      <td>2700000</td>\n",
       "    </tr>\n",
       "    <tr>\n",
       "      <th>88</th>\n",
       "      <td>Xzit Thamer</td>\n",
       "      <td>4000000</td>\n",
       "      <td>1578391550</td>\n",
       "      <td>1373</td>\n",
       "      <td>Saudi Arabia (SA)</td>\n",
       "      <td>Gaming</td>\n",
       "      <td>2015</td>\n",
       "      <td>10000</td>\n",
       "      <td>13043849</td>\n",
       "      <td>4890</td>\n",
       "      <td>...</td>\n",
       "      <td>286691910</td>\n",
       "      <td>0</td>\n",
       "      <td>175065</td>\n",
       "      <td>255239</td>\n",
       "      <td>496696</td>\n",
       "      <td>243000</td>\n",
       "      <td>390000</td>\n",
       "      <td>1380000</td>\n",
       "      <td>630000</td>\n",
       "      <td>430000</td>\n",
       "    </tr>\n",
       "    <tr>\n",
       "      <th>53</th>\n",
       "      <td>اوكا   Oka</td>\n",
       "      <td>5640000</td>\n",
       "      <td>1239544370</td>\n",
       "      <td>2081</td>\n",
       "      <td>Saudi Arabia (SA)</td>\n",
       "      <td>Gaming</td>\n",
       "      <td>2018</td>\n",
       "      <td>70000</td>\n",
       "      <td>17298949</td>\n",
       "      <td>6490</td>\n",
       "      <td>...</td>\n",
       "      <td>272385241</td>\n",
       "      <td>0</td>\n",
       "      <td>0</td>\n",
       "      <td>0</td>\n",
       "      <td>0</td>\n",
       "      <td>0</td>\n",
       "      <td>2580000</td>\n",
       "      <td>370000</td>\n",
       "      <td>660000</td>\n",
       "      <td>2030000</td>\n",
       "    </tr>\n",
       "    <tr>\n",
       "      <th>68</th>\n",
       "      <td>Solom</td>\n",
       "      <td>4620000</td>\n",
       "      <td>2604375619</td>\n",
       "      <td>2737</td>\n",
       "      <td>Saudi Arabia (SA)</td>\n",
       "      <td>Gaming</td>\n",
       "      <td>2017</td>\n",
       "      <td>40000</td>\n",
       "      <td>16404005</td>\n",
       "      <td>6150</td>\n",
       "      <td>...</td>\n",
       "      <td>263961017</td>\n",
       "      <td>0</td>\n",
       "      <td>37775</td>\n",
       "      <td>297835</td>\n",
       "      <td>844390</td>\n",
       "      <td>1050000</td>\n",
       "      <td>740000</td>\n",
       "      <td>350000</td>\n",
       "      <td>450000</td>\n",
       "      <td>850000</td>\n",
       "    </tr>\n",
       "  </tbody>\n",
       "</table>\n",
       "<p>10 rows × 29 columns</p>\n",
       "</div>"
      ],
      "text/plain": [
       "                                          profile_name  subscriber  \\\n",
       "6                                          Banderita X    18000000   \n",
       "2                شبكة العاب العرب | Arab Games Network    22300000   \n",
       "3560                                     S Ho Ngx Bоng    16000000   \n",
       "3572                                      أوسمز O C Mz     8500000   \n",
       "60    Garena Free Fire Middle East And Africa   Arabic     4940000   \n",
       "25                                     صالح   O Pii Lz     8940000   \n",
       "36                                         Powr Suhaib     7300000   \n",
       "88                                         Xzit Thamer     4000000   \n",
       "53                                          اوكا   Oka     5640000   \n",
       "68                                               Solom     4620000   \n",
       "\n",
       "             view  video            country category  since  \\\n",
       "6      5470017529   1887  Saudi Arabia (SA)   Gaming   2013   \n",
       "2     10024125023   7460  Saudi Arabia (SA)   Gaming   2013   \n",
       "3560   2773959313    765  Saudi Arabia (SA)   Gaming   2012   \n",
       "3572   2547923880   3007  Saudi Arabia (SA)   Gaming   2012   \n",
       "60      710001423   1823  Saudi Arabia (SA)   Gaming   2019   \n",
       "25     2628205984   1709  Saudi Arabia (SA)   Gaming   2011   \n",
       "36     1234561703   1104  Saudi Arabia (SA)   Gaming   2015   \n",
       "88     1578391550   1373  Saudi Arabia (SA)   Gaming   2015   \n",
       "53     1239544370   2081  Saudi Arabia (SA)   Gaming   2018   \n",
       "68     2604375619   2737  Saudi Arabia (SA)   Gaming   2017   \n",
       "\n",
       "      last_subscriber_30  last_view_30  min_month_earnings  ...  2024_views  \\\n",
       "6                 200000      62773474               23500  ...  1144500048   \n",
       "2                 100000      45416699               17000  ...   895981152   \n",
       "3560              100000      37401013               14000  ...   647090788   \n",
       "3572              120000      35775721               13400  ...   484042757   \n",
       "60                120000      27701149               10400  ...   417975572   \n",
       "25                 80000      24434215                9160  ...   316012542   \n",
       "36                 50000      23480317                   0  ...   311667925   \n",
       "88                 10000      13043849                4890  ...   286691910   \n",
       "53                 70000      17298949                6490  ...   272385241   \n",
       "68                 40000      16404005                6150  ...   263961017   \n",
       "\n",
       "      2016_subscribers  2017_subscribers  2018_subscribers  2019_subscribers  \\\n",
       "6                    0            234606           2432581           2852813   \n",
       "2               213303            785578           2845082           3916037   \n",
       "3560                 0                 0                 0           1230000   \n",
       "3572            556313            472540            891108           1420039   \n",
       "60                   0                 0                 0            454000   \n",
       "25                   0            652376           1407994           1259630   \n",
       "36                   0                 0                 0                 0   \n",
       "88                   0            175065            255239            496696   \n",
       "53                   0                 0                 0                 0   \n",
       "68                   0             37775            297835            844390   \n",
       "\n",
       "      2020_subscribers  2021_subscribers  2022_subscribers  2023_subscribers  \\\n",
       "6              1720000           3660000           1400000           1400000   \n",
       "2              4540000           3300000           1800000           2400000   \n",
       "3560           1820000           1880000           1120000           6550000   \n",
       "3572            150000           2440000            290000            440000   \n",
       "60             1006000            870000            110000            490000   \n",
       "25              270000           2500000            840000            710000   \n",
       "36                   0           1330000            960000           2310000   \n",
       "88              243000            390000           1380000            630000   \n",
       "53                   0           2580000            370000            660000   \n",
       "68             1050000            740000            350000            450000   \n",
       "\n",
       "      2024_subscribers  \n",
       "6              4300000  \n",
       "2              2500000  \n",
       "3560           3400000  \n",
       "3572           1840000  \n",
       "60             2010000  \n",
       "25             1300000  \n",
       "36             2700000  \n",
       "88              430000  \n",
       "53             2030000  \n",
       "68              850000  \n",
       "\n",
       "[10 rows x 29 columns]"
      ]
     },
     "execution_count": 19,
     "metadata": {},
     "output_type": "execute_result"
    }
   ],
   "source": [
    "df_gmaing.sort_values(by = \"2024_views\",ascending=False).head(10)"
   ]
  },
  {
   "cell_type": "code",
   "execution_count": 20,
   "metadata": {},
   "outputs": [],
   "source": [
    "pd.set_option('display.max_columns', None)"
   ]
  },
  {
   "cell_type": "code",
   "execution_count": 21,
   "metadata": {},
   "outputs": [],
   "source": [
    "df_clean = df[(df[\"2023_views\"] != 0) & (df[\"since\"] <= 2022)]"
   ]
  },
  {
   "cell_type": "code",
   "execution_count": 39,
   "metadata": {},
   "outputs": [],
   "source": [
    "df_clean.to_csv(\"youtube_data_full_clean.csv\")"
   ]
  },
  {
   "cell_type": "code",
   "execution_count": 22,
   "metadata": {},
   "outputs": [
    {
     "data": {
      "text/plain": [
       "(2660, 29)"
      ]
     },
     "execution_count": 22,
     "metadata": {},
     "output_type": "execute_result"
    }
   ],
   "source": [
    "df_clean.shape"
   ]
  },
  {
   "cell_type": "code",
   "execution_count": 23,
   "metadata": {},
   "outputs": [
    {
     "data": {
      "text/html": [
       "<div>\n",
       "<style scoped>\n",
       "    .dataframe tbody tr th:only-of-type {\n",
       "        vertical-align: middle;\n",
       "    }\n",
       "\n",
       "    .dataframe tbody tr th {\n",
       "        vertical-align: top;\n",
       "    }\n",
       "\n",
       "    .dataframe thead th {\n",
       "        text-align: right;\n",
       "    }\n",
       "</style>\n",
       "<table border=\"1\" class=\"dataframe\">\n",
       "  <thead>\n",
       "    <tr style=\"text-align: right;\">\n",
       "      <th></th>\n",
       "      <th>profile_name</th>\n",
       "      <th>subscriber</th>\n",
       "      <th>view</th>\n",
       "      <th>video</th>\n",
       "      <th>country</th>\n",
       "      <th>category</th>\n",
       "      <th>since</th>\n",
       "      <th>last_subscriber_30</th>\n",
       "      <th>last_view_30</th>\n",
       "      <th>min_month_earnings</th>\n",
       "      <th>max_month_earnings</th>\n",
       "      <th>2016_views</th>\n",
       "      <th>2017_views</th>\n",
       "      <th>2018_views</th>\n",
       "      <th>2019_views</th>\n",
       "      <th>2020_views</th>\n",
       "      <th>2021_views</th>\n",
       "      <th>2022_views</th>\n",
       "      <th>2023_views</th>\n",
       "      <th>2024_views</th>\n",
       "      <th>2016_subscribers</th>\n",
       "      <th>2017_subscribers</th>\n",
       "      <th>2018_subscribers</th>\n",
       "      <th>2019_subscribers</th>\n",
       "      <th>2020_subscribers</th>\n",
       "      <th>2021_subscribers</th>\n",
       "      <th>2022_subscribers</th>\n",
       "      <th>2023_subscribers</th>\n",
       "      <th>2024_subscribers</th>\n",
       "    </tr>\n",
       "  </thead>\n",
       "  <tbody>\n",
       "    <tr>\n",
       "      <th>173</th>\n",
       "      <td>Knizr | كنايزر</td>\n",
       "      <td>2520000</td>\n",
       "      <td>4489175953</td>\n",
       "      <td>837</td>\n",
       "      <td>Saudi Arabia (SA)</td>\n",
       "      <td>Entertainment</td>\n",
       "      <td>2022</td>\n",
       "      <td>170000</td>\n",
       "      <td>435422052</td>\n",
       "      <td>163000</td>\n",
       "      <td>980000</td>\n",
       "      <td>0</td>\n",
       "      <td>0</td>\n",
       "      <td>0</td>\n",
       "      <td>0</td>\n",
       "      <td>0</td>\n",
       "      <td>0</td>\n",
       "      <td>0</td>\n",
       "      <td>0</td>\n",
       "      <td>4489175953</td>\n",
       "      <td>0</td>\n",
       "      <td>0</td>\n",
       "      <td>0</td>\n",
       "      <td>0</td>\n",
       "      <td>0</td>\n",
       "      <td>0</td>\n",
       "      <td>0</td>\n",
       "      <td>0</td>\n",
       "      <td>2520000</td>\n",
       "    </tr>\n",
       "    <tr>\n",
       "      <th>0</th>\n",
       "      <td>Rotana</td>\n",
       "      <td>24500000</td>\n",
       "      <td>24034368999</td>\n",
       "      <td>9078</td>\n",
       "      <td>Saudi Arabia (SA)</td>\n",
       "      <td>Music</td>\n",
       "      <td>2012</td>\n",
       "      <td>200000</td>\n",
       "      <td>292453337</td>\n",
       "      <td>110000</td>\n",
       "      <td>658000</td>\n",
       "      <td>2599146119</td>\n",
       "      <td>1562878054</td>\n",
       "      <td>2107864788</td>\n",
       "      <td>2117443705</td>\n",
       "      <td>2193280884</td>\n",
       "      <td>3867422692</td>\n",
       "      <td>2912861124</td>\n",
       "      <td>3104603066</td>\n",
       "      <td>3568868567</td>\n",
       "      <td>3477819</td>\n",
       "      <td>1850288</td>\n",
       "      <td>4110479</td>\n",
       "      <td>3361414</td>\n",
       "      <td>2600000</td>\n",
       "      <td>3100000</td>\n",
       "      <td>2000000</td>\n",
       "      <td>2000000</td>\n",
       "      <td>2000000</td>\n",
       "    </tr>\n",
       "    <tr>\n",
       "      <th>9</th>\n",
       "      <td>روتانا خليجية</td>\n",
       "      <td>11800000</td>\n",
       "      <td>5124350920</td>\n",
       "      <td>24785</td>\n",
       "      <td>Saudi Arabia (SA)</td>\n",
       "      <td>Entertainment</td>\n",
       "      <td>2011</td>\n",
       "      <td>100000</td>\n",
       "      <td>57428928</td>\n",
       "      <td>21500</td>\n",
       "      <td>129000</td>\n",
       "      <td>588706140</td>\n",
       "      <td>588207527</td>\n",
       "      <td>1082030826</td>\n",
       "      <td>1914830478</td>\n",
       "      <td>3072173513</td>\n",
       "      <td>3900251189</td>\n",
       "      <td>1980579496</td>\n",
       "      <td>1334434562</td>\n",
       "      <td>3192515785</td>\n",
       "      <td>872722</td>\n",
       "      <td>782601</td>\n",
       "      <td>1828865</td>\n",
       "      <td>2405812</td>\n",
       "      <td>440000</td>\n",
       "      <td>1170000</td>\n",
       "      <td>1750000</td>\n",
       "      <td>1250000</td>\n",
       "      <td>1300000</td>\n",
       "    </tr>\n",
       "    <tr>\n",
       "      <th>294</th>\n",
       "      <td>Ward And Yan</td>\n",
       "      <td>1560000</td>\n",
       "      <td>2920512407</td>\n",
       "      <td>7755</td>\n",
       "      <td>Saudi Arabia (SA)</td>\n",
       "      <td>Entertainment</td>\n",
       "      <td>2020</td>\n",
       "      <td>20000</td>\n",
       "      <td>29440822</td>\n",
       "      <td>11000</td>\n",
       "      <td>66200</td>\n",
       "      <td>0</td>\n",
       "      <td>0</td>\n",
       "      <td>0</td>\n",
       "      <td>0</td>\n",
       "      <td>0</td>\n",
       "      <td>0</td>\n",
       "      <td>0</td>\n",
       "      <td>0</td>\n",
       "      <td>2920512407</td>\n",
       "      <td>0</td>\n",
       "      <td>0</td>\n",
       "      <td>0</td>\n",
       "      <td>0</td>\n",
       "      <td>0</td>\n",
       "      <td>0</td>\n",
       "      <td>0</td>\n",
       "      <td>0</td>\n",
       "      <td>1560000</td>\n",
       "    </tr>\n",
       "    <tr>\n",
       "      <th>61</th>\n",
       "      <td>عائلة يزن</td>\n",
       "      <td>4920000</td>\n",
       "      <td>2890974867</td>\n",
       "      <td>733</td>\n",
       "      <td>Saudi Arabia (SA)</td>\n",
       "      <td>Entertainment</td>\n",
       "      <td>2020</td>\n",
       "      <td>20000</td>\n",
       "      <td>22390270</td>\n",
       "      <td>8400</td>\n",
       "      <td>50400</td>\n",
       "      <td>0</td>\n",
       "      <td>0</td>\n",
       "      <td>0</td>\n",
       "      <td>0</td>\n",
       "      <td>0</td>\n",
       "      <td>0</td>\n",
       "      <td>0</td>\n",
       "      <td>0</td>\n",
       "      <td>2890974867</td>\n",
       "      <td>0</td>\n",
       "      <td>0</td>\n",
       "      <td>0</td>\n",
       "      <td>0</td>\n",
       "      <td>0</td>\n",
       "      <td>0</td>\n",
       "      <td>0</td>\n",
       "      <td>0</td>\n",
       "      <td>4920000</td>\n",
       "    </tr>\n",
       "    <tr>\n",
       "      <th>...</th>\n",
       "      <td>...</td>\n",
       "      <td>...</td>\n",
       "      <td>...</td>\n",
       "      <td>...</td>\n",
       "      <td>...</td>\n",
       "      <td>...</td>\n",
       "      <td>...</td>\n",
       "      <td>...</td>\n",
       "      <td>...</td>\n",
       "      <td>...</td>\n",
       "      <td>...</td>\n",
       "      <td>...</td>\n",
       "      <td>...</td>\n",
       "      <td>...</td>\n",
       "      <td>...</td>\n",
       "      <td>...</td>\n",
       "      <td>...</td>\n",
       "      <td>...</td>\n",
       "      <td>...</td>\n",
       "      <td>...</td>\n",
       "      <td>...</td>\n",
       "      <td>...</td>\n",
       "      <td>...</td>\n",
       "      <td>...</td>\n",
       "      <td>...</td>\n",
       "      <td>...</td>\n",
       "      <td>...</td>\n",
       "      <td>...</td>\n",
       "      <td>...</td>\n",
       "    </tr>\n",
       "    <tr>\n",
       "      <th>2332</th>\n",
       "      <td>Liza</td>\n",
       "      <td>22856</td>\n",
       "      <td>12708107</td>\n",
       "      <td>59</td>\n",
       "      <td>Saudi Arabia (SA)</td>\n",
       "      <td>People &amp; Blogs</td>\n",
       "      <td>2017</td>\n",
       "      <td>17220</td>\n",
       "      <td>20684310</td>\n",
       "      <td>7760</td>\n",
       "      <td>46500</td>\n",
       "      <td>0</td>\n",
       "      <td>12708107</td>\n",
       "      <td>0</td>\n",
       "      <td>0</td>\n",
       "      <td>0</td>\n",
       "      <td>0</td>\n",
       "      <td>0</td>\n",
       "      <td>0</td>\n",
       "      <td>0</td>\n",
       "      <td>0</td>\n",
       "      <td>22856</td>\n",
       "      <td>0</td>\n",
       "      <td>0</td>\n",
       "      <td>0</td>\n",
       "      <td>0</td>\n",
       "      <td>0</td>\n",
       "      <td>0</td>\n",
       "      <td>0</td>\n",
       "    </tr>\n",
       "    <tr>\n",
       "      <th>2337</th>\n",
       "      <td>سنوب   Snoop</td>\n",
       "      <td>22608</td>\n",
       "      <td>7524339</td>\n",
       "      <td>34</td>\n",
       "      <td>Saudi Arabia (SA)</td>\n",
       "      <td>People &amp; Blogs</td>\n",
       "      <td>2016</td>\n",
       "      <td>25680</td>\n",
       "      <td>10282920</td>\n",
       "      <td>3860</td>\n",
       "      <td>23100</td>\n",
       "      <td>7524339</td>\n",
       "      <td>0</td>\n",
       "      <td>0</td>\n",
       "      <td>0</td>\n",
       "      <td>0</td>\n",
       "      <td>0</td>\n",
       "      <td>0</td>\n",
       "      <td>0</td>\n",
       "      <td>0</td>\n",
       "      <td>22608</td>\n",
       "      <td>0</td>\n",
       "      <td>0</td>\n",
       "      <td>0</td>\n",
       "      <td>0</td>\n",
       "      <td>0</td>\n",
       "      <td>0</td>\n",
       "      <td>0</td>\n",
       "      <td>0</td>\n",
       "    </tr>\n",
       "    <tr>\n",
       "      <th>2343</th>\n",
       "      <td>Hq Anime4 Arab</td>\n",
       "      <td>22200</td>\n",
       "      <td>13201547</td>\n",
       "      <td>194</td>\n",
       "      <td>Saudi Arabia (SA)</td>\n",
       "      <td>Film &amp; Animation</td>\n",
       "      <td>2008</td>\n",
       "      <td>125</td>\n",
       "      <td>21444</td>\n",
       "      <td>8</td>\n",
       "      <td>48</td>\n",
       "      <td>0</td>\n",
       "      <td>0</td>\n",
       "      <td>0</td>\n",
       "      <td>0</td>\n",
       "      <td>12886075</td>\n",
       "      <td>253636</td>\n",
       "      <td>61836</td>\n",
       "      <td>0</td>\n",
       "      <td>0</td>\n",
       "      <td>0</td>\n",
       "      <td>0</td>\n",
       "      <td>0</td>\n",
       "      <td>0</td>\n",
       "      <td>21000</td>\n",
       "      <td>800</td>\n",
       "      <td>400</td>\n",
       "      <td>0</td>\n",
       "      <td>0</td>\n",
       "    </tr>\n",
       "    <tr>\n",
       "      <th>2344</th>\n",
       "      <td>Fuad Ali</td>\n",
       "      <td>22000</td>\n",
       "      <td>0</td>\n",
       "      <td>0</td>\n",
       "      <td>Saudi Arabia (SA)</td>\n",
       "      <td>Entertainment</td>\n",
       "      <td>2015</td>\n",
       "      <td>0</td>\n",
       "      <td>0</td>\n",
       "      <td>0</td>\n",
       "      <td>0</td>\n",
       "      <td>0</td>\n",
       "      <td>2554783</td>\n",
       "      <td>212821</td>\n",
       "      <td>64803</td>\n",
       "      <td>547381</td>\n",
       "      <td>552722</td>\n",
       "      <td>2837748</td>\n",
       "      <td>0</td>\n",
       "      <td>0</td>\n",
       "      <td>0</td>\n",
       "      <td>25063</td>\n",
       "      <td>249</td>\n",
       "      <td>714</td>\n",
       "      <td>400</td>\n",
       "      <td>800</td>\n",
       "      <td>400</td>\n",
       "      <td>200</td>\n",
       "      <td>300</td>\n",
       "    </tr>\n",
       "    <tr>\n",
       "      <th>2047</th>\n",
       "      <td>On End Tv</td>\n",
       "      <td>40254</td>\n",
       "      <td>19926163</td>\n",
       "      <td>3799</td>\n",
       "      <td>Saudi Arabia (SA)</td>\n",
       "      <td>Gaming</td>\n",
       "      <td>2014</td>\n",
       "      <td>5590</td>\n",
       "      <td>2871570</td>\n",
       "      <td>1080</td>\n",
       "      <td>6460</td>\n",
       "      <td>0</td>\n",
       "      <td>6171651</td>\n",
       "      <td>13754512</td>\n",
       "      <td>0</td>\n",
       "      <td>0</td>\n",
       "      <td>0</td>\n",
       "      <td>0</td>\n",
       "      <td>0</td>\n",
       "      <td>0</td>\n",
       "      <td>0</td>\n",
       "      <td>10498</td>\n",
       "      <td>29756</td>\n",
       "      <td>0</td>\n",
       "      <td>0</td>\n",
       "      <td>0</td>\n",
       "      <td>0</td>\n",
       "      <td>0</td>\n",
       "      <td>0</td>\n",
       "    </tr>\n",
       "  </tbody>\n",
       "</table>\n",
       "<p>3300 rows × 29 columns</p>\n",
       "</div>"
      ],
      "text/plain": [
       "        profile_name  subscriber         view  video            country  \\\n",
       "173   Knizr | كنايزر     2520000   4489175953    837  Saudi Arabia (SA)   \n",
       "0             Rotana    24500000  24034368999   9078  Saudi Arabia (SA)   \n",
       "9      روتانا خليجية    11800000   5124350920  24785  Saudi Arabia (SA)   \n",
       "294     Ward And Yan     1560000   2920512407   7755  Saudi Arabia (SA)   \n",
       "61         عائلة يزن     4920000   2890974867    733  Saudi Arabia (SA)   \n",
       "...              ...         ...          ...    ...                ...   \n",
       "2332            Liza       22856     12708107     59  Saudi Arabia (SA)   \n",
       "2337    سنوب   Snoop       22608      7524339     34  Saudi Arabia (SA)   \n",
       "2343  Hq Anime4 Arab       22200     13201547    194  Saudi Arabia (SA)   \n",
       "2344       Fuad Ali        22000            0      0  Saudi Arabia (SA)   \n",
       "2047       On End Tv       40254     19926163   3799  Saudi Arabia (SA)   \n",
       "\n",
       "              category  since  last_subscriber_30  last_view_30  \\\n",
       "173      Entertainment   2022              170000     435422052   \n",
       "0                Music   2012              200000     292453337   \n",
       "9        Entertainment   2011              100000      57428928   \n",
       "294      Entertainment   2020               20000      29440822   \n",
       "61       Entertainment   2020               20000      22390270   \n",
       "...                ...    ...                 ...           ...   \n",
       "2332    People & Blogs   2017               17220      20684310   \n",
       "2337    People & Blogs   2016               25680      10282920   \n",
       "2343  Film & Animation   2008                 125         21444   \n",
       "2344     Entertainment   2015                   0             0   \n",
       "2047            Gaming   2014                5590       2871570   \n",
       "\n",
       "      min_month_earnings  max_month_earnings  2016_views  2017_views  \\\n",
       "173               163000              980000           0           0   \n",
       "0                 110000              658000  2599146119  1562878054   \n",
       "9                  21500              129000   588706140   588207527   \n",
       "294                11000               66200           0           0   \n",
       "61                  8400               50400           0           0   \n",
       "...                  ...                 ...         ...         ...   \n",
       "2332                7760               46500           0    12708107   \n",
       "2337                3860               23100     7524339           0   \n",
       "2343                   8                  48           0           0   \n",
       "2344                   0                   0           0     2554783   \n",
       "2047                1080                6460           0     6171651   \n",
       "\n",
       "      2018_views  2019_views  2020_views  2021_views  2022_views  2023_views  \\\n",
       "173            0           0           0           0           0           0   \n",
       "0     2107864788  2117443705  2193280884  3867422692  2912861124  3104603066   \n",
       "9     1082030826  1914830478  3072173513  3900251189  1980579496  1334434562   \n",
       "294            0           0           0           0           0           0   \n",
       "61             0           0           0           0           0           0   \n",
       "...          ...         ...         ...         ...         ...         ...   \n",
       "2332           0           0           0           0           0           0   \n",
       "2337           0           0           0           0           0           0   \n",
       "2343           0           0    12886075      253636       61836           0   \n",
       "2344      212821       64803      547381      552722     2837748           0   \n",
       "2047    13754512           0           0           0           0           0   \n",
       "\n",
       "      2024_views  2016_subscribers  2017_subscribers  2018_subscribers  \\\n",
       "173   4489175953                 0                 0                 0   \n",
       "0     3568868567           3477819           1850288           4110479   \n",
       "9     3192515785            872722            782601           1828865   \n",
       "294   2920512407                 0                 0                 0   \n",
       "61    2890974867                 0                 0                 0   \n",
       "...          ...               ...               ...               ...   \n",
       "2332           0                 0             22856                 0   \n",
       "2337           0             22608                 0                 0   \n",
       "2343           0                 0                 0                 0   \n",
       "2344           0                 0             25063               249   \n",
       "2047           0                 0             10498             29756   \n",
       "\n",
       "      2019_subscribers  2020_subscribers  2021_subscribers  2022_subscribers  \\\n",
       "173                  0                 0                 0                 0   \n",
       "0              3361414           2600000           3100000           2000000   \n",
       "9              2405812            440000           1170000           1750000   \n",
       "294                  0                 0                 0                 0   \n",
       "61                   0                 0                 0                 0   \n",
       "...                ...               ...               ...               ...   \n",
       "2332                 0                 0                 0                 0   \n",
       "2337                 0                 0                 0                 0   \n",
       "2343                 0             21000               800               400   \n",
       "2344               714               400               800               400   \n",
       "2047                 0                 0                 0                 0   \n",
       "\n",
       "      2023_subscribers  2024_subscribers  \n",
       "173                  0           2520000  \n",
       "0              2000000           2000000  \n",
       "9              1250000           1300000  \n",
       "294                  0           1560000  \n",
       "61                   0           4920000  \n",
       "...                ...               ...  \n",
       "2332                 0                 0  \n",
       "2337                 0                 0  \n",
       "2343                 0                 0  \n",
       "2344               200               300  \n",
       "2047                 0                 0  \n",
       "\n",
       "[3300 rows x 29 columns]"
      ]
     },
     "execution_count": 23,
     "metadata": {},
     "output_type": "execute_result"
    }
   ],
   "source": [
    "df.sort_values(by=\"2024_views\",ascending=False)"
   ]
  },
  {
   "cell_type": "code",
   "execution_count": 24,
   "metadata": {},
   "outputs": [
    {
     "data": {
      "text/html": [
       "<div>\n",
       "<style scoped>\n",
       "    .dataframe tbody tr th:only-of-type {\n",
       "        vertical-align: middle;\n",
       "    }\n",
       "\n",
       "    .dataframe tbody tr th {\n",
       "        vertical-align: top;\n",
       "    }\n",
       "\n",
       "    .dataframe thead th {\n",
       "        text-align: right;\n",
       "    }\n",
       "</style>\n",
       "<table border=\"1\" class=\"dataframe\">\n",
       "  <thead>\n",
       "    <tr style=\"text-align: right;\">\n",
       "      <th></th>\n",
       "      <th>profile_name</th>\n",
       "      <th>subscriber</th>\n",
       "      <th>view</th>\n",
       "      <th>video</th>\n",
       "      <th>country</th>\n",
       "      <th>category</th>\n",
       "      <th>since</th>\n",
       "      <th>last_subscriber_30</th>\n",
       "      <th>last_view_30</th>\n",
       "      <th>min_month_earnings</th>\n",
       "      <th>max_month_earnings</th>\n",
       "      <th>2016_views</th>\n",
       "      <th>2017_views</th>\n",
       "      <th>2018_views</th>\n",
       "      <th>2019_views</th>\n",
       "      <th>2020_views</th>\n",
       "      <th>2021_views</th>\n",
       "      <th>2022_views</th>\n",
       "      <th>2023_views</th>\n",
       "      <th>2024_views</th>\n",
       "      <th>2016_subscribers</th>\n",
       "      <th>2017_subscribers</th>\n",
       "      <th>2018_subscribers</th>\n",
       "      <th>2019_subscribers</th>\n",
       "      <th>2020_subscribers</th>\n",
       "      <th>2021_subscribers</th>\n",
       "      <th>2022_subscribers</th>\n",
       "      <th>2023_subscribers</th>\n",
       "      <th>2024_subscribers</th>\n",
       "    </tr>\n",
       "  </thead>\n",
       "  <tbody>\n",
       "    <tr>\n",
       "      <th>0</th>\n",
       "      <td>Rotana</td>\n",
       "      <td>24500000</td>\n",
       "      <td>24034368999</td>\n",
       "      <td>9078</td>\n",
       "      <td>Saudi Arabia (SA)</td>\n",
       "      <td>Music</td>\n",
       "      <td>2012</td>\n",
       "      <td>200000</td>\n",
       "      <td>292453337</td>\n",
       "      <td>110000</td>\n",
       "      <td>658000</td>\n",
       "      <td>2599146119</td>\n",
       "      <td>1562878054</td>\n",
       "      <td>2107864788</td>\n",
       "      <td>2117443705</td>\n",
       "      <td>2193280884</td>\n",
       "      <td>3867422692</td>\n",
       "      <td>2912861124</td>\n",
       "      <td>3104603066</td>\n",
       "      <td>3568868567</td>\n",
       "      <td>3477819</td>\n",
       "      <td>1850288</td>\n",
       "      <td>4110479</td>\n",
       "      <td>3361414</td>\n",
       "      <td>2600000</td>\n",
       "      <td>3100000</td>\n",
       "      <td>2000000</td>\n",
       "      <td>2000000</td>\n",
       "      <td>2000000</td>\n",
       "    </tr>\n",
       "    <tr>\n",
       "      <th>1</th>\n",
       "      <td>Mmoshaya</td>\n",
       "      <td>23200000</td>\n",
       "      <td>18468679361</td>\n",
       "      <td>1240</td>\n",
       "      <td>Saudi Arabia (SA)</td>\n",
       "      <td>People &amp; Blogs</td>\n",
       "      <td>2010</td>\n",
       "      <td>0</td>\n",
       "      <td>34076848</td>\n",
       "      <td>12800</td>\n",
       "      <td>76700</td>\n",
       "      <td>454580517</td>\n",
       "      <td>1450578846</td>\n",
       "      <td>2928599244</td>\n",
       "      <td>3035121331</td>\n",
       "      <td>2349528954</td>\n",
       "      <td>4496597115</td>\n",
       "      <td>2047368285</td>\n",
       "      <td>1020270564</td>\n",
       "      <td>686034505</td>\n",
       "      <td>1386016</td>\n",
       "      <td>2323147</td>\n",
       "      <td>5172031</td>\n",
       "      <td>5418806</td>\n",
       "      <td>3200000</td>\n",
       "      <td>3500000</td>\n",
       "      <td>1200000</td>\n",
       "      <td>600000</td>\n",
       "      <td>400000</td>\n",
       "    </tr>\n",
       "    <tr>\n",
       "      <th>2</th>\n",
       "      <td>شبكة العاب العرب | Arab Games Network</td>\n",
       "      <td>22300000</td>\n",
       "      <td>10024125023</td>\n",
       "      <td>7460</td>\n",
       "      <td>Saudi Arabia (SA)</td>\n",
       "      <td>Gaming</td>\n",
       "      <td>2013</td>\n",
       "      <td>100000</td>\n",
       "      <td>45416699</td>\n",
       "      <td>17000</td>\n",
       "      <td>102000</td>\n",
       "      <td>22399237</td>\n",
       "      <td>129848039</td>\n",
       "      <td>465587480</td>\n",
       "      <td>1256522354</td>\n",
       "      <td>2299925691</td>\n",
       "      <td>2239806488</td>\n",
       "      <td>1703639572</td>\n",
       "      <td>1010415010</td>\n",
       "      <td>895981152</td>\n",
       "      <td>213303</td>\n",
       "      <td>785578</td>\n",
       "      <td>2845082</td>\n",
       "      <td>3916037</td>\n",
       "      <td>4540000</td>\n",
       "      <td>3300000</td>\n",
       "      <td>1800000</td>\n",
       "      <td>2400000</td>\n",
       "      <td>2500000</td>\n",
       "    </tr>\n",
       "    <tr>\n",
       "      <th>3</th>\n",
       "      <td>Katakit Baby Tv</td>\n",
       "      <td>20200000</td>\n",
       "      <td>8517744618</td>\n",
       "      <td>231</td>\n",
       "      <td>Saudi Arabia (SA)</td>\n",
       "      <td>Music</td>\n",
       "      <td>2010</td>\n",
       "      <td>200000</td>\n",
       "      <td>133417200</td>\n",
       "      <td>50000</td>\n",
       "      <td>300000</td>\n",
       "      <td>0</td>\n",
       "      <td>0</td>\n",
       "      <td>0</td>\n",
       "      <td>0</td>\n",
       "      <td>0</td>\n",
       "      <td>4224521614</td>\n",
       "      <td>1488033470</td>\n",
       "      <td>1306130437</td>\n",
       "      <td>1499059097</td>\n",
       "      <td>0</td>\n",
       "      <td>0</td>\n",
       "      <td>0</td>\n",
       "      <td>0</td>\n",
       "      <td>0</td>\n",
       "      <td>10800000</td>\n",
       "      <td>3100000</td>\n",
       "      <td>3000000</td>\n",
       "      <td>3300000</td>\n",
       "    </tr>\n",
       "    <tr>\n",
       "      <th>4</th>\n",
       "      <td>ماشا و الدب</td>\n",
       "      <td>18300000</td>\n",
       "      <td>10158387659</td>\n",
       "      <td>1482</td>\n",
       "      <td>Saudi Arabia (SA)</td>\n",
       "      <td>Shows</td>\n",
       "      <td>2017</td>\n",
       "      <td>100000</td>\n",
       "      <td>82126847</td>\n",
       "      <td>30800</td>\n",
       "      <td>185000</td>\n",
       "      <td>0</td>\n",
       "      <td>46853112</td>\n",
       "      <td>393684395</td>\n",
       "      <td>696384101</td>\n",
       "      <td>541672202</td>\n",
       "      <td>2562569016</td>\n",
       "      <td>2542744712</td>\n",
       "      <td>2121583995</td>\n",
       "      <td>1252896126</td>\n",
       "      <td>0</td>\n",
       "      <td>147992</td>\n",
       "      <td>1406619</td>\n",
       "      <td>2305389</td>\n",
       "      <td>1300000</td>\n",
       "      <td>4200000</td>\n",
       "      <td>3740000</td>\n",
       "      <td>3400000</td>\n",
       "      <td>1800000</td>\n",
       "    </tr>\n",
       "    <tr>\n",
       "      <th>...</th>\n",
       "      <td>...</td>\n",
       "      <td>...</td>\n",
       "      <td>...</td>\n",
       "      <td>...</td>\n",
       "      <td>...</td>\n",
       "      <td>...</td>\n",
       "      <td>...</td>\n",
       "      <td>...</td>\n",
       "      <td>...</td>\n",
       "      <td>...</td>\n",
       "      <td>...</td>\n",
       "      <td>...</td>\n",
       "      <td>...</td>\n",
       "      <td>...</td>\n",
       "      <td>...</td>\n",
       "      <td>...</td>\n",
       "      <td>...</td>\n",
       "      <td>...</td>\n",
       "      <td>...</td>\n",
       "      <td>...</td>\n",
       "      <td>...</td>\n",
       "      <td>...</td>\n",
       "      <td>...</td>\n",
       "      <td>...</td>\n",
       "      <td>...</td>\n",
       "      <td>...</td>\n",
       "      <td>...</td>\n",
       "      <td>...</td>\n",
       "      <td>...</td>\n",
       "    </tr>\n",
       "    <tr>\n",
       "      <th>3578</th>\n",
       "      <td>Thunayyan Khalid!</td>\n",
       "      <td>3890000</td>\n",
       "      <td>755411009</td>\n",
       "      <td>595</td>\n",
       "      <td>Canada (CA)</td>\n",
       "      <td>Entertainment</td>\n",
       "      <td>2010</td>\n",
       "      <td>0</td>\n",
       "      <td>455754</td>\n",
       "      <td>170</td>\n",
       "      <td>1030</td>\n",
       "      <td>232033553</td>\n",
       "      <td>181515624</td>\n",
       "      <td>108610052</td>\n",
       "      <td>91102839</td>\n",
       "      <td>57090047</td>\n",
       "      <td>43501067</td>\n",
       "      <td>16903532</td>\n",
       "      <td>11454068</td>\n",
       "      <td>13200227</td>\n",
       "      <td>1626937</td>\n",
       "      <td>962046</td>\n",
       "      <td>461895</td>\n",
       "      <td>419122</td>\n",
       "      <td>220000</td>\n",
       "      <td>160000</td>\n",
       "      <td>20000</td>\n",
       "      <td>10000</td>\n",
       "      <td>30000</td>\n",
       "    </tr>\n",
       "    <tr>\n",
       "      <th>3579</th>\n",
       "      <td>دانية شافعي Danyah Shafei</td>\n",
       "      <td>2830000</td>\n",
       "      <td>1160145940</td>\n",
       "      <td>329</td>\n",
       "      <td>Saudi Arabia (SA)</td>\n",
       "      <td>Film &amp; Animation</td>\n",
       "      <td>2013</td>\n",
       "      <td>0</td>\n",
       "      <td>2757922</td>\n",
       "      <td>1030</td>\n",
       "      <td>6210</td>\n",
       "      <td>296874955</td>\n",
       "      <td>205421566</td>\n",
       "      <td>203610027</td>\n",
       "      <td>130365473</td>\n",
       "      <td>69102126</td>\n",
       "      <td>124854655</td>\n",
       "      <td>54094974</td>\n",
       "      <td>43202194</td>\n",
       "      <td>32619970</td>\n",
       "      <td>439363</td>\n",
       "      <td>610336</td>\n",
       "      <td>882992</td>\n",
       "      <td>407309</td>\n",
       "      <td>130000</td>\n",
       "      <td>210000</td>\n",
       "      <td>60000</td>\n",
       "      <td>50000</td>\n",
       "      <td>40000</td>\n",
       "    </tr>\n",
       "    <tr>\n",
       "      <th>3580</th>\n",
       "      <td>25esports</td>\n",
       "      <td>348000</td>\n",
       "      <td>13915866</td>\n",
       "      <td>56</td>\n",
       "      <td>Saudi Arabia (SA)</td>\n",
       "      <td>People &amp; Blogs</td>\n",
       "      <td>2017</td>\n",
       "      <td>5000</td>\n",
       "      <td>209635</td>\n",
       "      <td>78</td>\n",
       "      <td>471</td>\n",
       "      <td>0</td>\n",
       "      <td>0</td>\n",
       "      <td>0</td>\n",
       "      <td>0</td>\n",
       "      <td>0</td>\n",
       "      <td>7722929</td>\n",
       "      <td>4922417</td>\n",
       "      <td>491930</td>\n",
       "      <td>778590</td>\n",
       "      <td>0</td>\n",
       "      <td>0</td>\n",
       "      <td>0</td>\n",
       "      <td>0</td>\n",
       "      <td>0</td>\n",
       "      <td>267000</td>\n",
       "      <td>27000</td>\n",
       "      <td>3000</td>\n",
       "      <td>57000</td>\n",
       "    </tr>\n",
       "    <tr>\n",
       "      <th>3581</th>\n",
       "      <td>Barry | باري</td>\n",
       "      <td>1780000</td>\n",
       "      <td>23957794</td>\n",
       "      <td>1</td>\n",
       "      <td>Saudi Arabia (SA)</td>\n",
       "      <td>People &amp; Blogs</td>\n",
       "      <td>2017</td>\n",
       "      <td>0</td>\n",
       "      <td>64270</td>\n",
       "      <td>24</td>\n",
       "      <td>144</td>\n",
       "      <td>0</td>\n",
       "      <td>2499871</td>\n",
       "      <td>7343438</td>\n",
       "      <td>6888463</td>\n",
       "      <td>2455500</td>\n",
       "      <td>13721240</td>\n",
       "      <td>5707236</td>\n",
       "      <td>4116086</td>\n",
       "      <td>18774040</td>\n",
       "      <td>0</td>\n",
       "      <td>258547</td>\n",
       "      <td>276571</td>\n",
       "      <td>232882</td>\n",
       "      <td>232000</td>\n",
       "      <td>670000</td>\n",
       "      <td>60000</td>\n",
       "      <td>30000</td>\n",
       "      <td>20000</td>\n",
       "    </tr>\n",
       "    <tr>\n",
       "      <th>3582</th>\n",
       "      <td>Dyler | دايلر</td>\n",
       "      <td>7860000</td>\n",
       "      <td>1224551963</td>\n",
       "      <td>567</td>\n",
       "      <td>Saudi Arabia (SA)</td>\n",
       "      <td>People &amp; Blogs</td>\n",
       "      <td>2016</td>\n",
       "      <td>0</td>\n",
       "      <td>1515993</td>\n",
       "      <td>568</td>\n",
       "      <td>3410</td>\n",
       "      <td>0</td>\n",
       "      <td>298753521</td>\n",
       "      <td>326040000</td>\n",
       "      <td>242306888</td>\n",
       "      <td>79180349</td>\n",
       "      <td>90067756</td>\n",
       "      <td>28785073</td>\n",
       "      <td>106626628</td>\n",
       "      <td>52791748</td>\n",
       "      <td>0</td>\n",
       "      <td>2532973</td>\n",
       "      <td>2513876</td>\n",
       "      <td>1543151</td>\n",
       "      <td>400000</td>\n",
       "      <td>430000</td>\n",
       "      <td>50000</td>\n",
       "      <td>240000</td>\n",
       "      <td>150000</td>\n",
       "    </tr>\n",
       "  </tbody>\n",
       "</table>\n",
       "<p>2660 rows × 29 columns</p>\n",
       "</div>"
      ],
      "text/plain": [
       "                               profile_name  subscriber         view  video  \\\n",
       "0                                    Rotana    24500000  24034368999   9078   \n",
       "1                                  Mmoshaya    23200000  18468679361   1240   \n",
       "2     شبكة العاب العرب | Arab Games Network    22300000  10024125023   7460   \n",
       "3                           Katakit Baby Tv    20200000   8517744618    231   \n",
       "4                               ماشا و الدب    18300000  10158387659   1482   \n",
       "...                                     ...         ...          ...    ...   \n",
       "3578                      Thunayyan Khalid!     3890000    755411009    595   \n",
       "3579              دانية شافعي Danyah Shafei     2830000   1160145940    329   \n",
       "3580                              25esports      348000     13915866     56   \n",
       "3581                           Barry | باري     1780000     23957794      1   \n",
       "3582                          Dyler | دايلر     7860000   1224551963    567   \n",
       "\n",
       "                country          category  since  last_subscriber_30  \\\n",
       "0     Saudi Arabia (SA)             Music   2012              200000   \n",
       "1     Saudi Arabia (SA)    People & Blogs   2010                   0   \n",
       "2     Saudi Arabia (SA)            Gaming   2013              100000   \n",
       "3     Saudi Arabia (SA)             Music   2010              200000   \n",
       "4     Saudi Arabia (SA)             Shows   2017              100000   \n",
       "...                 ...               ...    ...                 ...   \n",
       "3578        Canada (CA)     Entertainment   2010                   0   \n",
       "3579  Saudi Arabia (SA)  Film & Animation   2013                   0   \n",
       "3580  Saudi Arabia (SA)    People & Blogs   2017                5000   \n",
       "3581  Saudi Arabia (SA)    People & Blogs   2017                   0   \n",
       "3582  Saudi Arabia (SA)    People & Blogs   2016                   0   \n",
       "\n",
       "      last_view_30  min_month_earnings  max_month_earnings  2016_views  \\\n",
       "0        292453337              110000              658000  2599146119   \n",
       "1         34076848               12800               76700   454580517   \n",
       "2         45416699               17000              102000    22399237   \n",
       "3        133417200               50000              300000           0   \n",
       "4         82126847               30800              185000           0   \n",
       "...            ...                 ...                 ...         ...   \n",
       "3578        455754                 170                1030   232033553   \n",
       "3579       2757922                1030                6210   296874955   \n",
       "3580        209635                  78                 471           0   \n",
       "3581         64270                  24                 144           0   \n",
       "3582       1515993                 568                3410           0   \n",
       "\n",
       "      2017_views  2018_views  2019_views  2020_views  2021_views  2022_views  \\\n",
       "0     1562878054  2107864788  2117443705  2193280884  3867422692  2912861124   \n",
       "1     1450578846  2928599244  3035121331  2349528954  4496597115  2047368285   \n",
       "2      129848039   465587480  1256522354  2299925691  2239806488  1703639572   \n",
       "3              0           0           0           0  4224521614  1488033470   \n",
       "4       46853112   393684395   696384101   541672202  2562569016  2542744712   \n",
       "...          ...         ...         ...         ...         ...         ...   \n",
       "3578   181515624   108610052    91102839    57090047    43501067    16903532   \n",
       "3579   205421566   203610027   130365473    69102126   124854655    54094974   \n",
       "3580           0           0           0           0     7722929     4922417   \n",
       "3581     2499871     7343438     6888463     2455500    13721240     5707236   \n",
       "3582   298753521   326040000   242306888    79180349    90067756    28785073   \n",
       "\n",
       "      2023_views  2024_views  2016_subscribers  2017_subscribers  \\\n",
       "0     3104603066  3568868567           3477819           1850288   \n",
       "1     1020270564   686034505           1386016           2323147   \n",
       "2     1010415010   895981152            213303            785578   \n",
       "3     1306130437  1499059097                 0                 0   \n",
       "4     2121583995  1252896126                 0            147992   \n",
       "...          ...         ...               ...               ...   \n",
       "3578    11454068    13200227           1626937            962046   \n",
       "3579    43202194    32619970            439363            610336   \n",
       "3580      491930      778590                 0                 0   \n",
       "3581     4116086    18774040                 0            258547   \n",
       "3582   106626628    52791748                 0           2532973   \n",
       "\n",
       "      2018_subscribers  2019_subscribers  2020_subscribers  2021_subscribers  \\\n",
       "0              4110479           3361414           2600000           3100000   \n",
       "1              5172031           5418806           3200000           3500000   \n",
       "2              2845082           3916037           4540000           3300000   \n",
       "3                    0                 0                 0          10800000   \n",
       "4              1406619           2305389           1300000           4200000   \n",
       "...                ...               ...               ...               ...   \n",
       "3578            461895            419122            220000            160000   \n",
       "3579            882992            407309            130000            210000   \n",
       "3580                 0                 0                 0            267000   \n",
       "3581            276571            232882            232000            670000   \n",
       "3582           2513876           1543151            400000            430000   \n",
       "\n",
       "      2022_subscribers  2023_subscribers  2024_subscribers  \n",
       "0              2000000           2000000           2000000  \n",
       "1              1200000            600000            400000  \n",
       "2              1800000           2400000           2500000  \n",
       "3              3100000           3000000           3300000  \n",
       "4              3740000           3400000           1800000  \n",
       "...                ...               ...               ...  \n",
       "3578             20000             10000             30000  \n",
       "3579             60000             50000             40000  \n",
       "3580             27000              3000             57000  \n",
       "3581             60000             30000             20000  \n",
       "3582             50000            240000            150000  \n",
       "\n",
       "[2660 rows x 29 columns]"
      ]
     },
     "execution_count": 24,
     "metadata": {},
     "output_type": "execute_result"
    }
   ],
   "source": [
    "df_clean"
   ]
  },
  {
   "cell_type": "code",
   "execution_count": 25,
   "metadata": {},
   "outputs": [
    {
     "data": {
      "text/plain": [
       "0       3568868567\n",
       "9       3192515785\n",
       "8       2023418457\n",
       "167     1819530670\n",
       "3       1499059097\n",
       "           ...    \n",
       "2700             0\n",
       "782              0\n",
       "599              0\n",
       "2727             0\n",
       "1805             0\n",
       "Name: 2024_views, Length: 2660, dtype: int64"
      ]
     },
     "execution_count": 25,
     "metadata": {},
     "output_type": "execute_result"
    }
   ],
   "source": [
    "df_clean[\"2024_views\"].sort_values(ascending=False)"
   ]
  },
  {
   "cell_type": "code",
   "execution_count": 26,
   "metadata": {},
   "outputs": [
    {
     "data": {
      "text/plain": [
       "0       3568868567\n",
       "1        686034505\n",
       "2        895981152\n",
       "3       1499059097\n",
       "4       1252896126\n",
       "           ...    \n",
       "3578      13200227\n",
       "3579      32619970\n",
       "3580        778590\n",
       "3581      18774040\n",
       "3582      52791748\n",
       "Name: 2024_views, Length: 3300, dtype: int64"
      ]
     },
     "execution_count": 26,
     "metadata": {},
     "output_type": "execute_result"
    }
   ],
   "source": [
    "df[\"2024_views\"]"
   ]
  },
  {
   "cell_type": "code",
   "execution_count": 27,
   "metadata": {},
   "outputs": [
    {
     "data": {
      "text/html": [
       "<div>\n",
       "<style scoped>\n",
       "    .dataframe tbody tr th:only-of-type {\n",
       "        vertical-align: middle;\n",
       "    }\n",
       "\n",
       "    .dataframe tbody tr th {\n",
       "        vertical-align: top;\n",
       "    }\n",
       "\n",
       "    .dataframe thead th {\n",
       "        text-align: right;\n",
       "    }\n",
       "</style>\n",
       "<table border=\"1\" class=\"dataframe\">\n",
       "  <thead>\n",
       "    <tr style=\"text-align: right;\">\n",
       "      <th></th>\n",
       "      <th>profile_name</th>\n",
       "      <th>subscriber</th>\n",
       "      <th>view</th>\n",
       "      <th>video</th>\n",
       "      <th>country</th>\n",
       "      <th>category</th>\n",
       "      <th>since</th>\n",
       "      <th>last_subscriber_30</th>\n",
       "      <th>last_view_30</th>\n",
       "      <th>min_month_earnings</th>\n",
       "      <th>max_month_earnings</th>\n",
       "      <th>2016_views</th>\n",
       "      <th>2017_views</th>\n",
       "      <th>2018_views</th>\n",
       "      <th>2019_views</th>\n",
       "      <th>2020_views</th>\n",
       "      <th>2021_views</th>\n",
       "      <th>2022_views</th>\n",
       "      <th>2023_views</th>\n",
       "      <th>2024_views</th>\n",
       "      <th>2016_subscribers</th>\n",
       "      <th>2017_subscribers</th>\n",
       "      <th>2018_subscribers</th>\n",
       "      <th>2019_subscribers</th>\n",
       "      <th>2020_subscribers</th>\n",
       "      <th>2021_subscribers</th>\n",
       "      <th>2022_subscribers</th>\n",
       "      <th>2023_subscribers</th>\n",
       "      <th>2024_subscribers</th>\n",
       "    </tr>\n",
       "  </thead>\n",
       "  <tbody>\n",
       "    <tr>\n",
       "      <th>0</th>\n",
       "      <td>Rotana</td>\n",
       "      <td>24500000</td>\n",
       "      <td>24034368999</td>\n",
       "      <td>9078</td>\n",
       "      <td>Saudi Arabia (SA)</td>\n",
       "      <td>Music</td>\n",
       "      <td>2012</td>\n",
       "      <td>200000</td>\n",
       "      <td>292453337</td>\n",
       "      <td>110000</td>\n",
       "      <td>658000</td>\n",
       "      <td>2599146119</td>\n",
       "      <td>1562878054</td>\n",
       "      <td>2107864788</td>\n",
       "      <td>2117443705</td>\n",
       "      <td>2193280884</td>\n",
       "      <td>3867422692</td>\n",
       "      <td>2912861124</td>\n",
       "      <td>3104603066</td>\n",
       "      <td>3568868567</td>\n",
       "      <td>3477819</td>\n",
       "      <td>1850288</td>\n",
       "      <td>4110479</td>\n",
       "      <td>3361414</td>\n",
       "      <td>2600000</td>\n",
       "      <td>3100000</td>\n",
       "      <td>2000000</td>\n",
       "      <td>2000000</td>\n",
       "      <td>2000000</td>\n",
       "    </tr>\n",
       "    <tr>\n",
       "      <th>1</th>\n",
       "      <td>Mmoshaya</td>\n",
       "      <td>23200000</td>\n",
       "      <td>18468679361</td>\n",
       "      <td>1240</td>\n",
       "      <td>Saudi Arabia (SA)</td>\n",
       "      <td>People &amp; Blogs</td>\n",
       "      <td>2010</td>\n",
       "      <td>0</td>\n",
       "      <td>34076848</td>\n",
       "      <td>12800</td>\n",
       "      <td>76700</td>\n",
       "      <td>454580517</td>\n",
       "      <td>1450578846</td>\n",
       "      <td>2928599244</td>\n",
       "      <td>3035121331</td>\n",
       "      <td>2349528954</td>\n",
       "      <td>4496597115</td>\n",
       "      <td>2047368285</td>\n",
       "      <td>1020270564</td>\n",
       "      <td>686034505</td>\n",
       "      <td>1386016</td>\n",
       "      <td>2323147</td>\n",
       "      <td>5172031</td>\n",
       "      <td>5418806</td>\n",
       "      <td>3200000</td>\n",
       "      <td>3500000</td>\n",
       "      <td>1200000</td>\n",
       "      <td>600000</td>\n",
       "      <td>400000</td>\n",
       "    </tr>\n",
       "    <tr>\n",
       "      <th>2</th>\n",
       "      <td>شبكة العاب العرب | Arab Games Network</td>\n",
       "      <td>22300000</td>\n",
       "      <td>10024125023</td>\n",
       "      <td>7460</td>\n",
       "      <td>Saudi Arabia (SA)</td>\n",
       "      <td>Gaming</td>\n",
       "      <td>2013</td>\n",
       "      <td>100000</td>\n",
       "      <td>45416699</td>\n",
       "      <td>17000</td>\n",
       "      <td>102000</td>\n",
       "      <td>22399237</td>\n",
       "      <td>129848039</td>\n",
       "      <td>465587480</td>\n",
       "      <td>1256522354</td>\n",
       "      <td>2299925691</td>\n",
       "      <td>2239806488</td>\n",
       "      <td>1703639572</td>\n",
       "      <td>1010415010</td>\n",
       "      <td>895981152</td>\n",
       "      <td>213303</td>\n",
       "      <td>785578</td>\n",
       "      <td>2845082</td>\n",
       "      <td>3916037</td>\n",
       "      <td>4540000</td>\n",
       "      <td>3300000</td>\n",
       "      <td>1800000</td>\n",
       "      <td>2400000</td>\n",
       "      <td>2500000</td>\n",
       "    </tr>\n",
       "    <tr>\n",
       "      <th>3</th>\n",
       "      <td>Katakit Baby Tv</td>\n",
       "      <td>20200000</td>\n",
       "      <td>8517744618</td>\n",
       "      <td>231</td>\n",
       "      <td>Saudi Arabia (SA)</td>\n",
       "      <td>Music</td>\n",
       "      <td>2010</td>\n",
       "      <td>200000</td>\n",
       "      <td>133417200</td>\n",
       "      <td>50000</td>\n",
       "      <td>300000</td>\n",
       "      <td>0</td>\n",
       "      <td>0</td>\n",
       "      <td>0</td>\n",
       "      <td>0</td>\n",
       "      <td>0</td>\n",
       "      <td>4224521614</td>\n",
       "      <td>1488033470</td>\n",
       "      <td>1306130437</td>\n",
       "      <td>1499059097</td>\n",
       "      <td>0</td>\n",
       "      <td>0</td>\n",
       "      <td>0</td>\n",
       "      <td>0</td>\n",
       "      <td>0</td>\n",
       "      <td>10800000</td>\n",
       "      <td>3100000</td>\n",
       "      <td>3000000</td>\n",
       "      <td>3300000</td>\n",
       "    </tr>\n",
       "    <tr>\n",
       "      <th>4</th>\n",
       "      <td>ماشا و الدب</td>\n",
       "      <td>18300000</td>\n",
       "      <td>10158387659</td>\n",
       "      <td>1482</td>\n",
       "      <td>Saudi Arabia (SA)</td>\n",
       "      <td>Shows</td>\n",
       "      <td>2017</td>\n",
       "      <td>100000</td>\n",
       "      <td>82126847</td>\n",
       "      <td>30800</td>\n",
       "      <td>185000</td>\n",
       "      <td>0</td>\n",
       "      <td>46853112</td>\n",
       "      <td>393684395</td>\n",
       "      <td>696384101</td>\n",
       "      <td>541672202</td>\n",
       "      <td>2562569016</td>\n",
       "      <td>2542744712</td>\n",
       "      <td>2121583995</td>\n",
       "      <td>1252896126</td>\n",
       "      <td>0</td>\n",
       "      <td>147992</td>\n",
       "      <td>1406619</td>\n",
       "      <td>2305389</td>\n",
       "      <td>1300000</td>\n",
       "      <td>4200000</td>\n",
       "      <td>3740000</td>\n",
       "      <td>3400000</td>\n",
       "      <td>1800000</td>\n",
       "    </tr>\n",
       "    <tr>\n",
       "      <th>...</th>\n",
       "      <td>...</td>\n",
       "      <td>...</td>\n",
       "      <td>...</td>\n",
       "      <td>...</td>\n",
       "      <td>...</td>\n",
       "      <td>...</td>\n",
       "      <td>...</td>\n",
       "      <td>...</td>\n",
       "      <td>...</td>\n",
       "      <td>...</td>\n",
       "      <td>...</td>\n",
       "      <td>...</td>\n",
       "      <td>...</td>\n",
       "      <td>...</td>\n",
       "      <td>...</td>\n",
       "      <td>...</td>\n",
       "      <td>...</td>\n",
       "      <td>...</td>\n",
       "      <td>...</td>\n",
       "      <td>...</td>\n",
       "      <td>...</td>\n",
       "      <td>...</td>\n",
       "      <td>...</td>\n",
       "      <td>...</td>\n",
       "      <td>...</td>\n",
       "      <td>...</td>\n",
       "      <td>...</td>\n",
       "      <td>...</td>\n",
       "      <td>...</td>\n",
       "    </tr>\n",
       "    <tr>\n",
       "      <th>3578</th>\n",
       "      <td>Thunayyan Khalid!</td>\n",
       "      <td>3890000</td>\n",
       "      <td>755411009</td>\n",
       "      <td>595</td>\n",
       "      <td>Canada (CA)</td>\n",
       "      <td>Entertainment</td>\n",
       "      <td>2010</td>\n",
       "      <td>0</td>\n",
       "      <td>455754</td>\n",
       "      <td>170</td>\n",
       "      <td>1030</td>\n",
       "      <td>232033553</td>\n",
       "      <td>181515624</td>\n",
       "      <td>108610052</td>\n",
       "      <td>91102839</td>\n",
       "      <td>57090047</td>\n",
       "      <td>43501067</td>\n",
       "      <td>16903532</td>\n",
       "      <td>11454068</td>\n",
       "      <td>13200227</td>\n",
       "      <td>1626937</td>\n",
       "      <td>962046</td>\n",
       "      <td>461895</td>\n",
       "      <td>419122</td>\n",
       "      <td>220000</td>\n",
       "      <td>160000</td>\n",
       "      <td>20000</td>\n",
       "      <td>10000</td>\n",
       "      <td>30000</td>\n",
       "    </tr>\n",
       "    <tr>\n",
       "      <th>3579</th>\n",
       "      <td>دانية شافعي Danyah Shafei</td>\n",
       "      <td>2830000</td>\n",
       "      <td>1160145940</td>\n",
       "      <td>329</td>\n",
       "      <td>Saudi Arabia (SA)</td>\n",
       "      <td>Film &amp; Animation</td>\n",
       "      <td>2013</td>\n",
       "      <td>0</td>\n",
       "      <td>2757922</td>\n",
       "      <td>1030</td>\n",
       "      <td>6210</td>\n",
       "      <td>296874955</td>\n",
       "      <td>205421566</td>\n",
       "      <td>203610027</td>\n",
       "      <td>130365473</td>\n",
       "      <td>69102126</td>\n",
       "      <td>124854655</td>\n",
       "      <td>54094974</td>\n",
       "      <td>43202194</td>\n",
       "      <td>32619970</td>\n",
       "      <td>439363</td>\n",
       "      <td>610336</td>\n",
       "      <td>882992</td>\n",
       "      <td>407309</td>\n",
       "      <td>130000</td>\n",
       "      <td>210000</td>\n",
       "      <td>60000</td>\n",
       "      <td>50000</td>\n",
       "      <td>40000</td>\n",
       "    </tr>\n",
       "    <tr>\n",
       "      <th>3580</th>\n",
       "      <td>25esports</td>\n",
       "      <td>348000</td>\n",
       "      <td>13915866</td>\n",
       "      <td>56</td>\n",
       "      <td>Saudi Arabia (SA)</td>\n",
       "      <td>People &amp; Blogs</td>\n",
       "      <td>2017</td>\n",
       "      <td>5000</td>\n",
       "      <td>209635</td>\n",
       "      <td>78</td>\n",
       "      <td>471</td>\n",
       "      <td>0</td>\n",
       "      <td>0</td>\n",
       "      <td>0</td>\n",
       "      <td>0</td>\n",
       "      <td>0</td>\n",
       "      <td>7722929</td>\n",
       "      <td>4922417</td>\n",
       "      <td>491930</td>\n",
       "      <td>778590</td>\n",
       "      <td>0</td>\n",
       "      <td>0</td>\n",
       "      <td>0</td>\n",
       "      <td>0</td>\n",
       "      <td>0</td>\n",
       "      <td>267000</td>\n",
       "      <td>27000</td>\n",
       "      <td>3000</td>\n",
       "      <td>57000</td>\n",
       "    </tr>\n",
       "    <tr>\n",
       "      <th>3581</th>\n",
       "      <td>Barry | باري</td>\n",
       "      <td>1780000</td>\n",
       "      <td>23957794</td>\n",
       "      <td>1</td>\n",
       "      <td>Saudi Arabia (SA)</td>\n",
       "      <td>People &amp; Blogs</td>\n",
       "      <td>2017</td>\n",
       "      <td>0</td>\n",
       "      <td>64270</td>\n",
       "      <td>24</td>\n",
       "      <td>144</td>\n",
       "      <td>0</td>\n",
       "      <td>2499871</td>\n",
       "      <td>7343438</td>\n",
       "      <td>6888463</td>\n",
       "      <td>2455500</td>\n",
       "      <td>13721240</td>\n",
       "      <td>5707236</td>\n",
       "      <td>4116086</td>\n",
       "      <td>18774040</td>\n",
       "      <td>0</td>\n",
       "      <td>258547</td>\n",
       "      <td>276571</td>\n",
       "      <td>232882</td>\n",
       "      <td>232000</td>\n",
       "      <td>670000</td>\n",
       "      <td>60000</td>\n",
       "      <td>30000</td>\n",
       "      <td>20000</td>\n",
       "    </tr>\n",
       "    <tr>\n",
       "      <th>3582</th>\n",
       "      <td>Dyler | دايلر</td>\n",
       "      <td>7860000</td>\n",
       "      <td>1224551963</td>\n",
       "      <td>567</td>\n",
       "      <td>Saudi Arabia (SA)</td>\n",
       "      <td>People &amp; Blogs</td>\n",
       "      <td>2016</td>\n",
       "      <td>0</td>\n",
       "      <td>1515993</td>\n",
       "      <td>568</td>\n",
       "      <td>3410</td>\n",
       "      <td>0</td>\n",
       "      <td>298753521</td>\n",
       "      <td>326040000</td>\n",
       "      <td>242306888</td>\n",
       "      <td>79180349</td>\n",
       "      <td>90067756</td>\n",
       "      <td>28785073</td>\n",
       "      <td>106626628</td>\n",
       "      <td>52791748</td>\n",
       "      <td>0</td>\n",
       "      <td>2532973</td>\n",
       "      <td>2513876</td>\n",
       "      <td>1543151</td>\n",
       "      <td>400000</td>\n",
       "      <td>430000</td>\n",
       "      <td>50000</td>\n",
       "      <td>240000</td>\n",
       "      <td>150000</td>\n",
       "    </tr>\n",
       "  </tbody>\n",
       "</table>\n",
       "<p>2660 rows × 29 columns</p>\n",
       "</div>"
      ],
      "text/plain": [
       "                               profile_name  subscriber         view  video  \\\n",
       "0                                    Rotana    24500000  24034368999   9078   \n",
       "1                                  Mmoshaya    23200000  18468679361   1240   \n",
       "2     شبكة العاب العرب | Arab Games Network    22300000  10024125023   7460   \n",
       "3                           Katakit Baby Tv    20200000   8517744618    231   \n",
       "4                               ماشا و الدب    18300000  10158387659   1482   \n",
       "...                                     ...         ...          ...    ...   \n",
       "3578                      Thunayyan Khalid!     3890000    755411009    595   \n",
       "3579              دانية شافعي Danyah Shafei     2830000   1160145940    329   \n",
       "3580                              25esports      348000     13915866     56   \n",
       "3581                           Barry | باري     1780000     23957794      1   \n",
       "3582                          Dyler | دايلر     7860000   1224551963    567   \n",
       "\n",
       "                country          category  since  last_subscriber_30  \\\n",
       "0     Saudi Arabia (SA)             Music   2012              200000   \n",
       "1     Saudi Arabia (SA)    People & Blogs   2010                   0   \n",
       "2     Saudi Arabia (SA)            Gaming   2013              100000   \n",
       "3     Saudi Arabia (SA)             Music   2010              200000   \n",
       "4     Saudi Arabia (SA)             Shows   2017              100000   \n",
       "...                 ...               ...    ...                 ...   \n",
       "3578        Canada (CA)     Entertainment   2010                   0   \n",
       "3579  Saudi Arabia (SA)  Film & Animation   2013                   0   \n",
       "3580  Saudi Arabia (SA)    People & Blogs   2017                5000   \n",
       "3581  Saudi Arabia (SA)    People & Blogs   2017                   0   \n",
       "3582  Saudi Arabia (SA)    People & Blogs   2016                   0   \n",
       "\n",
       "      last_view_30  min_month_earnings  max_month_earnings  2016_views  \\\n",
       "0        292453337              110000              658000  2599146119   \n",
       "1         34076848               12800               76700   454580517   \n",
       "2         45416699               17000              102000    22399237   \n",
       "3        133417200               50000              300000           0   \n",
       "4         82126847               30800              185000           0   \n",
       "...            ...                 ...                 ...         ...   \n",
       "3578        455754                 170                1030   232033553   \n",
       "3579       2757922                1030                6210   296874955   \n",
       "3580        209635                  78                 471           0   \n",
       "3581         64270                  24                 144           0   \n",
       "3582       1515993                 568                3410           0   \n",
       "\n",
       "      2017_views  2018_views  2019_views  2020_views  2021_views  2022_views  \\\n",
       "0     1562878054  2107864788  2117443705  2193280884  3867422692  2912861124   \n",
       "1     1450578846  2928599244  3035121331  2349528954  4496597115  2047368285   \n",
       "2      129848039   465587480  1256522354  2299925691  2239806488  1703639572   \n",
       "3              0           0           0           0  4224521614  1488033470   \n",
       "4       46853112   393684395   696384101   541672202  2562569016  2542744712   \n",
       "...          ...         ...         ...         ...         ...         ...   \n",
       "3578   181515624   108610052    91102839    57090047    43501067    16903532   \n",
       "3579   205421566   203610027   130365473    69102126   124854655    54094974   \n",
       "3580           0           0           0           0     7722929     4922417   \n",
       "3581     2499871     7343438     6888463     2455500    13721240     5707236   \n",
       "3582   298753521   326040000   242306888    79180349    90067756    28785073   \n",
       "\n",
       "      2023_views  2024_views  2016_subscribers  2017_subscribers  \\\n",
       "0     3104603066  3568868567           3477819           1850288   \n",
       "1     1020270564   686034505           1386016           2323147   \n",
       "2     1010415010   895981152            213303            785578   \n",
       "3     1306130437  1499059097                 0                 0   \n",
       "4     2121583995  1252896126                 0            147992   \n",
       "...          ...         ...               ...               ...   \n",
       "3578    11454068    13200227           1626937            962046   \n",
       "3579    43202194    32619970            439363            610336   \n",
       "3580      491930      778590                 0                 0   \n",
       "3581     4116086    18774040                 0            258547   \n",
       "3582   106626628    52791748                 0           2532973   \n",
       "\n",
       "      2018_subscribers  2019_subscribers  2020_subscribers  2021_subscribers  \\\n",
       "0              4110479           3361414           2600000           3100000   \n",
       "1              5172031           5418806           3200000           3500000   \n",
       "2              2845082           3916037           4540000           3300000   \n",
       "3                    0                 0                 0          10800000   \n",
       "4              1406619           2305389           1300000           4200000   \n",
       "...                ...               ...               ...               ...   \n",
       "3578            461895            419122            220000            160000   \n",
       "3579            882992            407309            130000            210000   \n",
       "3580                 0                 0                 0            267000   \n",
       "3581            276571            232882            232000            670000   \n",
       "3582           2513876           1543151            400000            430000   \n",
       "\n",
       "      2022_subscribers  2023_subscribers  2024_subscribers  \n",
       "0              2000000           2000000           2000000  \n",
       "1              1200000            600000            400000  \n",
       "2              1800000           2400000           2500000  \n",
       "3              3100000           3000000           3300000  \n",
       "4              3740000           3400000           1800000  \n",
       "...                ...               ...               ...  \n",
       "3578             20000             10000             30000  \n",
       "3579             60000             50000             40000  \n",
       "3580             27000              3000             57000  \n",
       "3581             60000             30000             20000  \n",
       "3582             50000            240000            150000  \n",
       "\n",
       "[2660 rows x 29 columns]"
      ]
     },
     "execution_count": 27,
     "metadata": {},
     "output_type": "execute_result"
    }
   ],
   "source": [
    "df_clean"
   ]
  },
  {
   "cell_type": "code",
   "execution_count": 40,
   "metadata": {},
   "outputs": [],
   "source": [
    "df_1 = pd.read_csv(\"youtube_data_full_clean.csv\")"
   ]
  },
  {
   "cell_type": "code",
   "execution_count": 43,
   "metadata": {},
   "outputs": [
    {
     "data": {
      "text/plain": [
       "Index(['2016_views', '2017_views', '2018_views', '2019_views', '2020_views',\n",
       "       '2021_views', '2022_views', '2023_views', '2024_views'],\n",
       "      dtype='object')"
      ]
     },
     "execution_count": 43,
     "metadata": {},
     "output_type": "execute_result"
    }
   ],
   "source": [
    "df_1.columns[12:21]"
   ]
  },
  {
   "cell_type": "code",
   "execution_count": 28,
   "metadata": {},
   "outputs": [
    {
     "data": {
      "text/html": [
       "<div>\n",
       "<style scoped>\n",
       "    .dataframe tbody tr th:only-of-type {\n",
       "        vertical-align: middle;\n",
       "    }\n",
       "\n",
       "    .dataframe tbody tr th {\n",
       "        vertical-align: top;\n",
       "    }\n",
       "\n",
       "    .dataframe thead th {\n",
       "        text-align: right;\n",
       "    }\n",
       "</style>\n",
       "<table border=\"1\" class=\"dataframe\">\n",
       "  <thead>\n",
       "    <tr style=\"text-align: right;\">\n",
       "      <th></th>\n",
       "      <th>profile_name</th>\n",
       "      <th>subscriber</th>\n",
       "      <th>view</th>\n",
       "      <th>video</th>\n",
       "      <th>country</th>\n",
       "      <th>category</th>\n",
       "      <th>since</th>\n",
       "      <th>last_subscriber_30</th>\n",
       "      <th>last_view_30</th>\n",
       "      <th>min_month_earnings</th>\n",
       "      <th>max_month_earnings</th>\n",
       "      <th>2016_views</th>\n",
       "      <th>2017_views</th>\n",
       "      <th>2018_views</th>\n",
       "      <th>2019_views</th>\n",
       "      <th>2020_views</th>\n",
       "      <th>2021_views</th>\n",
       "      <th>2022_views</th>\n",
       "      <th>2023_views</th>\n",
       "      <th>2024_views</th>\n",
       "      <th>2016_subscribers</th>\n",
       "      <th>2017_subscribers</th>\n",
       "      <th>2018_subscribers</th>\n",
       "      <th>2019_subscribers</th>\n",
       "      <th>2020_subscribers</th>\n",
       "      <th>2021_subscribers</th>\n",
       "      <th>2022_subscribers</th>\n",
       "      <th>2023_subscribers</th>\n",
       "      <th>2024_subscribers</th>\n",
       "    </tr>\n",
       "  </thead>\n",
       "  <tbody>\n",
       "    <tr>\n",
       "      <th>0</th>\n",
       "      <td>Rotana</td>\n",
       "      <td>24500000</td>\n",
       "      <td>24034368999</td>\n",
       "      <td>9078</td>\n",
       "      <td>Saudi Arabia (SA)</td>\n",
       "      <td>Music</td>\n",
       "      <td>2012</td>\n",
       "      <td>200000</td>\n",
       "      <td>292453337</td>\n",
       "      <td>110000</td>\n",
       "      <td>658000</td>\n",
       "      <td>2599146119</td>\n",
       "      <td>1562878054</td>\n",
       "      <td>2107864788</td>\n",
       "      <td>2117443705</td>\n",
       "      <td>2193280884</td>\n",
       "      <td>3867422692</td>\n",
       "      <td>2912861124</td>\n",
       "      <td>3104603066</td>\n",
       "      <td>3568868567</td>\n",
       "      <td>3477819</td>\n",
       "      <td>1850288</td>\n",
       "      <td>4110479</td>\n",
       "      <td>3361414</td>\n",
       "      <td>2600000</td>\n",
       "      <td>3100000</td>\n",
       "      <td>2000000</td>\n",
       "      <td>2000000</td>\n",
       "      <td>2000000</td>\n",
       "    </tr>\n",
       "    <tr>\n",
       "      <th>9</th>\n",
       "      <td>روتانا خليجية</td>\n",
       "      <td>11800000</td>\n",
       "      <td>5124350920</td>\n",
       "      <td>24785</td>\n",
       "      <td>Saudi Arabia (SA)</td>\n",
       "      <td>Entertainment</td>\n",
       "      <td>2011</td>\n",
       "      <td>100000</td>\n",
       "      <td>57428928</td>\n",
       "      <td>21500</td>\n",
       "      <td>129000</td>\n",
       "      <td>588706140</td>\n",
       "      <td>588207527</td>\n",
       "      <td>1082030826</td>\n",
       "      <td>1914830478</td>\n",
       "      <td>3072173513</td>\n",
       "      <td>3900251189</td>\n",
       "      <td>1980579496</td>\n",
       "      <td>1334434562</td>\n",
       "      <td>3192515785</td>\n",
       "      <td>872722</td>\n",
       "      <td>782601</td>\n",
       "      <td>1828865</td>\n",
       "      <td>2405812</td>\n",
       "      <td>440000</td>\n",
       "      <td>1170000</td>\n",
       "      <td>1750000</td>\n",
       "      <td>1250000</td>\n",
       "      <td>1300000</td>\n",
       "    </tr>\n",
       "    <tr>\n",
       "      <th>8</th>\n",
       "      <td>Fantom Pro</td>\n",
       "      <td>13500000</td>\n",
       "      <td>6879804978</td>\n",
       "      <td>622</td>\n",
       "      <td>Saudi Arabia (SA)</td>\n",
       "      <td>Film &amp; Animation</td>\n",
       "      <td>2016</td>\n",
       "      <td>100000</td>\n",
       "      <td>40297803</td>\n",
       "      <td>15100</td>\n",
       "      <td>90700</td>\n",
       "      <td>0</td>\n",
       "      <td>0</td>\n",
       "      <td>0</td>\n",
       "      <td>0</td>\n",
       "      <td>0</td>\n",
       "      <td>0</td>\n",
       "      <td>0</td>\n",
       "      <td>4856386521</td>\n",
       "      <td>2023418457</td>\n",
       "      <td>0</td>\n",
       "      <td>0</td>\n",
       "      <td>0</td>\n",
       "      <td>0</td>\n",
       "      <td>0</td>\n",
       "      <td>0</td>\n",
       "      <td>0</td>\n",
       "      <td>8210000</td>\n",
       "      <td>5290000</td>\n",
       "    </tr>\n",
       "    <tr>\n",
       "      <th>167</th>\n",
       "      <td>Alma Stars</td>\n",
       "      <td>2560000</td>\n",
       "      <td>2477608328</td>\n",
       "      <td>1737</td>\n",
       "      <td>Saudi Arabia (SA)</td>\n",
       "      <td>Entertainment</td>\n",
       "      <td>2019</td>\n",
       "      <td>80000</td>\n",
       "      <td>75410412</td>\n",
       "      <td>28300</td>\n",
       "      <td>170000</td>\n",
       "      <td>0</td>\n",
       "      <td>0</td>\n",
       "      <td>0</td>\n",
       "      <td>0</td>\n",
       "      <td>0</td>\n",
       "      <td>0</td>\n",
       "      <td>0</td>\n",
       "      <td>658077658</td>\n",
       "      <td>1819530670</td>\n",
       "      <td>0</td>\n",
       "      <td>0</td>\n",
       "      <td>0</td>\n",
       "      <td>0</td>\n",
       "      <td>0</td>\n",
       "      <td>0</td>\n",
       "      <td>0</td>\n",
       "      <td>722000</td>\n",
       "      <td>1838000</td>\n",
       "    </tr>\n",
       "    <tr>\n",
       "      <th>3</th>\n",
       "      <td>Katakit Baby Tv</td>\n",
       "      <td>20200000</td>\n",
       "      <td>8517744618</td>\n",
       "      <td>231</td>\n",
       "      <td>Saudi Arabia (SA)</td>\n",
       "      <td>Music</td>\n",
       "      <td>2010</td>\n",
       "      <td>200000</td>\n",
       "      <td>133417200</td>\n",
       "      <td>50000</td>\n",
       "      <td>300000</td>\n",
       "      <td>0</td>\n",
       "      <td>0</td>\n",
       "      <td>0</td>\n",
       "      <td>0</td>\n",
       "      <td>0</td>\n",
       "      <td>4224521614</td>\n",
       "      <td>1488033470</td>\n",
       "      <td>1306130437</td>\n",
       "      <td>1499059097</td>\n",
       "      <td>0</td>\n",
       "      <td>0</td>\n",
       "      <td>0</td>\n",
       "      <td>0</td>\n",
       "      <td>0</td>\n",
       "      <td>10800000</td>\n",
       "      <td>3100000</td>\n",
       "      <td>3000000</td>\n",
       "      <td>3300000</td>\n",
       "    </tr>\n",
       "    <tr>\n",
       "      <th>66</th>\n",
       "      <td>Adnan Al Ansari</td>\n",
       "      <td>4750000</td>\n",
       "      <td>3866413638</td>\n",
       "      <td>2690</td>\n",
       "      <td>Saudi Arabia (SA)</td>\n",
       "      <td>Entertainment</td>\n",
       "      <td>2017</td>\n",
       "      <td>90000</td>\n",
       "      <td>101049975</td>\n",
       "      <td>37900</td>\n",
       "      <td>227000</td>\n",
       "      <td>0</td>\n",
       "      <td>0</td>\n",
       "      <td>0</td>\n",
       "      <td>0</td>\n",
       "      <td>0</td>\n",
       "      <td>128045103</td>\n",
       "      <td>1189089874</td>\n",
       "      <td>1069537590</td>\n",
       "      <td>1479741071</td>\n",
       "      <td>0</td>\n",
       "      <td>0</td>\n",
       "      <td>0</td>\n",
       "      <td>0</td>\n",
       "      <td>0</td>\n",
       "      <td>355000</td>\n",
       "      <td>825000</td>\n",
       "      <td>1920000</td>\n",
       "      <td>1650000</td>\n",
       "    </tr>\n",
       "    <tr>\n",
       "      <th>4</th>\n",
       "      <td>ماشا و الدب</td>\n",
       "      <td>18300000</td>\n",
       "      <td>10158387659</td>\n",
       "      <td>1482</td>\n",
       "      <td>Saudi Arabia (SA)</td>\n",
       "      <td>Shows</td>\n",
       "      <td>2017</td>\n",
       "      <td>100000</td>\n",
       "      <td>82126847</td>\n",
       "      <td>30800</td>\n",
       "      <td>185000</td>\n",
       "      <td>0</td>\n",
       "      <td>46853112</td>\n",
       "      <td>393684395</td>\n",
       "      <td>696384101</td>\n",
       "      <td>541672202</td>\n",
       "      <td>2562569016</td>\n",
       "      <td>2542744712</td>\n",
       "      <td>2121583995</td>\n",
       "      <td>1252896126</td>\n",
       "      <td>0</td>\n",
       "      <td>147992</td>\n",
       "      <td>1406619</td>\n",
       "      <td>2305389</td>\n",
       "      <td>1300000</td>\n",
       "      <td>4200000</td>\n",
       "      <td>3740000</td>\n",
       "      <td>3400000</td>\n",
       "      <td>1800000</td>\n",
       "    </tr>\n",
       "    <tr>\n",
       "      <th>6</th>\n",
       "      <td>Banderita X</td>\n",
       "      <td>18000000</td>\n",
       "      <td>5470017529</td>\n",
       "      <td>1887</td>\n",
       "      <td>Saudi Arabia (SA)</td>\n",
       "      <td>Gaming</td>\n",
       "      <td>2013</td>\n",
       "      <td>200000</td>\n",
       "      <td>62773474</td>\n",
       "      <td>23500</td>\n",
       "      <td>141000</td>\n",
       "      <td>0</td>\n",
       "      <td>29175086</td>\n",
       "      <td>324273326</td>\n",
       "      <td>697212218</td>\n",
       "      <td>506698285</td>\n",
       "      <td>1247328267</td>\n",
       "      <td>752264348</td>\n",
       "      <td>768565951</td>\n",
       "      <td>1144500048</td>\n",
       "      <td>0</td>\n",
       "      <td>234606</td>\n",
       "      <td>2432581</td>\n",
       "      <td>2852813</td>\n",
       "      <td>1720000</td>\n",
       "      <td>3660000</td>\n",
       "      <td>1400000</td>\n",
       "      <td>1400000</td>\n",
       "      <td>4300000</td>\n",
       "    </tr>\n",
       "    <tr>\n",
       "      <th>58</th>\n",
       "      <td>Saif Shawaf</td>\n",
       "      <td>5260000</td>\n",
       "      <td>4346741959</td>\n",
       "      <td>521</td>\n",
       "      <td>Saudi Arabia (SA)</td>\n",
       "      <td>Music</td>\n",
       "      <td>2010</td>\n",
       "      <td>150000</td>\n",
       "      <td>72205934</td>\n",
       "      <td>27100</td>\n",
       "      <td>162000</td>\n",
       "      <td>0</td>\n",
       "      <td>0</td>\n",
       "      <td>0</td>\n",
       "      <td>0</td>\n",
       "      <td>0</td>\n",
       "      <td>0</td>\n",
       "      <td>772753517</td>\n",
       "      <td>2445684249</td>\n",
       "      <td>1128304193</td>\n",
       "      <td>0</td>\n",
       "      <td>0</td>\n",
       "      <td>0</td>\n",
       "      <td>0</td>\n",
       "      <td>0</td>\n",
       "      <td>0</td>\n",
       "      <td>913000</td>\n",
       "      <td>2987000</td>\n",
       "      <td>1360000</td>\n",
       "    </tr>\n",
       "    <tr>\n",
       "      <th>21</th>\n",
       "      <td>انت تستطيع</td>\n",
       "      <td>9280000</td>\n",
       "      <td>5123298669</td>\n",
       "      <td>929</td>\n",
       "      <td>Saudi Arabia (SA)</td>\n",
       "      <td>Entertainment</td>\n",
       "      <td>2019</td>\n",
       "      <td>70000</td>\n",
       "      <td>45299232</td>\n",
       "      <td>17000</td>\n",
       "      <td>102000</td>\n",
       "      <td>0</td>\n",
       "      <td>0</td>\n",
       "      <td>0</td>\n",
       "      <td>0</td>\n",
       "      <td>0</td>\n",
       "      <td>1169842159</td>\n",
       "      <td>1263701557</td>\n",
       "      <td>1570905872</td>\n",
       "      <td>1118849081</td>\n",
       "      <td>0</td>\n",
       "      <td>0</td>\n",
       "      <td>0</td>\n",
       "      <td>0</td>\n",
       "      <td>0</td>\n",
       "      <td>3760000</td>\n",
       "      <td>1730000</td>\n",
       "      <td>2150000</td>\n",
       "      <td>1640000</td>\n",
       "    </tr>\n",
       "    <tr>\n",
       "      <th>180</th>\n",
       "      <td>Erkenci Kuş   مسلسل الطائر المبكر</td>\n",
       "      <td>2400000</td>\n",
       "      <td>209417671</td>\n",
       "      <td>885</td>\n",
       "      <td>Saudi Arabia (SA)</td>\n",
       "      <td>Film &amp; Animation</td>\n",
       "      <td>2020</td>\n",
       "      <td>10000</td>\n",
       "      <td>17329597</td>\n",
       "      <td>6500</td>\n",
       "      <td>39000</td>\n",
       "      <td>0</td>\n",
       "      <td>0</td>\n",
       "      <td>0</td>\n",
       "      <td>0</td>\n",
       "      <td>0</td>\n",
       "      <td>0</td>\n",
       "      <td>628386273</td>\n",
       "      <td>655638652</td>\n",
       "      <td>1074607254</td>\n",
       "      <td>0</td>\n",
       "      <td>0</td>\n",
       "      <td>0</td>\n",
       "      <td>0</td>\n",
       "      <td>0</td>\n",
       "      <td>0</td>\n",
       "      <td>1090000</td>\n",
       "      <td>950000</td>\n",
       "      <td>360000</td>\n",
       "    </tr>\n",
       "  </tbody>\n",
       "</table>\n",
       "</div>"
      ],
      "text/plain": [
       "                          profile_name  subscriber         view  video  \\\n",
       "0                               Rotana    24500000  24034368999   9078   \n",
       "9                        روتانا خليجية    11800000   5124350920  24785   \n",
       "8                           Fantom Pro    13500000   6879804978    622   \n",
       "167                         Alma Stars     2560000   2477608328   1737   \n",
       "3                      Katakit Baby Tv    20200000   8517744618    231   \n",
       "66                     Adnan Al Ansari     4750000   3866413638   2690   \n",
       "4                          ماشا و الدب    18300000  10158387659   1482   \n",
       "6                          Banderita X    18000000   5470017529   1887   \n",
       "58                         Saif Shawaf     5260000   4346741959    521   \n",
       "21                          انت تستطيع     9280000   5123298669    929   \n",
       "180  Erkenci Kuş   مسلسل الطائر المبكر     2400000    209417671    885   \n",
       "\n",
       "               country          category  since  last_subscriber_30  \\\n",
       "0    Saudi Arabia (SA)             Music   2012              200000   \n",
       "9    Saudi Arabia (SA)     Entertainment   2011              100000   \n",
       "8    Saudi Arabia (SA)  Film & Animation   2016              100000   \n",
       "167  Saudi Arabia (SA)     Entertainment   2019               80000   \n",
       "3    Saudi Arabia (SA)             Music   2010              200000   \n",
       "66   Saudi Arabia (SA)     Entertainment   2017               90000   \n",
       "4    Saudi Arabia (SA)             Shows   2017              100000   \n",
       "6    Saudi Arabia (SA)            Gaming   2013              200000   \n",
       "58   Saudi Arabia (SA)             Music   2010              150000   \n",
       "21   Saudi Arabia (SA)     Entertainment   2019               70000   \n",
       "180  Saudi Arabia (SA)  Film & Animation   2020               10000   \n",
       "\n",
       "     last_view_30  min_month_earnings  max_month_earnings  2016_views  \\\n",
       "0       292453337              110000              658000  2599146119   \n",
       "9        57428928               21500              129000   588706140   \n",
       "8        40297803               15100               90700           0   \n",
       "167      75410412               28300              170000           0   \n",
       "3       133417200               50000              300000           0   \n",
       "66      101049975               37900              227000           0   \n",
       "4        82126847               30800              185000           0   \n",
       "6        62773474               23500              141000           0   \n",
       "58       72205934               27100              162000           0   \n",
       "21       45299232               17000              102000           0   \n",
       "180      17329597                6500               39000           0   \n",
       "\n",
       "     2017_views  2018_views  2019_views  2020_views  2021_views  2022_views  \\\n",
       "0    1562878054  2107864788  2117443705  2193280884  3867422692  2912861124   \n",
       "9     588207527  1082030826  1914830478  3072173513  3900251189  1980579496   \n",
       "8             0           0           0           0           0           0   \n",
       "167           0           0           0           0           0           0   \n",
       "3             0           0           0           0  4224521614  1488033470   \n",
       "66            0           0           0           0   128045103  1189089874   \n",
       "4      46853112   393684395   696384101   541672202  2562569016  2542744712   \n",
       "6      29175086   324273326   697212218   506698285  1247328267   752264348   \n",
       "58            0           0           0           0           0   772753517   \n",
       "21            0           0           0           0  1169842159  1263701557   \n",
       "180           0           0           0           0           0   628386273   \n",
       "\n",
       "     2023_views  2024_views  2016_subscribers  2017_subscribers  \\\n",
       "0    3104603066  3568868567           3477819           1850288   \n",
       "9    1334434562  3192515785            872722            782601   \n",
       "8    4856386521  2023418457                 0                 0   \n",
       "167   658077658  1819530670                 0                 0   \n",
       "3    1306130437  1499059097                 0                 0   \n",
       "66   1069537590  1479741071                 0                 0   \n",
       "4    2121583995  1252896126                 0            147992   \n",
       "6     768565951  1144500048                 0            234606   \n",
       "58   2445684249  1128304193                 0                 0   \n",
       "21   1570905872  1118849081                 0                 0   \n",
       "180   655638652  1074607254                 0                 0   \n",
       "\n",
       "     2018_subscribers  2019_subscribers  2020_subscribers  2021_subscribers  \\\n",
       "0             4110479           3361414           2600000           3100000   \n",
       "9             1828865           2405812            440000           1170000   \n",
       "8                   0                 0                 0                 0   \n",
       "167                 0                 0                 0                 0   \n",
       "3                   0                 0                 0          10800000   \n",
       "66                  0                 0                 0            355000   \n",
       "4             1406619           2305389           1300000           4200000   \n",
       "6             2432581           2852813           1720000           3660000   \n",
       "58                  0                 0                 0                 0   \n",
       "21                  0                 0                 0           3760000   \n",
       "180                 0                 0                 0                 0   \n",
       "\n",
       "     2022_subscribers  2023_subscribers  2024_subscribers  \n",
       "0             2000000           2000000           2000000  \n",
       "9             1750000           1250000           1300000  \n",
       "8                   0           8210000           5290000  \n",
       "167                 0            722000           1838000  \n",
       "3             3100000           3000000           3300000  \n",
       "66             825000           1920000           1650000  \n",
       "4             3740000           3400000           1800000  \n",
       "6             1400000           1400000           4300000  \n",
       "58             913000           2987000           1360000  \n",
       "21            1730000           2150000           1640000  \n",
       "180           1090000            950000            360000  "
      ]
     },
     "execution_count": 28,
     "metadata": {},
     "output_type": "execute_result"
    }
   ],
   "source": [
    "df_clean.sort_values(by=\"2024_views\",ascending=False).head(11)"
   ]
  },
  {
   "cell_type": "code",
   "execution_count": 29,
   "metadata": {},
   "outputs": [],
   "source": [
    "result = pd.DataFrame({\n",
    "    \"Year\": mycolumns,  # Years as the column headers\n",
    "    \"Total\": df_clean[mycolumns].sum(axis=0)  # Sum across rows (axis=0 means columns)\n",
    "})\n",
    "result[\"Year\"]= result[\"Year\"].str.replace(\"_views\", \"\")\n",
    "result[\"Year\"] = pd.to_datetime(result[\"Year\"],format=\"%Y\").dt.year"
   ]
  },
  {
   "cell_type": "code",
   "execution_count": 30,
   "metadata": {},
   "outputs": [
    {
     "data": {
      "application/vnd.plotly.v1+json": {
       "config": {
        "plotlyServerURL": "https://plot.ly"
       },
       "data": [
        {
         "hovertemplate": "Year=%{x}<br>Total=%{y}<br>text=%{text}<extra></extra>",
         "legendgroup": "",
         "line": {
          "color": "red",
          "dash": "solid",
          "width": 3
         },
         "marker": {
          "color": "red",
          "line": {
           "color": "red",
           "width": 2
          },
          "size": 10,
          "symbol": "circle"
         },
         "mode": "lines+markers+text",
         "name": "",
         "orientation": "v",
         "showlegend": false,
         "text": [
          "19.86B",
          "31.71B",
          "47.61B",
          "56.76B",
          "50.48B",
          "90.69B",
          "74.08B",
          "89.29B",
          "71.88B"
         ],
         "textposition": "top center",
         "type": "scatter",
         "x": [
          2016,
          2017,
          2018,
          2019,
          2020,
          2021,
          2022,
          2023,
          2024
         ],
         "xaxis": "x",
         "y": [
          19861200256,
          31709699480,
          47609985282,
          56763244121,
          50476050261,
          90687922007,
          74076847037,
          89289883478,
          71880036487
         ],
         "yaxis": "y"
        }
       ],
       "layout": {
        "height": 600,
        "legend": {
         "tracegroupgap": 0
        },
        "margin": {
         "t": 60
        },
        "template": {
         "data": {
          "bar": [
           {
            "error_x": {
             "color": "#2a3f5f"
            },
            "error_y": {
             "color": "#2a3f5f"
            },
            "marker": {
             "line": {
              "color": "#E5ECF6",
              "width": 0.5
             },
             "pattern": {
              "fillmode": "overlay",
              "size": 10,
              "solidity": 0.2
             }
            },
            "type": "bar"
           }
          ],
          "barpolar": [
           {
            "marker": {
             "line": {
              "color": "#E5ECF6",
              "width": 0.5
             },
             "pattern": {
              "fillmode": "overlay",
              "size": 10,
              "solidity": 0.2
             }
            },
            "type": "barpolar"
           }
          ],
          "carpet": [
           {
            "aaxis": {
             "endlinecolor": "#2a3f5f",
             "gridcolor": "white",
             "linecolor": "white",
             "minorgridcolor": "white",
             "startlinecolor": "#2a3f5f"
            },
            "baxis": {
             "endlinecolor": "#2a3f5f",
             "gridcolor": "white",
             "linecolor": "white",
             "minorgridcolor": "white",
             "startlinecolor": "#2a3f5f"
            },
            "type": "carpet"
           }
          ],
          "choropleth": [
           {
            "colorbar": {
             "outlinewidth": 0,
             "ticks": ""
            },
            "type": "choropleth"
           }
          ],
          "contour": [
           {
            "colorbar": {
             "outlinewidth": 0,
             "ticks": ""
            },
            "colorscale": [
             [
              0,
              "#0d0887"
             ],
             [
              0.1111111111111111,
              "#46039f"
             ],
             [
              0.2222222222222222,
              "#7201a8"
             ],
             [
              0.3333333333333333,
              "#9c179e"
             ],
             [
              0.4444444444444444,
              "#bd3786"
             ],
             [
              0.5555555555555556,
              "#d8576b"
             ],
             [
              0.6666666666666666,
              "#ed7953"
             ],
             [
              0.7777777777777778,
              "#fb9f3a"
             ],
             [
              0.8888888888888888,
              "#fdca26"
             ],
             [
              1,
              "#f0f921"
             ]
            ],
            "type": "contour"
           }
          ],
          "contourcarpet": [
           {
            "colorbar": {
             "outlinewidth": 0,
             "ticks": ""
            },
            "type": "contourcarpet"
           }
          ],
          "heatmap": [
           {
            "colorbar": {
             "outlinewidth": 0,
             "ticks": ""
            },
            "colorscale": [
             [
              0,
              "#0d0887"
             ],
             [
              0.1111111111111111,
              "#46039f"
             ],
             [
              0.2222222222222222,
              "#7201a8"
             ],
             [
              0.3333333333333333,
              "#9c179e"
             ],
             [
              0.4444444444444444,
              "#bd3786"
             ],
             [
              0.5555555555555556,
              "#d8576b"
             ],
             [
              0.6666666666666666,
              "#ed7953"
             ],
             [
              0.7777777777777778,
              "#fb9f3a"
             ],
             [
              0.8888888888888888,
              "#fdca26"
             ],
             [
              1,
              "#f0f921"
             ]
            ],
            "type": "heatmap"
           }
          ],
          "heatmapgl": [
           {
            "colorbar": {
             "outlinewidth": 0,
             "ticks": ""
            },
            "colorscale": [
             [
              0,
              "#0d0887"
             ],
             [
              0.1111111111111111,
              "#46039f"
             ],
             [
              0.2222222222222222,
              "#7201a8"
             ],
             [
              0.3333333333333333,
              "#9c179e"
             ],
             [
              0.4444444444444444,
              "#bd3786"
             ],
             [
              0.5555555555555556,
              "#d8576b"
             ],
             [
              0.6666666666666666,
              "#ed7953"
             ],
             [
              0.7777777777777778,
              "#fb9f3a"
             ],
             [
              0.8888888888888888,
              "#fdca26"
             ],
             [
              1,
              "#f0f921"
             ]
            ],
            "type": "heatmapgl"
           }
          ],
          "histogram": [
           {
            "marker": {
             "pattern": {
              "fillmode": "overlay",
              "size": 10,
              "solidity": 0.2
             }
            },
            "type": "histogram"
           }
          ],
          "histogram2d": [
           {
            "colorbar": {
             "outlinewidth": 0,
             "ticks": ""
            },
            "colorscale": [
             [
              0,
              "#0d0887"
             ],
             [
              0.1111111111111111,
              "#46039f"
             ],
             [
              0.2222222222222222,
              "#7201a8"
             ],
             [
              0.3333333333333333,
              "#9c179e"
             ],
             [
              0.4444444444444444,
              "#bd3786"
             ],
             [
              0.5555555555555556,
              "#d8576b"
             ],
             [
              0.6666666666666666,
              "#ed7953"
             ],
             [
              0.7777777777777778,
              "#fb9f3a"
             ],
             [
              0.8888888888888888,
              "#fdca26"
             ],
             [
              1,
              "#f0f921"
             ]
            ],
            "type": "histogram2d"
           }
          ],
          "histogram2dcontour": [
           {
            "colorbar": {
             "outlinewidth": 0,
             "ticks": ""
            },
            "colorscale": [
             [
              0,
              "#0d0887"
             ],
             [
              0.1111111111111111,
              "#46039f"
             ],
             [
              0.2222222222222222,
              "#7201a8"
             ],
             [
              0.3333333333333333,
              "#9c179e"
             ],
             [
              0.4444444444444444,
              "#bd3786"
             ],
             [
              0.5555555555555556,
              "#d8576b"
             ],
             [
              0.6666666666666666,
              "#ed7953"
             ],
             [
              0.7777777777777778,
              "#fb9f3a"
             ],
             [
              0.8888888888888888,
              "#fdca26"
             ],
             [
              1,
              "#f0f921"
             ]
            ],
            "type": "histogram2dcontour"
           }
          ],
          "mesh3d": [
           {
            "colorbar": {
             "outlinewidth": 0,
             "ticks": ""
            },
            "type": "mesh3d"
           }
          ],
          "parcoords": [
           {
            "line": {
             "colorbar": {
              "outlinewidth": 0,
              "ticks": ""
             }
            },
            "type": "parcoords"
           }
          ],
          "pie": [
           {
            "automargin": true,
            "type": "pie"
           }
          ],
          "scatter": [
           {
            "fillpattern": {
             "fillmode": "overlay",
             "size": 10,
             "solidity": 0.2
            },
            "type": "scatter"
           }
          ],
          "scatter3d": [
           {
            "line": {
             "colorbar": {
              "outlinewidth": 0,
              "ticks": ""
             }
            },
            "marker": {
             "colorbar": {
              "outlinewidth": 0,
              "ticks": ""
             }
            },
            "type": "scatter3d"
           }
          ],
          "scattercarpet": [
           {
            "marker": {
             "colorbar": {
              "outlinewidth": 0,
              "ticks": ""
             }
            },
            "type": "scattercarpet"
           }
          ],
          "scattergeo": [
           {
            "marker": {
             "colorbar": {
              "outlinewidth": 0,
              "ticks": ""
             }
            },
            "type": "scattergeo"
           }
          ],
          "scattergl": [
           {
            "marker": {
             "colorbar": {
              "outlinewidth": 0,
              "ticks": ""
             }
            },
            "type": "scattergl"
           }
          ],
          "scattermapbox": [
           {
            "marker": {
             "colorbar": {
              "outlinewidth": 0,
              "ticks": ""
             }
            },
            "type": "scattermapbox"
           }
          ],
          "scatterpolar": [
           {
            "marker": {
             "colorbar": {
              "outlinewidth": 0,
              "ticks": ""
             }
            },
            "type": "scatterpolar"
           }
          ],
          "scatterpolargl": [
           {
            "marker": {
             "colorbar": {
              "outlinewidth": 0,
              "ticks": ""
             }
            },
            "type": "scatterpolargl"
           }
          ],
          "scatterternary": [
           {
            "marker": {
             "colorbar": {
              "outlinewidth": 0,
              "ticks": ""
             }
            },
            "type": "scatterternary"
           }
          ],
          "surface": [
           {
            "colorbar": {
             "outlinewidth": 0,
             "ticks": ""
            },
            "colorscale": [
             [
              0,
              "#0d0887"
             ],
             [
              0.1111111111111111,
              "#46039f"
             ],
             [
              0.2222222222222222,
              "#7201a8"
             ],
             [
              0.3333333333333333,
              "#9c179e"
             ],
             [
              0.4444444444444444,
              "#bd3786"
             ],
             [
              0.5555555555555556,
              "#d8576b"
             ],
             [
              0.6666666666666666,
              "#ed7953"
             ],
             [
              0.7777777777777778,
              "#fb9f3a"
             ],
             [
              0.8888888888888888,
              "#fdca26"
             ],
             [
              1,
              "#f0f921"
             ]
            ],
            "type": "surface"
           }
          ],
          "table": [
           {
            "cells": {
             "fill": {
              "color": "#EBF0F8"
             },
             "line": {
              "color": "white"
             }
            },
            "header": {
             "fill": {
              "color": "#C8D4E3"
             },
             "line": {
              "color": "white"
             }
            },
            "type": "table"
           }
          ]
         },
         "layout": {
          "annotationdefaults": {
           "arrowcolor": "#2a3f5f",
           "arrowhead": 0,
           "arrowwidth": 1
          },
          "autotypenumbers": "strict",
          "coloraxis": {
           "colorbar": {
            "outlinewidth": 0,
            "ticks": ""
           }
          },
          "colorscale": {
           "diverging": [
            [
             0,
             "#8e0152"
            ],
            [
             0.1,
             "#c51b7d"
            ],
            [
             0.2,
             "#de77ae"
            ],
            [
             0.3,
             "#f1b6da"
            ],
            [
             0.4,
             "#fde0ef"
            ],
            [
             0.5,
             "#f7f7f7"
            ],
            [
             0.6,
             "#e6f5d0"
            ],
            [
             0.7,
             "#b8e186"
            ],
            [
             0.8,
             "#7fbc41"
            ],
            [
             0.9,
             "#4d9221"
            ],
            [
             1,
             "#276419"
            ]
           ],
           "sequential": [
            [
             0,
             "#0d0887"
            ],
            [
             0.1111111111111111,
             "#46039f"
            ],
            [
             0.2222222222222222,
             "#7201a8"
            ],
            [
             0.3333333333333333,
             "#9c179e"
            ],
            [
             0.4444444444444444,
             "#bd3786"
            ],
            [
             0.5555555555555556,
             "#d8576b"
            ],
            [
             0.6666666666666666,
             "#ed7953"
            ],
            [
             0.7777777777777778,
             "#fb9f3a"
            ],
            [
             0.8888888888888888,
             "#fdca26"
            ],
            [
             1,
             "#f0f921"
            ]
           ],
           "sequentialminus": [
            [
             0,
             "#0d0887"
            ],
            [
             0.1111111111111111,
             "#46039f"
            ],
            [
             0.2222222222222222,
             "#7201a8"
            ],
            [
             0.3333333333333333,
             "#9c179e"
            ],
            [
             0.4444444444444444,
             "#bd3786"
            ],
            [
             0.5555555555555556,
             "#d8576b"
            ],
            [
             0.6666666666666666,
             "#ed7953"
            ],
            [
             0.7777777777777778,
             "#fb9f3a"
            ],
            [
             0.8888888888888888,
             "#fdca26"
            ],
            [
             1,
             "#f0f921"
            ]
           ]
          },
          "colorway": [
           "#636efa",
           "#EF553B",
           "#00cc96",
           "#ab63fa",
           "#FFA15A",
           "#19d3f3",
           "#FF6692",
           "#B6E880",
           "#FF97FF",
           "#FECB52"
          ],
          "font": {
           "color": "#2a3f5f"
          },
          "geo": {
           "bgcolor": "white",
           "lakecolor": "white",
           "landcolor": "#E5ECF6",
           "showlakes": true,
           "showland": true,
           "subunitcolor": "white"
          },
          "hoverlabel": {
           "align": "left"
          },
          "hovermode": "closest",
          "mapbox": {
           "style": "light"
          },
          "paper_bgcolor": "white",
          "plot_bgcolor": "#E5ECF6",
          "polar": {
           "angularaxis": {
            "gridcolor": "white",
            "linecolor": "white",
            "ticks": ""
           },
           "bgcolor": "#E5ECF6",
           "radialaxis": {
            "gridcolor": "white",
            "linecolor": "white",
            "ticks": ""
           }
          },
          "scene": {
           "xaxis": {
            "backgroundcolor": "#E5ECF6",
            "gridcolor": "white",
            "gridwidth": 2,
            "linecolor": "white",
            "showbackground": true,
            "ticks": "",
            "zerolinecolor": "white"
           },
           "yaxis": {
            "backgroundcolor": "#E5ECF6",
            "gridcolor": "white",
            "gridwidth": 2,
            "linecolor": "white",
            "showbackground": true,
            "ticks": "",
            "zerolinecolor": "white"
           },
           "zaxis": {
            "backgroundcolor": "#E5ECF6",
            "gridcolor": "white",
            "gridwidth": 2,
            "linecolor": "white",
            "showbackground": true,
            "ticks": "",
            "zerolinecolor": "white"
           }
          },
          "shapedefaults": {
           "line": {
            "color": "#2a3f5f"
           }
          },
          "ternary": {
           "aaxis": {
            "gridcolor": "white",
            "linecolor": "white",
            "ticks": ""
           },
           "baxis": {
            "gridcolor": "white",
            "linecolor": "white",
            "ticks": ""
           },
           "bgcolor": "#E5ECF6",
           "caxis": {
            "gridcolor": "white",
            "linecolor": "white",
            "ticks": ""
           }
          },
          "title": {
           "x": 0.05
          },
          "xaxis": {
           "automargin": true,
           "gridcolor": "white",
           "linecolor": "white",
           "ticks": "",
           "title": {
            "standoff": 15
           },
           "zerolinecolor": "white",
           "zerolinewidth": 2
          },
          "yaxis": {
           "automargin": true,
           "gridcolor": "white",
           "linecolor": "white",
           "ticks": "",
           "title": {
            "standoff": 15
           },
           "zerolinecolor": "white",
           "zerolinewidth": 2
          }
         }
        },
        "title": {
         "font": {
          "color": "white",
          "size": 20
         },
         "text": "مجموع المشاهدات لكل سنه "
        },
        "width": 1000,
        "xaxis": {
         "anchor": "y",
         "domain": [
          0,
          1
         ],
         "gridcolor": "lightgrey",
         "linecolor": "white",
         "showgrid": true,
         "tickfont": {
          "color": "white"
         },
         "tickmode": "linear",
         "title": {
          "text": "السنوات"
         }
        },
        "yaxis": {
         "anchor": "x",
         "domain": [
          0,
          1
         ],
         "gridcolor": "lightgrey",
         "showgrid": true,
         "tickfont": {
          "color": "white"
         },
         "title": {
          "text": "مجموع المشاهدات"
         }
        }
       }
      }
     },
     "metadata": {},
     "output_type": "display_data"
    }
   ],
   "source": [
    "fig = px.line(\n",
    "    result, \n",
    "    x=\"Year\", \n",
    "    y=\"Total\", \n",
    "    text=['{:.4}B'.format(x / 1000000000) for x in result['Total']],\n",
    "    markers=True, height=600,width=1000\n",
    ")\n",
    "fig.update_traces(\n",
    "    textposition=\"top center\", \n",
    "    line=dict(width=3),\n",
    "    line_color=\"red\",\n",
    "    marker=dict(size=10, color=\"red\", line=dict(width=2, color=\"red\")),\n",
    ")\n",
    "fig.update_layout(\n",
    "    #font=dict(family=\"Arial\", size=14, color=\"white\"),  # Set font family, size, and color\n",
    "    title=dict(text=\"مجموع المشاهدات لكل سنه \", font=dict(size=20, color=\"white\")),  # Set title font size and color\n",
    "    xaxis=dict(\n",
    "        tickmode=\"linear\", \n",
    "        title=\"السنوات\",  \n",
    "        linecolor='white',  \n",
    "        tickfont=dict(color=\"white\"), \n",
    "        showgrid=True, \n",
    "        gridcolor=\"lightgrey\"  \n",
    "    ),\n",
    "    yaxis=dict(\n",
    "        title=\"مجموع المشاهدات\",  # Y-axis title in Arabic\n",
    "        showgrid=True,  # Show gridlines\n",
    "        gridcolor=\"lightgrey\",  # Set gridline color\n",
    "        tickfont=dict(color=\"white\")  # White y-axis labels\n",
    "    ),\n",
    "    #plot_bgcolor=\"#282828\",  # Dark background for the plot\n",
    "    #paper_bgcolor=\"#282828\",# Dark background for the entire paper\n",
    ")\n",
    "fig.show()"
   ]
  },
  {
   "cell_type": "code",
   "execution_count": 31,
   "metadata": {},
   "outputs": [
    {
     "data": {
      "application/vnd.plotly.v1+json": {
       "config": {
        "plotlyServerURL": "https://plot.ly"
       },
       "data": [
        {
         "alignmentgroup": "True",
         "hovertemplate": "التصنيفات=%{x}<br>مجموع المشاهدات=%{y}<br>text=%{text}<extra></extra>",
         "legendgroup": "",
         "marker": {
          "color": "red",
          "pattern": {
           "shape": ""
          }
         },
         "name": "",
         "offsetgroup": "",
         "orientation": "v",
         "showlegend": false,
         "text": [
          "18.6B",
          "15.0B",
          "10.94B",
          "9.888B",
          "6.0B",
          "2.736B",
          "1.728B",
          "1.566B",
          "1.253B",
          "1.074B"
         ],
         "textposition": "outside",
         "type": "bar",
         "x": [
          "Entertainment",
          "People & Blogs",
          "Gaming",
          "Music",
          "Film & Animation",
          "general",
          "Education",
          "Comedy",
          "Shows",
          "Sports"
         ],
         "xaxis": "x",
         "y": [
          18598832472,
          14997620957,
          10939695731,
          9887717596,
          6000101542,
          2736355640,
          1727998754,
          1565688941,
          1252896126,
          1073804368
         ],
         "yaxis": "y"
        }
       ],
       "layout": {
        "barmode": "relative",
        "height": 700,
        "legend": {
         "tracegroupgap": 0
        },
        "template": {
         "data": {
          "bar": [
           {
            "error_x": {
             "color": "#2a3f5f"
            },
            "error_y": {
             "color": "#2a3f5f"
            },
            "marker": {
             "line": {
              "color": "#E5ECF6",
              "width": 0.5
             },
             "pattern": {
              "fillmode": "overlay",
              "size": 10,
              "solidity": 0.2
             }
            },
            "type": "bar"
           }
          ],
          "barpolar": [
           {
            "marker": {
             "line": {
              "color": "#E5ECF6",
              "width": 0.5
             },
             "pattern": {
              "fillmode": "overlay",
              "size": 10,
              "solidity": 0.2
             }
            },
            "type": "barpolar"
           }
          ],
          "carpet": [
           {
            "aaxis": {
             "endlinecolor": "#2a3f5f",
             "gridcolor": "white",
             "linecolor": "white",
             "minorgridcolor": "white",
             "startlinecolor": "#2a3f5f"
            },
            "baxis": {
             "endlinecolor": "#2a3f5f",
             "gridcolor": "white",
             "linecolor": "white",
             "minorgridcolor": "white",
             "startlinecolor": "#2a3f5f"
            },
            "type": "carpet"
           }
          ],
          "choropleth": [
           {
            "colorbar": {
             "outlinewidth": 0,
             "ticks": ""
            },
            "type": "choropleth"
           }
          ],
          "contour": [
           {
            "colorbar": {
             "outlinewidth": 0,
             "ticks": ""
            },
            "colorscale": [
             [
              0,
              "#0d0887"
             ],
             [
              0.1111111111111111,
              "#46039f"
             ],
             [
              0.2222222222222222,
              "#7201a8"
             ],
             [
              0.3333333333333333,
              "#9c179e"
             ],
             [
              0.4444444444444444,
              "#bd3786"
             ],
             [
              0.5555555555555556,
              "#d8576b"
             ],
             [
              0.6666666666666666,
              "#ed7953"
             ],
             [
              0.7777777777777778,
              "#fb9f3a"
             ],
             [
              0.8888888888888888,
              "#fdca26"
             ],
             [
              1,
              "#f0f921"
             ]
            ],
            "type": "contour"
           }
          ],
          "contourcarpet": [
           {
            "colorbar": {
             "outlinewidth": 0,
             "ticks": ""
            },
            "type": "contourcarpet"
           }
          ],
          "heatmap": [
           {
            "colorbar": {
             "outlinewidth": 0,
             "ticks": ""
            },
            "colorscale": [
             [
              0,
              "#0d0887"
             ],
             [
              0.1111111111111111,
              "#46039f"
             ],
             [
              0.2222222222222222,
              "#7201a8"
             ],
             [
              0.3333333333333333,
              "#9c179e"
             ],
             [
              0.4444444444444444,
              "#bd3786"
             ],
             [
              0.5555555555555556,
              "#d8576b"
             ],
             [
              0.6666666666666666,
              "#ed7953"
             ],
             [
              0.7777777777777778,
              "#fb9f3a"
             ],
             [
              0.8888888888888888,
              "#fdca26"
             ],
             [
              1,
              "#f0f921"
             ]
            ],
            "type": "heatmap"
           }
          ],
          "heatmapgl": [
           {
            "colorbar": {
             "outlinewidth": 0,
             "ticks": ""
            },
            "colorscale": [
             [
              0,
              "#0d0887"
             ],
             [
              0.1111111111111111,
              "#46039f"
             ],
             [
              0.2222222222222222,
              "#7201a8"
             ],
             [
              0.3333333333333333,
              "#9c179e"
             ],
             [
              0.4444444444444444,
              "#bd3786"
             ],
             [
              0.5555555555555556,
              "#d8576b"
             ],
             [
              0.6666666666666666,
              "#ed7953"
             ],
             [
              0.7777777777777778,
              "#fb9f3a"
             ],
             [
              0.8888888888888888,
              "#fdca26"
             ],
             [
              1,
              "#f0f921"
             ]
            ],
            "type": "heatmapgl"
           }
          ],
          "histogram": [
           {
            "marker": {
             "pattern": {
              "fillmode": "overlay",
              "size": 10,
              "solidity": 0.2
             }
            },
            "type": "histogram"
           }
          ],
          "histogram2d": [
           {
            "colorbar": {
             "outlinewidth": 0,
             "ticks": ""
            },
            "colorscale": [
             [
              0,
              "#0d0887"
             ],
             [
              0.1111111111111111,
              "#46039f"
             ],
             [
              0.2222222222222222,
              "#7201a8"
             ],
             [
              0.3333333333333333,
              "#9c179e"
             ],
             [
              0.4444444444444444,
              "#bd3786"
             ],
             [
              0.5555555555555556,
              "#d8576b"
             ],
             [
              0.6666666666666666,
              "#ed7953"
             ],
             [
              0.7777777777777778,
              "#fb9f3a"
             ],
             [
              0.8888888888888888,
              "#fdca26"
             ],
             [
              1,
              "#f0f921"
             ]
            ],
            "type": "histogram2d"
           }
          ],
          "histogram2dcontour": [
           {
            "colorbar": {
             "outlinewidth": 0,
             "ticks": ""
            },
            "colorscale": [
             [
              0,
              "#0d0887"
             ],
             [
              0.1111111111111111,
              "#46039f"
             ],
             [
              0.2222222222222222,
              "#7201a8"
             ],
             [
              0.3333333333333333,
              "#9c179e"
             ],
             [
              0.4444444444444444,
              "#bd3786"
             ],
             [
              0.5555555555555556,
              "#d8576b"
             ],
             [
              0.6666666666666666,
              "#ed7953"
             ],
             [
              0.7777777777777778,
              "#fb9f3a"
             ],
             [
              0.8888888888888888,
              "#fdca26"
             ],
             [
              1,
              "#f0f921"
             ]
            ],
            "type": "histogram2dcontour"
           }
          ],
          "mesh3d": [
           {
            "colorbar": {
             "outlinewidth": 0,
             "ticks": ""
            },
            "type": "mesh3d"
           }
          ],
          "parcoords": [
           {
            "line": {
             "colorbar": {
              "outlinewidth": 0,
              "ticks": ""
             }
            },
            "type": "parcoords"
           }
          ],
          "pie": [
           {
            "automargin": true,
            "type": "pie"
           }
          ],
          "scatter": [
           {
            "fillpattern": {
             "fillmode": "overlay",
             "size": 10,
             "solidity": 0.2
            },
            "type": "scatter"
           }
          ],
          "scatter3d": [
           {
            "line": {
             "colorbar": {
              "outlinewidth": 0,
              "ticks": ""
             }
            },
            "marker": {
             "colorbar": {
              "outlinewidth": 0,
              "ticks": ""
             }
            },
            "type": "scatter3d"
           }
          ],
          "scattercarpet": [
           {
            "marker": {
             "colorbar": {
              "outlinewidth": 0,
              "ticks": ""
             }
            },
            "type": "scattercarpet"
           }
          ],
          "scattergeo": [
           {
            "marker": {
             "colorbar": {
              "outlinewidth": 0,
              "ticks": ""
             }
            },
            "type": "scattergeo"
           }
          ],
          "scattergl": [
           {
            "marker": {
             "colorbar": {
              "outlinewidth": 0,
              "ticks": ""
             }
            },
            "type": "scattergl"
           }
          ],
          "scattermapbox": [
           {
            "marker": {
             "colorbar": {
              "outlinewidth": 0,
              "ticks": ""
             }
            },
            "type": "scattermapbox"
           }
          ],
          "scatterpolar": [
           {
            "marker": {
             "colorbar": {
              "outlinewidth": 0,
              "ticks": ""
             }
            },
            "type": "scatterpolar"
           }
          ],
          "scatterpolargl": [
           {
            "marker": {
             "colorbar": {
              "outlinewidth": 0,
              "ticks": ""
             }
            },
            "type": "scatterpolargl"
           }
          ],
          "scatterternary": [
           {
            "marker": {
             "colorbar": {
              "outlinewidth": 0,
              "ticks": ""
             }
            },
            "type": "scatterternary"
           }
          ],
          "surface": [
           {
            "colorbar": {
             "outlinewidth": 0,
             "ticks": ""
            },
            "colorscale": [
             [
              0,
              "#0d0887"
             ],
             [
              0.1111111111111111,
              "#46039f"
             ],
             [
              0.2222222222222222,
              "#7201a8"
             ],
             [
              0.3333333333333333,
              "#9c179e"
             ],
             [
              0.4444444444444444,
              "#bd3786"
             ],
             [
              0.5555555555555556,
              "#d8576b"
             ],
             [
              0.6666666666666666,
              "#ed7953"
             ],
             [
              0.7777777777777778,
              "#fb9f3a"
             ],
             [
              0.8888888888888888,
              "#fdca26"
             ],
             [
              1,
              "#f0f921"
             ]
            ],
            "type": "surface"
           }
          ],
          "table": [
           {
            "cells": {
             "fill": {
              "color": "#EBF0F8"
             },
             "line": {
              "color": "white"
             }
            },
            "header": {
             "fill": {
              "color": "#C8D4E3"
             },
             "line": {
              "color": "white"
             }
            },
            "type": "table"
           }
          ]
         },
         "layout": {
          "annotationdefaults": {
           "arrowcolor": "#2a3f5f",
           "arrowhead": 0,
           "arrowwidth": 1
          },
          "autotypenumbers": "strict",
          "coloraxis": {
           "colorbar": {
            "outlinewidth": 0,
            "ticks": ""
           }
          },
          "colorscale": {
           "diverging": [
            [
             0,
             "#8e0152"
            ],
            [
             0.1,
             "#c51b7d"
            ],
            [
             0.2,
             "#de77ae"
            ],
            [
             0.3,
             "#f1b6da"
            ],
            [
             0.4,
             "#fde0ef"
            ],
            [
             0.5,
             "#f7f7f7"
            ],
            [
             0.6,
             "#e6f5d0"
            ],
            [
             0.7,
             "#b8e186"
            ],
            [
             0.8,
             "#7fbc41"
            ],
            [
             0.9,
             "#4d9221"
            ],
            [
             1,
             "#276419"
            ]
           ],
           "sequential": [
            [
             0,
             "#0d0887"
            ],
            [
             0.1111111111111111,
             "#46039f"
            ],
            [
             0.2222222222222222,
             "#7201a8"
            ],
            [
             0.3333333333333333,
             "#9c179e"
            ],
            [
             0.4444444444444444,
             "#bd3786"
            ],
            [
             0.5555555555555556,
             "#d8576b"
            ],
            [
             0.6666666666666666,
             "#ed7953"
            ],
            [
             0.7777777777777778,
             "#fb9f3a"
            ],
            [
             0.8888888888888888,
             "#fdca26"
            ],
            [
             1,
             "#f0f921"
            ]
           ],
           "sequentialminus": [
            [
             0,
             "#0d0887"
            ],
            [
             0.1111111111111111,
             "#46039f"
            ],
            [
             0.2222222222222222,
             "#7201a8"
            ],
            [
             0.3333333333333333,
             "#9c179e"
            ],
            [
             0.4444444444444444,
             "#bd3786"
            ],
            [
             0.5555555555555556,
             "#d8576b"
            ],
            [
             0.6666666666666666,
             "#ed7953"
            ],
            [
             0.7777777777777778,
             "#fb9f3a"
            ],
            [
             0.8888888888888888,
             "#fdca26"
            ],
            [
             1,
             "#f0f921"
            ]
           ]
          },
          "colorway": [
           "#636efa",
           "#EF553B",
           "#00cc96",
           "#ab63fa",
           "#FFA15A",
           "#19d3f3",
           "#FF6692",
           "#B6E880",
           "#FF97FF",
           "#FECB52"
          ],
          "font": {
           "color": "#2a3f5f"
          },
          "geo": {
           "bgcolor": "white",
           "lakecolor": "white",
           "landcolor": "#E5ECF6",
           "showlakes": true,
           "showland": true,
           "subunitcolor": "white"
          },
          "hoverlabel": {
           "align": "left"
          },
          "hovermode": "closest",
          "mapbox": {
           "style": "light"
          },
          "paper_bgcolor": "white",
          "plot_bgcolor": "#E5ECF6",
          "polar": {
           "angularaxis": {
            "gridcolor": "white",
            "linecolor": "white",
            "ticks": ""
           },
           "bgcolor": "#E5ECF6",
           "radialaxis": {
            "gridcolor": "white",
            "linecolor": "white",
            "ticks": ""
           }
          },
          "scene": {
           "xaxis": {
            "backgroundcolor": "#E5ECF6",
            "gridcolor": "white",
            "gridwidth": 2,
            "linecolor": "white",
            "showbackground": true,
            "ticks": "",
            "zerolinecolor": "white"
           },
           "yaxis": {
            "backgroundcolor": "#E5ECF6",
            "gridcolor": "white",
            "gridwidth": 2,
            "linecolor": "white",
            "showbackground": true,
            "ticks": "",
            "zerolinecolor": "white"
           },
           "zaxis": {
            "backgroundcolor": "#E5ECF6",
            "gridcolor": "white",
            "gridwidth": 2,
            "linecolor": "white",
            "showbackground": true,
            "ticks": "",
            "zerolinecolor": "white"
           }
          },
          "shapedefaults": {
           "line": {
            "color": "#2a3f5f"
           }
          },
          "ternary": {
           "aaxis": {
            "gridcolor": "white",
            "linecolor": "white",
            "ticks": ""
           },
           "baxis": {
            "gridcolor": "white",
            "linecolor": "white",
            "ticks": ""
           },
           "bgcolor": "#E5ECF6",
           "caxis": {
            "gridcolor": "white",
            "linecolor": "white",
            "ticks": ""
           }
          },
          "title": {
           "x": 0.05
          },
          "xaxis": {
           "automargin": true,
           "gridcolor": "white",
           "linecolor": "white",
           "ticks": "",
           "title": {
            "standoff": 15
           },
           "zerolinecolor": "white",
           "zerolinewidth": 2
          },
          "yaxis": {
           "automargin": true,
           "gridcolor": "white",
           "linecolor": "white",
           "ticks": "",
           "title": {
            "standoff": 15
           },
           "zerolinecolor": "white",
           "zerolinewidth": 2
          }
         }
        },
        "title": {
         "text": "اعلى 5 تصنيفات مشاهده 2024"
        },
        "width": 800,
        "xaxis": {
         "anchor": "y",
         "domain": [
          0,
          1
         ],
         "title": {
          "text": "التصنيفات"
         }
        },
        "yaxis": {
         "anchor": "x",
         "domain": [
          0,
          1
         ],
         "title": {
          "text": "مجموع المشاهدات"
         }
        }
       }
      }
     },
     "metadata": {},
     "output_type": "display_data"
    }
   ],
   "source": [
    "years = ['2016_views', '2017_views', '2018_views', '2019_views', \n",
    "         '2020_views', '2021_views', '2022_views', '2023_views', '2024_views']\n",
    "\n",
    "\n",
    "for year in years:\n",
    "\n",
    "    df_yearly = df_clean.groupby('category')[year].sum().reset_index()\n",
    "\n",
    "\n",
    "    df_top5 = df_yearly.sort_values(by=year, ascending=False).head(10)\n",
    "\n",
    "\n",
    "    fig = px.bar(df_top5, \n",
    "                 x='category', \n",
    "                 y=year, \n",
    "                 title=f'اعلى 5 تصنيفات مشاهده {year[:4]}',  # Extract year part from column name\n",
    "                 labels={'category': 'التصنيفات', year: 'مجموع المشاهدات'}, \n",
    "                text=['{:.4}B'.format(x / 1000000000) for x in df_top5[year]],\n",
    " # Labeling axes\n",
    "                 #color=year,  # Add color to bars based on the view count\n",
    "                 width=800,height=700)\n",
    "    fig.update_traces(textposition=\"outside\",   \n",
    "                  marker_color=\"red\")# Set a color scale for the bars\n",
    "\n",
    "\n",
    "fig.show()"
   ]
  },
  {
   "cell_type": "code",
   "execution_count": 32,
   "metadata": {},
   "outputs": [],
   "source": [
    "top_10 = df_clean.sort_values(by=\"2024_views\",ascending=False).head(11)"
   ]
  },
  {
   "cell_type": "code",
   "execution_count": null,
   "metadata": {},
   "outputs": [
    {
     "data": {
      "application/vnd.plotly.v1+json": {
       "config": {
        "plotlyServerURL": "https://plot.ly"
       },
       "data": [
        {
         "alignmentgroup": "True",
         "hovertemplate": "profile_name=%{x}<br>2024_views=%{y}<br>text=%{text}<extra></extra>",
         "legendgroup": "",
         "marker": {
          "color": "red",
          "pattern": {
           "shape": ""
          }
         },
         "name": "",
         "offsetgroup": "",
         "orientation": "v",
         "showlegend": false,
         "text": [
          "3.569B",
          "3.193B",
          "2.023B",
          "1.82B",
          "1.499B",
          "1.48B",
          "1.253B",
          "1.145B",
          "1.128B",
          "1.119B",
          "1.075B"
         ],
         "textposition": "outside",
         "type": "bar",
         "x": [
          "Rotana",
          "روتانا خليجية",
          "Fantom Pro",
          "Alma Stars",
          "Katakit Baby Tv",
          "Adnan Al Ansari",
          "ماشا و الدب",
          "Banderita X",
          "Saif Shawaf",
          "انت تستطيع",
          "Erkenci Kuş   مسلسل الطائر المبكر"
         ],
         "xaxis": "x",
         "y": [
          3568868567,
          3192515785,
          2023418457,
          1819530670,
          1499059097,
          1479741071,
          1252896126,
          1144500048,
          1128304193,
          1118849081,
          1074607254
         ],
         "yaxis": "y"
        }
       ],
       "layout": {
        "barmode": "relative",
        "height": 800,
        "legend": {
         "tracegroupgap": 0
        },
        "showlegend": false,
        "template": {
         "data": {
          "bar": [
           {
            "error_x": {
             "color": "#2a3f5f"
            },
            "error_y": {
             "color": "#2a3f5f"
            },
            "marker": {
             "line": {
              "color": "#E5ECF6",
              "width": 0.5
             },
             "pattern": {
              "fillmode": "overlay",
              "size": 10,
              "solidity": 0.2
             }
            },
            "type": "bar"
           }
          ],
          "barpolar": [
           {
            "marker": {
             "line": {
              "color": "#E5ECF6",
              "width": 0.5
             },
             "pattern": {
              "fillmode": "overlay",
              "size": 10,
              "solidity": 0.2
             }
            },
            "type": "barpolar"
           }
          ],
          "carpet": [
           {
            "aaxis": {
             "endlinecolor": "#2a3f5f",
             "gridcolor": "white",
             "linecolor": "white",
             "minorgridcolor": "white",
             "startlinecolor": "#2a3f5f"
            },
            "baxis": {
             "endlinecolor": "#2a3f5f",
             "gridcolor": "white",
             "linecolor": "white",
             "minorgridcolor": "white",
             "startlinecolor": "#2a3f5f"
            },
            "type": "carpet"
           }
          ],
          "choropleth": [
           {
            "colorbar": {
             "outlinewidth": 0,
             "ticks": ""
            },
            "type": "choropleth"
           }
          ],
          "contour": [
           {
            "colorbar": {
             "outlinewidth": 0,
             "ticks": ""
            },
            "colorscale": [
             [
              0,
              "#0d0887"
             ],
             [
              0.1111111111111111,
              "#46039f"
             ],
             [
              0.2222222222222222,
              "#7201a8"
             ],
             [
              0.3333333333333333,
              "#9c179e"
             ],
             [
              0.4444444444444444,
              "#bd3786"
             ],
             [
              0.5555555555555556,
              "#d8576b"
             ],
             [
              0.6666666666666666,
              "#ed7953"
             ],
             [
              0.7777777777777778,
              "#fb9f3a"
             ],
             [
              0.8888888888888888,
              "#fdca26"
             ],
             [
              1,
              "#f0f921"
             ]
            ],
            "type": "contour"
           }
          ],
          "contourcarpet": [
           {
            "colorbar": {
             "outlinewidth": 0,
             "ticks": ""
            },
            "type": "contourcarpet"
           }
          ],
          "heatmap": [
           {
            "colorbar": {
             "outlinewidth": 0,
             "ticks": ""
            },
            "colorscale": [
             [
              0,
              "#0d0887"
             ],
             [
              0.1111111111111111,
              "#46039f"
             ],
             [
              0.2222222222222222,
              "#7201a8"
             ],
             [
              0.3333333333333333,
              "#9c179e"
             ],
             [
              0.4444444444444444,
              "#bd3786"
             ],
             [
              0.5555555555555556,
              "#d8576b"
             ],
             [
              0.6666666666666666,
              "#ed7953"
             ],
             [
              0.7777777777777778,
              "#fb9f3a"
             ],
             [
              0.8888888888888888,
              "#fdca26"
             ],
             [
              1,
              "#f0f921"
             ]
            ],
            "type": "heatmap"
           }
          ],
          "heatmapgl": [
           {
            "colorbar": {
             "outlinewidth": 0,
             "ticks": ""
            },
            "colorscale": [
             [
              0,
              "#0d0887"
             ],
             [
              0.1111111111111111,
              "#46039f"
             ],
             [
              0.2222222222222222,
              "#7201a8"
             ],
             [
              0.3333333333333333,
              "#9c179e"
             ],
             [
              0.4444444444444444,
              "#bd3786"
             ],
             [
              0.5555555555555556,
              "#d8576b"
             ],
             [
              0.6666666666666666,
              "#ed7953"
             ],
             [
              0.7777777777777778,
              "#fb9f3a"
             ],
             [
              0.8888888888888888,
              "#fdca26"
             ],
             [
              1,
              "#f0f921"
             ]
            ],
            "type": "heatmapgl"
           }
          ],
          "histogram": [
           {
            "marker": {
             "pattern": {
              "fillmode": "overlay",
              "size": 10,
              "solidity": 0.2
             }
            },
            "type": "histogram"
           }
          ],
          "histogram2d": [
           {
            "colorbar": {
             "outlinewidth": 0,
             "ticks": ""
            },
            "colorscale": [
             [
              0,
              "#0d0887"
             ],
             [
              0.1111111111111111,
              "#46039f"
             ],
             [
              0.2222222222222222,
              "#7201a8"
             ],
             [
              0.3333333333333333,
              "#9c179e"
             ],
             [
              0.4444444444444444,
              "#bd3786"
             ],
             [
              0.5555555555555556,
              "#d8576b"
             ],
             [
              0.6666666666666666,
              "#ed7953"
             ],
             [
              0.7777777777777778,
              "#fb9f3a"
             ],
             [
              0.8888888888888888,
              "#fdca26"
             ],
             [
              1,
              "#f0f921"
             ]
            ],
            "type": "histogram2d"
           }
          ],
          "histogram2dcontour": [
           {
            "colorbar": {
             "outlinewidth": 0,
             "ticks": ""
            },
            "colorscale": [
             [
              0,
              "#0d0887"
             ],
             [
              0.1111111111111111,
              "#46039f"
             ],
             [
              0.2222222222222222,
              "#7201a8"
             ],
             [
              0.3333333333333333,
              "#9c179e"
             ],
             [
              0.4444444444444444,
              "#bd3786"
             ],
             [
              0.5555555555555556,
              "#d8576b"
             ],
             [
              0.6666666666666666,
              "#ed7953"
             ],
             [
              0.7777777777777778,
              "#fb9f3a"
             ],
             [
              0.8888888888888888,
              "#fdca26"
             ],
             [
              1,
              "#f0f921"
             ]
            ],
            "type": "histogram2dcontour"
           }
          ],
          "mesh3d": [
           {
            "colorbar": {
             "outlinewidth": 0,
             "ticks": ""
            },
            "type": "mesh3d"
           }
          ],
          "parcoords": [
           {
            "line": {
             "colorbar": {
              "outlinewidth": 0,
              "ticks": ""
             }
            },
            "type": "parcoords"
           }
          ],
          "pie": [
           {
            "automargin": true,
            "type": "pie"
           }
          ],
          "scatter": [
           {
            "fillpattern": {
             "fillmode": "overlay",
             "size": 10,
             "solidity": 0.2
            },
            "type": "scatter"
           }
          ],
          "scatter3d": [
           {
            "line": {
             "colorbar": {
              "outlinewidth": 0,
              "ticks": ""
             }
            },
            "marker": {
             "colorbar": {
              "outlinewidth": 0,
              "ticks": ""
             }
            },
            "type": "scatter3d"
           }
          ],
          "scattercarpet": [
           {
            "marker": {
             "colorbar": {
              "outlinewidth": 0,
              "ticks": ""
             }
            },
            "type": "scattercarpet"
           }
          ],
          "scattergeo": [
           {
            "marker": {
             "colorbar": {
              "outlinewidth": 0,
              "ticks": ""
             }
            },
            "type": "scattergeo"
           }
          ],
          "scattergl": [
           {
            "marker": {
             "colorbar": {
              "outlinewidth": 0,
              "ticks": ""
             }
            },
            "type": "scattergl"
           }
          ],
          "scattermapbox": [
           {
            "marker": {
             "colorbar": {
              "outlinewidth": 0,
              "ticks": ""
             }
            },
            "type": "scattermapbox"
           }
          ],
          "scatterpolar": [
           {
            "marker": {
             "colorbar": {
              "outlinewidth": 0,
              "ticks": ""
             }
            },
            "type": "scatterpolar"
           }
          ],
          "scatterpolargl": [
           {
            "marker": {
             "colorbar": {
              "outlinewidth": 0,
              "ticks": ""
             }
            },
            "type": "scatterpolargl"
           }
          ],
          "scatterternary": [
           {
            "marker": {
             "colorbar": {
              "outlinewidth": 0,
              "ticks": ""
             }
            },
            "type": "scatterternary"
           }
          ],
          "surface": [
           {
            "colorbar": {
             "outlinewidth": 0,
             "ticks": ""
            },
            "colorscale": [
             [
              0,
              "#0d0887"
             ],
             [
              0.1111111111111111,
              "#46039f"
             ],
             [
              0.2222222222222222,
              "#7201a8"
             ],
             [
              0.3333333333333333,
              "#9c179e"
             ],
             [
              0.4444444444444444,
              "#bd3786"
             ],
             [
              0.5555555555555556,
              "#d8576b"
             ],
             [
              0.6666666666666666,
              "#ed7953"
             ],
             [
              0.7777777777777778,
              "#fb9f3a"
             ],
             [
              0.8888888888888888,
              "#fdca26"
             ],
             [
              1,
              "#f0f921"
             ]
            ],
            "type": "surface"
           }
          ],
          "table": [
           {
            "cells": {
             "fill": {
              "color": "#EBF0F8"
             },
             "line": {
              "color": "white"
             }
            },
            "header": {
             "fill": {
              "color": "#C8D4E3"
             },
             "line": {
              "color": "white"
             }
            },
            "type": "table"
           }
          ]
         },
         "layout": {
          "annotationdefaults": {
           "arrowcolor": "#2a3f5f",
           "arrowhead": 0,
           "arrowwidth": 1
          },
          "autotypenumbers": "strict",
          "coloraxis": {
           "colorbar": {
            "outlinewidth": 0,
            "ticks": ""
           }
          },
          "colorscale": {
           "diverging": [
            [
             0,
             "#8e0152"
            ],
            [
             0.1,
             "#c51b7d"
            ],
            [
             0.2,
             "#de77ae"
            ],
            [
             0.3,
             "#f1b6da"
            ],
            [
             0.4,
             "#fde0ef"
            ],
            [
             0.5,
             "#f7f7f7"
            ],
            [
             0.6,
             "#e6f5d0"
            ],
            [
             0.7,
             "#b8e186"
            ],
            [
             0.8,
             "#7fbc41"
            ],
            [
             0.9,
             "#4d9221"
            ],
            [
             1,
             "#276419"
            ]
           ],
           "sequential": [
            [
             0,
             "#0d0887"
            ],
            [
             0.1111111111111111,
             "#46039f"
            ],
            [
             0.2222222222222222,
             "#7201a8"
            ],
            [
             0.3333333333333333,
             "#9c179e"
            ],
            [
             0.4444444444444444,
             "#bd3786"
            ],
            [
             0.5555555555555556,
             "#d8576b"
            ],
            [
             0.6666666666666666,
             "#ed7953"
            ],
            [
             0.7777777777777778,
             "#fb9f3a"
            ],
            [
             0.8888888888888888,
             "#fdca26"
            ],
            [
             1,
             "#f0f921"
            ]
           ],
           "sequentialminus": [
            [
             0,
             "#0d0887"
            ],
            [
             0.1111111111111111,
             "#46039f"
            ],
            [
             0.2222222222222222,
             "#7201a8"
            ],
            [
             0.3333333333333333,
             "#9c179e"
            ],
            [
             0.4444444444444444,
             "#bd3786"
            ],
            [
             0.5555555555555556,
             "#d8576b"
            ],
            [
             0.6666666666666666,
             "#ed7953"
            ],
            [
             0.7777777777777778,
             "#fb9f3a"
            ],
            [
             0.8888888888888888,
             "#fdca26"
            ],
            [
             1,
             "#f0f921"
            ]
           ]
          },
          "colorway": [
           "#636efa",
           "#EF553B",
           "#00cc96",
           "#ab63fa",
           "#FFA15A",
           "#19d3f3",
           "#FF6692",
           "#B6E880",
           "#FF97FF",
           "#FECB52"
          ],
          "font": {
           "color": "#2a3f5f"
          },
          "geo": {
           "bgcolor": "white",
           "lakecolor": "white",
           "landcolor": "#E5ECF6",
           "showlakes": true,
           "showland": true,
           "subunitcolor": "white"
          },
          "hoverlabel": {
           "align": "left"
          },
          "hovermode": "closest",
          "mapbox": {
           "style": "light"
          },
          "paper_bgcolor": "white",
          "plot_bgcolor": "#E5ECF6",
          "polar": {
           "angularaxis": {
            "gridcolor": "white",
            "linecolor": "white",
            "ticks": ""
           },
           "bgcolor": "#E5ECF6",
           "radialaxis": {
            "gridcolor": "white",
            "linecolor": "white",
            "ticks": ""
           }
          },
          "scene": {
           "xaxis": {
            "backgroundcolor": "#E5ECF6",
            "gridcolor": "white",
            "gridwidth": 2,
            "linecolor": "white",
            "showbackground": true,
            "ticks": "",
            "zerolinecolor": "white"
           },
           "yaxis": {
            "backgroundcolor": "#E5ECF6",
            "gridcolor": "white",
            "gridwidth": 2,
            "linecolor": "white",
            "showbackground": true,
            "ticks": "",
            "zerolinecolor": "white"
           },
           "zaxis": {
            "backgroundcolor": "#E5ECF6",
            "gridcolor": "white",
            "gridwidth": 2,
            "linecolor": "white",
            "showbackground": true,
            "ticks": "",
            "zerolinecolor": "white"
           }
          },
          "shapedefaults": {
           "line": {
            "color": "#2a3f5f"
           }
          },
          "ternary": {
           "aaxis": {
            "gridcolor": "white",
            "linecolor": "white",
            "ticks": ""
           },
           "baxis": {
            "gridcolor": "white",
            "linecolor": "white",
            "ticks": ""
           },
           "bgcolor": "#E5ECF6",
           "caxis": {
            "gridcolor": "white",
            "linecolor": "white",
            "ticks": ""
           }
          },
          "title": {
           "x": 0.05
          },
          "xaxis": {
           "automargin": true,
           "gridcolor": "white",
           "linecolor": "white",
           "ticks": "",
           "title": {
            "standoff": 15
           },
           "zerolinecolor": "white",
           "zerolinewidth": 2
          },
          "yaxis": {
           "automargin": true,
           "gridcolor": "white",
           "linecolor": "white",
           "ticks": "",
           "title": {
            "standoff": 15
           },
           "zerolinecolor": "white",
           "zerolinewidth": 2
          }
         }
        },
        "title": {
         "text": "الاعلى مشاهدات خلال سنه 2024"
        },
        "width": 1000,
        "xaxis": {
         "anchor": "y",
         "domain": [
          0,
          1
         ],
         "title": {
          "text": "القنوات"
         }
        },
        "yaxis": {
         "anchor": "x",
         "domain": [
          0,
          1
         ],
         "title": {
          "text": "عدد المشاهدات"
         }
        }
       }
      }
     },
     "metadata": {},
     "output_type": "display_data"
    }
   ],
   "source": [
    "top_10 = top_10.sort_values(by=\"2024_views\", ascending=False)\n",
    "top_10[\"profile_name\"].replace(\"Erkenci Kuş مسلسل الطائر المبكر\",\"مسلسل الطائر المبكر\")\n",
    "fig = px.bar(\n",
    "    top_10,\n",
    "    x=\"profile_name\",  # Replace with the column identifying the row\n",
    "    y=\"2024_views\",\n",
    "    title=\"الاعلى مشاهدات خلال سنه 2024\",\n",
    "    text=['{:.4}B'.format(x / 1000000000) for x in top_10['2024_views']],\n",
    "    height=800,\n",
    "    width=1000,\n",
    "    #labels={\"item\": \"Items\", \"2024_views\": \"Views\"}, # Display values on the bars\n",
    ")\n",
    "\n",
    "# Update layout for better visuals\n",
    "fig.update_traces(textposition=\"outside\",   \n",
    "                  marker_color=\"red\"\n",
    ")\n",
    "fig.update_layout(\n",
    "    xaxis=dict(title=\"القنوات\"),  # عكس المحور الأفقي\n",
    "    \n",
    "    yaxis=dict(title=\"عدد المشاهدات\"),\n",
    "    showlegend=False,\n",
    ")\n",
    "\n",
    "# Show the plot\n",
    "fig.show()"
   ]
  },
  {
   "cell_type": "code",
   "execution_count": 34,
   "metadata": {},
   "outputs": [
    {
     "data": {
      "application/vnd.plotly.v1+json": {
       "config": {
        "plotlyServerURL": "https://plot.ly"
       },
       "data": [
        {
         "line": {
          "color": "red"
         },
         "mode": "lines",
         "name": "Powr",
         "type": "scatter",
         "x": [
          "2016",
          "2017",
          "2018",
          "2019",
          "2020",
          "2021",
          "2022",
          "2023",
          "2024"
         ],
         "y": [
          0,
          0,
          0,
          0,
          57915722,
          71075778,
          170491395,
          310807031,
          251510466
         ]
        },
        {
         "line": {
          "color": "green"
         },
         "mode": "lines",
         "name": "Falcons",
         "type": "scatter",
         "x": [
          "2016",
          "2017",
          "2018",
          "2019",
          "2020",
          "2021",
          "2022",
          "2023",
          "2024"
         ],
         "y": [
          0,
          0,
          0,
          0,
          0,
          0,
          15856583,
          100810722,
          261454017
         ]
        }
       ],
       "layout": {
        "height": 800,
        "template": {
         "data": {
          "bar": [
           {
            "error_x": {
             "color": "#2a3f5f"
            },
            "error_y": {
             "color": "#2a3f5f"
            },
            "marker": {
             "line": {
              "color": "#E5ECF6",
              "width": 0.5
             },
             "pattern": {
              "fillmode": "overlay",
              "size": 10,
              "solidity": 0.2
             }
            },
            "type": "bar"
           }
          ],
          "barpolar": [
           {
            "marker": {
             "line": {
              "color": "#E5ECF6",
              "width": 0.5
             },
             "pattern": {
              "fillmode": "overlay",
              "size": 10,
              "solidity": 0.2
             }
            },
            "type": "barpolar"
           }
          ],
          "carpet": [
           {
            "aaxis": {
             "endlinecolor": "#2a3f5f",
             "gridcolor": "white",
             "linecolor": "white",
             "minorgridcolor": "white",
             "startlinecolor": "#2a3f5f"
            },
            "baxis": {
             "endlinecolor": "#2a3f5f",
             "gridcolor": "white",
             "linecolor": "white",
             "minorgridcolor": "white",
             "startlinecolor": "#2a3f5f"
            },
            "type": "carpet"
           }
          ],
          "choropleth": [
           {
            "colorbar": {
             "outlinewidth": 0,
             "ticks": ""
            },
            "type": "choropleth"
           }
          ],
          "contour": [
           {
            "colorbar": {
             "outlinewidth": 0,
             "ticks": ""
            },
            "colorscale": [
             [
              0,
              "#0d0887"
             ],
             [
              0.1111111111111111,
              "#46039f"
             ],
             [
              0.2222222222222222,
              "#7201a8"
             ],
             [
              0.3333333333333333,
              "#9c179e"
             ],
             [
              0.4444444444444444,
              "#bd3786"
             ],
             [
              0.5555555555555556,
              "#d8576b"
             ],
             [
              0.6666666666666666,
              "#ed7953"
             ],
             [
              0.7777777777777778,
              "#fb9f3a"
             ],
             [
              0.8888888888888888,
              "#fdca26"
             ],
             [
              1,
              "#f0f921"
             ]
            ],
            "type": "contour"
           }
          ],
          "contourcarpet": [
           {
            "colorbar": {
             "outlinewidth": 0,
             "ticks": ""
            },
            "type": "contourcarpet"
           }
          ],
          "heatmap": [
           {
            "colorbar": {
             "outlinewidth": 0,
             "ticks": ""
            },
            "colorscale": [
             [
              0,
              "#0d0887"
             ],
             [
              0.1111111111111111,
              "#46039f"
             ],
             [
              0.2222222222222222,
              "#7201a8"
             ],
             [
              0.3333333333333333,
              "#9c179e"
             ],
             [
              0.4444444444444444,
              "#bd3786"
             ],
             [
              0.5555555555555556,
              "#d8576b"
             ],
             [
              0.6666666666666666,
              "#ed7953"
             ],
             [
              0.7777777777777778,
              "#fb9f3a"
             ],
             [
              0.8888888888888888,
              "#fdca26"
             ],
             [
              1,
              "#f0f921"
             ]
            ],
            "type": "heatmap"
           }
          ],
          "heatmapgl": [
           {
            "colorbar": {
             "outlinewidth": 0,
             "ticks": ""
            },
            "colorscale": [
             [
              0,
              "#0d0887"
             ],
             [
              0.1111111111111111,
              "#46039f"
             ],
             [
              0.2222222222222222,
              "#7201a8"
             ],
             [
              0.3333333333333333,
              "#9c179e"
             ],
             [
              0.4444444444444444,
              "#bd3786"
             ],
             [
              0.5555555555555556,
              "#d8576b"
             ],
             [
              0.6666666666666666,
              "#ed7953"
             ],
             [
              0.7777777777777778,
              "#fb9f3a"
             ],
             [
              0.8888888888888888,
              "#fdca26"
             ],
             [
              1,
              "#f0f921"
             ]
            ],
            "type": "heatmapgl"
           }
          ],
          "histogram": [
           {
            "marker": {
             "pattern": {
              "fillmode": "overlay",
              "size": 10,
              "solidity": 0.2
             }
            },
            "type": "histogram"
           }
          ],
          "histogram2d": [
           {
            "colorbar": {
             "outlinewidth": 0,
             "ticks": ""
            },
            "colorscale": [
             [
              0,
              "#0d0887"
             ],
             [
              0.1111111111111111,
              "#46039f"
             ],
             [
              0.2222222222222222,
              "#7201a8"
             ],
             [
              0.3333333333333333,
              "#9c179e"
             ],
             [
              0.4444444444444444,
              "#bd3786"
             ],
             [
              0.5555555555555556,
              "#d8576b"
             ],
             [
              0.6666666666666666,
              "#ed7953"
             ],
             [
              0.7777777777777778,
              "#fb9f3a"
             ],
             [
              0.8888888888888888,
              "#fdca26"
             ],
             [
              1,
              "#f0f921"
             ]
            ],
            "type": "histogram2d"
           }
          ],
          "histogram2dcontour": [
           {
            "colorbar": {
             "outlinewidth": 0,
             "ticks": ""
            },
            "colorscale": [
             [
              0,
              "#0d0887"
             ],
             [
              0.1111111111111111,
              "#46039f"
             ],
             [
              0.2222222222222222,
              "#7201a8"
             ],
             [
              0.3333333333333333,
              "#9c179e"
             ],
             [
              0.4444444444444444,
              "#bd3786"
             ],
             [
              0.5555555555555556,
              "#d8576b"
             ],
             [
              0.6666666666666666,
              "#ed7953"
             ],
             [
              0.7777777777777778,
              "#fb9f3a"
             ],
             [
              0.8888888888888888,
              "#fdca26"
             ],
             [
              1,
              "#f0f921"
             ]
            ],
            "type": "histogram2dcontour"
           }
          ],
          "mesh3d": [
           {
            "colorbar": {
             "outlinewidth": 0,
             "ticks": ""
            },
            "type": "mesh3d"
           }
          ],
          "parcoords": [
           {
            "line": {
             "colorbar": {
              "outlinewidth": 0,
              "ticks": ""
             }
            },
            "type": "parcoords"
           }
          ],
          "pie": [
           {
            "automargin": true,
            "type": "pie"
           }
          ],
          "scatter": [
           {
            "fillpattern": {
             "fillmode": "overlay",
             "size": 10,
             "solidity": 0.2
            },
            "type": "scatter"
           }
          ],
          "scatter3d": [
           {
            "line": {
             "colorbar": {
              "outlinewidth": 0,
              "ticks": ""
             }
            },
            "marker": {
             "colorbar": {
              "outlinewidth": 0,
              "ticks": ""
             }
            },
            "type": "scatter3d"
           }
          ],
          "scattercarpet": [
           {
            "marker": {
             "colorbar": {
              "outlinewidth": 0,
              "ticks": ""
             }
            },
            "type": "scattercarpet"
           }
          ],
          "scattergeo": [
           {
            "marker": {
             "colorbar": {
              "outlinewidth": 0,
              "ticks": ""
             }
            },
            "type": "scattergeo"
           }
          ],
          "scattergl": [
           {
            "marker": {
             "colorbar": {
              "outlinewidth": 0,
              "ticks": ""
             }
            },
            "type": "scattergl"
           }
          ],
          "scattermapbox": [
           {
            "marker": {
             "colorbar": {
              "outlinewidth": 0,
              "ticks": ""
             }
            },
            "type": "scattermapbox"
           }
          ],
          "scatterpolar": [
           {
            "marker": {
             "colorbar": {
              "outlinewidth": 0,
              "ticks": ""
             }
            },
            "type": "scatterpolar"
           }
          ],
          "scatterpolargl": [
           {
            "marker": {
             "colorbar": {
              "outlinewidth": 0,
              "ticks": ""
             }
            },
            "type": "scatterpolargl"
           }
          ],
          "scatterternary": [
           {
            "marker": {
             "colorbar": {
              "outlinewidth": 0,
              "ticks": ""
             }
            },
            "type": "scatterternary"
           }
          ],
          "surface": [
           {
            "colorbar": {
             "outlinewidth": 0,
             "ticks": ""
            },
            "colorscale": [
             [
              0,
              "#0d0887"
             ],
             [
              0.1111111111111111,
              "#46039f"
             ],
             [
              0.2222222222222222,
              "#7201a8"
             ],
             [
              0.3333333333333333,
              "#9c179e"
             ],
             [
              0.4444444444444444,
              "#bd3786"
             ],
             [
              0.5555555555555556,
              "#d8576b"
             ],
             [
              0.6666666666666666,
              "#ed7953"
             ],
             [
              0.7777777777777778,
              "#fb9f3a"
             ],
             [
              0.8888888888888888,
              "#fdca26"
             ],
             [
              1,
              "#f0f921"
             ]
            ],
            "type": "surface"
           }
          ],
          "table": [
           {
            "cells": {
             "fill": {
              "color": "#EBF0F8"
             },
             "line": {
              "color": "white"
             }
            },
            "header": {
             "fill": {
              "color": "#C8D4E3"
             },
             "line": {
              "color": "white"
             }
            },
            "type": "table"
           }
          ]
         },
         "layout": {
          "annotationdefaults": {
           "arrowcolor": "#2a3f5f",
           "arrowhead": 0,
           "arrowwidth": 1
          },
          "autotypenumbers": "strict",
          "coloraxis": {
           "colorbar": {
            "outlinewidth": 0,
            "ticks": ""
           }
          },
          "colorscale": {
           "diverging": [
            [
             0,
             "#8e0152"
            ],
            [
             0.1,
             "#c51b7d"
            ],
            [
             0.2,
             "#de77ae"
            ],
            [
             0.3,
             "#f1b6da"
            ],
            [
             0.4,
             "#fde0ef"
            ],
            [
             0.5,
             "#f7f7f7"
            ],
            [
             0.6,
             "#e6f5d0"
            ],
            [
             0.7,
             "#b8e186"
            ],
            [
             0.8,
             "#7fbc41"
            ],
            [
             0.9,
             "#4d9221"
            ],
            [
             1,
             "#276419"
            ]
           ],
           "sequential": [
            [
             0,
             "#0d0887"
            ],
            [
             0.1111111111111111,
             "#46039f"
            ],
            [
             0.2222222222222222,
             "#7201a8"
            ],
            [
             0.3333333333333333,
             "#9c179e"
            ],
            [
             0.4444444444444444,
             "#bd3786"
            ],
            [
             0.5555555555555556,
             "#d8576b"
            ],
            [
             0.6666666666666666,
             "#ed7953"
            ],
            [
             0.7777777777777778,
             "#fb9f3a"
            ],
            [
             0.8888888888888888,
             "#fdca26"
            ],
            [
             1,
             "#f0f921"
            ]
           ],
           "sequentialminus": [
            [
             0,
             "#0d0887"
            ],
            [
             0.1111111111111111,
             "#46039f"
            ],
            [
             0.2222222222222222,
             "#7201a8"
            ],
            [
             0.3333333333333333,
             "#9c179e"
            ],
            [
             0.4444444444444444,
             "#bd3786"
            ],
            [
             0.5555555555555556,
             "#d8576b"
            ],
            [
             0.6666666666666666,
             "#ed7953"
            ],
            [
             0.7777777777777778,
             "#fb9f3a"
            ],
            [
             0.8888888888888888,
             "#fdca26"
            ],
            [
             1,
             "#f0f921"
            ]
           ]
          },
          "colorway": [
           "#636efa",
           "#EF553B",
           "#00cc96",
           "#ab63fa",
           "#FFA15A",
           "#19d3f3",
           "#FF6692",
           "#B6E880",
           "#FF97FF",
           "#FECB52"
          ],
          "font": {
           "color": "#2a3f5f"
          },
          "geo": {
           "bgcolor": "white",
           "lakecolor": "white",
           "landcolor": "#E5ECF6",
           "showlakes": true,
           "showland": true,
           "subunitcolor": "white"
          },
          "hoverlabel": {
           "align": "left"
          },
          "hovermode": "closest",
          "mapbox": {
           "style": "light"
          },
          "paper_bgcolor": "white",
          "plot_bgcolor": "#E5ECF6",
          "polar": {
           "angularaxis": {
            "gridcolor": "white",
            "linecolor": "white",
            "ticks": ""
           },
           "bgcolor": "#E5ECF6",
           "radialaxis": {
            "gridcolor": "white",
            "linecolor": "white",
            "ticks": ""
           }
          },
          "scene": {
           "xaxis": {
            "backgroundcolor": "#E5ECF6",
            "gridcolor": "white",
            "gridwidth": 2,
            "linecolor": "white",
            "showbackground": true,
            "ticks": "",
            "zerolinecolor": "white"
           },
           "yaxis": {
            "backgroundcolor": "#E5ECF6",
            "gridcolor": "white",
            "gridwidth": 2,
            "linecolor": "white",
            "showbackground": true,
            "ticks": "",
            "zerolinecolor": "white"
           },
           "zaxis": {
            "backgroundcolor": "#E5ECF6",
            "gridcolor": "white",
            "gridwidth": 2,
            "linecolor": "white",
            "showbackground": true,
            "ticks": "",
            "zerolinecolor": "white"
           }
          },
          "shapedefaults": {
           "line": {
            "color": "#2a3f5f"
           }
          },
          "ternary": {
           "aaxis": {
            "gridcolor": "white",
            "linecolor": "white",
            "ticks": ""
           },
           "baxis": {
            "gridcolor": "white",
            "linecolor": "white",
            "ticks": ""
           },
           "bgcolor": "#E5ECF6",
           "caxis": {
            "gridcolor": "white",
            "linecolor": "white",
            "ticks": ""
           }
          },
          "title": {
           "x": 0.05
          },
          "xaxis": {
           "automargin": true,
           "gridcolor": "white",
           "linecolor": "white",
           "ticks": "",
           "title": {
            "standoff": 15
           },
           "zerolinecolor": "white",
           "zerolinewidth": 2
          },
          "yaxis": {
           "automargin": true,
           "gridcolor": "white",
           "linecolor": "white",
           "ticks": "",
           "title": {
            "standoff": 15
           },
           "zerolinecolor": "white",
           "zerolinewidth": 2
          }
         }
        },
        "width": 1000
       }
      }
     },
     "metadata": {},
     "output_type": "display_data"
    }
   ],
   "source": [
    "Powr = df[df['profile_name'] == 'Powr E Sports | باور']\n",
    "Powr = Powr[['2016_views', '2017_views',\n",
    "       '2018_views', '2019_views', '2020_views', '2021_views', '2022_views',\n",
    "       '2023_views', '2024_views']].to_numpy()[0]\n",
    "\n",
    "Falcons = df[df['profile_name'] == 'Falcons']\n",
    "Falcons = Falcons[['2016_views', '2017_views',\n",
    "       '2018_views', '2019_views', '2020_views', '2021_views', '2022_views',\n",
    "       '2023_views', '2024_views']].to_numpy()[0]\n",
    "\n",
    "\n",
    "dfx = pd.DataFrame({\n",
    "    'Year': ['2016', '2017','2018', '2019', '2020', '2021', '2022','2023', '2024'],\n",
    "    'Powr': Powr,\n",
    "    'Falcons': Falcons\n",
    "})\n",
    "\n",
    "fig = go.Figure()\n",
    "\n",
    "fig.add_trace(go.Scatter(x=dfx['Year'], y=dfx['Powr'], mode='lines', name='Powr', line=dict(color='red')))\n",
    "fig.add_trace(go.Scatter(x=dfx['Year'], y=dfx['Falcons'], mode='lines', name='Falcons', line=dict(color='green')))\n",
    "\n",
    "\n",
    "#fig = px.line(dfx, x='Year', y=['Powr', 'Falcons'], labels={'x': 'X Axis', 'value': 'Y Axis'}, title='Multiline Chart Example')\n",
    "\n",
    "fig.update_layout(\n",
    "    width=1000,  # Width of the chart\n",
    "    height=800,  # Height of the chart\n",
    ")\n",
    "\n",
    "\n",
    "fig.show()\n"
   ]
  },
  {
   "cell_type": "code",
   "execution_count": 35,
   "metadata": {},
   "outputs": [
    {
     "data": {
      "text/html": [
       "<div>\n",
       "<style scoped>\n",
       "    .dataframe tbody tr th:only-of-type {\n",
       "        vertical-align: middle;\n",
       "    }\n",
       "\n",
       "    .dataframe tbody tr th {\n",
       "        vertical-align: top;\n",
       "    }\n",
       "\n",
       "    .dataframe thead th {\n",
       "        text-align: right;\n",
       "    }\n",
       "</style>\n",
       "<table border=\"1\" class=\"dataframe\">\n",
       "  <thead>\n",
       "    <tr style=\"text-align: right;\">\n",
       "      <th></th>\n",
       "      <th>profile_name</th>\n",
       "      <th>subscriber</th>\n",
       "      <th>view</th>\n",
       "      <th>video</th>\n",
       "      <th>country</th>\n",
       "      <th>category</th>\n",
       "      <th>since</th>\n",
       "      <th>last_subscriber_30</th>\n",
       "      <th>last_view_30</th>\n",
       "      <th>min_month_earnings</th>\n",
       "      <th>max_month_earnings</th>\n",
       "      <th>2016_views</th>\n",
       "      <th>2017_views</th>\n",
       "      <th>2018_views</th>\n",
       "      <th>2019_views</th>\n",
       "      <th>2020_views</th>\n",
       "      <th>2021_views</th>\n",
       "      <th>2022_views</th>\n",
       "      <th>2023_views</th>\n",
       "      <th>2024_views</th>\n",
       "      <th>2016_subscribers</th>\n",
       "      <th>2017_subscribers</th>\n",
       "      <th>2018_subscribers</th>\n",
       "      <th>2019_subscribers</th>\n",
       "      <th>2020_subscribers</th>\n",
       "      <th>2021_subscribers</th>\n",
       "      <th>2022_subscribers</th>\n",
       "      <th>2023_subscribers</th>\n",
       "      <th>2024_subscribers</th>\n",
       "    </tr>\n",
       "  </thead>\n",
       "  <tbody>\n",
       "    <tr>\n",
       "      <th>52</th>\n",
       "      <td>مستر شنب Mr Mr Sn B2 L</td>\n",
       "      <td>5680000</td>\n",
       "      <td>431997606</td>\n",
       "      <td>126</td>\n",
       "      <td>Saudi Arabia (SA)</td>\n",
       "      <td>People &amp; Blogs</td>\n",
       "      <td>2012</td>\n",
       "      <td>0</td>\n",
       "      <td>431997606</td>\n",
       "      <td>162000</td>\n",
       "      <td>972000</td>\n",
       "      <td>252219517</td>\n",
       "      <td>256482426</td>\n",
       "      <td>75167263</td>\n",
       "      <td>2096082</td>\n",
       "      <td>13729984</td>\n",
       "      <td>3072205</td>\n",
       "      <td>254339</td>\n",
       "      <td>529443</td>\n",
       "      <td>139392843</td>\n",
       "      <td>2781546</td>\n",
       "      <td>2052614</td>\n",
       "      <td>634842</td>\n",
       "      <td>210998</td>\n",
       "      <td>70000</td>\n",
       "      <td>10000</td>\n",
       "      <td>50000</td>\n",
       "      <td>20000</td>\n",
       "      <td>10000</td>\n",
       "    </tr>\n",
       "    <tr>\n",
       "      <th>0</th>\n",
       "      <td>Rotana</td>\n",
       "      <td>24500000</td>\n",
       "      <td>24034368999</td>\n",
       "      <td>9078</td>\n",
       "      <td>Saudi Arabia (SA)</td>\n",
       "      <td>Music</td>\n",
       "      <td>2012</td>\n",
       "      <td>200000</td>\n",
       "      <td>292453337</td>\n",
       "      <td>110000</td>\n",
       "      <td>658000</td>\n",
       "      <td>2599146119</td>\n",
       "      <td>1562878054</td>\n",
       "      <td>2107864788</td>\n",
       "      <td>2117443705</td>\n",
       "      <td>2193280884</td>\n",
       "      <td>3867422692</td>\n",
       "      <td>2912861124</td>\n",
       "      <td>3104603066</td>\n",
       "      <td>3568868567</td>\n",
       "      <td>3477819</td>\n",
       "      <td>1850288</td>\n",
       "      <td>4110479</td>\n",
       "      <td>3361414</td>\n",
       "      <td>2600000</td>\n",
       "      <td>3100000</td>\n",
       "      <td>2000000</td>\n",
       "      <td>2000000</td>\n",
       "      <td>2000000</td>\n",
       "    </tr>\n",
       "    <tr>\n",
       "      <th>3</th>\n",
       "      <td>Katakit Baby Tv</td>\n",
       "      <td>20200000</td>\n",
       "      <td>8517744618</td>\n",
       "      <td>231</td>\n",
       "      <td>Saudi Arabia (SA)</td>\n",
       "      <td>Music</td>\n",
       "      <td>2010</td>\n",
       "      <td>200000</td>\n",
       "      <td>133417200</td>\n",
       "      <td>50000</td>\n",
       "      <td>300000</td>\n",
       "      <td>0</td>\n",
       "      <td>0</td>\n",
       "      <td>0</td>\n",
       "      <td>0</td>\n",
       "      <td>0</td>\n",
       "      <td>4224521614</td>\n",
       "      <td>1488033470</td>\n",
       "      <td>1306130437</td>\n",
       "      <td>1499059097</td>\n",
       "      <td>0</td>\n",
       "      <td>0</td>\n",
       "      <td>0</td>\n",
       "      <td>0</td>\n",
       "      <td>0</td>\n",
       "      <td>10800000</td>\n",
       "      <td>3100000</td>\n",
       "      <td>3000000</td>\n",
       "      <td>3300000</td>\n",
       "    </tr>\n",
       "    <tr>\n",
       "      <th>66</th>\n",
       "      <td>Adnan Al Ansari</td>\n",
       "      <td>4750000</td>\n",
       "      <td>3866413638</td>\n",
       "      <td>2690</td>\n",
       "      <td>Saudi Arabia (SA)</td>\n",
       "      <td>Entertainment</td>\n",
       "      <td>2017</td>\n",
       "      <td>90000</td>\n",
       "      <td>101049975</td>\n",
       "      <td>37900</td>\n",
       "      <td>227000</td>\n",
       "      <td>0</td>\n",
       "      <td>0</td>\n",
       "      <td>0</td>\n",
       "      <td>0</td>\n",
       "      <td>0</td>\n",
       "      <td>128045103</td>\n",
       "      <td>1189089874</td>\n",
       "      <td>1069537590</td>\n",
       "      <td>1479741071</td>\n",
       "      <td>0</td>\n",
       "      <td>0</td>\n",
       "      <td>0</td>\n",
       "      <td>0</td>\n",
       "      <td>0</td>\n",
       "      <td>355000</td>\n",
       "      <td>825000</td>\n",
       "      <td>1920000</td>\n",
       "      <td>1650000</td>\n",
       "    </tr>\n",
       "    <tr>\n",
       "      <th>4</th>\n",
       "      <td>ماشا و الدب</td>\n",
       "      <td>18300000</td>\n",
       "      <td>10158387659</td>\n",
       "      <td>1482</td>\n",
       "      <td>Saudi Arabia (SA)</td>\n",
       "      <td>Shows</td>\n",
       "      <td>2017</td>\n",
       "      <td>100000</td>\n",
       "      <td>82126847</td>\n",
       "      <td>30800</td>\n",
       "      <td>185000</td>\n",
       "      <td>0</td>\n",
       "      <td>46853112</td>\n",
       "      <td>393684395</td>\n",
       "      <td>696384101</td>\n",
       "      <td>541672202</td>\n",
       "      <td>2562569016</td>\n",
       "      <td>2542744712</td>\n",
       "      <td>2121583995</td>\n",
       "      <td>1252896126</td>\n",
       "      <td>0</td>\n",
       "      <td>147992</td>\n",
       "      <td>1406619</td>\n",
       "      <td>2305389</td>\n",
       "      <td>1300000</td>\n",
       "      <td>4200000</td>\n",
       "      <td>3740000</td>\n",
       "      <td>3400000</td>\n",
       "      <td>1800000</td>\n",
       "    </tr>\n",
       "    <tr>\n",
       "      <th>167</th>\n",
       "      <td>Alma Stars</td>\n",
       "      <td>2560000</td>\n",
       "      <td>2477608328</td>\n",
       "      <td>1737</td>\n",
       "      <td>Saudi Arabia (SA)</td>\n",
       "      <td>Entertainment</td>\n",
       "      <td>2019</td>\n",
       "      <td>80000</td>\n",
       "      <td>75410412</td>\n",
       "      <td>28300</td>\n",
       "      <td>170000</td>\n",
       "      <td>0</td>\n",
       "      <td>0</td>\n",
       "      <td>0</td>\n",
       "      <td>0</td>\n",
       "      <td>0</td>\n",
       "      <td>0</td>\n",
       "      <td>0</td>\n",
       "      <td>658077658</td>\n",
       "      <td>1819530670</td>\n",
       "      <td>0</td>\n",
       "      <td>0</td>\n",
       "      <td>0</td>\n",
       "      <td>0</td>\n",
       "      <td>0</td>\n",
       "      <td>0</td>\n",
       "      <td>0</td>\n",
       "      <td>722000</td>\n",
       "      <td>1838000</td>\n",
       "    </tr>\n",
       "    <tr>\n",
       "      <th>58</th>\n",
       "      <td>Saif Shawaf</td>\n",
       "      <td>5260000</td>\n",
       "      <td>4346741959</td>\n",
       "      <td>521</td>\n",
       "      <td>Saudi Arabia (SA)</td>\n",
       "      <td>Music</td>\n",
       "      <td>2010</td>\n",
       "      <td>150000</td>\n",
       "      <td>72205934</td>\n",
       "      <td>27100</td>\n",
       "      <td>162000</td>\n",
       "      <td>0</td>\n",
       "      <td>0</td>\n",
       "      <td>0</td>\n",
       "      <td>0</td>\n",
       "      <td>0</td>\n",
       "      <td>0</td>\n",
       "      <td>772753517</td>\n",
       "      <td>2445684249</td>\n",
       "      <td>1128304193</td>\n",
       "      <td>0</td>\n",
       "      <td>0</td>\n",
       "      <td>0</td>\n",
       "      <td>0</td>\n",
       "      <td>0</td>\n",
       "      <td>0</td>\n",
       "      <td>913000</td>\n",
       "      <td>2987000</td>\n",
       "      <td>1360000</td>\n",
       "    </tr>\n",
       "    <tr>\n",
       "      <th>224</th>\n",
       "      <td>اديب Adadoob</td>\n",
       "      <td>1960000</td>\n",
       "      <td>936490679</td>\n",
       "      <td>487</td>\n",
       "      <td>Saudi Arabia (SA)</td>\n",
       "      <td>general</td>\n",
       "      <td>2019</td>\n",
       "      <td>90000</td>\n",
       "      <td>71606711</td>\n",
       "      <td>26900</td>\n",
       "      <td>161000</td>\n",
       "      <td>0</td>\n",
       "      <td>0</td>\n",
       "      <td>0</td>\n",
       "      <td>0</td>\n",
       "      <td>0</td>\n",
       "      <td>0</td>\n",
       "      <td>0</td>\n",
       "      <td>262309861</td>\n",
       "      <td>674180818</td>\n",
       "      <td>0</td>\n",
       "      <td>0</td>\n",
       "      <td>0</td>\n",
       "      <td>0</td>\n",
       "      <td>0</td>\n",
       "      <td>0</td>\n",
       "      <td>0</td>\n",
       "      <td>753000</td>\n",
       "      <td>1207000</td>\n",
       "    </tr>\n",
       "    <tr>\n",
       "      <th>125</th>\n",
       "      <td>عبدالعزيز أكرم</td>\n",
       "      <td>3270000</td>\n",
       "      <td>1770290806</td>\n",
       "      <td>356</td>\n",
       "      <td>Saudi Arabia (SA)</td>\n",
       "      <td>People &amp; Blogs</td>\n",
       "      <td>2016</td>\n",
       "      <td>80000</td>\n",
       "      <td>64525451</td>\n",
       "      <td>24200</td>\n",
       "      <td>145000</td>\n",
       "      <td>0</td>\n",
       "      <td>0</td>\n",
       "      <td>0</td>\n",
       "      <td>0</td>\n",
       "      <td>0</td>\n",
       "      <td>0</td>\n",
       "      <td>0</td>\n",
       "      <td>1000737532</td>\n",
       "      <td>769553274</td>\n",
       "      <td>0</td>\n",
       "      <td>0</td>\n",
       "      <td>0</td>\n",
       "      <td>0</td>\n",
       "      <td>0</td>\n",
       "      <td>0</td>\n",
       "      <td>0</td>\n",
       "      <td>1740000</td>\n",
       "      <td>1530000</td>\n",
       "    </tr>\n",
       "    <tr>\n",
       "      <th>300</th>\n",
       "      <td>فهد الشلهومي   Fahd Alshlhome</td>\n",
       "      <td>1560000</td>\n",
       "      <td>916283117</td>\n",
       "      <td>274</td>\n",
       "      <td>Saudi Arabia (SA)</td>\n",
       "      <td>Entertainment</td>\n",
       "      <td>2014</td>\n",
       "      <td>90000</td>\n",
       "      <td>64213312</td>\n",
       "      <td>24100</td>\n",
       "      <td>144000</td>\n",
       "      <td>0</td>\n",
       "      <td>2970985</td>\n",
       "      <td>9002889</td>\n",
       "      <td>8821584</td>\n",
       "      <td>6481499</td>\n",
       "      <td>7184955</td>\n",
       "      <td>15124712</td>\n",
       "      <td>347680879</td>\n",
       "      <td>519015614</td>\n",
       "      <td>0</td>\n",
       "      <td>34147</td>\n",
       "      <td>127436</td>\n",
       "      <td>135417</td>\n",
       "      <td>122000</td>\n",
       "      <td>77000</td>\n",
       "      <td>19000</td>\n",
       "      <td>292000</td>\n",
       "      <td>753000</td>\n",
       "    </tr>\n",
       "    <tr>\n",
       "      <th>6</th>\n",
       "      <td>Banderita X</td>\n",
       "      <td>18000000</td>\n",
       "      <td>5470017529</td>\n",
       "      <td>1887</td>\n",
       "      <td>Saudi Arabia (SA)</td>\n",
       "      <td>Gaming</td>\n",
       "      <td>2013</td>\n",
       "      <td>200000</td>\n",
       "      <td>62773474</td>\n",
       "      <td>23500</td>\n",
       "      <td>141000</td>\n",
       "      <td>0</td>\n",
       "      <td>29175086</td>\n",
       "      <td>324273326</td>\n",
       "      <td>697212218</td>\n",
       "      <td>506698285</td>\n",
       "      <td>1247328267</td>\n",
       "      <td>752264348</td>\n",
       "      <td>768565951</td>\n",
       "      <td>1144500048</td>\n",
       "      <td>0</td>\n",
       "      <td>234606</td>\n",
       "      <td>2432581</td>\n",
       "      <td>2852813</td>\n",
       "      <td>1720000</td>\n",
       "      <td>3660000</td>\n",
       "      <td>1400000</td>\n",
       "      <td>1400000</td>\n",
       "      <td>4300000</td>\n",
       "    </tr>\n",
       "  </tbody>\n",
       "</table>\n",
       "</div>"
      ],
      "text/plain": [
       "                      profile_name  subscriber         view  video  \\\n",
       "52         مستر شنب Mr Mr Sn B2 L      5680000    431997606    126   \n",
       "0                           Rotana    24500000  24034368999   9078   \n",
       "3                  Katakit Baby Tv    20200000   8517744618    231   \n",
       "66                 Adnan Al Ansari     4750000   3866413638   2690   \n",
       "4                      ماشا و الدب    18300000  10158387659   1482   \n",
       "167                     Alma Stars     2560000   2477608328   1737   \n",
       "58                     Saif Shawaf     5260000   4346741959    521   \n",
       "224                   اديب Adadoob     1960000    936490679    487   \n",
       "125                عبدالعزيز أكرم      3270000   1770290806    356   \n",
       "300  فهد الشلهومي   Fahd Alshlhome     1560000    916283117    274   \n",
       "6                      Banderita X    18000000   5470017529   1887   \n",
       "\n",
       "               country        category  since  last_subscriber_30  \\\n",
       "52   Saudi Arabia (SA)  People & Blogs   2012                   0   \n",
       "0    Saudi Arabia (SA)           Music   2012              200000   \n",
       "3    Saudi Arabia (SA)           Music   2010              200000   \n",
       "66   Saudi Arabia (SA)   Entertainment   2017               90000   \n",
       "4    Saudi Arabia (SA)           Shows   2017              100000   \n",
       "167  Saudi Arabia (SA)   Entertainment   2019               80000   \n",
       "58   Saudi Arabia (SA)           Music   2010              150000   \n",
       "224  Saudi Arabia (SA)         general   2019               90000   \n",
       "125  Saudi Arabia (SA)  People & Blogs   2016               80000   \n",
       "300  Saudi Arabia (SA)   Entertainment   2014               90000   \n",
       "6    Saudi Arabia (SA)          Gaming   2013              200000   \n",
       "\n",
       "     last_view_30  min_month_earnings  max_month_earnings  2016_views  \\\n",
       "52      431997606              162000              972000   252219517   \n",
       "0       292453337              110000              658000  2599146119   \n",
       "3       133417200               50000              300000           0   \n",
       "66      101049975               37900              227000           0   \n",
       "4        82126847               30800              185000           0   \n",
       "167      75410412               28300              170000           0   \n",
       "58       72205934               27100              162000           0   \n",
       "224      71606711               26900              161000           0   \n",
       "125      64525451               24200              145000           0   \n",
       "300      64213312               24100              144000           0   \n",
       "6        62773474               23500              141000           0   \n",
       "\n",
       "     2017_views  2018_views  2019_views  2020_views  2021_views  2022_views  \\\n",
       "52    256482426    75167263     2096082    13729984     3072205      254339   \n",
       "0    1562878054  2107864788  2117443705  2193280884  3867422692  2912861124   \n",
       "3             0           0           0           0  4224521614  1488033470   \n",
       "66            0           0           0           0   128045103  1189089874   \n",
       "4      46853112   393684395   696384101   541672202  2562569016  2542744712   \n",
       "167           0           0           0           0           0           0   \n",
       "58            0           0           0           0           0   772753517   \n",
       "224           0           0           0           0           0           0   \n",
       "125           0           0           0           0           0           0   \n",
       "300     2970985     9002889     8821584     6481499     7184955    15124712   \n",
       "6      29175086   324273326   697212218   506698285  1247328267   752264348   \n",
       "\n",
       "     2023_views  2024_views  2016_subscribers  2017_subscribers  \\\n",
       "52       529443   139392843           2781546           2052614   \n",
       "0    3104603066  3568868567           3477819           1850288   \n",
       "3    1306130437  1499059097                 0                 0   \n",
       "66   1069537590  1479741071                 0                 0   \n",
       "4    2121583995  1252896126                 0            147992   \n",
       "167   658077658  1819530670                 0                 0   \n",
       "58   2445684249  1128304193                 0                 0   \n",
       "224   262309861   674180818                 0                 0   \n",
       "125  1000737532   769553274                 0                 0   \n",
       "300   347680879   519015614                 0             34147   \n",
       "6     768565951  1144500048                 0            234606   \n",
       "\n",
       "     2018_subscribers  2019_subscribers  2020_subscribers  2021_subscribers  \\\n",
       "52             634842            210998             70000             10000   \n",
       "0             4110479           3361414           2600000           3100000   \n",
       "3                   0                 0                 0          10800000   \n",
       "66                  0                 0                 0            355000   \n",
       "4             1406619           2305389           1300000           4200000   \n",
       "167                 0                 0                 0                 0   \n",
       "58                  0                 0                 0                 0   \n",
       "224                 0                 0                 0                 0   \n",
       "125                 0                 0                 0                 0   \n",
       "300            127436            135417            122000             77000   \n",
       "6             2432581           2852813           1720000           3660000   \n",
       "\n",
       "     2022_subscribers  2023_subscribers  2024_subscribers  \n",
       "52              50000             20000             10000  \n",
       "0             2000000           2000000           2000000  \n",
       "3             3100000           3000000           3300000  \n",
       "66             825000           1920000           1650000  \n",
       "4             3740000           3400000           1800000  \n",
       "167                 0            722000           1838000  \n",
       "58             913000           2987000           1360000  \n",
       "224                 0            753000           1207000  \n",
       "125                 0           1740000           1530000  \n",
       "300             19000            292000            753000  \n",
       "6             1400000           1400000           4300000  "
      ]
     },
     "execution_count": 35,
     "metadata": {},
     "output_type": "execute_result"
    }
   ],
   "source": [
    "df_clean.sort_values(by=\"min_month_earnings\",ascending=False).head(11)"
   ]
  },
  {
   "cell_type": "code",
   "execution_count": 36,
   "metadata": {},
   "outputs": [
    {
     "name": "stderr",
     "output_type": "stream",
     "text": [
      "C:\\Users\\zyad abdallah\\AppData\\Local\\Temp\\ipykernel_22588\\1019475871.py:1: SettingWithCopyWarning:\n",
      "\n",
      "\n",
      "A value is trying to be set on a copy of a slice from a DataFrame\n",
      "\n",
      "See the caveats in the documentation: https://pandas.pydata.org/pandas-docs/stable/user_guide/indexing.html#returning-a-view-versus-a-copy\n",
      "\n"
     ]
    }
   ],
   "source": [
    "df_clean.drop(df_clean.index[58:60], inplace=True)\n"
   ]
  },
  {
   "cell_type": "code",
   "execution_count": 37,
   "metadata": {},
   "outputs": [
    {
     "data": {
      "application/vnd.plotly.v1+json": {
       "config": {
        "plotlyServerURL": "https://plot.ly"
       },
       "data": [
        {
         "alignmentgroup": "True",
         "hovertemplate": "profile_name=%{x}<br>2024_subscribers=%{y}<br>text=%{text}<extra></extra>",
         "legendgroup": "",
         "marker": {
          "color": "red",
          "pattern": {
           "shape": ""
          }
         },
         "name": "",
         "offsetgroup": "",
         "orientation": "v",
         "showlegend": false,
         "text": [
          "5.29M",
          "4.3M",
          "3.4M",
          "3.3M",
          "2.7M",
          "2.68M",
          "2.5M",
          "2.08M",
          "2.03M",
          "2.0M"
         ],
         "textposition": "outside",
         "type": "bar",
         "x": [
          "Fantom Pro",
          "Banderita X",
          "S Ho Ngx Bоng",
          "Katakit Baby Tv",
          "Powr Suhaib",
          " Ossy Marwah I اوسي مروة",
          "شبكة العاب العرب | Arab Games Network",
          "انيينكم | Aninnkm",
          "اوكا   Oka",
          "Rotana"
         ],
         "xaxis": "x",
         "y": [
          5290000,
          4300000,
          3400000,
          3300000,
          2700000,
          2680000,
          2500000,
          2080000,
          2030000,
          2000000
         ],
         "yaxis": "y"
        }
       ],
       "layout": {
        "barmode": "relative",
        "height": 700,
        "legend": {
         "tracegroupgap": 0
        },
        "showlegend": false,
        "template": {
         "data": {
          "bar": [
           {
            "error_x": {
             "color": "#2a3f5f"
            },
            "error_y": {
             "color": "#2a3f5f"
            },
            "marker": {
             "line": {
              "color": "#E5ECF6",
              "width": 0.5
             },
             "pattern": {
              "fillmode": "overlay",
              "size": 10,
              "solidity": 0.2
             }
            },
            "type": "bar"
           }
          ],
          "barpolar": [
           {
            "marker": {
             "line": {
              "color": "#E5ECF6",
              "width": 0.5
             },
             "pattern": {
              "fillmode": "overlay",
              "size": 10,
              "solidity": 0.2
             }
            },
            "type": "barpolar"
           }
          ],
          "carpet": [
           {
            "aaxis": {
             "endlinecolor": "#2a3f5f",
             "gridcolor": "white",
             "linecolor": "white",
             "minorgridcolor": "white",
             "startlinecolor": "#2a3f5f"
            },
            "baxis": {
             "endlinecolor": "#2a3f5f",
             "gridcolor": "white",
             "linecolor": "white",
             "minorgridcolor": "white",
             "startlinecolor": "#2a3f5f"
            },
            "type": "carpet"
           }
          ],
          "choropleth": [
           {
            "colorbar": {
             "outlinewidth": 0,
             "ticks": ""
            },
            "type": "choropleth"
           }
          ],
          "contour": [
           {
            "colorbar": {
             "outlinewidth": 0,
             "ticks": ""
            },
            "colorscale": [
             [
              0,
              "#0d0887"
             ],
             [
              0.1111111111111111,
              "#46039f"
             ],
             [
              0.2222222222222222,
              "#7201a8"
             ],
             [
              0.3333333333333333,
              "#9c179e"
             ],
             [
              0.4444444444444444,
              "#bd3786"
             ],
             [
              0.5555555555555556,
              "#d8576b"
             ],
             [
              0.6666666666666666,
              "#ed7953"
             ],
             [
              0.7777777777777778,
              "#fb9f3a"
             ],
             [
              0.8888888888888888,
              "#fdca26"
             ],
             [
              1,
              "#f0f921"
             ]
            ],
            "type": "contour"
           }
          ],
          "contourcarpet": [
           {
            "colorbar": {
             "outlinewidth": 0,
             "ticks": ""
            },
            "type": "contourcarpet"
           }
          ],
          "heatmap": [
           {
            "colorbar": {
             "outlinewidth": 0,
             "ticks": ""
            },
            "colorscale": [
             [
              0,
              "#0d0887"
             ],
             [
              0.1111111111111111,
              "#46039f"
             ],
             [
              0.2222222222222222,
              "#7201a8"
             ],
             [
              0.3333333333333333,
              "#9c179e"
             ],
             [
              0.4444444444444444,
              "#bd3786"
             ],
             [
              0.5555555555555556,
              "#d8576b"
             ],
             [
              0.6666666666666666,
              "#ed7953"
             ],
             [
              0.7777777777777778,
              "#fb9f3a"
             ],
             [
              0.8888888888888888,
              "#fdca26"
             ],
             [
              1,
              "#f0f921"
             ]
            ],
            "type": "heatmap"
           }
          ],
          "heatmapgl": [
           {
            "colorbar": {
             "outlinewidth": 0,
             "ticks": ""
            },
            "colorscale": [
             [
              0,
              "#0d0887"
             ],
             [
              0.1111111111111111,
              "#46039f"
             ],
             [
              0.2222222222222222,
              "#7201a8"
             ],
             [
              0.3333333333333333,
              "#9c179e"
             ],
             [
              0.4444444444444444,
              "#bd3786"
             ],
             [
              0.5555555555555556,
              "#d8576b"
             ],
             [
              0.6666666666666666,
              "#ed7953"
             ],
             [
              0.7777777777777778,
              "#fb9f3a"
             ],
             [
              0.8888888888888888,
              "#fdca26"
             ],
             [
              1,
              "#f0f921"
             ]
            ],
            "type": "heatmapgl"
           }
          ],
          "histogram": [
           {
            "marker": {
             "pattern": {
              "fillmode": "overlay",
              "size": 10,
              "solidity": 0.2
             }
            },
            "type": "histogram"
           }
          ],
          "histogram2d": [
           {
            "colorbar": {
             "outlinewidth": 0,
             "ticks": ""
            },
            "colorscale": [
             [
              0,
              "#0d0887"
             ],
             [
              0.1111111111111111,
              "#46039f"
             ],
             [
              0.2222222222222222,
              "#7201a8"
             ],
             [
              0.3333333333333333,
              "#9c179e"
             ],
             [
              0.4444444444444444,
              "#bd3786"
             ],
             [
              0.5555555555555556,
              "#d8576b"
             ],
             [
              0.6666666666666666,
              "#ed7953"
             ],
             [
              0.7777777777777778,
              "#fb9f3a"
             ],
             [
              0.8888888888888888,
              "#fdca26"
             ],
             [
              1,
              "#f0f921"
             ]
            ],
            "type": "histogram2d"
           }
          ],
          "histogram2dcontour": [
           {
            "colorbar": {
             "outlinewidth": 0,
             "ticks": ""
            },
            "colorscale": [
             [
              0,
              "#0d0887"
             ],
             [
              0.1111111111111111,
              "#46039f"
             ],
             [
              0.2222222222222222,
              "#7201a8"
             ],
             [
              0.3333333333333333,
              "#9c179e"
             ],
             [
              0.4444444444444444,
              "#bd3786"
             ],
             [
              0.5555555555555556,
              "#d8576b"
             ],
             [
              0.6666666666666666,
              "#ed7953"
             ],
             [
              0.7777777777777778,
              "#fb9f3a"
             ],
             [
              0.8888888888888888,
              "#fdca26"
             ],
             [
              1,
              "#f0f921"
             ]
            ],
            "type": "histogram2dcontour"
           }
          ],
          "mesh3d": [
           {
            "colorbar": {
             "outlinewidth": 0,
             "ticks": ""
            },
            "type": "mesh3d"
           }
          ],
          "parcoords": [
           {
            "line": {
             "colorbar": {
              "outlinewidth": 0,
              "ticks": ""
             }
            },
            "type": "parcoords"
           }
          ],
          "pie": [
           {
            "automargin": true,
            "type": "pie"
           }
          ],
          "scatter": [
           {
            "fillpattern": {
             "fillmode": "overlay",
             "size": 10,
             "solidity": 0.2
            },
            "type": "scatter"
           }
          ],
          "scatter3d": [
           {
            "line": {
             "colorbar": {
              "outlinewidth": 0,
              "ticks": ""
             }
            },
            "marker": {
             "colorbar": {
              "outlinewidth": 0,
              "ticks": ""
             }
            },
            "type": "scatter3d"
           }
          ],
          "scattercarpet": [
           {
            "marker": {
             "colorbar": {
              "outlinewidth": 0,
              "ticks": ""
             }
            },
            "type": "scattercarpet"
           }
          ],
          "scattergeo": [
           {
            "marker": {
             "colorbar": {
              "outlinewidth": 0,
              "ticks": ""
             }
            },
            "type": "scattergeo"
           }
          ],
          "scattergl": [
           {
            "marker": {
             "colorbar": {
              "outlinewidth": 0,
              "ticks": ""
             }
            },
            "type": "scattergl"
           }
          ],
          "scattermapbox": [
           {
            "marker": {
             "colorbar": {
              "outlinewidth": 0,
              "ticks": ""
             }
            },
            "type": "scattermapbox"
           }
          ],
          "scatterpolar": [
           {
            "marker": {
             "colorbar": {
              "outlinewidth": 0,
              "ticks": ""
             }
            },
            "type": "scatterpolar"
           }
          ],
          "scatterpolargl": [
           {
            "marker": {
             "colorbar": {
              "outlinewidth": 0,
              "ticks": ""
             }
            },
            "type": "scatterpolargl"
           }
          ],
          "scatterternary": [
           {
            "marker": {
             "colorbar": {
              "outlinewidth": 0,
              "ticks": ""
             }
            },
            "type": "scatterternary"
           }
          ],
          "surface": [
           {
            "colorbar": {
             "outlinewidth": 0,
             "ticks": ""
            },
            "colorscale": [
             [
              0,
              "#0d0887"
             ],
             [
              0.1111111111111111,
              "#46039f"
             ],
             [
              0.2222222222222222,
              "#7201a8"
             ],
             [
              0.3333333333333333,
              "#9c179e"
             ],
             [
              0.4444444444444444,
              "#bd3786"
             ],
             [
              0.5555555555555556,
              "#d8576b"
             ],
             [
              0.6666666666666666,
              "#ed7953"
             ],
             [
              0.7777777777777778,
              "#fb9f3a"
             ],
             [
              0.8888888888888888,
              "#fdca26"
             ],
             [
              1,
              "#f0f921"
             ]
            ],
            "type": "surface"
           }
          ],
          "table": [
           {
            "cells": {
             "fill": {
              "color": "#EBF0F8"
             },
             "line": {
              "color": "white"
             }
            },
            "header": {
             "fill": {
              "color": "#C8D4E3"
             },
             "line": {
              "color": "white"
             }
            },
            "type": "table"
           }
          ]
         },
         "layout": {
          "annotationdefaults": {
           "arrowcolor": "#2a3f5f",
           "arrowhead": 0,
           "arrowwidth": 1
          },
          "autotypenumbers": "strict",
          "coloraxis": {
           "colorbar": {
            "outlinewidth": 0,
            "ticks": ""
           }
          },
          "colorscale": {
           "diverging": [
            [
             0,
             "#8e0152"
            ],
            [
             0.1,
             "#c51b7d"
            ],
            [
             0.2,
             "#de77ae"
            ],
            [
             0.3,
             "#f1b6da"
            ],
            [
             0.4,
             "#fde0ef"
            ],
            [
             0.5,
             "#f7f7f7"
            ],
            [
             0.6,
             "#e6f5d0"
            ],
            [
             0.7,
             "#b8e186"
            ],
            [
             0.8,
             "#7fbc41"
            ],
            [
             0.9,
             "#4d9221"
            ],
            [
             1,
             "#276419"
            ]
           ],
           "sequential": [
            [
             0,
             "#0d0887"
            ],
            [
             0.1111111111111111,
             "#46039f"
            ],
            [
             0.2222222222222222,
             "#7201a8"
            ],
            [
             0.3333333333333333,
             "#9c179e"
            ],
            [
             0.4444444444444444,
             "#bd3786"
            ],
            [
             0.5555555555555556,
             "#d8576b"
            ],
            [
             0.6666666666666666,
             "#ed7953"
            ],
            [
             0.7777777777777778,
             "#fb9f3a"
            ],
            [
             0.8888888888888888,
             "#fdca26"
            ],
            [
             1,
             "#f0f921"
            ]
           ],
           "sequentialminus": [
            [
             0,
             "#0d0887"
            ],
            [
             0.1111111111111111,
             "#46039f"
            ],
            [
             0.2222222222222222,
             "#7201a8"
            ],
            [
             0.3333333333333333,
             "#9c179e"
            ],
            [
             0.4444444444444444,
             "#bd3786"
            ],
            [
             0.5555555555555556,
             "#d8576b"
            ],
            [
             0.6666666666666666,
             "#ed7953"
            ],
            [
             0.7777777777777778,
             "#fb9f3a"
            ],
            [
             0.8888888888888888,
             "#fdca26"
            ],
            [
             1,
             "#f0f921"
            ]
           ]
          },
          "colorway": [
           "#636efa",
           "#EF553B",
           "#00cc96",
           "#ab63fa",
           "#FFA15A",
           "#19d3f3",
           "#FF6692",
           "#B6E880",
           "#FF97FF",
           "#FECB52"
          ],
          "font": {
           "color": "#2a3f5f"
          },
          "geo": {
           "bgcolor": "white",
           "lakecolor": "white",
           "landcolor": "#E5ECF6",
           "showlakes": true,
           "showland": true,
           "subunitcolor": "white"
          },
          "hoverlabel": {
           "align": "left"
          },
          "hovermode": "closest",
          "mapbox": {
           "style": "light"
          },
          "paper_bgcolor": "white",
          "plot_bgcolor": "#E5ECF6",
          "polar": {
           "angularaxis": {
            "gridcolor": "white",
            "linecolor": "white",
            "ticks": ""
           },
           "bgcolor": "#E5ECF6",
           "radialaxis": {
            "gridcolor": "white",
            "linecolor": "white",
            "ticks": ""
           }
          },
          "scene": {
           "xaxis": {
            "backgroundcolor": "#E5ECF6",
            "gridcolor": "white",
            "gridwidth": 2,
            "linecolor": "white",
            "showbackground": true,
            "ticks": "",
            "zerolinecolor": "white"
           },
           "yaxis": {
            "backgroundcolor": "#E5ECF6",
            "gridcolor": "white",
            "gridwidth": 2,
            "linecolor": "white",
            "showbackground": true,
            "ticks": "",
            "zerolinecolor": "white"
           },
           "zaxis": {
            "backgroundcolor": "#E5ECF6",
            "gridcolor": "white",
            "gridwidth": 2,
            "linecolor": "white",
            "showbackground": true,
            "ticks": "",
            "zerolinecolor": "white"
           }
          },
          "shapedefaults": {
           "line": {
            "color": "#2a3f5f"
           }
          },
          "ternary": {
           "aaxis": {
            "gridcolor": "white",
            "linecolor": "white",
            "ticks": ""
           },
           "baxis": {
            "gridcolor": "white",
            "linecolor": "white",
            "ticks": ""
           },
           "bgcolor": "#E5ECF6",
           "caxis": {
            "gridcolor": "white",
            "linecolor": "white",
            "ticks": ""
           }
          },
          "title": {
           "x": 0.05
          },
          "xaxis": {
           "automargin": true,
           "gridcolor": "white",
           "linecolor": "white",
           "ticks": "",
           "title": {
            "standoff": 15
           },
           "zerolinecolor": "white",
           "zerolinewidth": 2
          },
          "yaxis": {
           "automargin": true,
           "gridcolor": "white",
           "linecolor": "white",
           "ticks": "",
           "title": {
            "standoff": 15
           },
           "zerolinecolor": "white",
           "zerolinewidth": 2
          }
         }
        },
        "title": {
         "text": "الاعلى نموا خلال سنه 2024"
        },
        "width": 800,
        "xaxis": {
         "anchor": "y",
         "domain": [
          0,
          1
         ],
         "title": {
          "text": "القنوات"
         }
        },
        "yaxis": {
         "anchor": "x",
         "domain": [
          0,
          1
         ],
         "title": {
          "text": "عدد المشاهدات"
         }
        }
       }
      }
     },
     "metadata": {},
     "output_type": "display_data"
    }
   ],
   "source": [
    "top_10_sub = df_clean.sort_values(by=\"2024_subscribers\", ascending=False).head(10)\n",
    "fig = px.bar(\n",
    "    top_10_sub,\n",
    "    x=\"profile_name\",  # Replace with the column identifying the row\n",
    "    y=\"2024_subscribers\",\n",
    "    title=\"الاعلى نموا خلال سنه 2024\",\n",
    "    text=['{:.4}M'.format(x / 1000000) for x in top_10_sub['2024_subscribers']],\n",
    "    height=700,\n",
    "    width=800,\n",
    "    #labels={\"item\": \"Items\", \"2024_views\": \"Views\"}, # Display values on the bars\n",
    ")\n",
    "\n",
    "# Update layout for better visuals\n",
    "fig.update_traces(textposition=\"outside\",   \n",
    "                  marker_color=\"red\"\n",
    ")\n",
    "fig.update_layout(\n",
    "    xaxis=dict(title=\"القنوات\"),  # عكس المحور الأفقي\n",
    "    \n",
    "    yaxis=dict(title=\"عدد المشاهدات\"),\n",
    "    showlegend=False,\n",
    ")\n",
    "\n",
    "# Show the plot\n",
    "fig.show()"
   ]
  },
  {
   "cell_type": "code",
   "execution_count": 52,
   "metadata": {},
   "outputs": [],
   "source": [
    "df_earing = df_clean[[\"profile_name\",\"min_month_earnings\",\"max_month_earnings\",\"2024_views\"]].sort_values(by=\"2024_views\",ascending=False).head(10)\n",
    "#df_earing.to_csv(\"youtube_data_earing.csv\")"
   ]
  },
  {
   "cell_type": "code",
   "execution_count": null,
   "metadata": {},
   "outputs": [
    {
     "data": {
      "text/html": [
       "<div>\n",
       "<style scoped>\n",
       "    .dataframe tbody tr th:only-of-type {\n",
       "        vertical-align: middle;\n",
       "    }\n",
       "\n",
       "    .dataframe tbody tr th {\n",
       "        vertical-align: top;\n",
       "    }\n",
       "\n",
       "    .dataframe thead th {\n",
       "        text-align: right;\n",
       "    }\n",
       "</style>\n",
       "<table border=\"1\" class=\"dataframe\">\n",
       "  <thead>\n",
       "    <tr style=\"text-align: right;\">\n",
       "      <th></th>\n",
       "      <th>اسم القناة</th>\n",
       "      <th>اقل ربح شهري متوقع</th>\n",
       "      <th>اعلى ربح شهري متوقع</th>\n",
       "      <th>2024_views</th>\n",
       "    </tr>\n",
       "  </thead>\n",
       "  <tbody>\n",
       "    <tr>\n",
       "      <th>0</th>\n",
       "      <td>Rotana</td>\n",
       "      <td>110000</td>\n",
       "      <td>658000</td>\n",
       "      <td>3568868567</td>\n",
       "    </tr>\n",
       "    <tr>\n",
       "      <th>9</th>\n",
       "      <td>روتانا خليجية</td>\n",
       "      <td>21500</td>\n",
       "      <td>129000</td>\n",
       "      <td>3192515785</td>\n",
       "    </tr>\n",
       "    <tr>\n",
       "      <th>8</th>\n",
       "      <td>Fantom Pro</td>\n",
       "      <td>15100</td>\n",
       "      <td>90700</td>\n",
       "      <td>2023418457</td>\n",
       "    </tr>\n",
       "    <tr>\n",
       "      <th>167</th>\n",
       "      <td>Alma Stars</td>\n",
       "      <td>28300</td>\n",
       "      <td>170000</td>\n",
       "      <td>1819530670</td>\n",
       "    </tr>\n",
       "    <tr>\n",
       "      <th>3</th>\n",
       "      <td>Katakit Baby Tv</td>\n",
       "      <td>50000</td>\n",
       "      <td>300000</td>\n",
       "      <td>1499059097</td>\n",
       "    </tr>\n",
       "    <tr>\n",
       "      <th>66</th>\n",
       "      <td>Adnan Al Ansari</td>\n",
       "      <td>37900</td>\n",
       "      <td>227000</td>\n",
       "      <td>1479741071</td>\n",
       "    </tr>\n",
       "    <tr>\n",
       "      <th>4</th>\n",
       "      <td>ماشا و الدب</td>\n",
       "      <td>30800</td>\n",
       "      <td>185000</td>\n",
       "      <td>1252896126</td>\n",
       "    </tr>\n",
       "    <tr>\n",
       "      <th>6</th>\n",
       "      <td>Banderita X</td>\n",
       "      <td>23500</td>\n",
       "      <td>141000</td>\n",
       "      <td>1144500048</td>\n",
       "    </tr>\n",
       "    <tr>\n",
       "      <th>58</th>\n",
       "      <td>Saif Shawaf</td>\n",
       "      <td>27100</td>\n",
       "      <td>162000</td>\n",
       "      <td>1128304193</td>\n",
       "    </tr>\n",
       "    <tr>\n",
       "      <th>21</th>\n",
       "      <td>انت تستطيع</td>\n",
       "      <td>17000</td>\n",
       "      <td>102000</td>\n",
       "      <td>1118849081</td>\n",
       "    </tr>\n",
       "  </tbody>\n",
       "</table>\n",
       "</div>"
      ],
      "text/plain": [
       "          اسم القناة  اقل ربح شهري متوقع  اعلى ربح شهري متوقع  2024_views\n",
       "0             Rotana              110000               658000  3568868567\n",
       "9      روتانا خليجية               21500               129000  3192515785\n",
       "8         Fantom Pro               15100                90700  2023418457\n",
       "167       Alma Stars               28300               170000  1819530670\n",
       "3    Katakit Baby Tv               50000               300000  1499059097\n",
       "66   Adnan Al Ansari               37900               227000  1479741071\n",
       "4        ماشا و الدب               30800               185000  1252896126\n",
       "6        Banderita X               23500               141000  1144500048\n",
       "58       Saif Shawaf               27100               162000  1128304193\n",
       "21        انت تستطيع               17000               102000  1118849081"
      ]
     },
     "execution_count": 54,
     "metadata": {},
     "output_type": "execute_result"
    }
   ],
   "source": [
    "df_earing.rename(columns={'profile_name': 'اسم القناة', 'min_month_earnings': 'اقل ربح شهري متوقع', 'max_month_earnings': 'اعلى ربح شهري متوقع'},inplace=True)"
   ]
  },
  {
   "cell_type": "code",
   "execution_count": 51,
   "metadata": {},
   "outputs": [
    {
     "data": {
      "text/html": [
       "<div>\n",
       "<style scoped>\n",
       "    .dataframe tbody tr th:only-of-type {\n",
       "        vertical-align: middle;\n",
       "    }\n",
       "\n",
       "    .dataframe tbody tr th {\n",
       "        vertical-align: top;\n",
       "    }\n",
       "\n",
       "    .dataframe thead th {\n",
       "        text-align: right;\n",
       "    }\n",
       "</style>\n",
       "<table border=\"1\" class=\"dataframe\">\n",
       "  <thead>\n",
       "    <tr style=\"text-align: right;\">\n",
       "      <th></th>\n",
       "      <th>profile_name</th>\n",
       "      <th>min_month_earnings</th>\n",
       "      <th>max_month_earnings</th>\n",
       "      <th>2024_views</th>\n",
       "    </tr>\n",
       "    <tr>\n",
       "      <th>profile_name</th>\n",
       "      <th></th>\n",
       "      <th></th>\n",
       "      <th></th>\n",
       "      <th></th>\n",
       "    </tr>\n",
       "  </thead>\n",
       "  <tbody>\n",
       "    <tr>\n",
       "      <th>Rotana</th>\n",
       "      <td>Rotana</td>\n",
       "      <td>110000</td>\n",
       "      <td>658000</td>\n",
       "      <td>3568868567</td>\n",
       "    </tr>\n",
       "    <tr>\n",
       "      <th>روتانا خليجية</th>\n",
       "      <td>روتانا خليجية</td>\n",
       "      <td>21500</td>\n",
       "      <td>129000</td>\n",
       "      <td>3192515785</td>\n",
       "    </tr>\n",
       "    <tr>\n",
       "      <th>Fantom Pro</th>\n",
       "      <td>Fantom Pro</td>\n",
       "      <td>15100</td>\n",
       "      <td>90700</td>\n",
       "      <td>2023418457</td>\n",
       "    </tr>\n",
       "    <tr>\n",
       "      <th>Alma Stars</th>\n",
       "      <td>Alma Stars</td>\n",
       "      <td>28300</td>\n",
       "      <td>170000</td>\n",
       "      <td>1819530670</td>\n",
       "    </tr>\n",
       "    <tr>\n",
       "      <th>Katakit Baby Tv</th>\n",
       "      <td>Katakit Baby Tv</td>\n",
       "      <td>50000</td>\n",
       "      <td>300000</td>\n",
       "      <td>1499059097</td>\n",
       "    </tr>\n",
       "    <tr>\n",
       "      <th>Adnan Al Ansari</th>\n",
       "      <td>Adnan Al Ansari</td>\n",
       "      <td>37900</td>\n",
       "      <td>227000</td>\n",
       "      <td>1479741071</td>\n",
       "    </tr>\n",
       "    <tr>\n",
       "      <th>ماشا و الدب</th>\n",
       "      <td>ماشا و الدب</td>\n",
       "      <td>30800</td>\n",
       "      <td>185000</td>\n",
       "      <td>1252896126</td>\n",
       "    </tr>\n",
       "    <tr>\n",
       "      <th>Banderita X</th>\n",
       "      <td>Banderita X</td>\n",
       "      <td>23500</td>\n",
       "      <td>141000</td>\n",
       "      <td>1144500048</td>\n",
       "    </tr>\n",
       "    <tr>\n",
       "      <th>Saif Shawaf</th>\n",
       "      <td>Saif Shawaf</td>\n",
       "      <td>27100</td>\n",
       "      <td>162000</td>\n",
       "      <td>1128304193</td>\n",
       "    </tr>\n",
       "    <tr>\n",
       "      <th>انت تستطيع</th>\n",
       "      <td>انت تستطيع</td>\n",
       "      <td>17000</td>\n",
       "      <td>102000</td>\n",
       "      <td>1118849081</td>\n",
       "    </tr>\n",
       "  </tbody>\n",
       "</table>\n",
       "</div>"
      ],
      "text/plain": [
       "                    profile_name  min_month_earnings  max_month_earnings  \\\n",
       "profile_name                                                               \n",
       "Rotana                    Rotana              110000              658000   \n",
       "روتانا خليجية      روتانا خليجية               21500              129000   \n",
       "Fantom Pro            Fantom Pro               15100               90700   \n",
       "Alma Stars            Alma Stars               28300              170000   \n",
       "Katakit Baby Tv  Katakit Baby Tv               50000              300000   \n",
       "Adnan Al Ansari  Adnan Al Ansari               37900              227000   \n",
       "ماشا و الدب          ماشا و الدب               30800              185000   \n",
       "Banderita X          Banderita X               23500              141000   \n",
       "Saif Shawaf          Saif Shawaf               27100              162000   \n",
       "انت تستطيع            انت تستطيع               17000              102000   \n",
       "\n",
       "                 2024_views  \n",
       "profile_name                 \n",
       "Rotana           3568868567  \n",
       "روتانا خليجية    3192515785  \n",
       "Fantom Pro       2023418457  \n",
       "Alma Stars       1819530670  \n",
       "Katakit Baby Tv  1499059097  \n",
       "Adnan Al Ansari  1479741071  \n",
       "ماشا و الدب      1252896126  \n",
       "Banderita X      1144500048  \n",
       "Saif Shawaf      1128304193  \n",
       "انت تستطيع       1118849081  "
      ]
     },
     "execution_count": 51,
     "metadata": {},
     "output_type": "execute_result"
    }
   ],
   "source": [
    "df_earing.index = df_earing[\"profile_name\"]\n",
    "df_earing"
   ]
  }
 ],
 "metadata": {
  "kernelspec": {
   "display_name": "base",
   "language": "python",
   "name": "python3"
  },
  "language_info": {
   "codemirror_mode": {
    "name": "ipython",
    "version": 3
   },
   "file_extension": ".py",
   "mimetype": "text/x-python",
   "name": "python",
   "nbconvert_exporter": "python",
   "pygments_lexer": "ipython3",
   "version": "3.12.4"
  }
 },
 "nbformat": 4,
 "nbformat_minor": 2
}
