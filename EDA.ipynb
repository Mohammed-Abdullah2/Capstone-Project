{
 "cells": [
  {
   "cell_type": "code",
   "execution_count": 1,
   "id": "8cf5bc0f-3b70-4405-bf0e-4745a59ba50e",
   "metadata": {},
   "outputs": [],
   "source": [
    "import warnings"
   ]
  },
  {
   "cell_type": "code",
   "execution_count": 2,
   "id": "c47d5fee-450f-444e-acdc-b0311c9aa081",
   "metadata": {},
   "outputs": [],
   "source": [
    "import numpy as np\n",
    "import pandas as pd"
   ]
  },
  {
   "cell_type": "code",
   "execution_count": 115,
   "id": "1efdf73f-5e31-4e67-960e-3f809b1f92d4",
   "metadata": {},
   "outputs": [],
   "source": [
    "import plotly.graph_objects as go\n",
    "import plotly.express as px"
   ]
  },
  {
   "cell_type": "code",
   "execution_count": 4,
   "id": "6d9487d6-2019-49eb-b760-097cec6cee73",
   "metadata": {},
   "outputs": [],
   "source": [
    "warnings.filterwarnings(\"ignore\")"
   ]
  },
  {
   "cell_type": "code",
   "execution_count": 5,
   "id": "7d49c8f7-92b6-4634-9449-e8e164934cf2",
   "metadata": {},
   "outputs": [],
   "source": [
    "# df = pd.read_csv('youtube_data.csv')"
   ]
  },
  {
   "cell_type": "code",
   "execution_count": 6,
   "id": "c5cc3296-95f0-47e3-95e6-95eba355d87d",
   "metadata": {
    "scrolled": true
   },
   "outputs": [],
   "source": [
    "# df"
   ]
  },
  {
   "cell_type": "code",
   "execution_count": 7,
   "id": "2d858baf-d953-4bf3-b709-80b5fcf3583c",
   "metadata": {},
   "outputs": [],
   "source": [
    "# df.isnull().sum()"
   ]
  },
  {
   "cell_type": "code",
   "execution_count": 8,
   "id": "bfa562ef-96d3-49f8-9ec9-c32ce2707f56",
   "metadata": {},
   "outputs": [],
   "source": [
    "# df.info()"
   ]
  },
  {
   "cell_type": "code",
   "execution_count": 9,
   "id": "71aaf304-b5f7-400f-a44d-48aeade7d485",
   "metadata": {},
   "outputs": [],
   "source": [
    "# index = df.shape[0]"
   ]
  },
  {
   "cell_type": "code",
   "execution_count": 10,
   "id": "9cbf6f79-9263-4bbc-afb9-55d9921291ed",
   "metadata": {
    "scrolled": true
   },
   "outputs": [],
   "source": [
    "# def re(x):\n",
    "#    return str(x).replace(',', '')"
   ]
  },
  {
   "cell_type": "code",
   "execution_count": 11,
   "id": "d1c8a0d6-ddf9-46ae-a206-840674f92f82",
   "metadata": {
    "scrolled": true
   },
   "outputs": [],
   "source": [
    "# df['subscriber'] = df['subscriber'].apply(re)"
   ]
  },
  {
   "cell_type": "code",
   "execution_count": 12,
   "id": "31310fb7-c6aa-4b6a-9402-f19a9e73e9b5",
   "metadata": {
    "scrolled": true
   },
   "outputs": [],
   "source": [
    "# df['view'] = df['view'].apply(re)"
   ]
  },
  {
   "cell_type": "code",
   "execution_count": 13,
   "id": "1548c2dd-ea06-4725-a9b5-09fa808a34a5",
   "metadata": {
    "scrolled": true
   },
   "outputs": [],
   "source": [
    "# df['last_subscriber_30'] = df['last_subscriber_30'].apply(re)"
   ]
  },
  {
   "cell_type": "code",
   "execution_count": 14,
   "id": "67ee4bdc-e832-419a-b88a-0e4a98d4223c",
   "metadata": {
    "scrolled": true
   },
   "outputs": [],
   "source": [
    "# df['last_view_30'] = df['last_view_30'].apply(re)"
   ]
  },
  {
   "cell_type": "code",
   "execution_count": 15,
   "id": "cee0b2d9-e3f8-4a15-b478-814c06688413",
   "metadata": {},
   "outputs": [],
   "source": [
    "# df = df.astype({ \"subscriber\": int, \"view\": int, \"last_subscriber_30\": int, \"last_view_30\": int })"
   ]
  },
  {
   "cell_type": "code",
   "execution_count": 16,
   "id": "2fff759d-588e-4d19-aa25-0d7bd4a263a2",
   "metadata": {},
   "outputs": [],
   "source": [
    "# month_earnings_min = []"
   ]
  },
  {
   "cell_type": "code",
   "execution_count": 17,
   "id": "57a10465-c4af-4ce7-a2ae-13fd6cc912ae",
   "metadata": {},
   "outputs": [],
   "source": [
    "# month_earnings_max = []"
   ]
  },
  {
   "cell_type": "code",
   "execution_count": 18,
   "id": "79f38ec4-236c-471c-bb43-1e09c58f3db3",
   "metadata": {},
   "outputs": [],
   "source": [
    "# for i in range(0, index):\n",
    "#     month_earnings_min.append(eval(df.loc[i, 'month_earnings'])[0].replace('$', ''))\n",
    "#     month_earnings_max.append(eval(df.loc[i, 'month_earnings'])[1].replace('$', ''))"
   ]
  },
  {
   "cell_type": "code",
   "execution_count": 19,
   "id": "314e59a0-7272-4d8e-b963-5f839417bf95",
   "metadata": {},
   "outputs": [],
   "source": [
    "# df['month_earnings_min'] = month_earnings_min"
   ]
  },
  {
   "cell_type": "code",
   "execution_count": 20,
   "id": "a7adc90e-4ab4-41a1-9a8c-b97d44488458",
   "metadata": {},
   "outputs": [],
   "source": [
    "# df['month_earnings_max'] = month_earnings_max"
   ]
  },
  {
   "cell_type": "code",
   "execution_count": 21,
   "id": "1cdb902b-9141-48d0-b6c3-dd9b8c38d66d",
   "metadata": {
    "scrolled": true
   },
   "outputs": [],
   "source": [
    "# for i in range(0, index):\n",
    "#     mem = df.loc[i, 'month_earnings_min']\n",
    "#     if mem == '':\n",
    "#         df.loc[i, 'month_earnings_min'] = 0\n",
    "#     else:\n",
    "#         if not type(mem) == int:\n",
    "#             if 'K' in mem:\n",
    "#                 mem = mem.replace('K', '')\n",
    "#                 mem = int(float(mem) * 1000)\n",
    "#                 df.loc[i, 'month_earnings_min'] = mem\n",
    "#             else:\n",
    "#                 mem = int(mem)\n",
    "#                 df.loc[i, 'month_earnings_min'] = mem"
   ]
  },
  {
   "cell_type": "code",
   "execution_count": 22,
   "id": "a29791bd-7050-422d-84d6-1e64f614f2d6",
   "metadata": {},
   "outputs": [],
   "source": [
    "# for i in range(0, index):\n",
    "#     mem = df.loc[i, 'month_earnings_max']\n",
    "#     if mem == '':\n",
    "#         df.loc[i, 'month_earnings_max'] = 0\n",
    "#     else:\n",
    "#         if not type(mem) == int:\n",
    "#             if 'M' in mem:\n",
    "#                 mem = mem.replace('M', '')\n",
    "#                 mem = int(float(mem) * 1000 * 1000)\n",
    "#                 df.loc[i, 'month_earnings_max'] = mem\n",
    "#             elif 'K' in mem:\n",
    "#                 mem = mem.replace('K', '')\n",
    "#                 mem = int(float(mem) * 1000)\n",
    "#                 df.loc[i, 'month_earnings_max'] = mem\n",
    "#             else:\n",
    "#                 mem = int(mem)\n",
    "#                 df.loc[i, 'month_earnings_max'] = mem"
   ]
  },
  {
   "cell_type": "code",
   "execution_count": 23,
   "id": "42744b27-cebe-418b-ad1a-c80a9da183eb",
   "metadata": {},
   "outputs": [],
   "source": [
    "# df"
   ]
  },
  {
   "cell_type": "code",
   "execution_count": 24,
   "id": "b6818b1d-ae2b-474c-82a0-3b13c5ee2618",
   "metadata": {},
   "outputs": [],
   "source": [
    "# df = df.astype({ \"month_earnings_min\": int, \"month_earnings_max\": int })"
   ]
  },
  {
   "cell_type": "code",
   "execution_count": 25,
   "id": "8925f877-4835-4bd5-bb3d-8a0650642269",
   "metadata": {},
   "outputs": [],
   "source": [
    "# df.info()"
   ]
  },
  {
   "cell_type": "code",
   "execution_count": 26,
   "id": "8410a848-f4a9-42b5-95e9-82f45d12636d",
   "metadata": {},
   "outputs": [],
   "source": [
    "# df.to_csv('youtube_data_eda.csv', index=False)"
   ]
  },
  {
   "cell_type": "code",
   "execution_count": 27,
   "id": "65801c5e-4d28-4036-873f-504ca179d51b",
   "metadata": {},
   "outputs": [],
   "source": [
    "# df = pd.read_csv('youtube_data_eda.csv')"
   ]
  },
  {
   "cell_type": "code",
   "execution_count": 28,
   "id": "c8e6abc6-bc27-4ab2-a611-f8b52c741b1a",
   "metadata": {
    "scrolled": true
   },
   "outputs": [],
   "source": [
    "# df"
   ]
  },
  {
   "cell_type": "code",
   "execution_count": 29,
   "id": "2ae2c3fe-66db-4cc5-9e14-21856f587383",
   "metadata": {
    "scrolled": true
   },
   "outputs": [],
   "source": [
    "# index = df.shape[0]"
   ]
  },
  {
   "cell_type": "code",
   "execution_count": 30,
   "id": "f27b0063-d42c-459b-b8ec-3a5d6bc5fe7e",
   "metadata": {
    "scrolled": true
   },
   "outputs": [],
   "source": [
    "# nindex = df[df['overviewSubscribers'].isna()].index"
   ]
  },
  {
   "cell_type": "code",
   "execution_count": 31,
   "id": "88088954-be43-4686-8379-f68047669c13",
   "metadata": {
    "scrolled": true
   },
   "outputs": [],
   "source": [
    "# for i in nindex:\n",
    "#     df.at[i, 'overviewSubscribers'] = []"
   ]
  },
  {
   "cell_type": "code",
   "execution_count": 32,
   "id": "689f2142-44a3-40da-af51-24a4a5358f34",
   "metadata": {},
   "outputs": [],
   "source": [
    "# overviewSubscribers_date = []"
   ]
  },
  {
   "cell_type": "code",
   "execution_count": 33,
   "id": "0941ae2c-1fb2-47d2-9991-438ac6b82d76",
   "metadata": {},
   "outputs": [],
   "source": [
    "# overviewSubscribers_count = []"
   ]
  },
  {
   "cell_type": "code",
   "execution_count": 34,
   "id": "3b71f640-d6dc-479b-a63f-b2c4576e6f7a",
   "metadata": {},
   "outputs": [],
   "source": [
    "# for i in range(0, index):\n",
    "#     yde = df.loc[i, ['overviewSubscribers']][0]\n",
    "#     if not yde == []:\n",
    "#         yde = eval(yde)\n",
    "#         a = []\n",
    "#         b = []\n",
    "#         for element in yde:\n",
    "#             a.append(element[0])\n",
    "#             b.append(element[1])\n",
    "#         overviewSubscribers_date.append(a)\n",
    "#         overviewSubscribers_count.append(b)\n",
    "#     else:\n",
    "#         overviewSubscribers_date.append([])\n",
    "#         overviewSubscribers_count.append([])"
   ]
  },
  {
   "cell_type": "code",
   "execution_count": 35,
   "id": "79383426-7ff8-4d0c-ab44-d52c3aa3599a",
   "metadata": {},
   "outputs": [],
   "source": [
    "# df['overviewSubscribers_date'] = overviewSubscribers_date"
   ]
  },
  {
   "cell_type": "code",
   "execution_count": 36,
   "id": "84d2aee0-715c-4bbb-9937-b59256730552",
   "metadata": {},
   "outputs": [],
   "source": [
    "# df['overviewSubscribers_count'] = overviewSubscribers_count"
   ]
  },
  {
   "cell_type": "code",
   "execution_count": 37,
   "id": "ecb31888-a644-4cf8-ab94-a8ae30562950",
   "metadata": {},
   "outputs": [],
   "source": [
    "# nindex = df[df['overviewVideoViews'].isna()].index"
   ]
  },
  {
   "cell_type": "code",
   "execution_count": 38,
   "id": "623659c6-0e29-440a-9520-9c72f34501e7",
   "metadata": {},
   "outputs": [],
   "source": [
    "# for i in nindex:\n",
    "#     df.at[i, 'overviewVideoViews'] = []"
   ]
  },
  {
   "cell_type": "code",
   "execution_count": 39,
   "id": "98de72c0-29db-4f21-a3cd-d9a69e111aa8",
   "metadata": {},
   "outputs": [],
   "source": [
    "# overviewVideoViews_date = []"
   ]
  },
  {
   "cell_type": "code",
   "execution_count": 40,
   "id": "ef89084e-ac11-49ae-98e2-626c18ff45df",
   "metadata": {},
   "outputs": [],
   "source": [
    "# overviewVideoViews_count = []"
   ]
  },
  {
   "cell_type": "code",
   "execution_count": 41,
   "id": "ef037593-52dd-4316-9b7b-942469e63b9d",
   "metadata": {},
   "outputs": [],
   "source": [
    "# for i in range(0, index):\n",
    "#     yde = df.loc[i, ['overviewVideoViews']][0]\n",
    "#     if not yde == []:\n",
    "#         yde = eval(yde)\n",
    "#         a = [] \t[2016-10-29\n",
    "#         b = []\n",
    "#         for element in yde:\n",
    "#             a.append(element[0])\n",
    "#             b.append(element[1])\n",
    "#         overviewVideoViews_date.append(a)\n",
    "#         overviewVideoViews_count.append(b)\n",
    "#     else:\n",
    "#         overviewVideoViews_date.append([])\n",
    "#         overviewVideoViews_count.append([])"
   ]
  },
  {
   "cell_type": "code",
   "execution_count": 42,
   "id": "f2df15b1-a383-4780-93de-abf85433f3d2",
   "metadata": {},
   "outputs": [],
   "source": [
    "# df['overviewVideoViews_date'] = overviewVideoViews_date"
   ]
  },
  {
   "cell_type": "code",
   "execution_count": 43,
   "id": "281fec4c-6abe-4dc9-aa03-7e6a2781d98a",
   "metadata": {},
   "outputs": [],
   "source": [
    "# df['overviewVideoViews_count'] = overviewVideoViews_count"
   ]
  },
  {
   "cell_type": "code",
   "execution_count": 44,
   "id": "a24c5344-fe15-4f8e-8587-b5fe0c458d3d",
   "metadata": {},
   "outputs": [],
   "source": [
    "# df.to_csv('youtube_data_eda.csv', index=False)"
   ]
  },
  {
   "cell_type": "code",
   "execution_count": 45,
   "id": "0fa9b762-e901-493e-9aef-3db5e476debf",
   "metadata": {},
   "outputs": [],
   "source": [
    "df = pd.read_csv('youtube_data_eda.csv')"
   ]
  },
  {
   "cell_type": "code",
   "execution_count": 46,
   "id": "1b64a12d-4fc6-46e1-9ea9-7ab4a493fa39",
   "metadata": {
    "scrolled": true
   },
   "outputs": [
    {
     "data": {
      "text/html": [
       "<div>\n",
       "<style scoped>\n",
       "    .dataframe tbody tr th:only-of-type {\n",
       "        vertical-align: middle;\n",
       "    }\n",
       "\n",
       "    .dataframe tbody tr th {\n",
       "        vertical-align: top;\n",
       "    }\n",
       "\n",
       "    .dataframe thead th {\n",
       "        text-align: right;\n",
       "    }\n",
       "</style>\n",
       "<table border=\"1\" class=\"dataframe\">\n",
       "  <thead>\n",
       "    <tr style=\"text-align: right;\">\n",
       "      <th></th>\n",
       "      <th>profile_name</th>\n",
       "      <th>subscriber</th>\n",
       "      <th>view</th>\n",
       "      <th>video</th>\n",
       "      <th>country</th>\n",
       "      <th>category</th>\n",
       "      <th>since</th>\n",
       "      <th>month_earnings</th>\n",
       "      <th>last_subscriber_30</th>\n",
       "      <th>last_view_30</th>\n",
       "      <th>overviewSubscribers</th>\n",
       "      <th>overviewVideoViews</th>\n",
       "      <th>month_earnings_min</th>\n",
       "      <th>month_earnings_max</th>\n",
       "      <th>overviewSubscribers_date</th>\n",
       "      <th>overviewSubscribers_count</th>\n",
       "      <th>overviewVideoViews_date</th>\n",
       "      <th>overviewVideoViews_count</th>\n",
       "    </tr>\n",
       "  </thead>\n",
       "  <tbody>\n",
       "    <tr>\n",
       "      <th>0</th>\n",
       "      <td>Rotana</td>\n",
       "      <td>24500000</td>\n",
       "      <td>24034368999</td>\n",
       "      <td>9078</td>\n",
       "      <td>Saudi Arabia (SA)</td>\n",
       "      <td>Music</td>\n",
       "      <td>2012</td>\n",
       "      <td>['$110K', '$658K']</td>\n",
       "      <td>200000</td>\n",
       "      <td>292453337</td>\n",
       "      <td>[['2016-10-29', '3282041'], ['2016-11-27', '33...</td>\n",
       "      <td>[['2016-10-29', '2397995058'], ['2016-11-27', ...</td>\n",
       "      <td>110000</td>\n",
       "      <td>658000</td>\n",
       "      <td>['2016-10-29', '2016-11-27', '2016-12-19', '20...</td>\n",
       "      <td>['3282041', '3394305', '3477819', '3594154', '...</td>\n",
       "      <td>['2016-10-29', '2016-11-27', '2016-12-19', '20...</td>\n",
       "      <td>['2397995058', '2517865902', '2599146119', '28...</td>\n",
       "    </tr>\n",
       "    <tr>\n",
       "      <th>1</th>\n",
       "      <td>Mmoshaya</td>\n",
       "      <td>23200000</td>\n",
       "      <td>18468679361</td>\n",
       "      <td>1240</td>\n",
       "      <td>Saudi Arabia (SA)</td>\n",
       "      <td>People &amp; Blogs</td>\n",
       "      <td>2010</td>\n",
       "      <td>['$12.8K', '$76.7K']</td>\n",
       "      <td>0</td>\n",
       "      <td>34076848</td>\n",
       "      <td>[['2016-10-27', '1139825'], ['2016-11-23', '12...</td>\n",
       "      <td>[['2016-10-27', '340585176'], ['2016-11-23', '...</td>\n",
       "      <td>12800</td>\n",
       "      <td>76700</td>\n",
       "      <td>['2016-10-27', '2016-11-23', '2016-12-23', '20...</td>\n",
       "      <td>['1139825', '1236408', '1386016', '1491742', '...</td>\n",
       "      <td>['2016-10-27', '2016-11-23', '2016-12-23', '20...</td>\n",
       "      <td>['340585176', '385899062', '454580517', '52517...</td>\n",
       "    </tr>\n",
       "    <tr>\n",
       "      <th>2</th>\n",
       "      <td>شبكة العاب العرب | Arab Games Network</td>\n",
       "      <td>22300000</td>\n",
       "      <td>10024125023</td>\n",
       "      <td>7460</td>\n",
       "      <td>Saudi Arabia (SA)</td>\n",
       "      <td>Gaming</td>\n",
       "      <td>2013</td>\n",
       "      <td>['$17K', '$102K']</td>\n",
       "      <td>100000</td>\n",
       "      <td>45416699</td>\n",
       "      <td>[['2016-11-14', '213303'], ['2017-01-19', '250...</td>\n",
       "      <td>[['2016-11-14', '22399237'], ['2017-01-19', '3...</td>\n",
       "      <td>17000</td>\n",
       "      <td>102000</td>\n",
       "      <td>['2016-11-14', '2017-01-19', '2017-05-01', '20...</td>\n",
       "      <td>['213303', '250934', '313996', '329298', '3880...</td>\n",
       "      <td>['2016-11-14', '2017-01-19', '2017-05-01', '20...</td>\n",
       "      <td>['22399237', '30860047', '40045340', '42931914...</td>\n",
       "    </tr>\n",
       "    <tr>\n",
       "      <th>3</th>\n",
       "      <td>Katakit Baby Tv</td>\n",
       "      <td>20200000</td>\n",
       "      <td>8517744618</td>\n",
       "      <td>231</td>\n",
       "      <td>Saudi Arabia (SA)</td>\n",
       "      <td>Music</td>\n",
       "      <td>2010</td>\n",
       "      <td>['$50K', '$300K']</td>\n",
       "      <td>200000</td>\n",
       "      <td>133417200</td>\n",
       "      <td>[['2021-07-18', '9780000'], ['2021-08-31', '10...</td>\n",
       "      <td>[['2021-07-18', '3675162082'], ['2021-08-31', ...</td>\n",
       "      <td>50000</td>\n",
       "      <td>300000</td>\n",
       "      <td>['2021-07-18', '2021-08-31', '2021-09-27', '20...</td>\n",
       "      <td>['9780000', '10100000', '10300000', '10600000'...</td>\n",
       "      <td>['2021-07-18', '2021-08-31', '2021-09-27', '20...</td>\n",
       "      <td>['3675162082', '3853558289', '3960178435', '40...</td>\n",
       "    </tr>\n",
       "    <tr>\n",
       "      <th>4</th>\n",
       "      <td>ماشا و الدب</td>\n",
       "      <td>18300000</td>\n",
       "      <td>10158387659</td>\n",
       "      <td>1482</td>\n",
       "      <td>Saudi Arabia (SA)</td>\n",
       "      <td>Shows</td>\n",
       "      <td>2017</td>\n",
       "      <td>['$30.8K', '$185K']</td>\n",
       "      <td>100000</td>\n",
       "      <td>82126847</td>\n",
       "      <td>[['2017-05-29', '967'], ['2017-06-18', '5106']...</td>\n",
       "      <td>[['2017-05-29', '135030'], ['2017-06-18', '973...</td>\n",
       "      <td>30800</td>\n",
       "      <td>185000</td>\n",
       "      <td>['2017-05-29', '2017-06-18', '2017-07-09', '20...</td>\n",
       "      <td>['967', '5106', '14636', '39196', '52839', '75...</td>\n",
       "      <td>['2017-05-29', '2017-06-18', '2017-07-09', '20...</td>\n",
       "      <td>['135030', '973753', '3369492', '10535464', '1...</td>\n",
       "    </tr>\n",
       "    <tr>\n",
       "      <th>...</th>\n",
       "      <td>...</td>\n",
       "      <td>...</td>\n",
       "      <td>...</td>\n",
       "      <td>...</td>\n",
       "      <td>...</td>\n",
       "      <td>...</td>\n",
       "      <td>...</td>\n",
       "      <td>...</td>\n",
       "      <td>...</td>\n",
       "      <td>...</td>\n",
       "      <td>...</td>\n",
       "      <td>...</td>\n",
       "      <td>...</td>\n",
       "      <td>...</td>\n",
       "      <td>...</td>\n",
       "      <td>...</td>\n",
       "      <td>...</td>\n",
       "      <td>...</td>\n",
       "    </tr>\n",
       "    <tr>\n",
       "      <th>3580</th>\n",
       "      <td>Thunayyan Khalid!</td>\n",
       "      <td>3890000</td>\n",
       "      <td>755411009</td>\n",
       "      <td>595</td>\n",
       "      <td>Canada (CA)</td>\n",
       "      <td>Entertainment</td>\n",
       "      <td>2010</td>\n",
       "      <td>['$170', '$1.03K']</td>\n",
       "      <td>0</td>\n",
       "      <td>455754</td>\n",
       "      <td>[['2016-10-29', '1440927'], ['2016-11-24', '15...</td>\n",
       "      <td>[['2016-10-29', '195190546'], ['2016-11-24', '...</td>\n",
       "      <td>170</td>\n",
       "      <td>1030</td>\n",
       "      <td>['2016-10-29', '2016-11-24', '2016-12-28', '20...</td>\n",
       "      <td>['1440927', '1517067', '1626937', '1748880', '...</td>\n",
       "      <td>['2016-10-29', '2016-11-24', '2016-12-28', '20...</td>\n",
       "      <td>['195190546', '209416570', '232033553', '25103...</td>\n",
       "    </tr>\n",
       "    <tr>\n",
       "      <th>3581</th>\n",
       "      <td>دانية شافعي Danyah Shafei</td>\n",
       "      <td>2830000</td>\n",
       "      <td>1160145940</td>\n",
       "      <td>329</td>\n",
       "      <td>NaN</td>\n",
       "      <td>Film &amp; Animation</td>\n",
       "      <td>2013</td>\n",
       "      <td>['$1.03K', '$6.21K']</td>\n",
       "      <td>0</td>\n",
       "      <td>2757922</td>\n",
       "      <td>[['2016-10-29', '396331'], ['2016-11-23', '439...</td>\n",
       "      <td>[['2016-10-29', '271407735'], ['2016-11-23', '...</td>\n",
       "      <td>1030</td>\n",
       "      <td>6210</td>\n",
       "      <td>['2016-10-29', '2016-11-23', '2017-01-28', '20...</td>\n",
       "      <td>['396331', '439363', '490322', '653386', '8683...</td>\n",
       "      <td>['2016-10-29', '2016-11-23', '2017-01-28', '20...</td>\n",
       "      <td>['271407735', '296874955', '330954677', '41969...</td>\n",
       "    </tr>\n",
       "    <tr>\n",
       "      <th>3582</th>\n",
       "      <td>25esports</td>\n",
       "      <td>348000</td>\n",
       "      <td>13915866</td>\n",
       "      <td>56</td>\n",
       "      <td>NaN</td>\n",
       "      <td>People &amp; Blogs</td>\n",
       "      <td>2017</td>\n",
       "      <td>['$78', '$471']</td>\n",
       "      <td>5000</td>\n",
       "      <td>209635</td>\n",
       "      <td>[['2021-06-17', '230000'], ['2021-07-30', '241...</td>\n",
       "      <td>[['2021-06-17', '4042277'], ['2021-07-30', '48...</td>\n",
       "      <td>78</td>\n",
       "      <td>471</td>\n",
       "      <td>['2021-06-17', '2021-07-30', '2021-09-06', '20...</td>\n",
       "      <td>['230000', '241000', '250000', '259000', '2650...</td>\n",
       "      <td>['2021-06-17', '2021-07-30', '2021-09-06', '20...</td>\n",
       "      <td>['4042277', '4848914', '5570774', '6866796', '...</td>\n",
       "    </tr>\n",
       "    <tr>\n",
       "      <th>3583</th>\n",
       "      <td>Barry | باري</td>\n",
       "      <td>1780000</td>\n",
       "      <td>23957794</td>\n",
       "      <td>1</td>\n",
       "      <td>NaN</td>\n",
       "      <td>People &amp; Blogs</td>\n",
       "      <td>2017</td>\n",
       "      <td>['$24', '$144']</td>\n",
       "      <td>0</td>\n",
       "      <td>64270</td>\n",
       "      <td>[['2017-03-25', '78157'], ['2017-04-17', '1044...</td>\n",
       "      <td>[['2017-03-25', '172750'], ['2017-04-17', '716...</td>\n",
       "      <td>24</td>\n",
       "      <td>144</td>\n",
       "      <td>['2017-03-25', '2017-04-17', '2017-05-09', '20...</td>\n",
       "      <td>['78157', '104496', '111980', '118654', '12344...</td>\n",
       "      <td>['2017-03-25', '2017-04-17', '2017-05-09', '20...</td>\n",
       "      <td>['172750', '716716', '820269', '908246', '9708...</td>\n",
       "    </tr>\n",
       "    <tr>\n",
       "      <th>3584</th>\n",
       "      <td>Dyler | دايلر</td>\n",
       "      <td>7860000</td>\n",
       "      <td>1224551963</td>\n",
       "      <td>567</td>\n",
       "      <td>NaN</td>\n",
       "      <td>People &amp; Blogs</td>\n",
       "      <td>2016</td>\n",
       "      <td>['$568', '$3.41K']</td>\n",
       "      <td>0</td>\n",
       "      <td>1515993</td>\n",
       "      <td>[['2017-01-03', '387'], ['2017-02-15', '132771...</td>\n",
       "      <td>[['2017-01-03', '0'], ['2017-02-15', '2639847'...</td>\n",
       "      <td>568</td>\n",
       "      <td>3410</td>\n",
       "      <td>['2017-01-03', '2017-02-15', '2017-08-07', '20...</td>\n",
       "      <td>['387', '132771', '1145825', '1728665', '19352...</td>\n",
       "      <td>['2017-01-03', '2017-02-15', '2017-08-07', '20...</td>\n",
       "      <td>['0', '2639847', '94221723', '172927041', '202...</td>\n",
       "    </tr>\n",
       "  </tbody>\n",
       "</table>\n",
       "<p>3585 rows × 18 columns</p>\n",
       "</div>"
      ],
      "text/plain": [
       "                               profile_name  subscriber         view  video  \\\n",
       "0                                    Rotana    24500000  24034368999   9078   \n",
       "1                                  Mmoshaya    23200000  18468679361   1240   \n",
       "2     شبكة العاب العرب | Arab Games Network    22300000  10024125023   7460   \n",
       "3                           Katakit Baby Tv    20200000   8517744618    231   \n",
       "4                               ماشا و الدب    18300000  10158387659   1482   \n",
       "...                                     ...         ...          ...    ...   \n",
       "3580                      Thunayyan Khalid!     3890000    755411009    595   \n",
       "3581              دانية شافعي Danyah Shafei     2830000   1160145940    329   \n",
       "3582                              25esports      348000     13915866     56   \n",
       "3583                           Barry | باري     1780000     23957794      1   \n",
       "3584                          Dyler | دايلر     7860000   1224551963    567   \n",
       "\n",
       "                country          category  since        month_earnings  \\\n",
       "0     Saudi Arabia (SA)             Music   2012    ['$110K', '$658K']   \n",
       "1     Saudi Arabia (SA)    People & Blogs   2010  ['$12.8K', '$76.7K']   \n",
       "2     Saudi Arabia (SA)            Gaming   2013     ['$17K', '$102K']   \n",
       "3     Saudi Arabia (SA)             Music   2010     ['$50K', '$300K']   \n",
       "4     Saudi Arabia (SA)             Shows   2017   ['$30.8K', '$185K']   \n",
       "...                 ...               ...    ...                   ...   \n",
       "3580        Canada (CA)     Entertainment   2010    ['$170', '$1.03K']   \n",
       "3581                NaN  Film & Animation   2013  ['$1.03K', '$6.21K']   \n",
       "3582                NaN    People & Blogs   2017       ['$78', '$471']   \n",
       "3583                NaN    People & Blogs   2017       ['$24', '$144']   \n",
       "3584                NaN    People & Blogs   2016    ['$568', '$3.41K']   \n",
       "\n",
       "      last_subscriber_30  last_view_30  \\\n",
       "0                 200000     292453337   \n",
       "1                      0      34076848   \n",
       "2                 100000      45416699   \n",
       "3                 200000     133417200   \n",
       "4                 100000      82126847   \n",
       "...                  ...           ...   \n",
       "3580                   0        455754   \n",
       "3581                   0       2757922   \n",
       "3582                5000        209635   \n",
       "3583                   0         64270   \n",
       "3584                   0       1515993   \n",
       "\n",
       "                                    overviewSubscribers  \\\n",
       "0     [['2016-10-29', '3282041'], ['2016-11-27', '33...   \n",
       "1     [['2016-10-27', '1139825'], ['2016-11-23', '12...   \n",
       "2     [['2016-11-14', '213303'], ['2017-01-19', '250...   \n",
       "3     [['2021-07-18', '9780000'], ['2021-08-31', '10...   \n",
       "4     [['2017-05-29', '967'], ['2017-06-18', '5106']...   \n",
       "...                                                 ...   \n",
       "3580  [['2016-10-29', '1440927'], ['2016-11-24', '15...   \n",
       "3581  [['2016-10-29', '396331'], ['2016-11-23', '439...   \n",
       "3582  [['2021-06-17', '230000'], ['2021-07-30', '241...   \n",
       "3583  [['2017-03-25', '78157'], ['2017-04-17', '1044...   \n",
       "3584  [['2017-01-03', '387'], ['2017-02-15', '132771...   \n",
       "\n",
       "                                     overviewVideoViews  month_earnings_min  \\\n",
       "0     [['2016-10-29', '2397995058'], ['2016-11-27', ...              110000   \n",
       "1     [['2016-10-27', '340585176'], ['2016-11-23', '...               12800   \n",
       "2     [['2016-11-14', '22399237'], ['2017-01-19', '3...               17000   \n",
       "3     [['2021-07-18', '3675162082'], ['2021-08-31', ...               50000   \n",
       "4     [['2017-05-29', '135030'], ['2017-06-18', '973...               30800   \n",
       "...                                                 ...                 ...   \n",
       "3580  [['2016-10-29', '195190546'], ['2016-11-24', '...                 170   \n",
       "3581  [['2016-10-29', '271407735'], ['2016-11-23', '...                1030   \n",
       "3582  [['2021-06-17', '4042277'], ['2021-07-30', '48...                  78   \n",
       "3583  [['2017-03-25', '172750'], ['2017-04-17', '716...                  24   \n",
       "3584  [['2017-01-03', '0'], ['2017-02-15', '2639847'...                 568   \n",
       "\n",
       "      month_earnings_max                           overviewSubscribers_date  \\\n",
       "0                 658000  ['2016-10-29', '2016-11-27', '2016-12-19', '20...   \n",
       "1                  76700  ['2016-10-27', '2016-11-23', '2016-12-23', '20...   \n",
       "2                 102000  ['2016-11-14', '2017-01-19', '2017-05-01', '20...   \n",
       "3                 300000  ['2021-07-18', '2021-08-31', '2021-09-27', '20...   \n",
       "4                 185000  ['2017-05-29', '2017-06-18', '2017-07-09', '20...   \n",
       "...                  ...                                                ...   \n",
       "3580                1030  ['2016-10-29', '2016-11-24', '2016-12-28', '20...   \n",
       "3581                6210  ['2016-10-29', '2016-11-23', '2017-01-28', '20...   \n",
       "3582                 471  ['2021-06-17', '2021-07-30', '2021-09-06', '20...   \n",
       "3583                 144  ['2017-03-25', '2017-04-17', '2017-05-09', '20...   \n",
       "3584                3410  ['2017-01-03', '2017-02-15', '2017-08-07', '20...   \n",
       "\n",
       "                              overviewSubscribers_count  \\\n",
       "0     ['3282041', '3394305', '3477819', '3594154', '...   \n",
       "1     ['1139825', '1236408', '1386016', '1491742', '...   \n",
       "2     ['213303', '250934', '313996', '329298', '3880...   \n",
       "3     ['9780000', '10100000', '10300000', '10600000'...   \n",
       "4     ['967', '5106', '14636', '39196', '52839', '75...   \n",
       "...                                                 ...   \n",
       "3580  ['1440927', '1517067', '1626937', '1748880', '...   \n",
       "3581  ['396331', '439363', '490322', '653386', '8683...   \n",
       "3582  ['230000', '241000', '250000', '259000', '2650...   \n",
       "3583  ['78157', '104496', '111980', '118654', '12344...   \n",
       "3584  ['387', '132771', '1145825', '1728665', '19352...   \n",
       "\n",
       "                                overviewVideoViews_date  \\\n",
       "0     ['2016-10-29', '2016-11-27', '2016-12-19', '20...   \n",
       "1     ['2016-10-27', '2016-11-23', '2016-12-23', '20...   \n",
       "2     ['2016-11-14', '2017-01-19', '2017-05-01', '20...   \n",
       "3     ['2021-07-18', '2021-08-31', '2021-09-27', '20...   \n",
       "4     ['2017-05-29', '2017-06-18', '2017-07-09', '20...   \n",
       "...                                                 ...   \n",
       "3580  ['2016-10-29', '2016-11-24', '2016-12-28', '20...   \n",
       "3581  ['2016-10-29', '2016-11-23', '2017-01-28', '20...   \n",
       "3582  ['2021-06-17', '2021-07-30', '2021-09-06', '20...   \n",
       "3583  ['2017-03-25', '2017-04-17', '2017-05-09', '20...   \n",
       "3584  ['2017-01-03', '2017-02-15', '2017-08-07', '20...   \n",
       "\n",
       "                               overviewVideoViews_count  \n",
       "0     ['2397995058', '2517865902', '2599146119', '28...  \n",
       "1     ['340585176', '385899062', '454580517', '52517...  \n",
       "2     ['22399237', '30860047', '40045340', '42931914...  \n",
       "3     ['3675162082', '3853558289', '3960178435', '40...  \n",
       "4     ['135030', '973753', '3369492', '10535464', '1...  \n",
       "...                                                 ...  \n",
       "3580  ['195190546', '209416570', '232033553', '25103...  \n",
       "3581  ['271407735', '296874955', '330954677', '41969...  \n",
       "3582  ['4042277', '4848914', '5570774', '6866796', '...  \n",
       "3583  ['172750', '716716', '820269', '908246', '9708...  \n",
       "3584  ['0', '2639847', '94221723', '172927041', '202...  \n",
       "\n",
       "[3585 rows x 18 columns]"
      ]
     },
     "execution_count": 46,
     "metadata": {},
     "output_type": "execute_result"
    }
   ],
   "source": [
    "df"
   ]
  },
  {
   "cell_type": "code",
   "execution_count": 47,
   "id": "0e191eaf-ddc0-4842-a834-e8851f4f07d9",
   "metadata": {},
   "outputs": [],
   "source": [
    "temp = df.head(1)"
   ]
  },
  {
   "cell_type": "code",
   "execution_count": 48,
   "id": "071cd72c-9726-4df9-ba38-0c0be327df67",
   "metadata": {
    "scrolled": true
   },
   "outputs": [],
   "source": [
    "overviewVideoViews_date = eval(temp['overviewVideoViews_date'][0])"
   ]
  },
  {
   "cell_type": "code",
   "execution_count": 49,
   "id": "e5526c0f-2d5e-4fec-afb5-7509aca095c7",
   "metadata": {},
   "outputs": [],
   "source": [
    "overviewVideoViews_count = eval(temp['overviewVideoViews_count'][0])"
   ]
  },
  {
   "cell_type": "code",
   "execution_count": 50,
   "id": "17cb8258-80e8-4be2-b03f-900dc6f4c09b",
   "metadata": {},
   "outputs": [],
   "source": [
    "df = pd.DataFrame({ 'overviewVideoViews_date' : overviewVideoViews_date, 'overviewVideoViews_count' : overviewVideoViews_count})"
   ]
  },
  {
   "cell_type": "code",
   "execution_count": 51,
   "id": "17d8f091-5612-42d8-b361-3c337dfb795d",
   "metadata": {
    "scrolled": true
   },
   "outputs": [
    {
     "data": {
      "text/html": [
       "<div>\n",
       "<style scoped>\n",
       "    .dataframe tbody tr th:only-of-type {\n",
       "        vertical-align: middle;\n",
       "    }\n",
       "\n",
       "    .dataframe tbody tr th {\n",
       "        vertical-align: top;\n",
       "    }\n",
       "\n",
       "    .dataframe thead th {\n",
       "        text-align: right;\n",
       "    }\n",
       "</style>\n",
       "<table border=\"1\" class=\"dataframe\">\n",
       "  <thead>\n",
       "    <tr style=\"text-align: right;\">\n",
       "      <th></th>\n",
       "      <th>overviewVideoViews_date</th>\n",
       "      <th>overviewVideoViews_count</th>\n",
       "    </tr>\n",
       "  </thead>\n",
       "  <tbody>\n",
       "    <tr>\n",
       "      <th>0</th>\n",
       "      <td>2016-10-29</td>\n",
       "      <td>2397995058</td>\n",
       "    </tr>\n",
       "    <tr>\n",
       "      <th>1</th>\n",
       "      <td>2016-11-27</td>\n",
       "      <td>2517865902</td>\n",
       "    </tr>\n",
       "    <tr>\n",
       "      <th>2</th>\n",
       "      <td>2016-12-19</td>\n",
       "      <td>2599146119</td>\n",
       "    </tr>\n",
       "    <tr>\n",
       "      <th>3</th>\n",
       "      <td>2017-01-19</td>\n",
       "      <td>2805885357</td>\n",
       "    </tr>\n",
       "    <tr>\n",
       "      <th>4</th>\n",
       "      <td>2017-03-11</td>\n",
       "      <td>2938467666</td>\n",
       "    </tr>\n",
       "    <tr>\n",
       "      <th>5</th>\n",
       "      <td>2017-04-24</td>\n",
       "      <td>3152626024</td>\n",
       "    </tr>\n",
       "    <tr>\n",
       "      <th>6</th>\n",
       "      <td>2017-06-02</td>\n",
       "      <td>3334260266</td>\n",
       "    </tr>\n",
       "    <tr>\n",
       "      <th>7</th>\n",
       "      <td>2017-07-16</td>\n",
       "      <td>3489798801</td>\n",
       "    </tr>\n",
       "    <tr>\n",
       "      <th>8</th>\n",
       "      <td>2017-08-07</td>\n",
       "      <td>3621016124</td>\n",
       "    </tr>\n",
       "    <tr>\n",
       "      <th>9</th>\n",
       "      <td>2017-08-29</td>\n",
       "      <td>3735101255</td>\n",
       "    </tr>\n",
       "    <tr>\n",
       "      <th>10</th>\n",
       "      <td>2017-09-21</td>\n",
       "      <td>3856349638</td>\n",
       "    </tr>\n",
       "    <tr>\n",
       "      <th>11</th>\n",
       "      <td>2017-10-13</td>\n",
       "      <td>3959026761</td>\n",
       "    </tr>\n",
       "    <tr>\n",
       "      <th>12</th>\n",
       "      <td>2017-11-05</td>\n",
       "      <td>4048561144</td>\n",
       "    </tr>\n",
       "    <tr>\n",
       "      <th>13</th>\n",
       "      <td>2017-12-01</td>\n",
       "      <td>4162024173</td>\n",
       "    </tr>\n",
       "    <tr>\n",
       "      <th>14</th>\n",
       "      <td>2018-01-04</td>\n",
       "      <td>4315595409</td>\n",
       "    </tr>\n",
       "    <tr>\n",
       "      <th>15</th>\n",
       "      <td>2018-02-09</td>\n",
       "      <td>4516816337</td>\n",
       "    </tr>\n",
       "    <tr>\n",
       "      <th>16</th>\n",
       "      <td>2018-03-18</td>\n",
       "      <td>4698966170</td>\n",
       "    </tr>\n",
       "    <tr>\n",
       "      <th>17</th>\n",
       "      <td>2018-04-26</td>\n",
       "      <td>4903309126</td>\n",
       "    </tr>\n",
       "    <tr>\n",
       "      <th>18</th>\n",
       "      <td>2018-06-12</td>\n",
       "      <td>5088326399</td>\n",
       "    </tr>\n",
       "    <tr>\n",
       "      <th>19</th>\n",
       "      <td>2018-07-19</td>\n",
       "      <td>5300814149</td>\n",
       "    </tr>\n",
       "    <tr>\n",
       "      <th>20</th>\n",
       "      <td>2018-08-13</td>\n",
       "      <td>5538989841</td>\n",
       "    </tr>\n",
       "    <tr>\n",
       "      <th>21</th>\n",
       "      <td>2018-09-05</td>\n",
       "      <td>5713230238</td>\n",
       "    </tr>\n",
       "    <tr>\n",
       "      <th>22</th>\n",
       "      <td>2018-09-27</td>\n",
       "      <td>5855193411</td>\n",
       "    </tr>\n",
       "    <tr>\n",
       "      <th>23</th>\n",
       "      <td>2018-10-23</td>\n",
       "      <td>5992051251</td>\n",
       "    </tr>\n",
       "    <tr>\n",
       "      <th>24</th>\n",
       "      <td>2018-11-18</td>\n",
       "      <td>6134482253</td>\n",
       "    </tr>\n",
       "    <tr>\n",
       "      <th>25</th>\n",
       "      <td>2018-12-15</td>\n",
       "      <td>6269888961</td>\n",
       "    </tr>\n",
       "    <tr>\n",
       "      <th>26</th>\n",
       "      <td>2019-01-10</td>\n",
       "      <td>6414360462</td>\n",
       "    </tr>\n",
       "    <tr>\n",
       "      <th>27</th>\n",
       "      <td>2019-02-13</td>\n",
       "      <td>6596207830</td>\n",
       "    </tr>\n",
       "    <tr>\n",
       "      <th>28</th>\n",
       "      <td>2019-03-08</td>\n",
       "      <td>6758504926</td>\n",
       "    </tr>\n",
       "    <tr>\n",
       "      <th>29</th>\n",
       "      <td>2019-04-01</td>\n",
       "      <td>6902862257</td>\n",
       "    </tr>\n",
       "    <tr>\n",
       "      <th>30</th>\n",
       "      <td>2019-05-03</td>\n",
       "      <td>7083089589</td>\n",
       "    </tr>\n",
       "    <tr>\n",
       "      <th>31</th>\n",
       "      <td>2019-06-07</td>\n",
       "      <td>7200162999</td>\n",
       "    </tr>\n",
       "    <tr>\n",
       "      <th>32</th>\n",
       "      <td>2019-07-23</td>\n",
       "      <td>7528752151</td>\n",
       "    </tr>\n",
       "    <tr>\n",
       "      <th>33</th>\n",
       "      <td>2019-09-10</td>\n",
       "      <td>7831357176</td>\n",
       "    </tr>\n",
       "    <tr>\n",
       "      <th>34</th>\n",
       "      <td>2019-11-02</td>\n",
       "      <td>8119903647</td>\n",
       "    </tr>\n",
       "    <tr>\n",
       "      <th>35</th>\n",
       "      <td>2019-12-21</td>\n",
       "      <td>8387332666</td>\n",
       "    </tr>\n",
       "    <tr>\n",
       "      <th>36</th>\n",
       "      <td>2020-01-12</td>\n",
       "      <td>8522300046</td>\n",
       "    </tr>\n",
       "    <tr>\n",
       "      <th>37</th>\n",
       "      <td>2020-02-12</td>\n",
       "      <td>8752807621</td>\n",
       "    </tr>\n",
       "    <tr>\n",
       "      <th>38</th>\n",
       "      <td>2020-10-07</td>\n",
       "      <td>10580613550</td>\n",
       "    </tr>\n",
       "    <tr>\n",
       "      <th>39</th>\n",
       "      <td>2021-07-05</td>\n",
       "      <td>13078331787</td>\n",
       "    </tr>\n",
       "    <tr>\n",
       "      <th>40</th>\n",
       "      <td>2021-08-16</td>\n",
       "      <td>13439396575</td>\n",
       "    </tr>\n",
       "    <tr>\n",
       "      <th>41</th>\n",
       "      <td>2021-12-17</td>\n",
       "      <td>14448036242</td>\n",
       "    </tr>\n",
       "    <tr>\n",
       "      <th>42</th>\n",
       "      <td>2022-05-06</td>\n",
       "      <td>15584463001</td>\n",
       "    </tr>\n",
       "    <tr>\n",
       "      <th>43</th>\n",
       "      <td>2022-08-27</td>\n",
       "      <td>16622170038</td>\n",
       "    </tr>\n",
       "    <tr>\n",
       "      <th>44</th>\n",
       "      <td>2022-11-21</td>\n",
       "      <td>17360897366</td>\n",
       "    </tr>\n",
       "    <tr>\n",
       "      <th>45</th>\n",
       "      <td>2023-02-08</td>\n",
       "      <td>18011594046</td>\n",
       "    </tr>\n",
       "    <tr>\n",
       "      <th>46</th>\n",
       "      <td>2023-04-28</td>\n",
       "      <td>18600181885</td>\n",
       "    </tr>\n",
       "    <tr>\n",
       "      <th>47</th>\n",
       "      <td>2023-10-29</td>\n",
       "      <td>20465500432</td>\n",
       "    </tr>\n",
       "    <tr>\n",
       "      <th>48</th>\n",
       "      <td>2024-02-11</td>\n",
       "      <td>21484555380</td>\n",
       "    </tr>\n",
       "    <tr>\n",
       "      <th>49</th>\n",
       "      <td>2024-05-19</td>\n",
       "      <td>22262814058</td>\n",
       "    </tr>\n",
       "    <tr>\n",
       "      <th>50</th>\n",
       "      <td>2024-08-31</td>\n",
       "      <td>23187881513</td>\n",
       "    </tr>\n",
       "    <tr>\n",
       "      <th>51</th>\n",
       "      <td>2024-11-20</td>\n",
       "      <td>24034368999</td>\n",
       "    </tr>\n",
       "  </tbody>\n",
       "</table>\n",
       "</div>"
      ],
      "text/plain": [
       "   overviewVideoViews_date overviewVideoViews_count\n",
       "0               2016-10-29               2397995058\n",
       "1               2016-11-27               2517865902\n",
       "2               2016-12-19               2599146119\n",
       "3               2017-01-19               2805885357\n",
       "4               2017-03-11               2938467666\n",
       "5               2017-04-24               3152626024\n",
       "6               2017-06-02               3334260266\n",
       "7               2017-07-16               3489798801\n",
       "8               2017-08-07               3621016124\n",
       "9               2017-08-29               3735101255\n",
       "10              2017-09-21               3856349638\n",
       "11              2017-10-13               3959026761\n",
       "12              2017-11-05               4048561144\n",
       "13              2017-12-01               4162024173\n",
       "14              2018-01-04               4315595409\n",
       "15              2018-02-09               4516816337\n",
       "16              2018-03-18               4698966170\n",
       "17              2018-04-26               4903309126\n",
       "18              2018-06-12               5088326399\n",
       "19              2018-07-19               5300814149\n",
       "20              2018-08-13               5538989841\n",
       "21              2018-09-05               5713230238\n",
       "22              2018-09-27               5855193411\n",
       "23              2018-10-23               5992051251\n",
       "24              2018-11-18               6134482253\n",
       "25              2018-12-15               6269888961\n",
       "26              2019-01-10               6414360462\n",
       "27              2019-02-13               6596207830\n",
       "28              2019-03-08               6758504926\n",
       "29              2019-04-01               6902862257\n",
       "30              2019-05-03               7083089589\n",
       "31              2019-06-07               7200162999\n",
       "32              2019-07-23               7528752151\n",
       "33              2019-09-10               7831357176\n",
       "34              2019-11-02               8119903647\n",
       "35              2019-12-21               8387332666\n",
       "36              2020-01-12               8522300046\n",
       "37              2020-02-12               8752807621\n",
       "38              2020-10-07              10580613550\n",
       "39              2021-07-05              13078331787\n",
       "40              2021-08-16              13439396575\n",
       "41              2021-12-17              14448036242\n",
       "42              2022-05-06              15584463001\n",
       "43              2022-08-27              16622170038\n",
       "44              2022-11-21              17360897366\n",
       "45              2023-02-08              18011594046\n",
       "46              2023-04-28              18600181885\n",
       "47              2023-10-29              20465500432\n",
       "48              2024-02-11              21484555380\n",
       "49              2024-05-19              22262814058\n",
       "50              2024-08-31              23187881513\n",
       "51              2024-11-20              24034368999"
      ]
     },
     "execution_count": 51,
     "metadata": {},
     "output_type": "execute_result"
    }
   ],
   "source": [
    "df"
   ]
  },
  {
   "cell_type": "code",
   "execution_count": 108,
   "id": "e7a8ac75-dc95-4edc-8e56-d42c852c2c1e",
   "metadata": {},
   "outputs": [],
   "source": [
    "fig = px.line(df, x='overviewVideoViews_date', y=\"overviewVideoViews_count\")"
   ]
  },
  {
   "cell_type": "code",
   "execution_count": 110,
   "id": "9fc69633-7fef-490b-88d3-aec7e276dd02",
   "metadata": {},
   "outputs": [
    {
     "data": {
      "application/vnd.plotly.v1+json": {
       "config": {
        "plotlyServerURL": "https://plot.ly"
       },
       "data": [
        {
         "hovertemplate": "overviewVideoViews_date=%{x}<br>overviewVideoViews_count=%{y}<extra></extra>",
         "legendgroup": "",
         "line": {
          "color": "#636efa",
          "dash": "solid"
         },
         "marker": {
          "symbol": "circle"
         },
         "mode": "lines",
         "name": "",
         "orientation": "v",
         "showlegend": false,
         "type": "scatter",
         "x": [
          "2016-10-29",
          "2016-11-27",
          "2016-12-19",
          "2017-01-19",
          "2017-03-11",
          "2017-04-24",
          "2017-06-02",
          "2017-07-16",
          "2017-08-07",
          "2017-08-29",
          "2017-09-21",
          "2017-10-13",
          "2017-11-05",
          "2017-12-01",
          "2018-01-04",
          "2018-02-09",
          "2018-03-18",
          "2018-04-26",
          "2018-06-12",
          "2018-07-19",
          "2018-08-13",
          "2018-09-05",
          "2018-09-27",
          "2018-10-23",
          "2018-11-18",
          "2018-12-15",
          "2019-01-10",
          "2019-02-13",
          "2019-03-08",
          "2019-04-01",
          "2019-05-03",
          "2019-06-07",
          "2019-07-23",
          "2019-09-10",
          "2019-11-02",
          "2019-12-21",
          "2020-01-12",
          "2020-02-12",
          "2020-10-07",
          "2021-07-05",
          "2021-08-16",
          "2021-12-17",
          "2022-05-06",
          "2022-08-27",
          "2022-11-21",
          "2023-02-08",
          "2023-04-28",
          "2023-10-29",
          "2024-02-11",
          "2024-05-19",
          "2024-08-31",
          "2024-11-20"
         ],
         "xaxis": "x",
         "y": [
          "2397995058",
          "2517865902",
          "2599146119",
          "2805885357",
          "2938467666",
          "3152626024",
          "3334260266",
          "3489798801",
          "3621016124",
          "3735101255",
          "3856349638",
          "3959026761",
          "4048561144",
          "4162024173",
          "4315595409",
          "4516816337",
          "4698966170",
          "4903309126",
          "5088326399",
          "5300814149",
          "5538989841",
          "5713230238",
          "5855193411",
          "5992051251",
          "6134482253",
          "6269888961",
          "6414360462",
          "6596207830",
          "6758504926",
          "6902862257",
          "7083089589",
          "7200162999",
          "7528752151",
          "7831357176",
          "8119903647",
          "8387332666",
          "8522300046",
          "8752807621",
          "10580613550",
          "13078331787",
          "13439396575",
          "14448036242",
          "15584463001",
          "16622170038",
          "17360897366",
          "18011594046",
          "18600181885",
          "20465500432",
          "21484555380",
          "22262814058",
          "23187881513",
          "24034368999"
         ],
         "yaxis": "y"
        }
       ],
       "layout": {
        "autosize": true,
        "legend": {
         "tracegroupgap": 0
        },
        "margin": {
         "t": 60
        },
        "template": {
         "data": {
          "bar": [
           {
            "error_x": {
             "color": "#2a3f5f"
            },
            "error_y": {
             "color": "#2a3f5f"
            },
            "marker": {
             "line": {
              "color": "#E5ECF6",
              "width": 0.5
             },
             "pattern": {
              "fillmode": "overlay",
              "size": 10,
              "solidity": 0.2
             }
            },
            "type": "bar"
           }
          ],
          "barpolar": [
           {
            "marker": {
             "line": {
              "color": "#E5ECF6",
              "width": 0.5
             },
             "pattern": {
              "fillmode": "overlay",
              "size": 10,
              "solidity": 0.2
             }
            },
            "type": "barpolar"
           }
          ],
          "carpet": [
           {
            "aaxis": {
             "endlinecolor": "#2a3f5f",
             "gridcolor": "white",
             "linecolor": "white",
             "minorgridcolor": "white",
             "startlinecolor": "#2a3f5f"
            },
            "baxis": {
             "endlinecolor": "#2a3f5f",
             "gridcolor": "white",
             "linecolor": "white",
             "minorgridcolor": "white",
             "startlinecolor": "#2a3f5f"
            },
            "type": "carpet"
           }
          ],
          "choropleth": [
           {
            "colorbar": {
             "outlinewidth": 0,
             "ticks": ""
            },
            "type": "choropleth"
           }
          ],
          "contour": [
           {
            "colorbar": {
             "outlinewidth": 0,
             "ticks": ""
            },
            "colorscale": [
             [
              0,
              "#0d0887"
             ],
             [
              0.1111111111111111,
              "#46039f"
             ],
             [
              0.2222222222222222,
              "#7201a8"
             ],
             [
              0.3333333333333333,
              "#9c179e"
             ],
             [
              0.4444444444444444,
              "#bd3786"
             ],
             [
              0.5555555555555556,
              "#d8576b"
             ],
             [
              0.6666666666666666,
              "#ed7953"
             ],
             [
              0.7777777777777778,
              "#fb9f3a"
             ],
             [
              0.8888888888888888,
              "#fdca26"
             ],
             [
              1,
              "#f0f921"
             ]
            ],
            "type": "contour"
           }
          ],
          "contourcarpet": [
           {
            "colorbar": {
             "outlinewidth": 0,
             "ticks": ""
            },
            "type": "contourcarpet"
           }
          ],
          "heatmap": [
           {
            "colorbar": {
             "outlinewidth": 0,
             "ticks": ""
            },
            "colorscale": [
             [
              0,
              "#0d0887"
             ],
             [
              0.1111111111111111,
              "#46039f"
             ],
             [
              0.2222222222222222,
              "#7201a8"
             ],
             [
              0.3333333333333333,
              "#9c179e"
             ],
             [
              0.4444444444444444,
              "#bd3786"
             ],
             [
              0.5555555555555556,
              "#d8576b"
             ],
             [
              0.6666666666666666,
              "#ed7953"
             ],
             [
              0.7777777777777778,
              "#fb9f3a"
             ],
             [
              0.8888888888888888,
              "#fdca26"
             ],
             [
              1,
              "#f0f921"
             ]
            ],
            "type": "heatmap"
           }
          ],
          "heatmapgl": [
           {
            "colorbar": {
             "outlinewidth": 0,
             "ticks": ""
            },
            "colorscale": [
             [
              0,
              "#0d0887"
             ],
             [
              0.1111111111111111,
              "#46039f"
             ],
             [
              0.2222222222222222,
              "#7201a8"
             ],
             [
              0.3333333333333333,
              "#9c179e"
             ],
             [
              0.4444444444444444,
              "#bd3786"
             ],
             [
              0.5555555555555556,
              "#d8576b"
             ],
             [
              0.6666666666666666,
              "#ed7953"
             ],
             [
              0.7777777777777778,
              "#fb9f3a"
             ],
             [
              0.8888888888888888,
              "#fdca26"
             ],
             [
              1,
              "#f0f921"
             ]
            ],
            "type": "heatmapgl"
           }
          ],
          "histogram": [
           {
            "marker": {
             "pattern": {
              "fillmode": "overlay",
              "size": 10,
              "solidity": 0.2
             }
            },
            "type": "histogram"
           }
          ],
          "histogram2d": [
           {
            "colorbar": {
             "outlinewidth": 0,
             "ticks": ""
            },
            "colorscale": [
             [
              0,
              "#0d0887"
             ],
             [
              0.1111111111111111,
              "#46039f"
             ],
             [
              0.2222222222222222,
              "#7201a8"
             ],
             [
              0.3333333333333333,
              "#9c179e"
             ],
             [
              0.4444444444444444,
              "#bd3786"
             ],
             [
              0.5555555555555556,
              "#d8576b"
             ],
             [
              0.6666666666666666,
              "#ed7953"
             ],
             [
              0.7777777777777778,
              "#fb9f3a"
             ],
             [
              0.8888888888888888,
              "#fdca26"
             ],
             [
              1,
              "#f0f921"
             ]
            ],
            "type": "histogram2d"
           }
          ],
          "histogram2dcontour": [
           {
            "colorbar": {
             "outlinewidth": 0,
             "ticks": ""
            },
            "colorscale": [
             [
              0,
              "#0d0887"
             ],
             [
              0.1111111111111111,
              "#46039f"
             ],
             [
              0.2222222222222222,
              "#7201a8"
             ],
             [
              0.3333333333333333,
              "#9c179e"
             ],
             [
              0.4444444444444444,
              "#bd3786"
             ],
             [
              0.5555555555555556,
              "#d8576b"
             ],
             [
              0.6666666666666666,
              "#ed7953"
             ],
             [
              0.7777777777777778,
              "#fb9f3a"
             ],
             [
              0.8888888888888888,
              "#fdca26"
             ],
             [
              1,
              "#f0f921"
             ]
            ],
            "type": "histogram2dcontour"
           }
          ],
          "mesh3d": [
           {
            "colorbar": {
             "outlinewidth": 0,
             "ticks": ""
            },
            "type": "mesh3d"
           }
          ],
          "parcoords": [
           {
            "line": {
             "colorbar": {
              "outlinewidth": 0,
              "ticks": ""
             }
            },
            "type": "parcoords"
           }
          ],
          "pie": [
           {
            "automargin": true,
            "type": "pie"
           }
          ],
          "scatter": [
           {
            "fillpattern": {
             "fillmode": "overlay",
             "size": 10,
             "solidity": 0.2
            },
            "type": "scatter"
           }
          ],
          "scatter3d": [
           {
            "line": {
             "colorbar": {
              "outlinewidth": 0,
              "ticks": ""
             }
            },
            "marker": {
             "colorbar": {
              "outlinewidth": 0,
              "ticks": ""
             }
            },
            "type": "scatter3d"
           }
          ],
          "scattercarpet": [
           {
            "marker": {
             "colorbar": {
              "outlinewidth": 0,
              "ticks": ""
             }
            },
            "type": "scattercarpet"
           }
          ],
          "scattergeo": [
           {
            "marker": {
             "colorbar": {
              "outlinewidth": 0,
              "ticks": ""
             }
            },
            "type": "scattergeo"
           }
          ],
          "scattergl": [
           {
            "marker": {
             "colorbar": {
              "outlinewidth": 0,
              "ticks": ""
             }
            },
            "type": "scattergl"
           }
          ],
          "scattermapbox": [
           {
            "marker": {
             "colorbar": {
              "outlinewidth": 0,
              "ticks": ""
             }
            },
            "type": "scattermapbox"
           }
          ],
          "scatterpolar": [
           {
            "marker": {
             "colorbar": {
              "outlinewidth": 0,
              "ticks": ""
             }
            },
            "type": "scatterpolar"
           }
          ],
          "scatterpolargl": [
           {
            "marker": {
             "colorbar": {
              "outlinewidth": 0,
              "ticks": ""
             }
            },
            "type": "scatterpolargl"
           }
          ],
          "scatterternary": [
           {
            "marker": {
             "colorbar": {
              "outlinewidth": 0,
              "ticks": ""
             }
            },
            "type": "scatterternary"
           }
          ],
          "surface": [
           {
            "colorbar": {
             "outlinewidth": 0,
             "ticks": ""
            },
            "colorscale": [
             [
              0,
              "#0d0887"
             ],
             [
              0.1111111111111111,
              "#46039f"
             ],
             [
              0.2222222222222222,
              "#7201a8"
             ],
             [
              0.3333333333333333,
              "#9c179e"
             ],
             [
              0.4444444444444444,
              "#bd3786"
             ],
             [
              0.5555555555555556,
              "#d8576b"
             ],
             [
              0.6666666666666666,
              "#ed7953"
             ],
             [
              0.7777777777777778,
              "#fb9f3a"
             ],
             [
              0.8888888888888888,
              "#fdca26"
             ],
             [
              1,
              "#f0f921"
             ]
            ],
            "type": "surface"
           }
          ],
          "table": [
           {
            "cells": {
             "fill": {
              "color": "#EBF0F8"
             },
             "line": {
              "color": "white"
             }
            },
            "header": {
             "fill": {
              "color": "#C8D4E3"
             },
             "line": {
              "color": "white"
             }
            },
            "type": "table"
           }
          ]
         },
         "layout": {
          "annotationdefaults": {
           "arrowcolor": "#2a3f5f",
           "arrowhead": 0,
           "arrowwidth": 1
          },
          "autotypenumbers": "strict",
          "coloraxis": {
           "colorbar": {
            "outlinewidth": 0,
            "ticks": ""
           }
          },
          "colorscale": {
           "diverging": [
            [
             0,
             "#8e0152"
            ],
            [
             0.1,
             "#c51b7d"
            ],
            [
             0.2,
             "#de77ae"
            ],
            [
             0.3,
             "#f1b6da"
            ],
            [
             0.4,
             "#fde0ef"
            ],
            [
             0.5,
             "#f7f7f7"
            ],
            [
             0.6,
             "#e6f5d0"
            ],
            [
             0.7,
             "#b8e186"
            ],
            [
             0.8,
             "#7fbc41"
            ],
            [
             0.9,
             "#4d9221"
            ],
            [
             1,
             "#276419"
            ]
           ],
           "sequential": [
            [
             0,
             "#0d0887"
            ],
            [
             0.1111111111111111,
             "#46039f"
            ],
            [
             0.2222222222222222,
             "#7201a8"
            ],
            [
             0.3333333333333333,
             "#9c179e"
            ],
            [
             0.4444444444444444,
             "#bd3786"
            ],
            [
             0.5555555555555556,
             "#d8576b"
            ],
            [
             0.6666666666666666,
             "#ed7953"
            ],
            [
             0.7777777777777778,
             "#fb9f3a"
            ],
            [
             0.8888888888888888,
             "#fdca26"
            ],
            [
             1,
             "#f0f921"
            ]
           ],
           "sequentialminus": [
            [
             0,
             "#0d0887"
            ],
            [
             0.1111111111111111,
             "#46039f"
            ],
            [
             0.2222222222222222,
             "#7201a8"
            ],
            [
             0.3333333333333333,
             "#9c179e"
            ],
            [
             0.4444444444444444,
             "#bd3786"
            ],
            [
             0.5555555555555556,
             "#d8576b"
            ],
            [
             0.6666666666666666,
             "#ed7953"
            ],
            [
             0.7777777777777778,
             "#fb9f3a"
            ],
            [
             0.8888888888888888,
             "#fdca26"
            ],
            [
             1,
             "#f0f921"
            ]
           ]
          },
          "colorway": [
           "#636efa",
           "#EF553B",
           "#00cc96",
           "#ab63fa",
           "#FFA15A",
           "#19d3f3",
           "#FF6692",
           "#B6E880",
           "#FF97FF",
           "#FECB52"
          ],
          "font": {
           "color": "#2a3f5f"
          },
          "geo": {
           "bgcolor": "white",
           "lakecolor": "white",
           "landcolor": "#E5ECF6",
           "showlakes": true,
           "showland": true,
           "subunitcolor": "white"
          },
          "hoverlabel": {
           "align": "left"
          },
          "hovermode": "closest",
          "mapbox": {
           "style": "light"
          },
          "paper_bgcolor": "white",
          "plot_bgcolor": "#E5ECF6",
          "polar": {
           "angularaxis": {
            "gridcolor": "white",
            "linecolor": "white",
            "ticks": ""
           },
           "bgcolor": "#E5ECF6",
           "radialaxis": {
            "gridcolor": "white",
            "linecolor": "white",
            "ticks": ""
           }
          },
          "scene": {
           "xaxis": {
            "backgroundcolor": "#E5ECF6",
            "gridcolor": "white",
            "gridwidth": 2,
            "linecolor": "white",
            "showbackground": true,
            "ticks": "",
            "zerolinecolor": "white"
           },
           "yaxis": {
            "backgroundcolor": "#E5ECF6",
            "gridcolor": "white",
            "gridwidth": 2,
            "linecolor": "white",
            "showbackground": true,
            "ticks": "",
            "zerolinecolor": "white"
           },
           "zaxis": {
            "backgroundcolor": "#E5ECF6",
            "gridcolor": "white",
            "gridwidth": 2,
            "linecolor": "white",
            "showbackground": true,
            "ticks": "",
            "zerolinecolor": "white"
           }
          },
          "shapedefaults": {
           "line": {
            "color": "#2a3f5f"
           }
          },
          "ternary": {
           "aaxis": {
            "gridcolor": "white",
            "linecolor": "white",
            "ticks": ""
           },
           "baxis": {
            "gridcolor": "white",
            "linecolor": "white",
            "ticks": ""
           },
           "bgcolor": "#E5ECF6",
           "caxis": {
            "gridcolor": "white",
            "linecolor": "white",
            "ticks": ""
           }
          },
          "title": {
           "x": 0.05
          },
          "xaxis": {
           "automargin": true,
           "gridcolor": "white",
           "linecolor": "white",
           "ticks": "",
           "title": {
            "standoff": 15
           },
           "zerolinecolor": "white",
           "zerolinewidth": 2
          },
          "yaxis": {
           "automargin": true,
           "gridcolor": "white",
           "linecolor": "white",
           "ticks": "",
           "title": {
            "standoff": 15
           },
           "zerolinecolor": "white",
           "zerolinewidth": 2
          }
         }
        },
        "xaxis": {
         "anchor": "y",
         "autorange": true,
         "domain": [
          0,
          1
         ],
         "range": [
          "2016-10-29",
          "2024-11-20"
         ],
         "title": {
          "text": "overviewVideoViews_date"
         },
         "type": "date"
        },
        "yaxis": {
         "anchor": "x",
         "autorange": true,
         "domain": [
          0,
          1
         ],
         "range": [
          -2.833333333333333,
          53.833333333333336
         ],
         "title": {
          "text": "overviewVideoViews_count"
         },
         "type": "category"
        }
       }
      },
      "image/png": "[encoded data removed]",
      "text/html": [
       "<div>                            <div id=\"83acc280-c855-4068-85f4-77ec6108fa74\" class=\"plotly-graph-div\" style=\"height:525px; width:100%;\"></div>            <script type=\"text/javascript\">                require([\"plotly\"], function(Plotly) {                    window.PLOTLYENV=window.PLOTLYENV || {};                                    if (document.getElementById(\"83acc280-c855-4068-85f4-77ec6108fa74\")) {                    Plotly.newPlot(                        \"83acc280-c855-4068-85f4-77ec6108fa74\",                        [{\"hovertemplate\":\"overviewVideoViews_date=%{x}<br>overviewVideoViews_count=%{y}<extra></extra>\",\"legendgroup\":\"\",\"line\":{\"color\":\"#636efa\",\"dash\":\"solid\"},\"marker\":{\"symbol\":\"circle\"},\"mode\":\"lines\",\"name\":\"\",\"orientation\":\"v\",\"showlegend\":false,\"x\":[\"2016-10-29\",\"2016-11-27\",\"2016-12-19\",\"2017-01-19\",\"2017-03-11\",\"2017-04-24\",\"2017-06-02\",\"2017-07-16\",\"2017-08-07\",\"2017-08-29\",\"2017-09-21\",\"2017-10-13\",\"2017-11-05\",\"2017-12-01\",\"2018-01-04\",\"2018-02-09\",\"2018-03-18\",\"2018-04-26\",\"2018-06-12\",\"2018-07-19\",\"2018-08-13\",\"2018-09-05\",\"2018-09-27\",\"2018-10-23\",\"2018-11-18\",\"2018-12-15\",\"2019-01-10\",\"2019-02-13\",\"2019-03-08\",\"2019-04-01\",\"2019-05-03\",\"2019-06-07\",\"2019-07-23\",\"2019-09-10\",\"2019-11-02\",\"2019-12-21\",\"2020-01-12\",\"2020-02-12\",\"2020-10-07\",\"2021-07-05\",\"2021-08-16\",\"2021-12-17\",\"2022-05-06\",\"2022-08-27\",\"2022-11-21\",\"2023-02-08\",\"2023-04-28\",\"2023-10-29\",\"2024-02-11\",\"2024-05-19\",\"2024-08-31\",\"2024-11-20\"],\"xaxis\":\"x\",\"y\":[\"2397995058\",\"2517865902\",\"2599146119\",\"2805885357\",\"2938467666\",\"3152626024\",\"3334260266\",\"3489798801\",\"3621016124\",\"3735101255\",\"3856349638\",\"3959026761\",\"4048561144\",\"4162024173\",\"4315595409\",\"4516816337\",\"4698966170\",\"4903309126\",\"5088326399\",\"5300814149\",\"5538989841\",\"5713230238\",\"5855193411\",\"5992051251\",\"6134482253\",\"6269888961\",\"6414360462\",\"6596207830\",\"6758504926\",\"6902862257\",\"7083089589\",\"7200162999\",\"7528752151\",\"7831357176\",\"8119903647\",\"8387332666\",\"8522300046\",\"8752807621\",\"10580613550\",\"13078331787\",\"13439396575\",\"14448036242\",\"15584463001\",\"16622170038\",\"17360897366\",\"18011594046\",\"18600181885\",\"20465500432\",\"21484555380\",\"22262814058\",\"23187881513\",\"24034368999\"],\"yaxis\":\"y\",\"type\":\"scatter\"}],                        {\"template\":{\"data\":{\"histogram2dcontour\":[{\"type\":\"histogram2dcontour\",\"colorbar\":{\"outlinewidth\":0,\"ticks\":\"\"},\"colorscale\":[[0.0,\"#0d0887\"],[0.1111111111111111,\"#46039f\"],[0.2222222222222222,\"#7201a8\"],[0.3333333333333333,\"#9c179e\"],[0.4444444444444444,\"#bd3786\"],[0.5555555555555556,\"#d8576b\"],[0.6666666666666666,\"#ed7953\"],[0.7777777777777778,\"#fb9f3a\"],[0.8888888888888888,\"#fdca26\"],[1.0,\"#f0f921\"]]}],\"choropleth\":[{\"type\":\"choropleth\",\"colorbar\":{\"outlinewidth\":0,\"ticks\":\"\"}}],\"histogram2d\":[{\"type\":\"histogram2d\",\"colorbar\":{\"outlinewidth\":0,\"ticks\":\"\"},\"colorscale\":[[0.0,\"#0d0887\"],[0.1111111111111111,\"#46039f\"],[0.2222222222222222,\"#7201a8\"],[0.3333333333333333,\"#9c179e\"],[0.4444444444444444,\"#bd3786\"],[0.5555555555555556,\"#d8576b\"],[0.6666666666666666,\"#ed7953\"],[0.7777777777777778,\"#fb9f3a\"],[0.8888888888888888,\"#fdca26\"],[1.0,\"#f0f921\"]]}],\"heatmap\":[{\"type\":\"heatmap\",\"colorbar\":{\"outlinewidth\":0,\"ticks\":\"\"},\"colorscale\":[[0.0,\"#0d0887\"],[0.1111111111111111,\"#46039f\"],[0.2222222222222222,\"#7201a8\"],[0.3333333333333333,\"#9c179e\"],[0.4444444444444444,\"#bd3786\"],[0.5555555555555556,\"#d8576b\"],[0.6666666666666666,\"#ed7953\"],[0.7777777777777778,\"#fb9f3a\"],[0.8888888888888888,\"#fdca26\"],[1.0,\"#f0f921\"]]}],\"heatmapgl\":[{\"type\":\"heatmapgl\",\"colorbar\":{\"outlinewidth\":0,\"ticks\":\"\"},\"colorscale\":[[0.0,\"#0d0887\"],[0.1111111111111111,\"#46039f\"],[0.2222222222222222,\"#7201a8\"],[0.3333333333333333,\"#9c179e\"],[0.4444444444444444,\"#bd3786\"],[0.5555555555555556,\"#d8576b\"],[0.6666666666666666,\"#ed7953\"],[0.7777777777777778,\"#fb9f3a\"],[0.8888888888888888,\"#fdca26\"],[1.0,\"#f0f921\"]]}],\"contourcarpet\":[{\"type\":\"contourcarpet\",\"colorbar\":{\"outlinewidth\":0,\"ticks\":\"\"}}],\"contour\":[{\"type\":\"contour\",\"colorbar\":{\"outlinewidth\":0,\"ticks\":\"\"},\"colorscale\":[[0.0,\"#0d0887\"],[0.1111111111111111,\"#46039f\"],[0.2222222222222222,\"#7201a8\"],[0.3333333333333333,\"#9c179e\"],[0.4444444444444444,\"#bd3786\"],[0.5555555555555556,\"#d8576b\"],[0.6666666666666666,\"#ed7953\"],[0.7777777777777778,\"#fb9f3a\"],[0.8888888888888888,\"#fdca26\"],[1.0,\"#f0f921\"]]}],\"surface\":[{\"type\":\"surface\",\"colorbar\":{\"outlinewidth\":0,\"ticks\":\"\"},\"colorscale\":[[0.0,\"#0d0887\"],[0.1111111111111111,\"#46039f\"],[0.2222222222222222,\"#7201a8\"],[0.3333333333333333,\"#9c179e\"],[0.4444444444444444,\"#bd3786\"],[0.5555555555555556,\"#d8576b\"],[0.6666666666666666,\"#ed7953\"],[0.7777777777777778,\"#fb9f3a\"],[0.8888888888888888,\"#fdca26\"],[1.0,\"#f0f921\"]]}],\"mesh3d\":[{\"type\":\"mesh3d\",\"colorbar\":{\"outlinewidth\":0,\"ticks\":\"\"}}],\"scatter\":[{\"fillpattern\":{\"fillmode\":\"overlay\",\"size\":10,\"solidity\":0.2},\"type\":\"scatter\"}],\"parcoords\":[{\"type\":\"parcoords\",\"line\":{\"colorbar\":{\"outlinewidth\":0,\"ticks\":\"\"}}}],\"scatterpolargl\":[{\"type\":\"scatterpolargl\",\"marker\":{\"colorbar\":{\"outlinewidth\":0,\"ticks\":\"\"}}}],\"bar\":[{\"error_x\":{\"color\":\"#2a3f5f\"},\"error_y\":{\"color\":\"#2a3f5f\"},\"marker\":{\"line\":{\"color\":\"#E5ECF6\",\"width\":0.5},\"pattern\":{\"fillmode\":\"overlay\",\"size\":10,\"solidity\":0.2}},\"type\":\"bar\"}],\"scattergeo\":[{\"type\":\"scattergeo\",\"marker\":{\"colorbar\":{\"outlinewidth\":0,\"ticks\":\"\"}}}],\"scatterpolar\":[{\"type\":\"scatterpolar\",\"marker\":{\"colorbar\":{\"outlinewidth\":0,\"ticks\":\"\"}}}],\"histogram\":[{\"marker\":{\"pattern\":{\"fillmode\":\"overlay\",\"size\":10,\"solidity\":0.2}},\"type\":\"histogram\"}],\"scattergl\":[{\"type\":\"scattergl\",\"marker\":{\"colorbar\":{\"outlinewidth\":0,\"ticks\":\"\"}}}],\"scatter3d\":[{\"type\":\"scatter3d\",\"line\":{\"colorbar\":{\"outlinewidth\":0,\"ticks\":\"\"}},\"marker\":{\"colorbar\":{\"outlinewidth\":0,\"ticks\":\"\"}}}],\"scattermapbox\":[{\"type\":\"scattermapbox\",\"marker\":{\"colorbar\":{\"outlinewidth\":0,\"ticks\":\"\"}}}],\"scatterternary\":[{\"type\":\"scatterternary\",\"marker\":{\"colorbar\":{\"outlinewidth\":0,\"ticks\":\"\"}}}],\"scattercarpet\":[{\"type\":\"scattercarpet\",\"marker\":{\"colorbar\":{\"outlinewidth\":0,\"ticks\":\"\"}}}],\"carpet\":[{\"aaxis\":{\"endlinecolor\":\"#2a3f5f\",\"gridcolor\":\"white\",\"linecolor\":\"white\",\"minorgridcolor\":\"white\",\"startlinecolor\":\"#2a3f5f\"},\"baxis\":{\"endlinecolor\":\"#2a3f5f\",\"gridcolor\":\"white\",\"linecolor\":\"white\",\"minorgridcolor\":\"white\",\"startlinecolor\":\"#2a3f5f\"},\"type\":\"carpet\"}],\"table\":[{\"cells\":{\"fill\":{\"color\":\"#EBF0F8\"},\"line\":{\"color\":\"white\"}},\"header\":{\"fill\":{\"color\":\"#C8D4E3\"},\"line\":{\"color\":\"white\"}},\"type\":\"table\"}],\"barpolar\":[{\"marker\":{\"line\":{\"color\":\"#E5ECF6\",\"width\":0.5},\"pattern\":{\"fillmode\":\"overlay\",\"size\":10,\"solidity\":0.2}},\"type\":\"barpolar\"}],\"pie\":[{\"automargin\":true,\"type\":\"pie\"}]},\"layout\":{\"autotypenumbers\":\"strict\",\"colorway\":[\"#636efa\",\"#EF553B\",\"#00cc96\",\"#ab63fa\",\"#FFA15A\",\"#19d3f3\",\"#FF6692\",\"#B6E880\",\"#FF97FF\",\"#FECB52\"],\"font\":{\"color\":\"#2a3f5f\"},\"hovermode\":\"closest\",\"hoverlabel\":{\"align\":\"left\"},\"paper_bgcolor\":\"white\",\"plot_bgcolor\":\"#E5ECF6\",\"polar\":{\"bgcolor\":\"#E5ECF6\",\"angularaxis\":{\"gridcolor\":\"white\",\"linecolor\":\"white\",\"ticks\":\"\"},\"radialaxis\":{\"gridcolor\":\"white\",\"linecolor\":\"white\",\"ticks\":\"\"}},\"ternary\":{\"bgcolor\":\"#E5ECF6\",\"aaxis\":{\"gridcolor\":\"white\",\"linecolor\":\"white\",\"ticks\":\"\"},\"baxis\":{\"gridcolor\":\"white\",\"linecolor\":\"white\",\"ticks\":\"\"},\"caxis\":{\"gridcolor\":\"white\",\"linecolor\":\"white\",\"ticks\":\"\"}},\"coloraxis\":{\"colorbar\":{\"outlinewidth\":0,\"ticks\":\"\"}},\"colorscale\":{\"sequential\":[[0.0,\"#0d0887\"],[0.1111111111111111,\"#46039f\"],[0.2222222222222222,\"#7201a8\"],[0.3333333333333333,\"#9c179e\"],[0.4444444444444444,\"#bd3786\"],[0.5555555555555556,\"#d8576b\"],[0.6666666666666666,\"#ed7953\"],[0.7777777777777778,\"#fb9f3a\"],[0.8888888888888888,\"#fdca26\"],[1.0,\"#f0f921\"]],\"sequentialminus\":[[0.0,\"#0d0887\"],[0.1111111111111111,\"#46039f\"],[0.2222222222222222,\"#7201a8\"],[0.3333333333333333,\"#9c179e\"],[0.4444444444444444,\"#bd3786\"],[0.5555555555555556,\"#d8576b\"],[0.6666666666666666,\"#ed7953\"],[0.7777777777777778,\"#fb9f3a\"],[0.8888888888888888,\"#fdca26\"],[1.0,\"#f0f921\"]],\"diverging\":[[0,\"#8e0152\"],[0.1,\"#c51b7d\"],[0.2,\"#de77ae\"],[0.3,\"#f1b6da\"],[0.4,\"#fde0ef\"],[0.5,\"#f7f7f7\"],[0.6,\"#e6f5d0\"],[0.7,\"#b8e186\"],[0.8,\"#7fbc41\"],[0.9,\"#4d9221\"],[1,\"#276419\"]]},\"xaxis\":{\"gridcolor\":\"white\",\"linecolor\":\"white\",\"ticks\":\"\",\"title\":{\"standoff\":15},\"zerolinecolor\":\"white\",\"automargin\":true,\"zerolinewidth\":2},\"yaxis\":{\"gridcolor\":\"white\",\"linecolor\":\"white\",\"ticks\":\"\",\"title\":{\"standoff\":15},\"zerolinecolor\":\"white\",\"automargin\":true,\"zerolinewidth\":2},\"scene\":{\"xaxis\":{\"backgroundcolor\":\"#E5ECF6\",\"gridcolor\":\"white\",\"linecolor\":\"white\",\"showbackground\":true,\"ticks\":\"\",\"zerolinecolor\":\"white\",\"gridwidth\":2},\"yaxis\":{\"backgroundcolor\":\"#E5ECF6\",\"gridcolor\":\"white\",\"linecolor\":\"white\",\"showbackground\":true,\"ticks\":\"\",\"zerolinecolor\":\"white\",\"gridwidth\":2},\"zaxis\":{\"backgroundcolor\":\"#E5ECF6\",\"gridcolor\":\"white\",\"linecolor\":\"white\",\"showbackground\":true,\"ticks\":\"\",\"zerolinecolor\":\"white\",\"gridwidth\":2}},\"shapedefaults\":{\"line\":{\"color\":\"#2a3f5f\"}},\"annotationdefaults\":{\"arrowcolor\":\"#2a3f5f\",\"arrowhead\":0,\"arrowwidth\":1},\"geo\":{\"bgcolor\":\"white\",\"landcolor\":\"#E5ECF6\",\"subunitcolor\":\"white\",\"showland\":true,\"showlakes\":true,\"lakecolor\":\"white\"},\"title\":{\"x\":0.05},\"mapbox\":{\"style\":\"light\"}}},\"xaxis\":{\"anchor\":\"y\",\"domain\":[0.0,1.0],\"title\":{\"text\":\"overviewVideoViews_date\"}},\"yaxis\":{\"anchor\":\"x\",\"domain\":[0.0,1.0],\"title\":{\"text\":\"overviewVideoViews_count\"}},\"legend\":{\"tracegroupgap\":0},\"margin\":{\"t\":60}},                        {\"responsive\": true}                    ).then(function(){\n",
       "                            \n",
       "var gd = document.getElementById('83acc280-c855-4068-85f4-77ec6108fa74');\n",
       "var x = new MutationObserver(function (mutations, observer) {{\n",
       "        var display = window.getComputedStyle(gd).display;\n",
       "        if (!display || display === 'none') {{\n",
       "            console.log([gd, 'removed!']);\n",
       "            Plotly.purge(gd);\n",
       "            observer.disconnect();\n",
       "        }}\n",
       "}});\n",
       "\n",
       "// Listen for the removal of the full notebook cells\n",
       "var notebookContainer = gd.closest('#notebook-container');\n",
       "if (notebookContainer) {{\n",
       "    x.observe(notebookContainer, {childList: true});\n",
       "}}\n",
       "\n",
       "// Listen for the clearing of the current output cell\n",
       "var outputEl = gd.closest('.output');\n",
       "if (outputEl) {{\n",
       "    x.observe(outputEl, {childList: true});\n",
       "}}\n",
       "\n",
       "                        })                };                });            </script>        </div>"
      ]
     },
     "metadata": {},
     "output_type": "display_data"
    }
   ],
   "source": [
    "fig.show()"
   ]
  },
  {
   "cell_type": "code",
   "execution_count": 120,
   "id": "5cef6b02-bde9-47b6-ac4e-bdcd0e042da7",
   "metadata": {},
   "outputs": [],
   "source": [
    "fig = go.Figure([go.Scatter(x=df['overviewVideoViews_date'], y=df['overviewVideoViews_count'])])"
   ]
  },
  {
   "cell_type": "code",
   "execution_count": 122,
   "id": "55ed8e9a-72aa-4d10-bda3-8cf834fd66dd",
   "metadata": {},
   "outputs": [
    {
     "data": {
      "application/vnd.plotly.v1+json": {
       "config": {
        "plotlyServerURL": "https://plot.ly"
       },
       "data": [
        {
         "type": "scatter",
         "x": [
          "2016-10-29",
          "2016-11-27",
          "2016-12-19",
          "2017-01-19",
          "2017-03-11",
          "2017-04-24",
          "2017-06-02",
          "2017-07-16",
          "2017-08-07",
          "2017-08-29",
          "2017-09-21",
          "2017-10-13",
          "2017-11-05",
          "2017-12-01",
          "2018-01-04",
          "2018-02-09",
          "2018-03-18",
          "2018-04-26",
          "2018-06-12",
          "2018-07-19",
          "2018-08-13",
          "2018-09-05",
          "2018-09-27",
          "2018-10-23",
          "2018-11-18",
          "2018-12-15",
          "2019-01-10",
          "2019-02-13",
          "2019-03-08",
          "2019-04-01",
          "2019-05-03",
          "2019-06-07",
          "2019-07-23",
          "2019-09-10",
          "2019-11-02",
          "2019-12-21",
          "2020-01-12",
          "2020-02-12",
          "2020-10-07",
          "2021-07-05",
          "2021-08-16",
          "2021-12-17",
          "2022-05-06",
          "2022-08-27",
          "2022-11-21",
          "2023-02-08",
          "2023-04-28",
          "2023-10-29",
          "2024-02-11",
          "2024-05-19",
          "2024-08-31",
          "2024-11-20"
         ],
         "y": [
          "2397995058",
          "2517865902",
          "2599146119",
          "2805885357",
          "2938467666",
          "3152626024",
          "3334260266",
          "3489798801",
          "3621016124",
          "3735101255",
          "3856349638",
          "3959026761",
          "4048561144",
          "4162024173",
          "4315595409",
          "4516816337",
          "4698966170",
          "4903309126",
          "5088326399",
          "5300814149",
          "5538989841",
          "5713230238",
          "5855193411",
          "5992051251",
          "6134482253",
          "6269888961",
          "6414360462",
          "6596207830",
          "6758504926",
          "6902862257",
          "7083089589",
          "7200162999",
          "7528752151",
          "7831357176",
          "8119903647",
          "8387332666",
          "8522300046",
          "8752807621",
          "10580613550",
          "13078331787",
          "13439396575",
          "14448036242",
          "15584463001",
          "16622170038",
          "17360897366",
          "18011594046",
          "18600181885",
          "20465500432",
          "21484555380",
          "22262814058",
          "23187881513",
          "24034368999"
         ]
        }
       ],
       "layout": {
        "autosize": true,
        "template": {
         "data": {
          "bar": [
           {
            "error_x": {
             "color": "#2a3f5f"
            },
            "error_y": {
             "color": "#2a3f5f"
            },
            "marker": {
             "line": {
              "color": "#E5ECF6",
              "width": 0.5
             },
             "pattern": {
              "fillmode": "overlay",
              "size": 10,
              "solidity": 0.2
             }
            },
            "type": "bar"
           }
          ],
          "barpolar": [
           {
            "marker": {
             "line": {
              "color": "#E5ECF6",
              "width": 0.5
             },
             "pattern": {
              "fillmode": "overlay",
              "size": 10,
              "solidity": 0.2
             }
            },
            "type": "barpolar"
           }
          ],
          "carpet": [
           {
            "aaxis": {
             "endlinecolor": "#2a3f5f",
             "gridcolor": "white",
             "linecolor": "white",
             "minorgridcolor": "white",
             "startlinecolor": "#2a3f5f"
            },
            "baxis": {
             "endlinecolor": "#2a3f5f",
             "gridcolor": "white",
             "linecolor": "white",
             "minorgridcolor": "white",
             "startlinecolor": "#2a3f5f"
            },
            "type": "carpet"
           }
          ],
          "choropleth": [
           {
            "colorbar": {
             "outlinewidth": 0,
             "ticks": ""
            },
            "type": "choropleth"
           }
          ],
          "contour": [
           {
            "colorbar": {
             "outlinewidth": 0,
             "ticks": ""
            },
            "colorscale": [
             [
              0,
              "#0d0887"
             ],
             [
              0.1111111111111111,
              "#46039f"
             ],
             [
              0.2222222222222222,
              "#7201a8"
             ],
             [
              0.3333333333333333,
              "#9c179e"
             ],
             [
              0.4444444444444444,
              "#bd3786"
             ],
             [
              0.5555555555555556,
              "#d8576b"
             ],
             [
              0.6666666666666666,
              "#ed7953"
             ],
             [
              0.7777777777777778,
              "#fb9f3a"
             ],
             [
              0.8888888888888888,
              "#fdca26"
             ],
             [
              1,
              "#f0f921"
             ]
            ],
            "type": "contour"
           }
          ],
          "contourcarpet": [
           {
            "colorbar": {
             "outlinewidth": 0,
             "ticks": ""
            },
            "type": "contourcarpet"
           }
          ],
          "heatmap": [
           {
            "colorbar": {
             "outlinewidth": 0,
             "ticks": ""
            },
            "colorscale": [
             [
              0,
              "#0d0887"
             ],
             [
              0.1111111111111111,
              "#46039f"
             ],
             [
              0.2222222222222222,
              "#7201a8"
             ],
             [
              0.3333333333333333,
              "#9c179e"
             ],
             [
              0.4444444444444444,
              "#bd3786"
             ],
             [
              0.5555555555555556,
              "#d8576b"
             ],
             [
              0.6666666666666666,
              "#ed7953"
             ],
             [
              0.7777777777777778,
              "#fb9f3a"
             ],
             [
              0.8888888888888888,
              "#fdca26"
             ],
             [
              1,
              "#f0f921"
             ]
            ],
            "type": "heatmap"
           }
          ],
          "heatmapgl": [
           {
            "colorbar": {
             "outlinewidth": 0,
             "ticks": ""
            },
            "colorscale": [
             [
              0,
              "#0d0887"
             ],
             [
              0.1111111111111111,
              "#46039f"
             ],
             [
              0.2222222222222222,
              "#7201a8"
             ],
             [
              0.3333333333333333,
              "#9c179e"
             ],
             [
              0.4444444444444444,
              "#bd3786"
             ],
             [
              0.5555555555555556,
              "#d8576b"
             ],
             [
              0.6666666666666666,
              "#ed7953"
             ],
             [
              0.7777777777777778,
              "#fb9f3a"
             ],
             [
              0.8888888888888888,
              "#fdca26"
             ],
             [
              1,
              "#f0f921"
             ]
            ],
            "type": "heatmapgl"
           }
          ],
          "histogram": [
           {
            "marker": {
             "pattern": {
              "fillmode": "overlay",
              "size": 10,
              "solidity": 0.2
             }
            },
            "type": "histogram"
           }
          ],
          "histogram2d": [
           {
            "colorbar": {
             "outlinewidth": 0,
             "ticks": ""
            },
            "colorscale": [
             [
              0,
              "#0d0887"
             ],
             [
              0.1111111111111111,
              "#46039f"
             ],
             [
              0.2222222222222222,
              "#7201a8"
             ],
             [
              0.3333333333333333,
              "#9c179e"
             ],
             [
              0.4444444444444444,
              "#bd3786"
             ],
             [
              0.5555555555555556,
              "#d8576b"
             ],
             [
              0.6666666666666666,
              "#ed7953"
             ],
             [
              0.7777777777777778,
              "#fb9f3a"
             ],
             [
              0.8888888888888888,
              "#fdca26"
             ],
             [
              1,
              "#f0f921"
             ]
            ],
            "type": "histogram2d"
           }
          ],
          "histogram2dcontour": [
           {
            "colorbar": {
             "outlinewidth": 0,
             "ticks": ""
            },
            "colorscale": [
             [
              0,
              "#0d0887"
             ],
             [
              0.1111111111111111,
              "#46039f"
             ],
             [
              0.2222222222222222,
              "#7201a8"
             ],
             [
              0.3333333333333333,
              "#9c179e"
             ],
             [
              0.4444444444444444,
              "#bd3786"
             ],
             [
              0.5555555555555556,
              "#d8576b"
             ],
             [
              0.6666666666666666,
              "#ed7953"
             ],
             [
              0.7777777777777778,
              "#fb9f3a"
             ],
             [
              0.8888888888888888,
              "#fdca26"
             ],
             [
              1,
              "#f0f921"
             ]
            ],
            "type": "histogram2dcontour"
           }
          ],
          "mesh3d": [
           {
            "colorbar": {
             "outlinewidth": 0,
             "ticks": ""
            },
            "type": "mesh3d"
           }
          ],
          "parcoords": [
           {
            "line": {
             "colorbar": {
              "outlinewidth": 0,
              "ticks": ""
             }
            },
            "type": "parcoords"
           }
          ],
          "pie": [
           {
            "automargin": true,
            "type": "pie"
           }
          ],
          "scatter": [
           {
            "fillpattern": {
             "fillmode": "overlay",
             "size": 10,
             "solidity": 0.2
            },
            "type": "scatter"
           }
          ],
          "scatter3d": [
           {
            "line": {
             "colorbar": {
              "outlinewidth": 0,
              "ticks": ""
             }
            },
            "marker": {
             "colorbar": {
              "outlinewidth": 0,
              "ticks": ""
             }
            },
            "type": "scatter3d"
           }
          ],
          "scattercarpet": [
           {
            "marker": {
             "colorbar": {
              "outlinewidth": 0,
              "ticks": ""
             }
            },
            "type": "scattercarpet"
           }
          ],
          "scattergeo": [
           {
            "marker": {
             "colorbar": {
              "outlinewidth": 0,
              "ticks": ""
             }
            },
            "type": "scattergeo"
           }
          ],
          "scattergl": [
           {
            "marker": {
             "colorbar": {
              "outlinewidth": 0,
              "ticks": ""
             }
            },
            "type": "scattergl"
           }
          ],
          "scattermapbox": [
           {
            "marker": {
             "colorbar": {
              "outlinewidth": 0,
              "ticks": ""
             }
            },
            "type": "scattermapbox"
           }
          ],
          "scatterpolar": [
           {
            "marker": {
             "colorbar": {
              "outlinewidth": 0,
              "ticks": ""
             }
            },
            "type": "scatterpolar"
           }
          ],
          "scatterpolargl": [
           {
            "marker": {
             "colorbar": {
              "outlinewidth": 0,
              "ticks": ""
             }
            },
            "type": "scatterpolargl"
           }
          ],
          "scatterternary": [
           {
            "marker": {
             "colorbar": {
              "outlinewidth": 0,
              "ticks": ""
             }
            },
            "type": "scatterternary"
           }
          ],
          "surface": [
           {
            "colorbar": {
             "outlinewidth": 0,
             "ticks": ""
            },
            "colorscale": [
             [
              0,
              "#0d0887"
             ],
             [
              0.1111111111111111,
              "#46039f"
             ],
             [
              0.2222222222222222,
              "#7201a8"
             ],
             [
              0.3333333333333333,
              "#9c179e"
             ],
             [
              0.4444444444444444,
              "#bd3786"
             ],
             [
              0.5555555555555556,
              "#d8576b"
             ],
             [
              0.6666666666666666,
              "#ed7953"
             ],
             [
              0.7777777777777778,
              "#fb9f3a"
             ],
             [
              0.8888888888888888,
              "#fdca26"
             ],
             [
              1,
              "#f0f921"
             ]
            ],
            "type": "surface"
           }
          ],
          "table": [
           {
            "cells": {
             "fill": {
              "color": "#EBF0F8"
             },
             "line": {
              "color": "white"
             }
            },
            "header": {
             "fill": {
              "color": "#C8D4E3"
             },
             "line": {
              "color": "white"
             }
            },
            "type": "table"
           }
          ]
         },
         "layout": {
          "annotationdefaults": {
           "arrowcolor": "#2a3f5f",
           "arrowhead": 0,
           "arrowwidth": 1
          },
          "autotypenumbers": "strict",
          "coloraxis": {
           "colorbar": {
            "outlinewidth": 0,
            "ticks": ""
           }
          },
          "colorscale": {
           "diverging": [
            [
             0,
             "#8e0152"
            ],
            [
             0.1,
             "#c51b7d"
            ],
            [
             0.2,
             "#de77ae"
            ],
            [
             0.3,
             "#f1b6da"
            ],
            [
             0.4,
             "#fde0ef"
            ],
            [
             0.5,
             "#f7f7f7"
            ],
            [
             0.6,
             "#e6f5d0"
            ],
            [
             0.7,
             "#b8e186"
            ],
            [
             0.8,
             "#7fbc41"
            ],
            [
             0.9,
             "#4d9221"
            ],
            [
             1,
             "#276419"
            ]
           ],
           "sequential": [
            [
             0,
             "#0d0887"
            ],
            [
             0.1111111111111111,
             "#46039f"
            ],
            [
             0.2222222222222222,
             "#7201a8"
            ],
            [
             0.3333333333333333,
             "#9c179e"
            ],
            [
             0.4444444444444444,
             "#bd3786"
            ],
            [
             0.5555555555555556,
             "#d8576b"
            ],
            [
             0.6666666666666666,
             "#ed7953"
            ],
            [
             0.7777777777777778,
             "#fb9f3a"
            ],
            [
             0.8888888888888888,
             "#fdca26"
            ],
            [
             1,
             "#f0f921"
            ]
           ],
           "sequentialminus": [
            [
             0,
             "#0d0887"
            ],
            [
             0.1111111111111111,
             "#46039f"
            ],
            [
             0.2222222222222222,
             "#7201a8"
            ],
            [
             0.3333333333333333,
             "#9c179e"
            ],
            [
             0.4444444444444444,
             "#bd3786"
            ],
            [
             0.5555555555555556,
             "#d8576b"
            ],
            [
             0.6666666666666666,
             "#ed7953"
            ],
            [
             0.7777777777777778,
             "#fb9f3a"
            ],
            [
             0.8888888888888888,
             "#fdca26"
            ],
            [
             1,
             "#f0f921"
            ]
           ]
          },
          "colorway": [
           "#636efa",
           "#EF553B",
           "#00cc96",
           "#ab63fa",
           "#FFA15A",
           "#19d3f3",
           "#FF6692",
           "#B6E880",
           "#FF97FF",
           "#FECB52"
          ],
          "font": {
           "color": "#2a3f5f"
          },
          "geo": {
           "bgcolor": "white",
           "lakecolor": "white",
           "landcolor": "#E5ECF6",
           "showlakes": true,
           "showland": true,
           "subunitcolor": "white"
          },
          "hoverlabel": {
           "align": "left"
          },
          "hovermode": "closest",
          "mapbox": {
           "style": "light"
          },
          "paper_bgcolor": "white",
          "plot_bgcolor": "#E5ECF6",
          "polar": {
           "angularaxis": {
            "gridcolor": "white",
            "linecolor": "white",
            "ticks": ""
           },
           "bgcolor": "#E5ECF6",
           "radialaxis": {
            "gridcolor": "white",
            "linecolor": "white",
            "ticks": ""
           }
          },
          "scene": {
           "xaxis": {
            "backgroundcolor": "#E5ECF6",
            "gridcolor": "white",
            "gridwidth": 2,
            "linecolor": "white",
            "showbackground": true,
            "ticks": "",
            "zerolinecolor": "white"
           },
           "yaxis": {
            "backgroundcolor": "#E5ECF6",
            "gridcolor": "white",
            "gridwidth": 2,
            "linecolor": "white",
            "showbackground": true,
            "ticks": "",
            "zerolinecolor": "white"
           },
           "zaxis": {
            "backgroundcolor": "#E5ECF6",
            "gridcolor": "white",
            "gridwidth": 2,
            "linecolor": "white",
            "showbackground": true,
            "ticks": "",
            "zerolinecolor": "white"
           }
          },
          "shapedefaults": {
           "line": {
            "color": "#2a3f5f"
           }
          },
          "ternary": {
           "aaxis": {
            "gridcolor": "white",
            "linecolor": "white",
            "ticks": ""
           },
           "baxis": {
            "gridcolor": "white",
            "linecolor": "white",
            "ticks": ""
           },
           "bgcolor": "#E5ECF6",
           "caxis": {
            "gridcolor": "white",
            "linecolor": "white",
            "ticks": ""
           }
          },
          "title": {
           "x": 0.05
          },
          "xaxis": {
           "automargin": true,
           "gridcolor": "white",
           "linecolor": "white",
           "ticks": "",
           "title": {
            "standoff": 15
           },
           "zerolinecolor": "white",
           "zerolinewidth": 2
          },
          "yaxis": {
           "automargin": true,
           "gridcolor": "white",
           "linecolor": "white",
           "ticks": "",
           "title": {
            "standoff": 15
           },
           "zerolinecolor": "white",
           "zerolinewidth": 2
          }
         }
        },
        "xaxis": {
         "autorange": true,
         "range": [
          "2016-10-29",
          "2024-11-20"
         ],
         "type": "date"
        },
        "yaxis": {
         "autorange": true,
         "range": [
          -2.8333333333333335,
          53.833333333333336
         ],
         "type": "category"
        }
       }
      },
      "image/png": "[encoded data removed]",
      "text/html": [
       "<div>                            <div id=\"694eadcf-965a-4f2d-96e8-018d12071403\" class=\"plotly-graph-div\" style=\"height:525px; width:100%;\"></div>            <script type=\"text/javascript\">                require([\"plotly\"], function(Plotly) {                    window.PLOTLYENV=window.PLOTLYENV || {};                                    if (document.getElementById(\"694eadcf-965a-4f2d-96e8-018d12071403\")) {                    Plotly.newPlot(                        \"694eadcf-965a-4f2d-96e8-018d12071403\",                        [{\"x\":[\"2016-10-29\",\"2016-11-27\",\"2016-12-19\",\"2017-01-19\",\"2017-03-11\",\"2017-04-24\",\"2017-06-02\",\"2017-07-16\",\"2017-08-07\",\"2017-08-29\",\"2017-09-21\",\"2017-10-13\",\"2017-11-05\",\"2017-12-01\",\"2018-01-04\",\"2018-02-09\",\"2018-03-18\",\"2018-04-26\",\"2018-06-12\",\"2018-07-19\",\"2018-08-13\",\"2018-09-05\",\"2018-09-27\",\"2018-10-23\",\"2018-11-18\",\"2018-12-15\",\"2019-01-10\",\"2019-02-13\",\"2019-03-08\",\"2019-04-01\",\"2019-05-03\",\"2019-06-07\",\"2019-07-23\",\"2019-09-10\",\"2019-11-02\",\"2019-12-21\",\"2020-01-12\",\"2020-02-12\",\"2020-10-07\",\"2021-07-05\",\"2021-08-16\",\"2021-12-17\",\"2022-05-06\",\"2022-08-27\",\"2022-11-21\",\"2023-02-08\",\"2023-04-28\",\"2023-10-29\",\"2024-02-11\",\"2024-05-19\",\"2024-08-31\",\"2024-11-20\"],\"y\":[\"2397995058\",\"2517865902\",\"2599146119\",\"2805885357\",\"2938467666\",\"3152626024\",\"3334260266\",\"3489798801\",\"3621016124\",\"3735101255\",\"3856349638\",\"3959026761\",\"4048561144\",\"4162024173\",\"4315595409\",\"4516816337\",\"4698966170\",\"4903309126\",\"5088326399\",\"5300814149\",\"5538989841\",\"5713230238\",\"5855193411\",\"5992051251\",\"6134482253\",\"6269888961\",\"6414360462\",\"6596207830\",\"6758504926\",\"6902862257\",\"7083089589\",\"7200162999\",\"7528752151\",\"7831357176\",\"8119903647\",\"8387332666\",\"8522300046\",\"8752807621\",\"10580613550\",\"13078331787\",\"13439396575\",\"14448036242\",\"15584463001\",\"16622170038\",\"17360897366\",\"18011594046\",\"18600181885\",\"20465500432\",\"21484555380\",\"22262814058\",\"23187881513\",\"24034368999\"],\"type\":\"scatter\"}],                        {\"template\":{\"data\":{\"histogram2dcontour\":[{\"type\":\"histogram2dcontour\",\"colorbar\":{\"outlinewidth\":0,\"ticks\":\"\"},\"colorscale\":[[0.0,\"#0d0887\"],[0.1111111111111111,\"#46039f\"],[0.2222222222222222,\"#7201a8\"],[0.3333333333333333,\"#9c179e\"],[0.4444444444444444,\"#bd3786\"],[0.5555555555555556,\"#d8576b\"],[0.6666666666666666,\"#ed7953\"],[0.7777777777777778,\"#fb9f3a\"],[0.8888888888888888,\"#fdca26\"],[1.0,\"#f0f921\"]]}],\"choropleth\":[{\"type\":\"choropleth\",\"colorbar\":{\"outlinewidth\":0,\"ticks\":\"\"}}],\"histogram2d\":[{\"type\":\"histogram2d\",\"colorbar\":{\"outlinewidth\":0,\"ticks\":\"\"},\"colorscale\":[[0.0,\"#0d0887\"],[0.1111111111111111,\"#46039f\"],[0.2222222222222222,\"#7201a8\"],[0.3333333333333333,\"#9c179e\"],[0.4444444444444444,\"#bd3786\"],[0.5555555555555556,\"#d8576b\"],[0.6666666666666666,\"#ed7953\"],[0.7777777777777778,\"#fb9f3a\"],[0.8888888888888888,\"#fdca26\"],[1.0,\"#f0f921\"]]}],\"heatmap\":[{\"type\":\"heatmap\",\"colorbar\":{\"outlinewidth\":0,\"ticks\":\"\"},\"colorscale\":[[0.0,\"#0d0887\"],[0.1111111111111111,\"#46039f\"],[0.2222222222222222,\"#7201a8\"],[0.3333333333333333,\"#9c179e\"],[0.4444444444444444,\"#bd3786\"],[0.5555555555555556,\"#d8576b\"],[0.6666666666666666,\"#ed7953\"],[0.7777777777777778,\"#fb9f3a\"],[0.8888888888888888,\"#fdca26\"],[1.0,\"#f0f921\"]]}],\"heatmapgl\":[{\"type\":\"heatmapgl\",\"colorbar\":{\"outlinewidth\":0,\"ticks\":\"\"},\"colorscale\":[[0.0,\"#0d0887\"],[0.1111111111111111,\"#46039f\"],[0.2222222222222222,\"#7201a8\"],[0.3333333333333333,\"#9c179e\"],[0.4444444444444444,\"#bd3786\"],[0.5555555555555556,\"#d8576b\"],[0.6666666666666666,\"#ed7953\"],[0.7777777777777778,\"#fb9f3a\"],[0.8888888888888888,\"#fdca26\"],[1.0,\"#f0f921\"]]}],\"contourcarpet\":[{\"type\":\"contourcarpet\",\"colorbar\":{\"outlinewidth\":0,\"ticks\":\"\"}}],\"contour\":[{\"type\":\"contour\",\"colorbar\":{\"outlinewidth\":0,\"ticks\":\"\"},\"colorscale\":[[0.0,\"#0d0887\"],[0.1111111111111111,\"#46039f\"],[0.2222222222222222,\"#7201a8\"],[0.3333333333333333,\"#9c179e\"],[0.4444444444444444,\"#bd3786\"],[0.5555555555555556,\"#d8576b\"],[0.6666666666666666,\"#ed7953\"],[0.7777777777777778,\"#fb9f3a\"],[0.8888888888888888,\"#fdca26\"],[1.0,\"#f0f921\"]]}],\"surface\":[{\"type\":\"surface\",\"colorbar\":{\"outlinewidth\":0,\"ticks\":\"\"},\"colorscale\":[[0.0,\"#0d0887\"],[0.1111111111111111,\"#46039f\"],[0.2222222222222222,\"#7201a8\"],[0.3333333333333333,\"#9c179e\"],[0.4444444444444444,\"#bd3786\"],[0.5555555555555556,\"#d8576b\"],[0.6666666666666666,\"#ed7953\"],[0.7777777777777778,\"#fb9f3a\"],[0.8888888888888888,\"#fdca26\"],[1.0,\"#f0f921\"]]}],\"mesh3d\":[{\"type\":\"mesh3d\",\"colorbar\":{\"outlinewidth\":0,\"ticks\":\"\"}}],\"scatter\":[{\"fillpattern\":{\"fillmode\":\"overlay\",\"size\":10,\"solidity\":0.2},\"type\":\"scatter\"}],\"parcoords\":[{\"type\":\"parcoords\",\"line\":{\"colorbar\":{\"outlinewidth\":0,\"ticks\":\"\"}}}],\"scatterpolargl\":[{\"type\":\"scatterpolargl\",\"marker\":{\"colorbar\":{\"outlinewidth\":0,\"ticks\":\"\"}}}],\"bar\":[{\"error_x\":{\"color\":\"#2a3f5f\"},\"error_y\":{\"color\":\"#2a3f5f\"},\"marker\":{\"line\":{\"color\":\"#E5ECF6\",\"width\":0.5},\"pattern\":{\"fillmode\":\"overlay\",\"size\":10,\"solidity\":0.2}},\"type\":\"bar\"}],\"scattergeo\":[{\"type\":\"scattergeo\",\"marker\":{\"colorbar\":{\"outlinewidth\":0,\"ticks\":\"\"}}}],\"scatterpolar\":[{\"type\":\"scatterpolar\",\"marker\":{\"colorbar\":{\"outlinewidth\":0,\"ticks\":\"\"}}}],\"histogram\":[{\"marker\":{\"pattern\":{\"fillmode\":\"overlay\",\"size\":10,\"solidity\":0.2}},\"type\":\"histogram\"}],\"scattergl\":[{\"type\":\"scattergl\",\"marker\":{\"colorbar\":{\"outlinewidth\":0,\"ticks\":\"\"}}}],\"scatter3d\":[{\"type\":\"scatter3d\",\"line\":{\"colorbar\":{\"outlinewidth\":0,\"ticks\":\"\"}},\"marker\":{\"colorbar\":{\"outlinewidth\":0,\"ticks\":\"\"}}}],\"scattermapbox\":[{\"type\":\"scattermapbox\",\"marker\":{\"colorbar\":{\"outlinewidth\":0,\"ticks\":\"\"}}}],\"scatterternary\":[{\"type\":\"scatterternary\",\"marker\":{\"colorbar\":{\"outlinewidth\":0,\"ticks\":\"\"}}}],\"scattercarpet\":[{\"type\":\"scattercarpet\",\"marker\":{\"colorbar\":{\"outlinewidth\":0,\"ticks\":\"\"}}}],\"carpet\":[{\"aaxis\":{\"endlinecolor\":\"#2a3f5f\",\"gridcolor\":\"white\",\"linecolor\":\"white\",\"minorgridcolor\":\"white\",\"startlinecolor\":\"#2a3f5f\"},\"baxis\":{\"endlinecolor\":\"#2a3f5f\",\"gridcolor\":\"white\",\"linecolor\":\"white\",\"minorgridcolor\":\"white\",\"startlinecolor\":\"#2a3f5f\"},\"type\":\"carpet\"}],\"table\":[{\"cells\":{\"fill\":{\"color\":\"#EBF0F8\"},\"line\":{\"color\":\"white\"}},\"header\":{\"fill\":{\"color\":\"#C8D4E3\"},\"line\":{\"color\":\"white\"}},\"type\":\"table\"}],\"barpolar\":[{\"marker\":{\"line\":{\"color\":\"#E5ECF6\",\"width\":0.5},\"pattern\":{\"fillmode\":\"overlay\",\"size\":10,\"solidity\":0.2}},\"type\":\"barpolar\"}],\"pie\":[{\"automargin\":true,\"type\":\"pie\"}]},\"layout\":{\"autotypenumbers\":\"strict\",\"colorway\":[\"#636efa\",\"#EF553B\",\"#00cc96\",\"#ab63fa\",\"#FFA15A\",\"#19d3f3\",\"#FF6692\",\"#B6E880\",\"#FF97FF\",\"#FECB52\"],\"font\":{\"color\":\"#2a3f5f\"},\"hovermode\":\"closest\",\"hoverlabel\":{\"align\":\"left\"},\"paper_bgcolor\":\"white\",\"plot_bgcolor\":\"#E5ECF6\",\"polar\":{\"bgcolor\":\"#E5ECF6\",\"angularaxis\":{\"gridcolor\":\"white\",\"linecolor\":\"white\",\"ticks\":\"\"},\"radialaxis\":{\"gridcolor\":\"white\",\"linecolor\":\"white\",\"ticks\":\"\"}},\"ternary\":{\"bgcolor\":\"#E5ECF6\",\"aaxis\":{\"gridcolor\":\"white\",\"linecolor\":\"white\",\"ticks\":\"\"},\"baxis\":{\"gridcolor\":\"white\",\"linecolor\":\"white\",\"ticks\":\"\"},\"caxis\":{\"gridcolor\":\"white\",\"linecolor\":\"white\",\"ticks\":\"\"}},\"coloraxis\":{\"colorbar\":{\"outlinewidth\":0,\"ticks\":\"\"}},\"colorscale\":{\"sequential\":[[0.0,\"#0d0887\"],[0.1111111111111111,\"#46039f\"],[0.2222222222222222,\"#7201a8\"],[0.3333333333333333,\"#9c179e\"],[0.4444444444444444,\"#bd3786\"],[0.5555555555555556,\"#d8576b\"],[0.6666666666666666,\"#ed7953\"],[0.7777777777777778,\"#fb9f3a\"],[0.8888888888888888,\"#fdca26\"],[1.0,\"#f0f921\"]],\"sequentialminus\":[[0.0,\"#0d0887\"],[0.1111111111111111,\"#46039f\"],[0.2222222222222222,\"#7201a8\"],[0.3333333333333333,\"#9c179e\"],[0.4444444444444444,\"#bd3786\"],[0.5555555555555556,\"#d8576b\"],[0.6666666666666666,\"#ed7953\"],[0.7777777777777778,\"#fb9f3a\"],[0.8888888888888888,\"#fdca26\"],[1.0,\"#f0f921\"]],\"diverging\":[[0,\"#8e0152\"],[0.1,\"#c51b7d\"],[0.2,\"#de77ae\"],[0.3,\"#f1b6da\"],[0.4,\"#fde0ef\"],[0.5,\"#f7f7f7\"],[0.6,\"#e6f5d0\"],[0.7,\"#b8e186\"],[0.8,\"#7fbc41\"],[0.9,\"#4d9221\"],[1,\"#276419\"]]},\"xaxis\":{\"gridcolor\":\"white\",\"linecolor\":\"white\",\"ticks\":\"\",\"title\":{\"standoff\":15},\"zerolinecolor\":\"white\",\"automargin\":true,\"zerolinewidth\":2},\"yaxis\":{\"gridcolor\":\"white\",\"linecolor\":\"white\",\"ticks\":\"\",\"title\":{\"standoff\":15},\"zerolinecolor\":\"white\",\"automargin\":true,\"zerolinewidth\":2},\"scene\":{\"xaxis\":{\"backgroundcolor\":\"#E5ECF6\",\"gridcolor\":\"white\",\"linecolor\":\"white\",\"showbackground\":true,\"ticks\":\"\",\"zerolinecolor\":\"white\",\"gridwidth\":2},\"yaxis\":{\"backgroundcolor\":\"#E5ECF6\",\"gridcolor\":\"white\",\"linecolor\":\"white\",\"showbackground\":true,\"ticks\":\"\",\"zerolinecolor\":\"white\",\"gridwidth\":2},\"zaxis\":{\"backgroundcolor\":\"#E5ECF6\",\"gridcolor\":\"white\",\"linecolor\":\"white\",\"showbackground\":true,\"ticks\":\"\",\"zerolinecolor\":\"white\",\"gridwidth\":2}},\"shapedefaults\":{\"line\":{\"color\":\"#2a3f5f\"}},\"annotationdefaults\":{\"arrowcolor\":\"#2a3f5f\",\"arrowhead\":0,\"arrowwidth\":1},\"geo\":{\"bgcolor\":\"white\",\"landcolor\":\"#E5ECF6\",\"subunitcolor\":\"white\",\"showland\":true,\"showlakes\":true,\"lakecolor\":\"white\"},\"title\":{\"x\":0.05},\"mapbox\":{\"style\":\"light\"}}}},                        {\"responsive\": true}                    ).then(function(){\n",
       "                            \n",
       "var gd = document.getElementById('694eadcf-965a-4f2d-96e8-018d12071403');\n",
       "var x = new MutationObserver(function (mutations, observer) {{\n",
       "        var display = window.getComputedStyle(gd).display;\n",
       "        if (!display || display === 'none') {{\n",
       "            console.log([gd, 'removed!']);\n",
       "            Plotly.purge(gd);\n",
       "            observer.disconnect();\n",
       "        }}\n",
       "}});\n",
       "\n",
       "// Listen for the removal of the full notebook cells\n",
       "var notebookContainer = gd.closest('#notebook-container');\n",
       "if (notebookContainer) {{\n",
       "    x.observe(notebookContainer, {childList: true});\n",
       "}}\n",
       "\n",
       "// Listen for the clearing of the current output cell\n",
       "var outputEl = gd.closest('.output');\n",
       "if (outputEl) {{\n",
       "    x.observe(outputEl, {childList: true});\n",
       "}}\n",
       "\n",
       "                        })                };                });            </script>        </div>"
      ]
     },
     "metadata": {},
     "output_type": "display_data"
    }
   ],
   "source": [
    "fig.show()"
   ]
  },
  {
   "cell_type": "code",
   "execution_count": null,
   "id": "92fb025e-40fa-423e-9870-406d2bf5f72a",
   "metadata": {},
   "outputs": [],
   "source": []
  }
 ],
 "metadata": {
  "kernelspec": {
   "display_name": "Python 3 (ipykernel)",
   "language": "python",
   "name": "python3"
  },
  "language_info": {
   "codemirror_mode": {
    "name": "ipython",
    "version": 3
   },
   "file_extension": ".py",
   "mimetype": "text/x-python",
   "name": "python",
   "nbconvert_exporter": "python",
   "pygments_lexer": "ipython3",
   "version": "3.11.7"
  }
 },
 "nbformat": 4,
 "nbformat_minor": 5
}
