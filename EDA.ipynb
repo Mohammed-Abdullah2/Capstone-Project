{
 "cells": [
  {
   "cell_type": "code",
   "execution_count": 1,
   "id": "8cf5bc0f-3b70-4405-bf0e-4745a59ba50e",
   "metadata": {},
   "outputs": [],
   "source": [
    "import warnings"
   ]
  },
  {
   "cell_type": "code",
   "execution_count": 2,
   "id": "c47d5fee-450f-444e-acdc-b0311c9aa081",
   "metadata": {},
   "outputs": [],
   "source": [
    "import numpy as np\n",
    "import pandas as pd"
   ]
  },
  {
   "cell_type": "code",
   "execution_count": 3,
   "id": "6d9487d6-2019-49eb-b760-097cec6cee73",
   "metadata": {},
   "outputs": [],
   "source": [
    "warnings.filterwarnings(\"ignore\")"
   ]
  },
  {
   "cell_type": "code",
   "execution_count": 4,
   "id": "7d49c8f7-92b6-4634-9449-e8e164934cf2",
   "metadata": {},
   "outputs": [],
   "source": [
    "# df = pd.read_csv('youtube_data.csv')"
   ]
  },
  {
   "cell_type": "code",
   "execution_count": 5,
   "id": "c5cc3296-95f0-47e3-95e6-95eba355d87d",
   "metadata": {
    "scrolled": true
   },
   "outputs": [],
   "source": [
    "# df"
   ]
  },
  {
   "cell_type": "code",
   "execution_count": 6,
   "id": "2d858baf-d953-4bf3-b709-80b5fcf3583c",
   "metadata": {},
   "outputs": [],
   "source": [
    "# df.isnull().sum()"
   ]
  },
  {
   "cell_type": "code",
   "execution_count": 7,
   "id": "bfa562ef-96d3-49f8-9ec9-c32ce2707f56",
   "metadata": {},
   "outputs": [],
   "source": [
    "# df.info()"
   ]
  },
  {
   "cell_type": "code",
   "execution_count": 8,
   "id": "71aaf304-b5f7-400f-a44d-48aeade7d485",
   "metadata": {},
   "outputs": [],
   "source": [
    "# index = df.shape[0]"
   ]
  },
  {
   "cell_type": "code",
   "execution_count": 9,
   "id": "9cbf6f79-9263-4bbc-afb9-55d9921291ed",
   "metadata": {
    "scrolled": true
   },
   "outputs": [],
   "source": [
    "# def re(x):\n",
    "#    return str(x).replace(',', '')"
   ]
  },
  {
   "cell_type": "code",
   "execution_count": 10,
   "id": "d1c8a0d6-ddf9-46ae-a206-840674f92f82",
   "metadata": {
    "scrolled": true
   },
   "outputs": [],
   "source": [
    "# df['subscriber'] = df['subscriber'].apply(re)"
   ]
  },
  {
   "cell_type": "code",
   "execution_count": 11,
   "id": "31310fb7-c6aa-4b6a-9402-f19a9e73e9b5",
   "metadata": {
    "scrolled": true
   },
   "outputs": [],
   "source": [
    "# df['view'] = df['view'].apply(re)"
   ]
  },
  {
   "cell_type": "code",
   "execution_count": 12,
   "id": "1548c2dd-ea06-4725-a9b5-09fa808a34a5",
   "metadata": {
    "scrolled": true
   },
   "outputs": [],
   "source": [
    "# df['last_subscriber_30'] = df['last_subscriber_30'].apply(re)"
   ]
  },
  {
   "cell_type": "code",
   "execution_count": 13,
   "id": "67ee4bdc-e832-419a-b88a-0e4a98d4223c",
   "metadata": {
    "scrolled": true
   },
   "outputs": [],
   "source": [
    "# df['last_view_30'] = df['last_view_30'].apply(re)"
   ]
  },
  {
   "cell_type": "code",
   "execution_count": 14,
   "id": "cee0b2d9-e3f8-4a15-b478-814c06688413",
   "metadata": {},
   "outputs": [],
   "source": [
    "# df = df.astype({ \"subscriber\": int, \"view\": int, \"last_subscriber_30\": int, \"last_view_30\": int })"
   ]
  },
  {
   "cell_type": "code",
   "execution_count": 15,
   "id": "2fff759d-588e-4d19-aa25-0d7bd4a263a2",
   "metadata": {},
   "outputs": [],
   "source": [
    "# month_earnings_min = []"
   ]
  },
  {
   "cell_type": "code",
   "execution_count": 16,
   "id": "57a10465-c4af-4ce7-a2ae-13fd6cc912ae",
   "metadata": {},
   "outputs": [],
   "source": [
    "# month_earnings_max = []"
   ]
  },
  {
   "cell_type": "code",
   "execution_count": 17,
   "id": "79f38ec4-236c-471c-bb43-1e09c58f3db3",
   "metadata": {},
   "outputs": [],
   "source": [
    "# for i in range(0, index):\n",
    "#     month_earnings_min.append(eval(df.loc[i, 'month_earnings'])[0].replace('$', ''))\n",
    "#     month_earnings_max.append(eval(df.loc[i, 'month_earnings'])[1].replace('$', ''))"
   ]
  },
  {
   "cell_type": "code",
   "execution_count": 18,
   "id": "314e59a0-7272-4d8e-b963-5f839417bf95",
   "metadata": {},
   "outputs": [],
   "source": [
    "# df['month_earnings_min'] = month_earnings_min"
   ]
  },
  {
   "cell_type": "code",
   "execution_count": 19,
   "id": "a7adc90e-4ab4-41a1-9a8c-b97d44488458",
   "metadata": {},
   "outputs": [],
   "source": [
    "# df['month_earnings_max'] = month_earnings_max"
   ]
  },
  {
   "cell_type": "code",
   "execution_count": 20,
   "id": "1cdb902b-9141-48d0-b6c3-dd9b8c38d66d",
   "metadata": {
    "scrolled": true
   },
   "outputs": [],
   "source": [
    "# for i in range(0, index):\n",
    "#     mem = df.loc[i, 'month_earnings_min']\n",
    "#     if mem == '':\n",
    "#         df.loc[i, 'month_earnings_min'] = 0\n",
    "#     else:\n",
    "#         if not type(mem) == int:\n",
    "#             if 'K' in mem:\n",
    "#                 mem = mem.replace('K', '')\n",
    "#                 mem = int(float(mem) * 1000)\n",
    "#                 df.loc[i, 'month_earnings_min'] = mem\n",
    "#             else:\n",
    "#                 mem = int(mem)\n",
    "#                 df.loc[i, 'month_earnings_min'] = mem"
   ]
  },
  {
   "cell_type": "code",
   "execution_count": 21,
   "id": "a29791bd-7050-422d-84d6-1e64f614f2d6",
   "metadata": {},
   "outputs": [],
   "source": [
    "# for i in range(0, index):\n",
    "#     mem = df.loc[i, 'month_earnings_max']\n",
    "#     if mem == '':\n",
    "#         df.loc[i, 'month_earnings_max'] = 0\n",
    "#     else:\n",
    "#         if not type(mem) == int:\n",
    "#             if 'M' in mem:\n",
    "#                 mem = mem.replace('M', '')\n",
    "#                 mem = int(float(mem) * 1000 * 1000)\n",
    "#                 df.loc[i, 'month_earnings_max'] = mem\n",
    "#             elif 'K' in mem:\n",
    "#                 mem = mem.replace('K', '')\n",
    "#                 mem = int(float(mem) * 1000)\n",
    "#                 df.loc[i, 'month_earnings_max'] = mem\n",
    "#             else:\n",
    "#                 mem = int(mem)\n",
    "#                 df.loc[i, 'month_earnings_max'] = mem"
   ]
  },
  {
   "cell_type": "code",
   "execution_count": 22,
   "id": "42744b27-cebe-418b-ad1a-c80a9da183eb",
   "metadata": {},
   "outputs": [],
   "source": [
    "# df"
   ]
  },
  {
   "cell_type": "code",
   "execution_count": 23,
   "id": "b6818b1d-ae2b-474c-82a0-3b13c5ee2618",
   "metadata": {},
   "outputs": [],
   "source": [
    "# df = df.astype({ \"month_earnings_min\": int, \"month_earnings_max\": int })"
   ]
  },
  {
   "cell_type": "code",
   "execution_count": 24,
   "id": "8925f877-4835-4bd5-bb3d-8a0650642269",
   "metadata": {},
   "outputs": [],
   "source": [
    "# df.info()"
   ]
  },
  {
   "cell_type": "code",
   "execution_count": 25,
   "id": "8410a848-f4a9-42b5-95e9-82f45d12636d",
   "metadata": {},
   "outputs": [],
   "source": [
    "# df.to_csv('youtube_data_eda.csv', index=False)"
   ]
  },
  {
   "cell_type": "code",
   "execution_count": 26,
   "id": "65801c5e-4d28-4036-873f-504ca179d51b",
   "metadata": {},
   "outputs": [],
   "source": [
    "# df = pd.read_csv('youtube_data_eda.csv')"
   ]
  },
  {
   "cell_type": "code",
   "execution_count": 27,
   "id": "c8e6abc6-bc27-4ab2-a611-f8b52c741b1a",
   "metadata": {
    "scrolled": true
   },
   "outputs": [],
   "source": [
    "# df"
   ]
  },
  {
   "cell_type": "code",
   "execution_count": 28,
   "id": "2ae2c3fe-66db-4cc5-9e14-21856f587383",
   "metadata": {
    "scrolled": true
   },
   "outputs": [],
   "source": [
    "# index = df.shape[0]"
   ]
  },
  {
   "cell_type": "code",
   "execution_count": 29,
   "id": "f27b0063-d42c-459b-b8ec-3a5d6bc5fe7e",
   "metadata": {
    "scrolled": true
   },
   "outputs": [],
   "source": [
    "# nindex = df[df['overviewSubscribers'].isna()].index"
   ]
  },
  {
   "cell_type": "code",
   "execution_count": 30,
   "id": "88088954-be43-4686-8379-f68047669c13",
   "metadata": {
    "scrolled": true
   },
   "outputs": [],
   "source": [
    "# for i in nindex:\n",
    "#     df.at[i, 'overviewSubscribers'] = []"
   ]
  },
  {
   "cell_type": "code",
   "execution_count": 31,
   "id": "689f2142-44a3-40da-af51-24a4a5358f34",
   "metadata": {},
   "outputs": [],
   "source": [
    "# overviewSubscribers_date = []"
   ]
  },
  {
   "cell_type": "code",
   "execution_count": 32,
   "id": "0941ae2c-1fb2-47d2-9991-438ac6b82d76",
   "metadata": {},
   "outputs": [],
   "source": [
    "# overviewSubscribers_count = []"
   ]
  },
  {
   "cell_type": "code",
   "execution_count": 33,
   "id": "3b71f640-d6dc-479b-a63f-b2c4576e6f7a",
   "metadata": {},
   "outputs": [],
   "source": [
    "# for i in range(0, index):\n",
    "#     yde = df.loc[i, ['overviewSubscribers']][0]\n",
    "#     if not yde == []:\n",
    "#         yde = eval(yde)\n",
    "#         a = []\n",
    "#         b = []\n",
    "#         for element in yde:\n",
    "#             a.append(element[0])\n",
    "#             b.append(element[1])\n",
    "#         overviewSubscribers_date.append(a)\n",
    "#         overviewSubscribers_count.append(b)\n",
    "#     else:\n",
    "#         overviewSubscribers_date.append([])\n",
    "#         overviewSubscribers_count.append([])"
   ]
  },
  {
   "cell_type": "code",
   "execution_count": 34,
   "id": "79383426-7ff8-4d0c-ab44-d52c3aa3599a",
   "metadata": {},
   "outputs": [],
   "source": [
    "# df['overviewSubscribers_date'] = overviewSubscribers_date"
   ]
  },
  {
   "cell_type": "code",
   "execution_count": 35,
   "id": "84d2aee0-715c-4bbb-9937-b59256730552",
   "metadata": {},
   "outputs": [],
   "source": [
    "# df['overviewSubscribers_count'] = overviewSubscribers_count"
   ]
  },
  {
   "cell_type": "code",
   "execution_count": 36,
   "id": "ecb31888-a644-4cf8-ab94-a8ae30562950",
   "metadata": {},
   "outputs": [],
   "source": [
    "# nindex = df[df['overviewVideoViews'].isna()].index"
   ]
  },
  {
   "cell_type": "code",
   "execution_count": 37,
   "id": "623659c6-0e29-440a-9520-9c72f34501e7",
   "metadata": {},
   "outputs": [],
   "source": [
    "# for i in nindex:\n",
    "#     df.at[i, 'overviewVideoViews'] = []"
   ]
  },
  {
   "cell_type": "code",
   "execution_count": 38,
   "id": "98de72c0-29db-4f21-a3cd-d9a69e111aa8",
   "metadata": {},
   "outputs": [],
   "source": [
    "# overviewVideoViews_date = []"
   ]
  },
  {
   "cell_type": "code",
   "execution_count": 39,
   "id": "ef89084e-ac11-49ae-98e2-626c18ff45df",
   "metadata": {},
   "outputs": [],
   "source": [
    "# overviewVideoViews_count = []"
   ]
  },
  {
   "cell_type": "code",
   "execution_count": 40,
   "id": "ef037593-52dd-4316-9b7b-942469e63b9d",
   "metadata": {},
   "outputs": [],
   "source": [
    "# for i in range(0, index):\n",
    "#     yde = df.loc[i, ['overviewVideoViews']][0]\n",
    "#     if not yde == []:\n",
    "#         yde = eval(yde)\n",
    "#         a = [] \t[2016-10-29\n",
    "#         b = []\n",
    "#         for element in yde:\n",
    "#             a.append(element[0])\n",
    "#             b.append(element[1])\n",
    "#         overviewVideoViews_date.append(a)\n",
    "#         overviewVideoViews_count.append(b)\n",
    "#     else:\n",
    "#         overviewVideoViews_date.append([])\n",
    "#         overviewVideoViews_count.append([])"
   ]
  },
  {
   "cell_type": "code",
   "execution_count": 41,
   "id": "f2df15b1-a383-4780-93de-abf85433f3d2",
   "metadata": {},
   "outputs": [],
   "source": [
    "# df['overviewVideoViews_date'] = overviewVideoViews_date"
   ]
  },
  {
   "cell_type": "code",
   "execution_count": 42,
   "id": "281fec4c-6abe-4dc9-aa03-7e6a2781d98a",
   "metadata": {},
   "outputs": [],
   "source": [
    "# df['overviewVideoViews_count'] = overviewVideoViews_count"
   ]
  },
  {
   "cell_type": "code",
   "execution_count": 43,
   "id": "a24c5344-fe15-4f8e-8587-b5fe0c458d3d",
   "metadata": {},
   "outputs": [],
   "source": [
    "# df.to_csv('youtube_data_eda.csv', index=False)"
   ]
  },
  {
   "cell_type": "code",
   "execution_count": 88,
   "id": "0fa9b762-e901-493e-9aef-3db5e476debf",
   "metadata": {},
   "outputs": [],
   "source": [
    "df = pd.read_csv('youtube_data_eda.csv')"
   ]
  },
  {
   "cell_type": "code",
   "execution_count": null,
   "id": "1b64a12d-4fc6-46e1-9ea9-7ab4a493fa39",
   "metadata": {},
   "outputs": [],
   "source": []
  }
 ],
 "metadata": {
  "kernelspec": {
   "display_name": "Python 3 (ipykernel)",
   "language": "python",
   "name": "python3"
  },
  "language_info": {
   "codemirror_mode": {
    "name": "ipython",
    "version": 3
   },
   "file_extension": ".py",
   "mimetype": "text/x-python",
   "name": "python",
   "nbconvert_exporter": "python",
   "pygments_lexer": "ipython3",
   "version": "3.11.7"
  }
 },
 "nbformat": 4,
 "nbformat_minor": 5
}
