{
 "cells": [
  {
   "cell_type": "code",
   "execution_count": 4,
   "id": "8cf5bc0f-3b70-4405-bf0e-4745a59ba50e",
   "metadata": {},
   "outputs": [],
   "source": [
    "import pandas as pd"
   ]
  },
  {
   "cell_type": "code",
   "execution_count": 6,
   "id": "7d49c8f7-92b6-4634-9449-e8e164934cf2",
   "metadata": {},
   "outputs": [],
   "source": [
    "df = pd.read_csv('youtube_data.csv')"
   ]
  },
  {
   "cell_type": "code",
   "execution_count": 8,
   "id": "2d858baf-d953-4bf3-b709-80b5fcf3583c",
   "metadata": {},
   "outputs": [
    {
     "data": {
      "text/plain": [
       "profile_name             0\n",
       "subscriber               0\n",
       "view                     0\n",
       "video                    0\n",
       "country                  0\n",
       "category               359\n",
       "since                    0\n",
       "month_earnings           0\n",
       "last_subscriber_30       0\n",
       "last_view_30             0\n",
       "overviewSubscribers      2\n",
       "overviewVideoViews       2\n",
       "dtype: int64"
      ]
     },
     "execution_count": 8,
     "metadata": {},
     "output_type": "execute_result"
    }
   ],
   "source": [
    "df.isnull().sum()"
   ]
  },
  {
   "cell_type": "code",
   "execution_count": null,
   "id": "c5cc3296-95f0-47e3-95e6-95eba355d87d",
   "metadata": {},
   "outputs": [],
   "source": []
  }
 ],
 "metadata": {
  "kernelspec": {
   "display_name": "Python 3 (ipykernel)",
   "language": "python",
   "name": "python3"
  },
  "language_info": {
   "codemirror_mode": {
    "name": "ipython",
    "version": 3
   },
   "file_extension": ".py",
   "mimetype": "text/x-python",
   "name": "python",
   "nbconvert_exporter": "python",
   "pygments_lexer": "ipython3",
   "version": "3.11.7"
  }
 },
 "nbformat": 4,
 "nbformat_minor": 5
}
