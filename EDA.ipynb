{
 "cells": [
  {
   "cell_type": "code",
   "execution_count": 1,
   "id": "8cf5bc0f-3b70-4405-bf0e-4745a59ba50e",
   "metadata": {},
   "outputs": [],
   "source": [
    "import warnings"
   ]
  },
  {
   "cell_type": "code",
   "execution_count": 2,
   "id": "c47d5fee-450f-444e-acdc-b0311c9aa081",
   "metadata": {},
   "outputs": [],
   "source": [
    "import numpy as np\n",
    "import pandas as pd"
   ]
  },
  {
   "cell_type": "code",
   "execution_count": 3,
   "id": "1efdf73f-5e31-4e67-960e-3f809b1f92d4",
   "metadata": {},
   "outputs": [],
   "source": [
    "import plotly.graph_objects as go\n",
    "import plotly.express as px"
   ]
  },
  {
   "cell_type": "code",
   "execution_count": 4,
   "id": "6d9487d6-2019-49eb-b760-097cec6cee73",
   "metadata": {},
   "outputs": [],
   "source": [
    "warnings.filterwarnings(\"ignore\")"
   ]
  },
  {
   "cell_type": "code",
   "execution_count": 5,
   "id": "7d49c8f7-92b6-4634-9449-e8e164934cf2",
   "metadata": {},
   "outputs": [],
   "source": [
    "# df = pd.read_csv('youtube_data.csv')"
   ]
  },
  {
   "cell_type": "code",
   "execution_count": 6,
   "id": "c5cc3296-95f0-47e3-95e6-95eba355d87d",
   "metadata": {
    "scrolled": true
   },
   "outputs": [],
   "source": [
    "# df"
   ]
  },
  {
   "cell_type": "code",
   "execution_count": 7,
   "id": "2d858baf-d953-4bf3-b709-80b5fcf3583c",
   "metadata": {},
   "outputs": [],
   "source": [
    "# df.isnull().sum()"
   ]
  },
  {
   "cell_type": "code",
   "execution_count": 8,
   "id": "bfa562ef-96d3-49f8-9ec9-c32ce2707f56",
   "metadata": {},
   "outputs": [],
   "source": [
    "# df.info()"
   ]
  },
  {
   "cell_type": "code",
   "execution_count": 9,
   "id": "71aaf304-b5f7-400f-a44d-48aeade7d485",
   "metadata": {},
   "outputs": [],
   "source": [
    "# index = df.shape[0]"
   ]
  },
  {
   "cell_type": "code",
   "execution_count": 10,
   "id": "9cbf6f79-9263-4bbc-afb9-55d9921291ed",
   "metadata": {
    "scrolled": true
   },
   "outputs": [],
   "source": [
    "# def re(x):\n",
    "#    return str(x).replace(',', '')"
   ]
  },
  {
   "cell_type": "code",
   "execution_count": 11,
   "id": "d1c8a0d6-ddf9-46ae-a206-840674f92f82",
   "metadata": {
    "scrolled": true
   },
   "outputs": [],
   "source": [
    "# df['subscriber'] = df['subscriber'].apply(re)"
   ]
  },
  {
   "cell_type": "code",
   "execution_count": 12,
   "id": "31310fb7-c6aa-4b6a-9402-f19a9e73e9b5",
   "metadata": {
    "scrolled": true
   },
   "outputs": [],
   "source": [
    "# df['view'] = df['view'].apply(re)"
   ]
  },
  {
   "cell_type": "code",
   "execution_count": 13,
   "id": "1548c2dd-ea06-4725-a9b5-09fa808a34a5",
   "metadata": {
    "scrolled": true
   },
   "outputs": [],
   "source": [
    "# df['last_subscriber_30'] = df['last_subscriber_30'].apply(re)"
   ]
  },
  {
   "cell_type": "code",
   "execution_count": 14,
   "id": "67ee4bdc-e832-419a-b88a-0e4a98d4223c",
   "metadata": {
    "scrolled": true
   },
   "outputs": [],
   "source": [
    "# df['last_view_30'] = df['last_view_30'].apply(re)"
   ]
  },
  {
   "cell_type": "code",
   "execution_count": 15,
   "id": "cee0b2d9-e3f8-4a15-b478-814c06688413",
   "metadata": {},
   "outputs": [],
   "source": [
    "# df = df.astype({ \"subscriber\": int, \"view\": int, \"last_subscriber_30\": int, \"last_view_30\": int })"
   ]
  },
  {
   "cell_type": "code",
   "execution_count": 16,
   "id": "2fff759d-588e-4d19-aa25-0d7bd4a263a2",
   "metadata": {},
   "outputs": [],
   "source": [
    "# month_earnings_min = []"
   ]
  },
  {
   "cell_type": "code",
   "execution_count": 17,
   "id": "57a10465-c4af-4ce7-a2ae-13fd6cc912ae",
   "metadata": {},
   "outputs": [],
   "source": [
    "# month_earnings_max = []"
   ]
  },
  {
   "cell_type": "code",
   "execution_count": 18,
   "id": "79f38ec4-236c-471c-bb43-1e09c58f3db3",
   "metadata": {},
   "outputs": [],
   "source": [
    "# for i in range(0, index):\n",
    "#     month_earnings_min.append(eval(df.loc[i, 'month_earnings'])[0].replace('$', ''))\n",
    "#     month_earnings_max.append(eval(df.loc[i, 'month_earnings'])[1].replace('$', ''))"
   ]
  },
  {
   "cell_type": "code",
   "execution_count": 19,
   "id": "314e59a0-7272-4d8e-b963-5f839417bf95",
   "metadata": {},
   "outputs": [],
   "source": [
    "# df['month_earnings_min'] = month_earnings_min"
   ]
  },
  {
   "cell_type": "code",
   "execution_count": 20,
   "id": "a7adc90e-4ab4-41a1-9a8c-b97d44488458",
   "metadata": {},
   "outputs": [],
   "source": [
    "# df['month_earnings_max'] = month_earnings_max"
   ]
  },
  {
   "cell_type": "code",
   "execution_count": 21,
   "id": "1cdb902b-9141-48d0-b6c3-dd9b8c38d66d",
   "metadata": {
    "scrolled": true
   },
   "outputs": [],
   "source": [
    "# for i in range(0, index):\n",
    "#     mem = df.loc[i, 'month_earnings_min']\n",
    "#     if mem == '':\n",
    "#         df.loc[i, 'month_earnings_min'] = 0\n",
    "#     else:\n",
    "#         if not type(mem) == int:\n",
    "#             if 'K' in mem:\n",
    "#                 mem = mem.replace('K', '')\n",
    "#                 mem = int(float(mem) * 1000)\n",
    "#                 df.loc[i, 'month_earnings_min'] = mem\n",
    "#             else:\n",
    "#                 mem = int(mem)\n",
    "#                 df.loc[i, 'month_earnings_min'] = mem"
   ]
  },
  {
   "cell_type": "code",
   "execution_count": 22,
   "id": "a29791bd-7050-422d-84d6-1e64f614f2d6",
   "metadata": {},
   "outputs": [],
   "source": [
    "# for i in range(0, index):\n",
    "#     mem = df.loc[i, 'month_earnings_max']\n",
    "#     if mem == '':\n",
    "#         df.loc[i, 'month_earnings_max'] = 0\n",
    "#     else:\n",
    "#         if not type(mem) == int:\n",
    "#             if 'M' in mem:\n",
    "#                 mem = mem.replace('M', '')\n",
    "#                 mem = int(float(mem) * 1000 * 1000)\n",
    "#                 df.loc[i, 'month_earnings_max'] = mem\n",
    "#             elif 'K' in mem:\n",
    "#                 mem = mem.replace('K', '')\n",
    "#                 mem = int(float(mem) * 1000)\n",
    "#                 df.loc[i, 'month_earnings_max'] = mem\n",
    "#             else:\n",
    "#                 mem = int(mem)\n",
    "#                 df.loc[i, 'month_earnings_max'] = mem"
   ]
  },
  {
   "cell_type": "code",
   "execution_count": 23,
   "id": "42744b27-cebe-418b-ad1a-c80a9da183eb",
   "metadata": {},
   "outputs": [],
   "source": [
    "# df"
   ]
  },
  {
   "cell_type": "code",
   "execution_count": 24,
   "id": "b6818b1d-ae2b-474c-82a0-3b13c5ee2618",
   "metadata": {},
   "outputs": [],
   "source": [
    "# df = df.astype({ \"month_earnings_min\": int, \"month_earnings_max\": int })"
   ]
  },
  {
   "cell_type": "code",
   "execution_count": 25,
   "id": "8925f877-4835-4bd5-bb3d-8a0650642269",
   "metadata": {},
   "outputs": [],
   "source": [
    "# df.info()"
   ]
  },
  {
   "cell_type": "code",
   "execution_count": 26,
   "id": "8410a848-f4a9-42b5-95e9-82f45d12636d",
   "metadata": {},
   "outputs": [],
   "source": [
    "# df.to_csv('youtube_data_eda.csv', index=False)"
   ]
  },
  {
   "cell_type": "code",
   "execution_count": 27,
   "id": "65801c5e-4d28-4036-873f-504ca179d51b",
   "metadata": {},
   "outputs": [],
   "source": [
    "# df = pd.read_csv('youtube_data_eda.csv')"
   ]
  },
  {
   "cell_type": "code",
   "execution_count": 28,
   "id": "c8e6abc6-bc27-4ab2-a611-f8b52c741b1a",
   "metadata": {
    "scrolled": true
   },
   "outputs": [],
   "source": [
    "# df"
   ]
  },
  {
   "cell_type": "code",
   "execution_count": 29,
   "id": "2ae2c3fe-66db-4cc5-9e14-21856f587383",
   "metadata": {
    "scrolled": true
   },
   "outputs": [],
   "source": [
    "# index = df.shape[0]"
   ]
  },
  {
   "cell_type": "code",
   "execution_count": 30,
   "id": "f27b0063-d42c-459b-b8ec-3a5d6bc5fe7e",
   "metadata": {
    "scrolled": true
   },
   "outputs": [],
   "source": [
    "# nindex = df[df['overviewSubscribers'].isna()].index"
   ]
  },
  {
   "cell_type": "code",
   "execution_count": 31,
   "id": "88088954-be43-4686-8379-f68047669c13",
   "metadata": {
    "scrolled": true
   },
   "outputs": [],
   "source": [
    "# for i in nindex:\n",
    "#     df.at[i, 'overviewSubscribers'] = []"
   ]
  },
  {
   "cell_type": "code",
   "execution_count": 32,
   "id": "689f2142-44a3-40da-af51-24a4a5358f34",
   "metadata": {},
   "outputs": [],
   "source": [
    "# overviewSubscribers_date = []"
   ]
  },
  {
   "cell_type": "code",
   "execution_count": 33,
   "id": "0941ae2c-1fb2-47d2-9991-438ac6b82d76",
   "metadata": {},
   "outputs": [],
   "source": [
    "# overviewSubscribers_count = []"
   ]
  },
  {
   "cell_type": "code",
   "execution_count": 34,
   "id": "3b71f640-d6dc-479b-a63f-b2c4576e6f7a",
   "metadata": {},
   "outputs": [],
   "source": [
    "# for i in range(0, index):\n",
    "#     yde = df.loc[i, ['overviewSubscribers']][0]\n",
    "#     if not yde == []:\n",
    "#         yde = eval(yde)\n",
    "#         a = []\n",
    "#         b = []\n",
    "#         for element in yde:\n",
    "#             a.append(element[0])\n",
    "#             b.append(element[1])\n",
    "#         overviewSubscribers_date.append(a)\n",
    "#         overviewSubscribers_count.append(b)\n",
    "#     else:\n",
    "#         overviewSubscribers_date.append([])\n",
    "#         overviewSubscribers_count.append([])"
   ]
  },
  {
   "cell_type": "code",
   "execution_count": 35,
   "id": "79383426-7ff8-4d0c-ab44-d52c3aa3599a",
   "metadata": {},
   "outputs": [],
   "source": [
    "# df['overviewSubscribers_date'] = overviewSubscribers_date"
   ]
  },
  {
   "cell_type": "code",
   "execution_count": 36,
   "id": "84d2aee0-715c-4bbb-9937-b59256730552",
   "metadata": {},
   "outputs": [],
   "source": [
    "# df['overviewSubscribers_count'] = overviewSubscribers_count"
   ]
  },
  {
   "cell_type": "code",
   "execution_count": 37,
   "id": "ecb31888-a644-4cf8-ab94-a8ae30562950",
   "metadata": {},
   "outputs": [],
   "source": [
    "# nindex = df[df['overviewVideoViews'].isna()].index"
   ]
  },
  {
   "cell_type": "code",
   "execution_count": 38,
   "id": "623659c6-0e29-440a-9520-9c72f34501e7",
   "metadata": {},
   "outputs": [],
   "source": [
    "# for i in nindex:\n",
    "#     df.at[i, 'overviewVideoViews'] = []"
   ]
  },
  {
   "cell_type": "code",
   "execution_count": 39,
   "id": "98de72c0-29db-4f21-a3cd-d9a69e111aa8",
   "metadata": {},
   "outputs": [],
   "source": [
    "# overviewVideoViews_date = []"
   ]
  },
  {
   "cell_type": "code",
   "execution_count": 40,
   "id": "ef89084e-ac11-49ae-98e2-626c18ff45df",
   "metadata": {},
   "outputs": [],
   "source": [
    "# overviewVideoViews_count = []"
   ]
  },
  {
   "cell_type": "code",
   "execution_count": 41,
   "id": "ef037593-52dd-4316-9b7b-942469e63b9d",
   "metadata": {},
   "outputs": [],
   "source": [
    "# for i in range(0, index):\n",
    "#     yde = df.loc[i, ['overviewVideoViews']][0]\n",
    "#     if not yde == []:\n",
    "#         yde = eval(yde)\n",
    "#         a = [] \t[2016-10-29\n",
    "#         b = []\n",
    "#         for element in yde:\n",
    "#             a.append(element[0])\n",
    "#             b.append(element[1])\n",
    "#         overviewVideoViews_date.append(a)\n",
    "#         overviewVideoViews_count.append(b)\n",
    "#     else:\n",
    "#         overviewVideoViews_date.append([])\n",
    "#         overviewVideoViews_count.append([])"
   ]
  },
  {
   "cell_type": "code",
   "execution_count": 42,
   "id": "f2df15b1-a383-4780-93de-abf85433f3d2",
   "metadata": {},
   "outputs": [],
   "source": [
    "# df['overviewVideoViews_date'] = overviewVideoViews_date"
   ]
  },
  {
   "cell_type": "code",
   "execution_count": 43,
   "id": "281fec4c-6abe-4dc9-aa03-7e6a2781d98a",
   "metadata": {},
   "outputs": [],
   "source": [
    "# df['overviewVideoViews_count'] = overviewVideoViews_count"
   ]
  },
  {
   "cell_type": "code",
   "execution_count": 44,
   "id": "a24c5344-fe15-4f8e-8587-b5fe0c458d3d",
   "metadata": {},
   "outputs": [],
   "source": [
    "# df.to_csv('youtube_data_eda.csv', index=False)"
   ]
  },
  {
   "cell_type": "code",
   "execution_count": 45,
   "id": "0fa9b762-e901-493e-9aef-3db5e476debf",
   "metadata": {},
   "outputs": [],
   "source": [
    "df = pd.read_csv('youtube_data_eda.csv')"
   ]
  },
  {
   "cell_type": "code",
   "execution_count": 46,
   "id": "1b64a12d-4fc6-46e1-9ea9-7ab4a493fa39",
   "metadata": {
    "scrolled": true
   },
   "outputs": [
    {
     "data": {
      "text/html": [
       "<div>\n",
       "<style scoped>\n",
       "    .dataframe tbody tr th:only-of-type {\n",
       "        vertical-align: middle;\n",
       "    }\n",
       "\n",
       "    .dataframe tbody tr th {\n",
       "        vertical-align: top;\n",
       "    }\n",
       "\n",
       "    .dataframe thead th {\n",
       "        text-align: right;\n",
       "    }\n",
       "</style>\n",
       "<table border=\"1\" class=\"dataframe\">\n",
       "  <thead>\n",
       "    <tr style=\"text-align: right;\">\n",
       "      <th></th>\n",
       "      <th>profile_name</th>\n",
       "      <th>subscriber</th>\n",
       "      <th>view</th>\n",
       "      <th>video</th>\n",
       "      <th>country</th>\n",
       "      <th>category</th>\n",
       "      <th>since</th>\n",
       "      <th>month_earnings</th>\n",
       "      <th>last_subscriber_30</th>\n",
       "      <th>last_view_30</th>\n",
       "      <th>overviewSubscribers</th>\n",
       "      <th>overviewVideoViews</th>\n",
       "      <th>month_earnings_min</th>\n",
       "      <th>month_earnings_max</th>\n",
       "      <th>overviewSubscribers_date</th>\n",
       "      <th>overviewSubscribers_count</th>\n",
       "      <th>overviewVideoViews_date</th>\n",
       "      <th>overviewVideoViews_count</th>\n",
       "    </tr>\n",
       "  </thead>\n",
       "  <tbody>\n",
       "    <tr>\n",
       "      <th>0</th>\n",
       "      <td>Rotana</td>\n",
       "      <td>24500000</td>\n",
       "      <td>24034368999</td>\n",
       "      <td>9078</td>\n",
       "      <td>Saudi Arabia (SA)</td>\n",
       "      <td>Music</td>\n",
       "      <td>2012</td>\n",
       "      <td>['$110K', '$658K']</td>\n",
       "      <td>200000</td>\n",
       "      <td>292453337</td>\n",
       "      <td>[['2016-10-29', '3282041'], ['2016-11-27', '33...</td>\n",
       "      <td>[['2016-10-29', '2397995058'], ['2016-11-27', ...</td>\n",
       "      <td>110000</td>\n",
       "      <td>658000</td>\n",
       "      <td>['2016-10-29', '2016-11-27', '2016-12-19', '20...</td>\n",
       "      <td>['3282041', '3394305', '3477819', '3594154', '...</td>\n",
       "      <td>['2016-10-29', '2016-11-27', '2016-12-19', '20...</td>\n",
       "      <td>['2397995058', '2517865902', '2599146119', '28...</td>\n",
       "    </tr>\n",
       "    <tr>\n",
       "      <th>1</th>\n",
       "      <td>Mmoshaya</td>\n",
       "      <td>23200000</td>\n",
       "      <td>18468679361</td>\n",
       "      <td>1240</td>\n",
       "      <td>Saudi Arabia (SA)</td>\n",
       "      <td>People &amp; Blogs</td>\n",
       "      <td>2010</td>\n",
       "      <td>['$12.8K', '$76.7K']</td>\n",
       "      <td>0</td>\n",
       "      <td>34076848</td>\n",
       "      <td>[['2016-10-27', '1139825'], ['2016-11-23', '12...</td>\n",
       "      <td>[['2016-10-27', '340585176'], ['2016-11-23', '...</td>\n",
       "      <td>12800</td>\n",
       "      <td>76700</td>\n",
       "      <td>['2016-10-27', '2016-11-23', '2016-12-23', '20...</td>\n",
       "      <td>['1139825', '1236408', '1386016', '1491742', '...</td>\n",
       "      <td>['2016-10-27', '2016-11-23', '2016-12-23', '20...</td>\n",
       "      <td>['340585176', '385899062', '454580517', '52517...</td>\n",
       "    </tr>\n",
       "    <tr>\n",
       "      <th>2</th>\n",
       "      <td>شبكة العاب العرب | Arab Games Network</td>\n",
       "      <td>22300000</td>\n",
       "      <td>10024125023</td>\n",
       "      <td>7460</td>\n",
       "      <td>Saudi Arabia (SA)</td>\n",
       "      <td>Gaming</td>\n",
       "      <td>2013</td>\n",
       "      <td>['$17K', '$102K']</td>\n",
       "      <td>100000</td>\n",
       "      <td>45416699</td>\n",
       "      <td>[['2016-11-14', '213303'], ['2017-01-19', '250...</td>\n",
       "      <td>[['2016-11-14', '22399237'], ['2017-01-19', '3...</td>\n",
       "      <td>17000</td>\n",
       "      <td>102000</td>\n",
       "      <td>['2016-11-14', '2017-01-19', '2017-05-01', '20...</td>\n",
       "      <td>['213303', '250934', '313996', '329298', '3880...</td>\n",
       "      <td>['2016-11-14', '2017-01-19', '2017-05-01', '20...</td>\n",
       "      <td>['22399237', '30860047', '40045340', '42931914...</td>\n",
       "    </tr>\n",
       "    <tr>\n",
       "      <th>3</th>\n",
       "      <td>Katakit Baby Tv</td>\n",
       "      <td>20200000</td>\n",
       "      <td>8517744618</td>\n",
       "      <td>231</td>\n",
       "      <td>Saudi Arabia (SA)</td>\n",
       "      <td>Music</td>\n",
       "      <td>2010</td>\n",
       "      <td>['$50K', '$300K']</td>\n",
       "      <td>200000</td>\n",
       "      <td>133417200</td>\n",
       "      <td>[['2021-07-18', '9780000'], ['2021-08-31', '10...</td>\n",
       "      <td>[['2021-07-18', '3675162082'], ['2021-08-31', ...</td>\n",
       "      <td>50000</td>\n",
       "      <td>300000</td>\n",
       "      <td>['2021-07-18', '2021-08-31', '2021-09-27', '20...</td>\n",
       "      <td>['9780000', '10100000', '10300000', '10600000'...</td>\n",
       "      <td>['2021-07-18', '2021-08-31', '2021-09-27', '20...</td>\n",
       "      <td>['3675162082', '3853558289', '3960178435', '40...</td>\n",
       "    </tr>\n",
       "    <tr>\n",
       "      <th>4</th>\n",
       "      <td>ماشا و الدب</td>\n",
       "      <td>18300000</td>\n",
       "      <td>10158387659</td>\n",
       "      <td>1482</td>\n",
       "      <td>Saudi Arabia (SA)</td>\n",
       "      <td>Shows</td>\n",
       "      <td>2017</td>\n",
       "      <td>['$30.8K', '$185K']</td>\n",
       "      <td>100000</td>\n",
       "      <td>82126847</td>\n",
       "      <td>[['2017-05-29', '967'], ['2017-06-18', '5106']...</td>\n",
       "      <td>[['2017-05-29', '135030'], ['2017-06-18', '973...</td>\n",
       "      <td>30800</td>\n",
       "      <td>185000</td>\n",
       "      <td>['2017-05-29', '2017-06-18', '2017-07-09', '20...</td>\n",
       "      <td>['967', '5106', '14636', '39196', '52839', '75...</td>\n",
       "      <td>['2017-05-29', '2017-06-18', '2017-07-09', '20...</td>\n",
       "      <td>['135030', '973753', '3369492', '10535464', '1...</td>\n",
       "    </tr>\n",
       "    <tr>\n",
       "      <th>...</th>\n",
       "      <td>...</td>\n",
       "      <td>...</td>\n",
       "      <td>...</td>\n",
       "      <td>...</td>\n",
       "      <td>...</td>\n",
       "      <td>...</td>\n",
       "      <td>...</td>\n",
       "      <td>...</td>\n",
       "      <td>...</td>\n",
       "      <td>...</td>\n",
       "      <td>...</td>\n",
       "      <td>...</td>\n",
       "      <td>...</td>\n",
       "      <td>...</td>\n",
       "      <td>...</td>\n",
       "      <td>...</td>\n",
       "      <td>...</td>\n",
       "      <td>...</td>\n",
       "    </tr>\n",
       "    <tr>\n",
       "      <th>3580</th>\n",
       "      <td>Thunayyan Khalid!</td>\n",
       "      <td>3890000</td>\n",
       "      <td>755411009</td>\n",
       "      <td>595</td>\n",
       "      <td>Canada (CA)</td>\n",
       "      <td>Entertainment</td>\n",
       "      <td>2010</td>\n",
       "      <td>['$170', '$1.03K']</td>\n",
       "      <td>0</td>\n",
       "      <td>455754</td>\n",
       "      <td>[['2016-10-29', '1440927'], ['2016-11-24', '15...</td>\n",
       "      <td>[['2016-10-29', '195190546'], ['2016-11-24', '...</td>\n",
       "      <td>170</td>\n",
       "      <td>1030</td>\n",
       "      <td>['2016-10-29', '2016-11-24', '2016-12-28', '20...</td>\n",
       "      <td>['1440927', '1517067', '1626937', '1748880', '...</td>\n",
       "      <td>['2016-10-29', '2016-11-24', '2016-12-28', '20...</td>\n",
       "      <td>['195190546', '209416570', '232033553', '25103...</td>\n",
       "    </tr>\n",
       "    <tr>\n",
       "      <th>3581</th>\n",
       "      <td>دانية شافعي Danyah Shafei</td>\n",
       "      <td>2830000</td>\n",
       "      <td>1160145940</td>\n",
       "      <td>329</td>\n",
       "      <td>NaN</td>\n",
       "      <td>Film &amp; Animation</td>\n",
       "      <td>2013</td>\n",
       "      <td>['$1.03K', '$6.21K']</td>\n",
       "      <td>0</td>\n",
       "      <td>2757922</td>\n",
       "      <td>[['2016-10-29', '396331'], ['2016-11-23', '439...</td>\n",
       "      <td>[['2016-10-29', '271407735'], ['2016-11-23', '...</td>\n",
       "      <td>1030</td>\n",
       "      <td>6210</td>\n",
       "      <td>['2016-10-29', '2016-11-23', '2017-01-28', '20...</td>\n",
       "      <td>['396331', '439363', '490322', '653386', '8683...</td>\n",
       "      <td>['2016-10-29', '2016-11-23', '2017-01-28', '20...</td>\n",
       "      <td>['271407735', '296874955', '330954677', '41969...</td>\n",
       "    </tr>\n",
       "    <tr>\n",
       "      <th>3582</th>\n",
       "      <td>25esports</td>\n",
       "      <td>348000</td>\n",
       "      <td>13915866</td>\n",
       "      <td>56</td>\n",
       "      <td>NaN</td>\n",
       "      <td>People &amp; Blogs</td>\n",
       "      <td>2017</td>\n",
       "      <td>['$78', '$471']</td>\n",
       "      <td>5000</td>\n",
       "      <td>209635</td>\n",
       "      <td>[['2021-06-17', '230000'], ['2021-07-30', '241...</td>\n",
       "      <td>[['2021-06-17', '4042277'], ['2021-07-30', '48...</td>\n",
       "      <td>78</td>\n",
       "      <td>471</td>\n",
       "      <td>['2021-06-17', '2021-07-30', '2021-09-06', '20...</td>\n",
       "      <td>['230000', '241000', '250000', '259000', '2650...</td>\n",
       "      <td>['2021-06-17', '2021-07-30', '2021-09-06', '20...</td>\n",
       "      <td>['4042277', '4848914', '5570774', '6866796', '...</td>\n",
       "    </tr>\n",
       "    <tr>\n",
       "      <th>3583</th>\n",
       "      <td>Barry | باري</td>\n",
       "      <td>1780000</td>\n",
       "      <td>23957794</td>\n",
       "      <td>1</td>\n",
       "      <td>NaN</td>\n",
       "      <td>People &amp; Blogs</td>\n",
       "      <td>2017</td>\n",
       "      <td>['$24', '$144']</td>\n",
       "      <td>0</td>\n",
       "      <td>64270</td>\n",
       "      <td>[['2017-03-25', '78157'], ['2017-04-17', '1044...</td>\n",
       "      <td>[['2017-03-25', '172750'], ['2017-04-17', '716...</td>\n",
       "      <td>24</td>\n",
       "      <td>144</td>\n",
       "      <td>['2017-03-25', '2017-04-17', '2017-05-09', '20...</td>\n",
       "      <td>['78157', '104496', '111980', '118654', '12344...</td>\n",
       "      <td>['2017-03-25', '2017-04-17', '2017-05-09', '20...</td>\n",
       "      <td>['172750', '716716', '820269', '908246', '9708...</td>\n",
       "    </tr>\n",
       "    <tr>\n",
       "      <th>3584</th>\n",
       "      <td>Dyler | دايلر</td>\n",
       "      <td>7860000</td>\n",
       "      <td>1224551963</td>\n",
       "      <td>567</td>\n",
       "      <td>NaN</td>\n",
       "      <td>People &amp; Blogs</td>\n",
       "      <td>2016</td>\n",
       "      <td>['$568', '$3.41K']</td>\n",
       "      <td>0</td>\n",
       "      <td>1515993</td>\n",
       "      <td>[['2017-01-03', '387'], ['2017-02-15', '132771...</td>\n",
       "      <td>[['2017-01-03', '0'], ['2017-02-15', '2639847'...</td>\n",
       "      <td>568</td>\n",
       "      <td>3410</td>\n",
       "      <td>['2017-01-03', '2017-02-15', '2017-08-07', '20...</td>\n",
       "      <td>['387', '132771', '1145825', '1728665', '19352...</td>\n",
       "      <td>['2017-01-03', '2017-02-15', '2017-08-07', '20...</td>\n",
       "      <td>['0', '2639847', '94221723', '172927041', '202...</td>\n",
       "    </tr>\n",
       "  </tbody>\n",
       "</table>\n",
       "<p>3585 rows × 18 columns</p>\n",
       "</div>"
      ],
      "text/plain": [
       "                               profile_name  subscriber         view  video  \\\n",
       "0                                    Rotana    24500000  24034368999   9078   \n",
       "1                                  Mmoshaya    23200000  18468679361   1240   \n",
       "2     شبكة العاب العرب | Arab Games Network    22300000  10024125023   7460   \n",
       "3                           Katakit Baby Tv    20200000   8517744618    231   \n",
       "4                               ماشا و الدب    18300000  10158387659   1482   \n",
       "...                                     ...         ...          ...    ...   \n",
       "3580                      Thunayyan Khalid!     3890000    755411009    595   \n",
       "3581              دانية شافعي Danyah Shafei     2830000   1160145940    329   \n",
       "3582                              25esports      348000     13915866     56   \n",
       "3583                           Barry | باري     1780000     23957794      1   \n",
       "3584                          Dyler | دايلر     7860000   1224551963    567   \n",
       "\n",
       "                country          category  since        month_earnings  \\\n",
       "0     Saudi Arabia (SA)             Music   2012    ['$110K', '$658K']   \n",
       "1     Saudi Arabia (SA)    People & Blogs   2010  ['$12.8K', '$76.7K']   \n",
       "2     Saudi Arabia (SA)            Gaming   2013     ['$17K', '$102K']   \n",
       "3     Saudi Arabia (SA)             Music   2010     ['$50K', '$300K']   \n",
       "4     Saudi Arabia (SA)             Shows   2017   ['$30.8K', '$185K']   \n",
       "...                 ...               ...    ...                   ...   \n",
       "3580        Canada (CA)     Entertainment   2010    ['$170', '$1.03K']   \n",
       "3581                NaN  Film & Animation   2013  ['$1.03K', '$6.21K']   \n",
       "3582                NaN    People & Blogs   2017       ['$78', '$471']   \n",
       "3583                NaN    People & Blogs   2017       ['$24', '$144']   \n",
       "3584                NaN    People & Blogs   2016    ['$568', '$3.41K']   \n",
       "\n",
       "      last_subscriber_30  last_view_30  \\\n",
       "0                 200000     292453337   \n",
       "1                      0      34076848   \n",
       "2                 100000      45416699   \n",
       "3                 200000     133417200   \n",
       "4                 100000      82126847   \n",
       "...                  ...           ...   \n",
       "3580                   0        455754   \n",
       "3581                   0       2757922   \n",
       "3582                5000        209635   \n",
       "3583                   0         64270   \n",
       "3584                   0       1515993   \n",
       "\n",
       "                                    overviewSubscribers  \\\n",
       "0     [['2016-10-29', '3282041'], ['2016-11-27', '33...   \n",
       "1     [['2016-10-27', '1139825'], ['2016-11-23', '12...   \n",
       "2     [['2016-11-14', '213303'], ['2017-01-19', '250...   \n",
       "3     [['2021-07-18', '9780000'], ['2021-08-31', '10...   \n",
       "4     [['2017-05-29', '967'], ['2017-06-18', '5106']...   \n",
       "...                                                 ...   \n",
       "3580  [['2016-10-29', '1440927'], ['2016-11-24', '15...   \n",
       "3581  [['2016-10-29', '396331'], ['2016-11-23', '439...   \n",
       "3582  [['2021-06-17', '230000'], ['2021-07-30', '241...   \n",
       "3583  [['2017-03-25', '78157'], ['2017-04-17', '1044...   \n",
       "3584  [['2017-01-03', '387'], ['2017-02-15', '132771...   \n",
       "\n",
       "                                     overviewVideoViews  month_earnings_min  \\\n",
       "0     [['2016-10-29', '2397995058'], ['2016-11-27', ...              110000   \n",
       "1     [['2016-10-27', '340585176'], ['2016-11-23', '...               12800   \n",
       "2     [['2016-11-14', '22399237'], ['2017-01-19', '3...               17000   \n",
       "3     [['2021-07-18', '3675162082'], ['2021-08-31', ...               50000   \n",
       "4     [['2017-05-29', '135030'], ['2017-06-18', '973...               30800   \n",
       "...                                                 ...                 ...   \n",
       "3580  [['2016-10-29', '195190546'], ['2016-11-24', '...                 170   \n",
       "3581  [['2016-10-29', '271407735'], ['2016-11-23', '...                1030   \n",
       "3582  [['2021-06-17', '4042277'], ['2021-07-30', '48...                  78   \n",
       "3583  [['2017-03-25', '172750'], ['2017-04-17', '716...                  24   \n",
       "3584  [['2017-01-03', '0'], ['2017-02-15', '2639847'...                 568   \n",
       "\n",
       "      month_earnings_max                           overviewSubscribers_date  \\\n",
       "0                 658000  ['2016-10-29', '2016-11-27', '2016-12-19', '20...   \n",
       "1                  76700  ['2016-10-27', '2016-11-23', '2016-12-23', '20...   \n",
       "2                 102000  ['2016-11-14', '2017-01-19', '2017-05-01', '20...   \n",
       "3                 300000  ['2021-07-18', '2021-08-31', '2021-09-27', '20...   \n",
       "4                 185000  ['2017-05-29', '2017-06-18', '2017-07-09', '20...   \n",
       "...                  ...                                                ...   \n",
       "3580                1030  ['2016-10-29', '2016-11-24', '2016-12-28', '20...   \n",
       "3581                6210  ['2016-10-29', '2016-11-23', '2017-01-28', '20...   \n",
       "3582                 471  ['2021-06-17', '2021-07-30', '2021-09-06', '20...   \n",
       "3583                 144  ['2017-03-25', '2017-04-17', '2017-05-09', '20...   \n",
       "3584                3410  ['2017-01-03', '2017-02-15', '2017-08-07', '20...   \n",
       "\n",
       "                              overviewSubscribers_count  \\\n",
       "0     ['3282041', '3394305', '3477819', '3594154', '...   \n",
       "1     ['1139825', '1236408', '1386016', '1491742', '...   \n",
       "2     ['213303', '250934', '313996', '329298', '3880...   \n",
       "3     ['9780000', '10100000', '10300000', '10600000'...   \n",
       "4     ['967', '5106', '14636', '39196', '52839', '75...   \n",
       "...                                                 ...   \n",
       "3580  ['1440927', '1517067', '1626937', '1748880', '...   \n",
       "3581  ['396331', '439363', '490322', '653386', '8683...   \n",
       "3582  ['230000', '241000', '250000', '259000', '2650...   \n",
       "3583  ['78157', '104496', '111980', '118654', '12344...   \n",
       "3584  ['387', '132771', '1145825', '1728665', '19352...   \n",
       "\n",
       "                                overviewVideoViews_date  \\\n",
       "0     ['2016-10-29', '2016-11-27', '2016-12-19', '20...   \n",
       "1     ['2016-10-27', '2016-11-23', '2016-12-23', '20...   \n",
       "2     ['2016-11-14', '2017-01-19', '2017-05-01', '20...   \n",
       "3     ['2021-07-18', '2021-08-31', '2021-09-27', '20...   \n",
       "4     ['2017-05-29', '2017-06-18', '2017-07-09', '20...   \n",
       "...                                                 ...   \n",
       "3580  ['2016-10-29', '2016-11-24', '2016-12-28', '20...   \n",
       "3581  ['2016-10-29', '2016-11-23', '2017-01-28', '20...   \n",
       "3582  ['2021-06-17', '2021-07-30', '2021-09-06', '20...   \n",
       "3583  ['2017-03-25', '2017-04-17', '2017-05-09', '20...   \n",
       "3584  ['2017-01-03', '2017-02-15', '2017-08-07', '20...   \n",
       "\n",
       "                               overviewVideoViews_count  \n",
       "0     ['2397995058', '2517865902', '2599146119', '28...  \n",
       "1     ['340585176', '385899062', '454580517', '52517...  \n",
       "2     ['22399237', '30860047', '40045340', '42931914...  \n",
       "3     ['3675162082', '3853558289', '3960178435', '40...  \n",
       "4     ['135030', '973753', '3369492', '10535464', '1...  \n",
       "...                                                 ...  \n",
       "3580  ['195190546', '209416570', '232033553', '25103...  \n",
       "3581  ['271407735', '296874955', '330954677', '41969...  \n",
       "3582  ['4042277', '4848914', '5570774', '6866796', '...  \n",
       "3583  ['172750', '716716', '820269', '908246', '9708...  \n",
       "3584  ['0', '2639847', '94221723', '172927041', '202...  \n",
       "\n",
       "[3585 rows x 18 columns]"
      ]
     },
     "execution_count": 46,
     "metadata": {},
     "output_type": "execute_result"
    }
   ],
   "source": [
    "df"
   ]
  },
  {
   "cell_type": "code",
   "execution_count": 47,
   "id": "62466e95-c1e4-44dd-892c-35c368b93a6e",
   "metadata": {},
   "outputs": [],
   "source": [
    "columns = [ \n",
    "            'profile_name', \n",
    "            'date', \n",
    "            'views',\n",
    "          ]\n",
    "df1 = pd.DataFrame(columns=columns)"
   ]
  },
  {
   "cell_type": "code",
   "execution_count": 48,
   "id": "0e7534d0-fa04-4f90-a8c4-458d9f00953c",
   "metadata": {},
   "outputs": [],
   "source": [
    "index = df.shape[0]"
   ]
  },
  {
   "cell_type": "code",
   "execution_count": 49,
   "id": "92fb025e-40fa-423e-9870-406d2bf5f72a",
   "metadata": {},
   "outputs": [
    {
     "ename": "KeyboardInterrupt",
     "evalue": "",
     "output_type": "error",
     "traceback": [
      "\u001b[0;31m---------------------------------------------------------------------------\u001b[0m",
      "\u001b[0;31mKeyboardInterrupt\u001b[0m                         Traceback (most recent call last)",
      "Cell \u001b[0;32mIn[49], line 11\u001b[0m\n\u001b[1;32m      9\u001b[0m date \u001b[38;5;241m=\u001b[39m dfa\u001b[38;5;241m.\u001b[39mloc[k, [\u001b[38;5;124m'\u001b[39m\u001b[38;5;124moverviewVideoViews_date\u001b[39m\u001b[38;5;124m'\u001b[39m]]\n\u001b[1;32m     10\u001b[0m count \u001b[38;5;241m=\u001b[39m dfa\u001b[38;5;241m.\u001b[39mloc[k, [\u001b[38;5;124m'\u001b[39m\u001b[38;5;124moverviewVideoViews_count\u001b[39m\u001b[38;5;124m'\u001b[39m]]\n\u001b[0;32m---> 11\u001b[0m count \u001b[38;5;241m=\u001b[39m \u001b[38;5;28mint\u001b[39m(count[\u001b[38;5;241m0\u001b[39m])\n\u001b[1;32m     12\u001b[0m \u001b[38;5;28;01mif\u001b[39;00m \u001b[38;5;129;01mnot\u001b[39;00m date[\u001b[38;5;241m0\u001b[39m][:\u001b[38;5;241m4\u001b[39m] \u001b[38;5;129;01min\u001b[39;00m di:\n\u001b[1;32m     13\u001b[0m     di[date[\u001b[38;5;241m0\u001b[39m][:\u001b[38;5;241m4\u001b[39m]] \u001b[38;5;241m=\u001b[39m count\n",
      "File \u001b[0;32m~/anaconda3/lib/python3.11/site-packages/pandas/core/series.py:1035\u001b[0m, in \u001b[0;36mSeries.__getitem__\u001b[0;34m(self, key)\u001b[0m\n\u001b[1;32m   1025\u001b[0m     key \u001b[38;5;241m=\u001b[39m unpack_1tuple(key)\n\u001b[1;32m   1027\u001b[0m \u001b[38;5;28;01mif\u001b[39;00m is_integer(key) \u001b[38;5;129;01mand\u001b[39;00m \u001b[38;5;28mself\u001b[39m\u001b[38;5;241m.\u001b[39mindex\u001b[38;5;241m.\u001b[39m_should_fallback_to_positional:\n\u001b[1;32m   1028\u001b[0m     warnings\u001b[38;5;241m.\u001b[39mwarn(\n\u001b[1;32m   1029\u001b[0m         \u001b[38;5;66;03m# GH#50617\u001b[39;00m\n\u001b[1;32m   1030\u001b[0m         \u001b[38;5;124m\"\u001b[39m\u001b[38;5;124mSeries.__getitem__ treating keys as positions is deprecated. \u001b[39m\u001b[38;5;124m\"\u001b[39m\n\u001b[1;32m   1031\u001b[0m         \u001b[38;5;124m\"\u001b[39m\u001b[38;5;124mIn a future version, integer keys will always be treated \u001b[39m\u001b[38;5;124m\"\u001b[39m\n\u001b[1;32m   1032\u001b[0m         \u001b[38;5;124m\"\u001b[39m\u001b[38;5;124mas labels (consistent with DataFrame behavior). To access \u001b[39m\u001b[38;5;124m\"\u001b[39m\n\u001b[1;32m   1033\u001b[0m         \u001b[38;5;124m\"\u001b[39m\u001b[38;5;124ma value by position, use `ser.iloc[pos]`\u001b[39m\u001b[38;5;124m\"\u001b[39m,\n\u001b[1;32m   1034\u001b[0m         \u001b[38;5;167;01mFutureWarning\u001b[39;00m,\n\u001b[0;32m-> 1035\u001b[0m         stacklevel\u001b[38;5;241m=\u001b[39mfind_stack_level(),\n\u001b[1;32m   1036\u001b[0m     )\n\u001b[1;32m   1037\u001b[0m     \u001b[38;5;28;01mreturn\u001b[39;00m \u001b[38;5;28mself\u001b[39m\u001b[38;5;241m.\u001b[39m_values[key]\n\u001b[1;32m   1039\u001b[0m \u001b[38;5;28;01melif\u001b[39;00m key_is_scalar:\n",
      "File \u001b[0;32m~/anaconda3/lib/python3.11/site-packages/pandas/util/_exceptions.py:49\u001b[0m, in \u001b[0;36mfind_stack_level\u001b[0;34m()\u001b[0m\n\u001b[1;32m     47\u001b[0m \u001b[38;5;28;01mwhile\u001b[39;00m frame:\n\u001b[1;32m     48\u001b[0m     fname \u001b[38;5;241m=\u001b[39m inspect\u001b[38;5;241m.\u001b[39mgetfile(frame)\n\u001b[0;32m---> 49\u001b[0m     \u001b[38;5;28;01mif\u001b[39;00m fname\u001b[38;5;241m.\u001b[39mstartswith(pkg_dir) \u001b[38;5;129;01mand\u001b[39;00m \u001b[38;5;129;01mnot\u001b[39;00m fname\u001b[38;5;241m.\u001b[39mstartswith(test_dir):\n\u001b[1;32m     50\u001b[0m         frame \u001b[38;5;241m=\u001b[39m frame\u001b[38;5;241m.\u001b[39mf_back\n\u001b[1;32m     51\u001b[0m         n \u001b[38;5;241m+\u001b[39m\u001b[38;5;241m=\u001b[39m \u001b[38;5;241m1\u001b[39m\n",
      "\u001b[0;31mKeyboardInterrupt\u001b[0m: "
     ]
    }
   ],
   "source": [
    "for i in range(0, index):\n",
    "    temp = df.loc[i, :]\n",
    "    overviewVideoViews_date = eval(temp['overviewVideoViews_date'])\n",
    "    overviewVideoViews_count = eval(temp['overviewVideoViews_count'])\n",
    "    dfa = pd.DataFrame({ 'overviewVideoViews_date' : overviewVideoViews_date, 'overviewVideoViews_count' : overviewVideoViews_count})\n",
    "    index = dfa.shape[0]\n",
    "    di = {}\n",
    "    for k in range(0, index):\n",
    "        date = dfa.loc[k, ['overviewVideoViews_date']]\n",
    "        count = dfa.loc[k, ['overviewVideoViews_count']]\n",
    "        count = int(count[0])\n",
    "        if not date[0][:4] in di:\n",
    "            di[date[0][:4]] = count\n",
    "        else:\n",
    "            di[date[0][:4]] = count\n",
    "    di_key = list(di)\n",
    "    di_value = list(di.values())\n",
    "    di_a = {}\n",
    "    index = len(di_key)\n",
    "    for j in range(index, 0, -1):\n",
    "        j = j -1\n",
    "        if not j == 0:\n",
    "            di_a[di_key[j]] = di_value[j] - di_value[j - 1]\n",
    "        else:\n",
    "            di_a[di_key[j]] = di_value[j]\n",
    "    output = {key: di_a[key] for key in sorted(di_a)}\n",
    "    df_1 = pd.DataFrame({ 'profile_name' : df.loc[i, 'profile_name'],'date' : list(output), 'views' : list(output.values()) })\n",
    "    df1 = pd.concat([df1, df_1], axis = 0)"
   ]
  },
  {
   "cell_type": "code",
   "execution_count": null,
   "id": "2ba10f85-feba-4a2b-b449-5fda5d1d9dc5",
   "metadata": {
    "scrolled": true
   },
   "outputs": [],
   "source": [
    "df1"
   ]
  },
  {
   "cell_type": "code",
   "execution_count": null,
   "id": "4642814e-139c-4763-86b0-9d0062eb7b95",
   "metadata": {},
   "outputs": [],
   "source": []
  }
 ],
 "metadata": {
  "kernelspec": {
   "display_name": "Python 3 (ipykernel)",
   "language": "python",
   "name": "python3"
  },
  "language_info": {
   "codemirror_mode": {
    "name": "ipython",
    "version": 3
   },
   "file_extension": ".py",
   "mimetype": "text/x-python",
   "name": "python",
   "nbconvert_exporter": "python",
   "pygments_lexer": "ipython3",
   "version": "3.11.7"
  }
 },
 "nbformat": 4,
 "nbformat_minor": 5
}
