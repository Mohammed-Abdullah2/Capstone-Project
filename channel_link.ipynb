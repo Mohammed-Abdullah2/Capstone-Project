{
 "cells": [
  {
   "cell_type": "code",
   "execution_count": 1,
   "id": "9168be5e-35e8-4647-bd31-da9ec9671336",
   "metadata": {},
   "outputs": [],
   "source": [
    "import requests "
   ]
  },
  {
   "cell_type": "code",
   "execution_count": 2,
   "id": "c991398b-f3c6-478f-a9b1-555130f9d2b6",
   "metadata": {},
   "outputs": [],
   "source": [
    "import pandas as pd"
   ]
  },
  {
   "cell_type": "code",
   "execution_count": 3,
   "id": "a66e9935-c0cf-4648-b8c6-7bb4c6ab0308",
   "metadata": {},
   "outputs": [],
   "source": [
    "from bs4 import BeautifulSoup"
   ]
  },
  {
   "cell_type": "code",
   "execution_count": 4,
   "id": "0686e03b-36fc-475d-bf22-b5f692e56cc1",
   "metadata": {},
   "outputs": [],
   "source": [
    "# assign URL \n",
    "url_to_scrape = \"https://us.youtubers.me/saudi-arabia/all/top-5000-most-subscribed-youtube-channels-in-saudi-arabia\""
   ]
  },
  {
   "cell_type": "code",
   "execution_count": 5,
   "id": "85842e90-a572-4487-aee2-c44cb01bf85e",
   "metadata": {},
   "outputs": [],
   "source": [
    "# request for HTML document of given url \n",
    "response = requests.get(url_to_scrape) "
   ]
  },
  {
   "cell_type": "code",
   "execution_count": 6,
   "id": "26f72081-d925-478c-9c1c-e51c63fee814",
   "metadata": {},
   "outputs": [],
   "source": [
    "# Ensure the content is interpreted as UTF-8\n",
    "response.encoding = 'utf-8'"
   ]
  },
  {
   "cell_type": "code",
   "execution_count": 7,
   "id": "0efe635a-4136-4a3e-b7ef-7b7b2366a35b",
   "metadata": {},
   "outputs": [],
   "source": [
    "# create document \n",
    "html_document = response.text"
   ]
  },
  {
   "cell_type": "code",
   "execution_count": 8,
   "id": "4ca0bd55-8fd2-42ec-99f7-3f968c533ed9",
   "metadata": {},
   "outputs": [],
   "source": [
    "# create soap object \n",
    "soup = BeautifulSoup(html_document, 'html.parser') "
   ]
  },
  {
   "cell_type": "code",
   "execution_count": 9,
   "id": "851a5a00-f224-476f-bd85-7f1b2ac561e4",
   "metadata": {},
   "outputs": [],
   "source": [
    "table = soup.find('table')"
   ]
  },
  {
   "cell_type": "code",
   "execution_count": 10,
   "id": "009711f0-3799-4f69-8109-6a2e592312f0",
   "metadata": {},
   "outputs": [],
   "source": [
    "last = len(table.find_all('td'))"
   ]
  },
  {
   "cell_type": "code",
   "execution_count": 11,
   "id": "10212bfe-4c39-44a1-b5aa-64882dbaa6e7",
   "metadata": {},
   "outputs": [
    {
     "data": {
      "text/plain": [
       "24934"
      ]
     },
     "execution_count": 11,
     "metadata": {},
     "output_type": "execute_result"
    }
   ],
   "source": [
    "last"
   ]
  },
  {
   "cell_type": "code",
   "execution_count": 12,
   "id": "680d7db5-0ea4-4039-bdbd-7fb6305c4e72",
   "metadata": {},
   "outputs": [],
   "source": [
    "index = 0"
   ]
  },
  {
   "cell_type": "code",
   "execution_count": 13,
   "id": "27a3990f-8152-4fa8-ac0b-1f8252dd7093",
   "metadata": {},
   "outputs": [],
   "source": [
    "channels = []"
   ]
  },
  {
   "cell_type": "code",
   "execution_count": 14,
   "id": "b6e0f4ab-bc96-421e-9eb2-5db11359089a",
   "metadata": {},
   "outputs": [],
   "source": [
    "while index < last:\n",
    "    # Insert values into the table\n",
    "    channel = table.find_all('td')[index + 1].text.lstrip().rstrip()\n",
    "    link = table.find_all('td')[index + 1].find('a').get(\"href\")\n",
    "\n",
    "    channels.append([channel, link])\n",
    "    \n",
    "    index = index + 7"
   ]
  },
  {
   "cell_type": "code",
   "execution_count": 15,
   "id": "7a7b98d5-b1d0-4ddf-b06e-a4a98459a8ac",
   "metadata": {},
   "outputs": [
    {
     "data": {
      "text/plain": [
       "3562"
      ]
     },
     "execution_count": 15,
     "metadata": {},
     "output_type": "execute_result"
    }
   ],
   "source": [
    "len(channels)"
   ]
  },
  {
   "cell_type": "code",
   "execution_count": 16,
   "id": "78ce82e3-8873-418d-af1e-b934280cf9c1",
   "metadata": {},
   "outputs": [],
   "source": [
    "columns = [ \n",
    "            'channel', \n",
    "            'link', \n",
    "          ]"
   ]
  },
  {
   "cell_type": "code",
   "execution_count": 17,
   "id": "02818e60-187d-4be7-b506-e74c1102028f",
   "metadata": {},
   "outputs": [],
   "source": [
    "df = pd.DataFrame(columns=columns)"
   ]
  },
  {
   "cell_type": "code",
   "execution_count": 18,
   "id": "8b61658d-cf13-4a2f-a209-4a192610d45b",
   "metadata": {},
   "outputs": [],
   "source": [
    "for channel in channels:\n",
    "    di = {\n",
    "        'channel' : [channel[0]],\n",
    "        'link' : [channel[1]],\n",
    "    }\n",
    "    df2 = pd.DataFrame(di)\n",
    "    df = pd.concat([df, df2], axis = 0)"
   ]
  },
  {
   "cell_type": "code",
   "execution_count": 19,
   "id": "eef69583-9134-439b-9db2-26adbe7f55cb",
   "metadata": {},
   "outputs": [],
   "source": [
    "df.reset_index(drop=True, inplace=True)"
   ]
  },
  {
   "cell_type": "code",
   "execution_count": 20,
   "id": "59af83d0-8097-4407-a67b-70d5d627a30f",
   "metadata": {},
   "outputs": [
    {
     "data": {
      "text/html": [
       "<div>\n",
       "<style scoped>\n",
       "    .dataframe tbody tr th:only-of-type {\n",
       "        vertical-align: middle;\n",
       "    }\n",
       "\n",
       "    .dataframe tbody tr th {\n",
       "        vertical-align: top;\n",
       "    }\n",
       "\n",
       "    .dataframe thead th {\n",
       "        text-align: right;\n",
       "    }\n",
       "</style>\n",
       "<table border=\"1\" class=\"dataframe\">\n",
       "  <thead>\n",
       "    <tr style=\"text-align: right;\">\n",
       "      <th></th>\n",
       "      <th>channel</th>\n",
       "      <th>link</th>\n",
       "    </tr>\n",
       "  </thead>\n",
       "  <tbody>\n",
       "    <tr>\n",
       "      <th>0</th>\n",
       "      <td>Rotana</td>\n",
       "      <td>/rotana/youtuber-stats</td>\n",
       "    </tr>\n",
       "    <tr>\n",
       "      <th>1</th>\n",
       "      <td>mmoshaya</td>\n",
       "      <td>/mmoshaya/youtuber-stats</td>\n",
       "    </tr>\n",
       "    <tr>\n",
       "      <th>2</th>\n",
       "      <td>شبكة العاب العرب | Arab Games Network</td>\n",
       "      <td>/arab-games-network/youtuber-stats</td>\n",
       "    </tr>\n",
       "    <tr>\n",
       "      <th>3</th>\n",
       "      <td>Katakit Baby TV</td>\n",
       "      <td>/katakit-baby-tv/youtuber-stats</td>\n",
       "    </tr>\n",
       "    <tr>\n",
       "      <th>4</th>\n",
       "      <td>ماشا و الدب</td>\n",
       "      <td>/27c0810d-bede-41cb-a6a6-d09e6aeb777e/youtuber...</td>\n",
       "    </tr>\n",
       "    <tr>\n",
       "      <th>...</th>\n",
       "      <td>...</td>\n",
       "      <td>...</td>\n",
       "    </tr>\n",
       "    <tr>\n",
       "      <th>3557</th>\n",
       "      <td>SportsBD.TV</td>\n",
       "      <td>/sportsbd-tv/youtuber-stats</td>\n",
       "    </tr>\n",
       "    <tr>\n",
       "      <th>3558</th>\n",
       "      <td>jadidal3alm</td>\n",
       "      <td>/jadidal3alm/youtuber-stats</td>\n",
       "    </tr>\n",
       "    <tr>\n",
       "      <th>3559</th>\n",
       "      <td>News. Com</td>\n",
       "      <td>/news-com-15367171-da37-4aee-a30f-f8cac4d25125...</td>\n",
       "    </tr>\n",
       "    <tr>\n",
       "      <th>3560</th>\n",
       "      <td>Aflaming Boy</td>\n",
       "      <td>/aflaming-boy/youtuber-stats</td>\n",
       "    </tr>\n",
       "    <tr>\n",
       "      <th>3561</th>\n",
       "      <td>shakshak</td>\n",
       "      <td>/shakshak/youtuber-stats</td>\n",
       "    </tr>\n",
       "  </tbody>\n",
       "</table>\n",
       "<p>3562 rows × 2 columns</p>\n",
       "</div>"
      ],
      "text/plain": [
       "                                    channel  \\\n",
       "0                                    Rotana   \n",
       "1                                  mmoshaya   \n",
       "2     شبكة العاب العرب | Arab Games Network   \n",
       "3                           Katakit Baby TV   \n",
       "4                               ماشا و الدب   \n",
       "...                                     ...   \n",
       "3557                            SportsBD.TV   \n",
       "3558                            jadidal3alm   \n",
       "3559                              News. Com   \n",
       "3560                           Aflaming Boy   \n",
       "3561                               shakshak   \n",
       "\n",
       "                                                   link  \n",
       "0                                /rotana/youtuber-stats  \n",
       "1                              /mmoshaya/youtuber-stats  \n",
       "2                    /arab-games-network/youtuber-stats  \n",
       "3                       /katakit-baby-tv/youtuber-stats  \n",
       "4     /27c0810d-bede-41cb-a6a6-d09e6aeb777e/youtuber...  \n",
       "...                                                 ...  \n",
       "3557                        /sportsbd-tv/youtuber-stats  \n",
       "3558                        /jadidal3alm/youtuber-stats  \n",
       "3559  /news-com-15367171-da37-4aee-a30f-f8cac4d25125...  \n",
       "3560                       /aflaming-boy/youtuber-stats  \n",
       "3561                           /shakshak/youtuber-stats  \n",
       "\n",
       "[3562 rows x 2 columns]"
      ]
     },
     "execution_count": 20,
     "metadata": {},
     "output_type": "execute_result"
    }
   ],
   "source": [
    "df"
   ]
  },
  {
   "cell_type": "code",
   "execution_count": 21,
   "id": "9ccd76ac-ba3b-49a8-a1bc-e268104c42bd",
   "metadata": {},
   "outputs": [],
   "source": [
    "df.to_csv('channel_link.csv', index=False)"
   ]
  }
 ],
 "metadata": {
  "kernelspec": {
   "display_name": "Python 3 (ipykernel)",
   "language": "python",
   "name": "python3"
  },
  "language_info": {
   "codemirror_mode": {
    "name": "ipython",
    "version": 3
   },
   "file_extension": ".py",
   "mimetype": "text/x-python",
   "name": "python",
   "nbconvert_exporter": "python",
   "pygments_lexer": "ipython3",
   "version": "3.11.7"
  }
 },
 "nbformat": 4,
 "nbformat_minor": 5
}
